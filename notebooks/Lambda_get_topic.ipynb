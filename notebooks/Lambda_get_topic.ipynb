{
 "cells": [
  {
   "cell_type": "code",
   "execution_count": 3,
   "outputs": [],
   "source": [
    "from kafka import KafkaConsumer\n",
    "import json"
   ],
   "metadata": {
    "collapsed": false,
    "pycharm": {
     "name": "#%%\n"
    }
   }
  },
  {
   "cell_type": "code",
   "execution_count": 4,
   "outputs": [
    {
     "name": "stdout",
     "output_type": "stream",
     "text": [
      "[{'num': 'ELEC07', 'miss': 'ELEC', 'date': '10/06/2022 19:13', 'mode': 'R', 'term': 87001479, 'direction': 0, 'etat': ''}, {'num': 'KENT22', 'miss': 'KENT', 'date': '10/06/2022 19:14', 'mode': 'R', 'term': 87758763, 'direction': 0, 'etat': 'Supprimé'}, {'num': 'LOVE20', 'miss': 'LOVE', 'date': '10/06/2022 19:14', 'mode': 'R', 'term': 87758847, 'direction': 0, 'etat': ''}, {'num': 'IRMA09', 'miss': 'IRMA', 'date': '10/06/2022 19:17', 'mode': 'R', 'term': 87271528, 'direction': 0, 'etat': ''}, {'num': 'STOP24', 'miss': 'STOP', 'date': '10/06/2022 19:17', 'mode': 'R', 'term': 87758722, 'direction': 0, 'etat': ''}, {'num': 'EMUE11', 'miss': 'EMUE', 'date': '10/06/2022 19:19', 'mode': 'R', 'term': 87001479, 'direction': 1, 'etat': ''}, {'num': 'ELEC15', 'miss': 'ELEC', 'date': '10/06/2022 19:21', 'mode': 'R', 'term': 87001479, 'direction': 1, 'etat': ''}, {'num': 'IRMA17', 'miss': 'IRMA', 'date': '10/06/2022 19:21', 'mode': 'R', 'term': 87758623, 'direction': 1, 'etat': 'Supprimé'}, {'num': 'LOVE28', 'miss': 'LOVE', 'date': '10/06/2022 19:23', 'mode': 'R', 'term': 87758847, 'direction': 0, 'etat': ''}, {'num': 'IJEL13', 'miss': 'IJEL', 'date': '10/06/2022 19:24', 'mode': 'R', 'term': 87271528, 'direction': 1, 'etat': ''}, {'num': 'PGUY26', 'miss': 'PGUY', 'date': '10/06/2022 19:24', 'mode': 'R', 'term': 87758896, 'direction': 0, 'etat': ''}, {'num': 'KENT30', 'miss': 'KENT', 'date': '10/06/2022 19:26', 'mode': 'R', 'term': 87758763, 'direction': 1, 'etat': 'Supprimé'}, {'num': 'EMUE19', 'miss': 'EMUE', 'date': '10/06/2022 19:29', 'mode': 'R', 'term': 87001479, 'direction': 1, 'etat': ''}, {'num': 'STOP32', 'miss': 'STOP', 'date': '10/06/2022 19:29', 'mode': 'R', 'term': 87758722, 'direction': 1, 'etat': ''}]\n",
      "[{'num': 'ELEC07', 'miss': 'ELEC', 'date': '10/06/2022 19:13', 'mode': 'R', 'term': 87001479, 'direction': 0, 'etat': ''}, {'num': 'KENT22', 'miss': 'KENT', 'date': '10/06/2022 19:14', 'mode': 'R', 'term': 87758763, 'direction': 0, 'etat': 'Supprimé'}, {'num': 'LOVE20', 'miss': 'LOVE', 'date': '10/06/2022 19:14', 'mode': 'R', 'term': 87758847, 'direction': 0, 'etat': ''}, {'num': 'IRMA09', 'miss': 'IRMA', 'date': '10/06/2022 19:17', 'mode': 'R', 'term': 87271528, 'direction': 0, 'etat': ''}, {'num': 'STOP24', 'miss': 'STOP', 'date': '10/06/2022 19:17', 'mode': 'R', 'term': 87758722, 'direction': 0, 'etat': ''}, {'num': 'EMUE11', 'miss': 'EMUE', 'date': '10/06/2022 19:19', 'mode': 'R', 'term': 87001479, 'direction': 1, 'etat': ''}, {'num': 'ELEC15', 'miss': 'ELEC', 'date': '10/06/2022 19:21', 'mode': 'R', 'term': 87001479, 'direction': 1, 'etat': ''}, {'num': 'IRMA17', 'miss': 'IRMA', 'date': '10/06/2022 19:21', 'mode': 'R', 'term': 87758623, 'direction': 1, 'etat': 'Supprimé'}, {'num': 'LOVE28', 'miss': 'LOVE', 'date': '10/06/2022 19:23', 'mode': 'R', 'term': 87758847, 'direction': 0, 'etat': ''}, {'num': 'IJEL13', 'miss': 'IJEL', 'date': '10/06/2022 19:24', 'mode': 'R', 'term': 87271528, 'direction': 1, 'etat': ''}, {'num': 'PGUY26', 'miss': 'PGUY', 'date': '10/06/2022 19:24', 'mode': 'R', 'term': 87758896, 'direction': 0, 'etat': ''}, {'num': 'KENT30', 'miss': 'KENT', 'date': '10/06/2022 19:26', 'mode': 'R', 'term': 87758763, 'direction': 1, 'etat': 'Supprimé'}, {'num': 'EMUE19', 'miss': 'EMUE', 'date': '10/06/2022 19:29', 'mode': 'R', 'term': 87001479, 'direction': 1, 'etat': ''}, {'num': 'STOP32', 'miss': 'STOP', 'date': '10/06/2022 19:29', 'mode': 'R', 'term': 87758722, 'direction': 1, 'etat': ''}]\n",
      "[{'num': 'ELEC07', 'miss': 'ELEC', 'date': '10/06/2022 19:13', 'mode': 'R', 'term': 87001479, 'direction': 0, 'etat': ''}, {'num': 'KENT22', 'miss': 'KENT', 'date': '10/06/2022 19:14', 'mode': 'R', 'term': 87758763, 'direction': 0, 'etat': 'Supprimé'}, {'num': 'LOVE20', 'miss': 'LOVE', 'date': '10/06/2022 19:14', 'mode': 'R', 'term': 87758847, 'direction': 0, 'etat': ''}, {'num': 'IRMA09', 'miss': 'IRMA', 'date': '10/06/2022 19:17', 'mode': 'R', 'term': 87271528, 'direction': 0, 'etat': ''}, {'num': 'STOP24', 'miss': 'STOP', 'date': '10/06/2022 19:17', 'mode': 'R', 'term': 87758722, 'direction': 0, 'etat': ''}, {'num': 'EMUE11', 'miss': 'EMUE', 'date': '10/06/2022 19:19', 'mode': 'R', 'term': 87001479, 'direction': 1, 'etat': ''}, {'num': 'ELEC15', 'miss': 'ELEC', 'date': '10/06/2022 19:21', 'mode': 'R', 'term': 87001479, 'direction': 1, 'etat': ''}, {'num': 'IRMA17', 'miss': 'IRMA', 'date': '10/06/2022 19:21', 'mode': 'R', 'term': 87758623, 'direction': 1, 'etat': 'Supprimé'}, {'num': 'LOVE28', 'miss': 'LOVE', 'date': '10/06/2022 19:23', 'mode': 'R', 'term': 87758847, 'direction': 0, 'etat': ''}, {'num': 'IJEL13', 'miss': 'IJEL', 'date': '10/06/2022 19:24', 'mode': 'R', 'term': 87271528, 'direction': 1, 'etat': ''}, {'num': 'PGUY26', 'miss': 'PGUY', 'date': '10/06/2022 19:24', 'mode': 'R', 'term': 87758896, 'direction': 0, 'etat': ''}, {'num': 'KENT30', 'miss': 'KENT', 'date': '10/06/2022 19:26', 'mode': 'R', 'term': 87758763, 'direction': 1, 'etat': 'Supprimé'}, {'num': 'EMUE19', 'miss': 'EMUE', 'date': '10/06/2022 19:29', 'mode': 'R', 'term': 87001479, 'direction': 1, 'etat': ''}, {'num': 'STOP32', 'miss': 'STOP', 'date': '10/06/2022 19:29', 'mode': 'R', 'term': 87758722, 'direction': 1, 'etat': ''}]\n",
      "[{'num': 'ELEC07', 'miss': 'ELEC', 'date': '10/06/2022 19:13', 'mode': 'R', 'term': 87001479, 'direction': 0, 'etat': ''}, {'num': 'KENT22', 'miss': 'KENT', 'date': '10/06/2022 19:14', 'mode': 'R', 'term': 87758763, 'direction': 0, 'etat': 'Supprimé'}, {'num': 'LOVE20', 'miss': 'LOVE', 'date': '10/06/2022 19:14', 'mode': 'R', 'term': 87758847, 'direction': 0, 'etat': ''}, {'num': 'IRMA09', 'miss': 'IRMA', 'date': '10/06/2022 19:17', 'mode': 'R', 'term': 87271528, 'direction': 0, 'etat': ''}, {'num': 'STOP24', 'miss': 'STOP', 'date': '10/06/2022 19:17', 'mode': 'R', 'term': 87758722, 'direction': 0, 'etat': ''}, {'num': 'EMUE11', 'miss': 'EMUE', 'date': '10/06/2022 19:19', 'mode': 'R', 'term': 87001479, 'direction': 1, 'etat': ''}, {'num': 'ELEC15', 'miss': 'ELEC', 'date': '10/06/2022 19:21', 'mode': 'R', 'term': 87001479, 'direction': 1, 'etat': ''}, {'num': 'IRMA17', 'miss': 'IRMA', 'date': '10/06/2022 19:21', 'mode': 'R', 'term': 87758623, 'direction': 1, 'etat': 'Supprimé'}, {'num': 'LOVE28', 'miss': 'LOVE', 'date': '10/06/2022 19:23', 'mode': 'R', 'term': 87758847, 'direction': 0, 'etat': ''}, {'num': 'IJEL13', 'miss': 'IJEL', 'date': '10/06/2022 19:24', 'mode': 'R', 'term': 87271528, 'direction': 1, 'etat': ''}, {'num': 'PGUY26', 'miss': 'PGUY', 'date': '10/06/2022 19:24', 'mode': 'R', 'term': 87758896, 'direction': 0, 'etat': ''}, {'num': 'KENT30', 'miss': 'KENT', 'date': '10/06/2022 19:26', 'mode': 'R', 'term': 87758763, 'direction': 1, 'etat': 'Supprimé'}, {'num': 'EMUE19', 'miss': 'EMUE', 'date': '10/06/2022 19:29', 'mode': 'R', 'term': 87001479, 'direction': 1, 'etat': ''}, {'num': 'STOP32', 'miss': 'STOP', 'date': '10/06/2022 19:29', 'mode': 'R', 'term': 87758722, 'direction': 1, 'etat': ''}]\n"
     ]
    },
    {
     "ename": "KeyboardInterrupt",
     "evalue": "",
     "output_type": "error",
     "traceback": [
      "\u001B[0;31m---------------------------------------------------------------------------\u001B[0m",
      "\u001B[0;31mKeyboardInterrupt\u001B[0m                         Traceback (most recent call last)",
      "Input \u001B[0;32mIn [4]\u001B[0m, in \u001B[0;36m<cell line: 7>\u001B[0;34m()\u001B[0m\n\u001B[1;32m      1\u001B[0m consumer \u001B[38;5;241m=\u001B[39m KafkaConsumer(\n\u001B[1;32m      2\u001B[0m     \u001B[38;5;124m\"\u001B[39m\u001B[38;5;124mrer-b-injector-test\u001B[39m\u001B[38;5;124m\"\u001B[39m,\n\u001B[1;32m      3\u001B[0m     value_deserializer\u001B[38;5;241m=\u001B[39m\u001B[38;5;28;01mlambda\u001B[39;00m m: json\u001B[38;5;241m.\u001B[39mloads(m\u001B[38;5;241m.\u001B[39mdecode(\u001B[38;5;124m'\u001B[39m\u001B[38;5;124mutf-8\u001B[39m\u001B[38;5;124m'\u001B[39m)),\n\u001B[1;32m      4\u001B[0m     bootstrap_servers\u001B[38;5;241m=\u001B[39m\u001B[38;5;124m\"\u001B[39m\u001B[38;5;124mlocalhost:9092\u001B[39m\u001B[38;5;124m\"\u001B[39m\n\u001B[1;32m      5\u001B[0m )\n\u001B[0;32m----> 7\u001B[0m \u001B[38;5;28;01mfor\u001B[39;00m msg \u001B[38;5;129;01min\u001B[39;00m consumer:\n\u001B[1;32m      8\u001B[0m     \u001B[38;5;28mprint\u001B[39m(msg\u001B[38;5;241m.\u001B[39mvalue)\n",
      "File \u001B[0;32m~/miniforge3/envs/geo/lib/python3.10/site-packages/kafka/consumer/group.py:1193\u001B[0m, in \u001B[0;36mKafkaConsumer.__next__\u001B[0;34m(self)\u001B[0m\n\u001B[1;32m   1191\u001B[0m     \u001B[38;5;28;01mreturn\u001B[39;00m \u001B[38;5;28mself\u001B[39m\u001B[38;5;241m.\u001B[39mnext_v1()\n\u001B[1;32m   1192\u001B[0m \u001B[38;5;28;01melse\u001B[39;00m:\n\u001B[0;32m-> 1193\u001B[0m     \u001B[38;5;28;01mreturn\u001B[39;00m \u001B[38;5;28;43mself\u001B[39;49m\u001B[38;5;241;43m.\u001B[39;49m\u001B[43mnext_v2\u001B[49m\u001B[43m(\u001B[49m\u001B[43m)\u001B[49m\n",
      "File \u001B[0;32m~/miniforge3/envs/geo/lib/python3.10/site-packages/kafka/consumer/group.py:1201\u001B[0m, in \u001B[0;36mKafkaConsumer.next_v2\u001B[0;34m(self)\u001B[0m\n\u001B[1;32m   1199\u001B[0m     \u001B[38;5;28mself\u001B[39m\u001B[38;5;241m.\u001B[39m_iterator \u001B[38;5;241m=\u001B[39m \u001B[38;5;28mself\u001B[39m\u001B[38;5;241m.\u001B[39m_message_generator_v2()\n\u001B[1;32m   1200\u001B[0m \u001B[38;5;28;01mtry\u001B[39;00m:\n\u001B[0;32m-> 1201\u001B[0m     \u001B[38;5;28;01mreturn\u001B[39;00m \u001B[38;5;28;43mnext\u001B[39;49m\u001B[43m(\u001B[49m\u001B[38;5;28;43mself\u001B[39;49m\u001B[38;5;241;43m.\u001B[39;49m\u001B[43m_iterator\u001B[49m\u001B[43m)\u001B[49m\n\u001B[1;32m   1202\u001B[0m \u001B[38;5;28;01mexcept\u001B[39;00m \u001B[38;5;167;01mStopIteration\u001B[39;00m:\n\u001B[1;32m   1203\u001B[0m     \u001B[38;5;28mself\u001B[39m\u001B[38;5;241m.\u001B[39m_iterator \u001B[38;5;241m=\u001B[39m \u001B[38;5;28;01mNone\u001B[39;00m\n",
      "File \u001B[0;32m~/miniforge3/envs/geo/lib/python3.10/site-packages/kafka/consumer/group.py:1116\u001B[0m, in \u001B[0;36mKafkaConsumer._message_generator_v2\u001B[0;34m(self)\u001B[0m\n\u001B[1;32m   1114\u001B[0m \u001B[38;5;28;01mdef\u001B[39;00m \u001B[38;5;21m_message_generator_v2\u001B[39m(\u001B[38;5;28mself\u001B[39m):\n\u001B[1;32m   1115\u001B[0m     timeout_ms \u001B[38;5;241m=\u001B[39m \u001B[38;5;241m1000\u001B[39m \u001B[38;5;241m*\u001B[39m (\u001B[38;5;28mself\u001B[39m\u001B[38;5;241m.\u001B[39m_consumer_timeout \u001B[38;5;241m-\u001B[39m time\u001B[38;5;241m.\u001B[39mtime())\n\u001B[0;32m-> 1116\u001B[0m     record_map \u001B[38;5;241m=\u001B[39m \u001B[38;5;28;43mself\u001B[39;49m\u001B[38;5;241;43m.\u001B[39;49m\u001B[43mpoll\u001B[49m\u001B[43m(\u001B[49m\u001B[43mtimeout_ms\u001B[49m\u001B[38;5;241;43m=\u001B[39;49m\u001B[43mtimeout_ms\u001B[49m\u001B[43m,\u001B[49m\u001B[43m \u001B[49m\u001B[43mupdate_offsets\u001B[49m\u001B[38;5;241;43m=\u001B[39;49m\u001B[38;5;28;43;01mFalse\u001B[39;49;00m\u001B[43m)\u001B[49m\n\u001B[1;32m   1117\u001B[0m     \u001B[38;5;28;01mfor\u001B[39;00m tp, records \u001B[38;5;129;01min\u001B[39;00m six\u001B[38;5;241m.\u001B[39miteritems(record_map):\n\u001B[1;32m   1118\u001B[0m         \u001B[38;5;66;03m# Generators are stateful, and it is possible that the tp / records\u001B[39;00m\n\u001B[1;32m   1119\u001B[0m         \u001B[38;5;66;03m# here may become stale during iteration -- i.e., we seek to a\u001B[39;00m\n\u001B[1;32m   1120\u001B[0m         \u001B[38;5;66;03m# different offset, pause consumption, or lose assignment.\u001B[39;00m\n\u001B[1;32m   1121\u001B[0m         \u001B[38;5;28;01mfor\u001B[39;00m record \u001B[38;5;129;01min\u001B[39;00m records:\n\u001B[1;32m   1122\u001B[0m             \u001B[38;5;66;03m# is_fetchable(tp) should handle assignment changes and offset\u001B[39;00m\n\u001B[1;32m   1123\u001B[0m             \u001B[38;5;66;03m# resets; for all other changes (e.g., seeks) we'll rely on the\u001B[39;00m\n\u001B[1;32m   1124\u001B[0m             \u001B[38;5;66;03m# outer function destroying the existing iterator/generator\u001B[39;00m\n\u001B[1;32m   1125\u001B[0m             \u001B[38;5;66;03m# via self._iterator = None\u001B[39;00m\n",
      "File \u001B[0;32m~/miniforge3/envs/geo/lib/python3.10/site-packages/kafka/consumer/group.py:655\u001B[0m, in \u001B[0;36mKafkaConsumer.poll\u001B[0;34m(self, timeout_ms, max_records, update_offsets)\u001B[0m\n\u001B[1;32m    653\u001B[0m remaining \u001B[38;5;241m=\u001B[39m timeout_ms\n\u001B[1;32m    654\u001B[0m \u001B[38;5;28;01mwhile\u001B[39;00m \u001B[38;5;28;01mTrue\u001B[39;00m:\n\u001B[0;32m--> 655\u001B[0m     records \u001B[38;5;241m=\u001B[39m \u001B[38;5;28;43mself\u001B[39;49m\u001B[38;5;241;43m.\u001B[39;49m\u001B[43m_poll_once\u001B[49m\u001B[43m(\u001B[49m\u001B[43mremaining\u001B[49m\u001B[43m,\u001B[49m\u001B[43m \u001B[49m\u001B[43mmax_records\u001B[49m\u001B[43m,\u001B[49m\u001B[43m \u001B[49m\u001B[43mupdate_offsets\u001B[49m\u001B[38;5;241;43m=\u001B[39;49m\u001B[43mupdate_offsets\u001B[49m\u001B[43m)\u001B[49m\n\u001B[1;32m    656\u001B[0m     \u001B[38;5;28;01mif\u001B[39;00m records:\n\u001B[1;32m    657\u001B[0m         \u001B[38;5;28;01mreturn\u001B[39;00m records\n",
      "File \u001B[0;32m~/miniforge3/envs/geo/lib/python3.10/site-packages/kafka/consumer/group.py:702\u001B[0m, in \u001B[0;36mKafkaConsumer._poll_once\u001B[0;34m(self, timeout_ms, max_records, update_offsets)\u001B[0m\n\u001B[1;32m    699\u001B[0m     \u001B[38;5;28mself\u001B[39m\u001B[38;5;241m.\u001B[39m_client\u001B[38;5;241m.\u001B[39mpoll(timeout_ms\u001B[38;5;241m=\u001B[39m\u001B[38;5;241m0\u001B[39m)\n\u001B[1;32m    701\u001B[0m timeout_ms \u001B[38;5;241m=\u001B[39m \u001B[38;5;28mmin\u001B[39m(timeout_ms, \u001B[38;5;28mself\u001B[39m\u001B[38;5;241m.\u001B[39m_coordinator\u001B[38;5;241m.\u001B[39mtime_to_next_poll() \u001B[38;5;241m*\u001B[39m \u001B[38;5;241m1000\u001B[39m)\n\u001B[0;32m--> 702\u001B[0m \u001B[38;5;28;43mself\u001B[39;49m\u001B[38;5;241;43m.\u001B[39;49m\u001B[43m_client\u001B[49m\u001B[38;5;241;43m.\u001B[39;49m\u001B[43mpoll\u001B[49m\u001B[43m(\u001B[49m\u001B[43mtimeout_ms\u001B[49m\u001B[38;5;241;43m=\u001B[39;49m\u001B[43mtimeout_ms\u001B[49m\u001B[43m)\u001B[49m\n\u001B[1;32m    703\u001B[0m \u001B[38;5;66;03m# after the long poll, we should check whether the group needs to rebalance\u001B[39;00m\n\u001B[1;32m    704\u001B[0m \u001B[38;5;66;03m# prior to returning data so that the group can stabilize faster\u001B[39;00m\n\u001B[1;32m    705\u001B[0m \u001B[38;5;28;01mif\u001B[39;00m \u001B[38;5;28mself\u001B[39m\u001B[38;5;241m.\u001B[39m_coordinator\u001B[38;5;241m.\u001B[39mneed_rejoin():\n",
      "File \u001B[0;32m~/miniforge3/envs/geo/lib/python3.10/site-packages/kafka/client_async.py:602\u001B[0m, in \u001B[0;36mKafkaClient.poll\u001B[0;34m(self, timeout_ms, future)\u001B[0m\n\u001B[1;32m    599\u001B[0m             timeout \u001B[38;5;241m=\u001B[39m \u001B[38;5;28mmin\u001B[39m(timeout, \u001B[38;5;28mself\u001B[39m\u001B[38;5;241m.\u001B[39mconfig[\u001B[38;5;124m'\u001B[39m\u001B[38;5;124mretry_backoff_ms\u001B[39m\u001B[38;5;124m'\u001B[39m])\n\u001B[1;32m    600\u001B[0m         timeout \u001B[38;5;241m=\u001B[39m \u001B[38;5;28mmax\u001B[39m(\u001B[38;5;241m0\u001B[39m, timeout)  \u001B[38;5;66;03m# avoid negative timeouts\u001B[39;00m\n\u001B[0;32m--> 602\u001B[0m     \u001B[38;5;28;43mself\u001B[39;49m\u001B[38;5;241;43m.\u001B[39;49m\u001B[43m_poll\u001B[49m\u001B[43m(\u001B[49m\u001B[43mtimeout\u001B[49m\u001B[43m \u001B[49m\u001B[38;5;241;43m/\u001B[39;49m\u001B[43m \u001B[49m\u001B[38;5;241;43m1000\u001B[39;49m\u001B[43m)\u001B[49m\n\u001B[1;32m    604\u001B[0m \u001B[38;5;66;03m# called without the lock to avoid deadlock potential\u001B[39;00m\n\u001B[1;32m    605\u001B[0m \u001B[38;5;66;03m# if handlers need to acquire locks\u001B[39;00m\n\u001B[1;32m    606\u001B[0m responses\u001B[38;5;241m.\u001B[39mextend(\u001B[38;5;28mself\u001B[39m\u001B[38;5;241m.\u001B[39m_fire_pending_completed_requests())\n",
      "File \u001B[0;32m~/miniforge3/envs/geo/lib/python3.10/site-packages/kafka/client_async.py:634\u001B[0m, in \u001B[0;36mKafkaClient._poll\u001B[0;34m(self, timeout)\u001B[0m\n\u001B[1;32m    631\u001B[0m \u001B[38;5;28mself\u001B[39m\u001B[38;5;241m.\u001B[39m_register_send_sockets()\n\u001B[1;32m    633\u001B[0m start_select \u001B[38;5;241m=\u001B[39m time\u001B[38;5;241m.\u001B[39mtime()\n\u001B[0;32m--> 634\u001B[0m ready \u001B[38;5;241m=\u001B[39m \u001B[38;5;28;43mself\u001B[39;49m\u001B[38;5;241;43m.\u001B[39;49m\u001B[43m_selector\u001B[49m\u001B[38;5;241;43m.\u001B[39;49m\u001B[43mselect\u001B[49m\u001B[43m(\u001B[49m\u001B[43mtimeout\u001B[49m\u001B[43m)\u001B[49m\n\u001B[1;32m    635\u001B[0m end_select \u001B[38;5;241m=\u001B[39m time\u001B[38;5;241m.\u001B[39mtime()\n\u001B[1;32m    636\u001B[0m \u001B[38;5;28;01mif\u001B[39;00m \u001B[38;5;28mself\u001B[39m\u001B[38;5;241m.\u001B[39m_sensors:\n",
      "File \u001B[0;32m~/miniforge3/envs/geo/lib/python3.10/selectors.py:562\u001B[0m, in \u001B[0;36mKqueueSelector.select\u001B[0;34m(self, timeout)\u001B[0m\n\u001B[1;32m    560\u001B[0m ready \u001B[38;5;241m=\u001B[39m []\n\u001B[1;32m    561\u001B[0m \u001B[38;5;28;01mtry\u001B[39;00m:\n\u001B[0;32m--> 562\u001B[0m     kev_list \u001B[38;5;241m=\u001B[39m \u001B[38;5;28;43mself\u001B[39;49m\u001B[38;5;241;43m.\u001B[39;49m\u001B[43m_selector\u001B[49m\u001B[38;5;241;43m.\u001B[39;49m\u001B[43mcontrol\u001B[49m\u001B[43m(\u001B[49m\u001B[38;5;28;43;01mNone\u001B[39;49;00m\u001B[43m,\u001B[49m\u001B[43m \u001B[49m\u001B[43mmax_ev\u001B[49m\u001B[43m,\u001B[49m\u001B[43m \u001B[49m\u001B[43mtimeout\u001B[49m\u001B[43m)\u001B[49m\n\u001B[1;32m    563\u001B[0m \u001B[38;5;28;01mexcept\u001B[39;00m \u001B[38;5;167;01mInterruptedError\u001B[39;00m:\n\u001B[1;32m    564\u001B[0m     \u001B[38;5;28;01mreturn\u001B[39;00m ready\n",
      "\u001B[0;31mKeyboardInterrupt\u001B[0m: "
     ]
    }
   ],
   "source": [
    "consumer = KafkaConsumer(\n",
    "    \"rer-b-injector-test\",\n",
    "    value_deserializer=lambda m: json.loads(m.decode('utf-8')),\n",
    "    bootstrap_servers=\"localhost:9092\"\n",
    ")\n",
    "\n",
    "for msg in consumer:\n",
    "    print(msg.value)"
   ],
   "metadata": {
    "collapsed": false,
    "pycharm": {
     "name": "#%%\n"
    }
   }
  },
  {
   "cell_type": "code",
   "execution_count": 7,
   "outputs": [],
   "source": [
    "import requests\n",
    "def get_token():\n",
    "    \"\"\"\n",
    "    Pour IDFM PRIM : Récupère un token pour traiter les données des endpoints de l'API\n",
    "    \"\"\"\n",
    "    urlOAuth = 'https://as.api.iledefrance-mobilites.fr/api/oauth/token'\n",
    "    client_id = \"\"\n",
    "    client_secret = \"\"\n",
    "    data = dict(\n",
    "        grant_type='client_credentials',\n",
    "        scope='read-data',\n",
    "        client_id=client_id,\n",
    "        client_secret=client_secret\n",
    "    )\n",
    "    response = requests.post(urlOAuth, data=data)\n",
    "    print(response.json)\n",
    "    # Vérifier le code retour de la requête\n",
    "    if response.status_code != 200:\n",
    "        print('Status: ', response.status_code, 'Erreur sur la requête; fin de programme')\n",
    "        exit()\n",
    "    json_data = response.json()\n",
    "    return json_data['access_token']\n",
    "def grab_response(gareA: str, gareB: str):\n",
    "    \"\"\"\n",
    "    Récupère l'endpoint \"\" qui liste les itinéraires de substitution de la ligne B partie SNCF\n",
    "    \"\"\"\n",
    "    url = \"https://api.sncf.com/v1/coverage/sncf/journeys\"\n",
    "    token = \"\"\n",
    "    print(token)\n",
    "    headers = {\n",
    "        'Accept-Encoding': 'gzip',\n",
    "        'Authorization': 'Basic ' + token\n",
    "    }\n",
    "    # from_from = \"stop_area:SNCF:87271445\"\n",
    "    # to = \"stop_area:SNCF:87271411\"\n",
    "    forbidden_uris = \"line:SNCF:B\"\n",
    "    full_url = url + \"?from=\" + gareA + \"&to=\" + gareB + \"&forbidden_uris[]=\" + forbidden_uris\n",
    "    print(full_url)\n",
    "    response = requests.get(full_url, headers=headers)\n",
    "\n",
    "    if response.status_code != 200:\n",
    "        print('Status:', response.status_code, 'Erreur de la requête : fin de programme')\n",
    "\n",
    "    json_data = response.json()\n",
    "    return json_data"
   ],
   "metadata": {
    "collapsed": false,
    "pycharm": {
     "name": "#%%\n"
    }
   }
  },
  {
   "cell_type": "code",
   "execution_count": 8,
   "outputs": [
    {
     "name": "stdout",
     "output_type": "stream",
     "text": [
      "NjY0OWY4MDMtMDBkZi00YTM5LTlhY2MtNjkzODUzYzBiMTAzOg==\n",
      "https://api.sncf.com/v1/coverage/sncf/journeys?from=stop_area:SNCF:87271445&to=stop_area:SNCF:87271411&forbidden_uris[]=line:SNCF:B\n"
     ]
    },
    {
     "data": {
      "text/plain": "{'tickets': [],\n 'terminus': [{'codes': [{'type': 'source', 'value': '87113001'},\n    {'type': 'uic', 'value': '87113001'}],\n   'name': 'Paris Est',\n   'links': [],\n   'coord': {'lat': '48.876742', 'lon': '2.358424'},\n   'label': 'Paris Est (Paris)',\n   'timezone': 'Europe/Paris',\n   'id': 'stop_area:SNCF:87113001'}],\n 'links': [{'href': 'https://api.sncf.com/v1/coverage/sncf/journeys?to=stop_area%3ASNCF%3A87271411&datetime_represents=departure&forbidden_uris%5B%5D=line%3ASNCF%3AB&from=stop_area%3ASNCF%3A87271445&datetime=20220611T001501',\n   'type': 'next',\n   'rel': 'next',\n   'templated': False},\n  {'href': 'https://api.sncf.com/v1/coverage/sncf/journeys?to=stop_area%3ASNCF%3A87271411&datetime_represents=arrival&forbidden_uris%5B%5D=line%3ASNCF%3AB&from=stop_area%3ASNCF%3A87271445&datetime=20220611T002459',\n   'type': 'prev',\n   'rel': 'prev',\n   'templated': False},\n  {'href': 'https://api.sncf.com/v1/coverage/sncf/journeys?to=stop_area%3ASNCF%3A87271411&datetime_represents=departure&forbidden_uris%5B%5D=line%3ASNCF%3AB&from=stop_area%3ASNCF%3A87271445&datetime=20220611T000000',\n   'type': 'first',\n   'rel': 'first',\n   'templated': False},\n  {'href': 'https://api.sncf.com/v1/coverage/sncf/journeys?to=stop_area%3ASNCF%3A87271411&datetime_represents=arrival&forbidden_uris%5B%5D=line%3ASNCF%3AB&from=stop_area%3ASNCF%3A87271445&datetime=20220611T235959',\n   'type': 'last',\n   'rel': 'last',\n   'templated': False},\n  {'href': 'https://api.sncf.com/v1/coverage/sncf/stop_points/{stop_point.id}',\n   'type': 'stop_point',\n   'rel': 'stop_points',\n   'templated': True},\n  {'href': 'https://api.sncf.com/v1/coverage/sncf/stop_areas/{stop_area.id}',\n   'type': 'stop_area',\n   'rel': 'stop_areas',\n   'templated': True},\n  {'href': 'https://api.sncf.com/v1/coverage/sncf/vehicle_journeys/{vehicle_journey.id}',\n   'type': 'vehicle_journey',\n   'rel': 'vehicle_journeys',\n   'templated': True},\n  {'href': 'https://api.sncf.com/v1/coverage/sncf/routes/{route.id}',\n   'type': 'route',\n   'rel': 'routes',\n   'templated': True},\n  {'href': 'https://api.sncf.com/v1/coverage/sncf/commercial_modes/{commercial_mode.id}',\n   'type': 'commercial_mode',\n   'rel': 'commercial_modes',\n   'templated': True},\n  {'href': 'https://api.sncf.com/v1/coverage/sncf/lines/{line.id}',\n   'type': 'line',\n   'rel': 'lines',\n   'templated': True},\n  {'href': 'https://api.sncf.com/v1/coverage/sncf/physical_modes/{physical_mode.id}',\n   'type': 'physical_mode',\n   'rel': 'physical_modes',\n   'templated': True},\n  {'href': 'https://api.sncf.com/v1/coverage/sncf/networks/{network.id}',\n   'type': 'network',\n   'rel': 'networks',\n   'templated': True}],\n 'journeys': [{'status': '',\n   'distances': {'taxi': 0,\n    'car': 0,\n    'walking': 0,\n    'bike': 0,\n    'ridesharing': 0},\n   'links': [{'href': 'https://api.sncf.com/v1/coverage/sncf/journeys?first_section_mode%5B%5D=walking&direct_path=none&to=stop_area%3ASNCF%3A87271411&is_journey_schedules=True&datetime=20220611T001500&last_section_mode%5B%5D=walking&min_nb_journeys=5&min_nb_transfers=0&forbidden_uris%5B%5D=line%3ASNCF%3AB&allowed_id%5B%5D=stop_point%3ASNCF%3A87271411%3ABus&allowed_id%5B%5D=stop_point%3ASNCF%3A87271445%3ABus&from=stop_area%3ASNCF%3A87271445',\n     'type': 'journeys',\n     'rel': 'same_journey_schedules',\n     'templated': False},\n    {'href': 'https://api.sncf.com/v1/coverage/sncf/journeys?count=1&first_section_mode%5B%5D=walking&direct_path=none&to=stop_area%3ASNCF%3A87271411&is_journey_schedules=True&datetime=20220611T001500&last_section_mode%5B%5D=walking&min_nb_journeys=1&min_nb_transfers=0&forbidden_uris%5B%5D=line%3ASNCF%3AB&allowed_id%5B%5D=stop_point%3ASNCF%3A87271411%3ABus&allowed_id%5B%5D=stop_point%3ASNCF%3A87271445%3ABus&from=stop_area%3ASNCF%3A87271445',\n     'type': 'journeys',\n     'rel': 'this_journey',\n     'templated': False}],\n   'tags': ['walking'],\n   'nb_transfers': 0,\n   'durations': {'taxi': 0,\n    'walking': 0,\n    'car': 0,\n    'ridesharing': 0,\n    'bike': 0,\n    'total': 600},\n   'arrival_date_time': '20220611T002500',\n   'calendars': [{'active_periods': [{'begin': '20220610', 'end': '20220611'}],\n     'week_pattern': {'monday': False,\n      'tuesday': False,\n      'friday': True,\n      'wednesday': False,\n      'thursday': False,\n      'sunday': False,\n      'saturday': False}}],\n   'departure_date_time': '20220611T001500',\n   'requested_date_time': '20220611T000937',\n   'fare': {'found': False, 'total': {'value': '0.0'}, 'links': []},\n   'co2_emission': {'value': 371.316, 'unit': 'gEC'},\n   'type': 'best',\n   'duration': 600,\n   'sections': [{'from': {'embedded_type': 'stop_area',\n      'stop_area': {'codes': [{'type': 'source', 'value': '87271445'},\n        {'type': 'uic', 'value': '87271445'}],\n       'name': 'Sevran Beaudottes',\n       'links': [],\n       'coord': {'lat': '48.94743', 'lon': '2.52474'},\n       'label': 'Sevran Beaudottes (Sevran)',\n       'administrative_regions': [{'insee': '93071',\n         'name': 'Sevran',\n         'level': 8,\n         'coord': {'lat': '48.9392142', 'lon': '2.5257254'},\n         'label': 'Sevran (93270)',\n         'id': 'admin:fr:93071',\n         'zip_code': '93270'}],\n       'timezone': 'Europe/Paris',\n       'id': 'stop_area:SNCF:87271445'},\n      'quality': 0,\n      'name': 'Sevran Beaudottes (Sevran)',\n      'id': 'stop_area:SNCF:87271445'},\n     'links': [],\n     'arrival_date_time': '20220611T001500',\n     'co2_emission': {'value': 0.0, 'unit': ''},\n     'to': {'embedded_type': 'stop_point',\n      'stop_point': {'name': 'Sevran Beaudottes',\n       'links': [],\n       'coord': {'lat': '48.94743', 'lon': '2.52474'},\n       'label': 'Sevran Beaudottes (Sevran)',\n       'equipments': [],\n       'administrative_regions': [{'insee': '93071',\n         'name': 'Sevran',\n         'level': 8,\n         'coord': {'lat': '48.9392142', 'lon': '2.5257254'},\n         'label': 'Sevran (93270)',\n         'id': 'admin:fr:93071',\n         'zip_code': '93270'}],\n       'id': 'stop_point:SNCF:87271445:Bus',\n       'stop_area': {'codes': [{'type': 'source', 'value': '87271445'},\n         {'type': 'uic', 'value': '87271445'}],\n        'name': 'Sevran Beaudottes',\n        'links': [],\n        'coord': {'lat': '48.94743', 'lon': '2.52474'},\n        'label': 'Sevran Beaudottes (Sevran)',\n        'timezone': 'Europe/Paris',\n        'id': 'stop_area:SNCF:87271445'}},\n      'quality': 0,\n      'name': 'Sevran Beaudottes (Sevran)',\n      'id': 'stop_point:SNCF:87271445:Bus'},\n     'departure_date_time': '20220611T001500',\n     'geojson': {'type': 'LineString',\n      'properties': [{'length': 0}],\n      'coordinates': [[2.52474, 48.94743], [2.52474, 48.94743]]},\n     'duration': 0,\n     'type': 'crow_fly',\n     'id': 'gxTy4UFs7nUdzWhVAu4QvU_0',\n     'mode': 'walking'},\n    {'from': {'embedded_type': 'stop_point',\n      'stop_point': {'name': 'Sevran Beaudottes',\n       'links': [],\n       'coord': {'lat': '48.94743', 'lon': '2.52474'},\n       'label': 'Sevran Beaudottes (Sevran)',\n       'equipments': [],\n       'administrative_regions': [{'insee': '93071',\n         'name': 'Sevran',\n         'level': 8,\n         'coord': {'lat': '48.9392142', 'lon': '2.5257254'},\n         'label': 'Sevran (93270)',\n         'id': 'admin:fr:93071',\n         'zip_code': '93270'}],\n       'id': 'stop_point:SNCF:87271445:Bus',\n       'stop_area': {'codes': [{'type': 'source', 'value': '87271445'},\n         {'type': 'uic', 'value': '87271445'}],\n        'name': 'Sevran Beaudottes',\n        'links': [],\n        'coord': {'lat': '48.94743', 'lon': '2.52474'},\n        'label': 'Sevran Beaudottes (Sevran)',\n        'timezone': 'Europe/Paris',\n        'id': 'stop_area:SNCF:87271445'}},\n      'quality': 0,\n      'name': 'Sevran Beaudottes (Sevran)',\n      'id': 'stop_point:SNCF:87271445:Bus'},\n     'links': [{'type': 'vehicle_journey',\n       'id': 'vehicle_journey:SNCF:2022-06-10:8203623:1187:Bus'},\n      {'type': 'line', 'id': 'line:SNCF:59'},\n      {'type': 'route', 'id': 'route:SNCF:59'},\n      {'type': 'commercial_mode', 'id': 'commercial_mode:TN'},\n      {'type': 'physical_mode', 'id': 'physical_mode:Bus'},\n      {'type': 'network', 'id': 'network:SNCF:TN'}],\n     'arrival_date_time': '20220611T002500',\n     'additional_informations': ['regular'],\n     'co2_emission': {'value': 371.316, 'unit': 'gEC'},\n     'display_informations': {'direction': 'Paris Est (Paris)',\n      'code': 'B',\n      'description': '',\n      'links': [{'internal': True,\n        'type': 'stop_area',\n        'id': 'stop_area:SNCF:87113001',\n        'rel': 'terminus',\n        'templated': False}],\n      'color': '',\n      'physical_mode': 'Bus',\n      'headsign': '8203623',\n      'commercial_mode': 'TRANSILIEN',\n      'equipments': [],\n      'trip_short_name': '8203623',\n      'label': 'B',\n      'text_color': '',\n      'network': 'TRANSILIEN',\n      'name': 'B Bus'},\n     'to': {'embedded_type': 'stop_point',\n      'stop_point': {'name': 'Aulnay-sous-Bois',\n       'links': [],\n       'coord': {'lat': '48.931869', 'lon': '2.494379'},\n       'label': 'Aulnay-sous-Bois (Aulnay-sous-Bois)',\n       'equipments': [],\n       'administrative_regions': [{'insee': '93005',\n         'name': 'Aulnay-sous-Bois',\n         'level': 8,\n         'coord': {'lat': '48.934231', 'lon': '2.499789'},\n         'label': 'Aulnay-sous-Bois (93600)',\n         'id': 'admin:fr:93005',\n         'zip_code': '93600'}],\n       'id': 'stop_point:SNCF:87271411:Bus',\n       'stop_area': {'codes': [{'type': 'source', 'value': '87271411'},\n         {'type': 'uic', 'value': '87271411'}],\n        'name': 'Aulnay-sous-Bois',\n        'links': [],\n        'coord': {'lat': '48.931869', 'lon': '2.494379'},\n        'label': 'Aulnay-sous-Bois (Aulnay-sous-Bois)',\n        'timezone': 'Europe/Paris',\n        'id': 'stop_area:SNCF:87271411'}},\n      'quality': 0,\n      'name': 'Aulnay-sous-Bois (Aulnay-sous-Bois)',\n      'id': 'stop_point:SNCF:87271411:Bus'},\n     'base_arrival_date_time': '20220611T002500',\n     'base_departure_date_time': '20220611T001500',\n     'departure_date_time': '20220611T001500',\n     'geojson': {'type': 'LineString',\n      'properties': [{'length': 2813}],\n      'coordinates': [[2.52474, 48.94743], [2.494379, 48.931869]]},\n     'duration': 600,\n     'type': 'public_transport',\n     'id': 'section_0_0',\n     'data_freshness': 'base_schedule',\n     'stop_date_times': [{'stop_point': {'name': 'Sevran Beaudottes',\n        'links': [],\n        'coord': {'lat': '48.94743', 'lon': '2.52474'},\n        'label': 'Sevran Beaudottes (Sevran)',\n        'equipments': [],\n        'id': 'stop_point:SNCF:87271445:Bus'},\n       'links': [],\n       'arrival_date_time': '20220611T001500',\n       'additional_informations': [],\n       'departure_date_time': '20220611T001500',\n       'base_arrival_date_time': '20220611T001500',\n       'base_departure_date_time': '20220611T001500'},\n      {'stop_point': {'name': 'Aulnay-sous-Bois',\n        'links': [],\n        'coord': {'lat': '48.931869', 'lon': '2.494379'},\n        'label': 'Aulnay-sous-Bois (Aulnay-sous-Bois)',\n        'equipments': [],\n        'id': 'stop_point:SNCF:87271411:Bus'},\n       'links': [],\n       'arrival_date_time': '20220611T002500',\n       'additional_informations': [],\n       'departure_date_time': '20220611T002500',\n       'base_arrival_date_time': '20220611T002500',\n       'base_departure_date_time': '20220611T002500'}]},\n    {'from': {'embedded_type': 'stop_point',\n      'stop_point': {'name': 'Aulnay-sous-Bois',\n       'links': [],\n       'coord': {'lat': '48.931869', 'lon': '2.494379'},\n       'label': 'Aulnay-sous-Bois (Aulnay-sous-Bois)',\n       'equipments': [],\n       'administrative_regions': [{'insee': '93005',\n         'name': 'Aulnay-sous-Bois',\n         'level': 8,\n         'coord': {'lat': '48.934231', 'lon': '2.499789'},\n         'label': 'Aulnay-sous-Bois (93600)',\n         'id': 'admin:fr:93005',\n         'zip_code': '93600'}],\n       'id': 'stop_point:SNCF:87271411:Bus',\n       'stop_area': {'codes': [{'type': 'source', 'value': '87271411'},\n         {'type': 'uic', 'value': '87271411'}],\n        'name': 'Aulnay-sous-Bois',\n        'links': [],\n        'coord': {'lat': '48.931869', 'lon': '2.494379'},\n        'label': 'Aulnay-sous-Bois (Aulnay-sous-Bois)',\n        'timezone': 'Europe/Paris',\n        'id': 'stop_area:SNCF:87271411'}},\n      'quality': 0,\n      'name': 'Aulnay-sous-Bois (Aulnay-sous-Bois)',\n      'id': 'stop_point:SNCF:87271411:Bus'},\n     'links': [],\n     'arrival_date_time': '20220611T002500',\n     'co2_emission': {'value': 0.0, 'unit': ''},\n     'to': {'embedded_type': 'stop_area',\n      'stop_area': {'codes': [{'type': 'source', 'value': '87271411'},\n        {'type': 'uic', 'value': '87271411'}],\n       'name': 'Aulnay-sous-Bois',\n       'links': [],\n       'coord': {'lat': '48.931869', 'lon': '2.494379'},\n       'label': 'Aulnay-sous-Bois (Aulnay-sous-Bois)',\n       'administrative_regions': [{'insee': '93005',\n         'name': 'Aulnay-sous-Bois',\n         'level': 8,\n         'coord': {'lat': '48.934231', 'lon': '2.499789'},\n         'label': 'Aulnay-sous-Bois (93600)',\n         'id': 'admin:fr:93005',\n         'zip_code': '93600'}],\n       'timezone': 'Europe/Paris',\n       'id': 'stop_area:SNCF:87271411'},\n      'quality': 0,\n      'name': 'Aulnay-sous-Bois (Aulnay-sous-Bois)',\n      'id': 'stop_area:SNCF:87271411'},\n     'departure_date_time': '20220611T002500',\n     'geojson': {'type': 'LineString',\n      'properties': [{'length': 0}],\n      'coordinates': [[2.494379, 48.931869], [2.494379, 48.931869]]},\n     'duration': 0,\n     'type': 'crow_fly',\n     'id': 'SKiRJuWbcE7kQZJhgWRBkW_0',\n     'mode': 'walking'}]}],\n 'disruptions': [],\n 'notes': [],\n 'feed_publishers': [{'url': '',\n   'id': 'sncf',\n   'license': 'Private (unspecified)',\n   'name': 'SNCF PIV Production'},\n  {'url': '',\n   'id': 'SNCF:sncf-piv',\n   'license': 'Private (unspecified)',\n   'name': 'SNCF PIV Production'}],\n 'context': {'timezone': 'Europe/Paris',\n  'current_datetime': '20220611T000937',\n  'car_direct_path': {'co2_emission': {'value': 698.8768252394,\n    'unit': 'gEC'}}},\n 'exceptions': []}"
     },
     "execution_count": 8,
     "metadata": {},
     "output_type": "execute_result"
    }
   ],
   "source": [
    "grab_response(\"stop_area:SNCF:87271445\", \"stop_area:SNCF:87271411\")"
   ],
   "metadata": {
    "collapsed": false,
    "pycharm": {
     "name": "#%%\n"
    }
   }
  },
  {
   "cell_type": "code",
   "execution_count": null,
   "outputs": [],
   "source": [],
   "metadata": {
    "collapsed": false,
    "pycharm": {
     "name": "#%%\n"
    }
   }
  }
 ],
 "metadata": {
  "kernelspec": {
   "display_name": "Python 3",
   "language": "python",
   "name": "python3"
  },
  "language_info": {
   "codemirror_mode": {
    "name": "ipython",
    "version": 2
   },
   "file_extension": ".py",
   "mimetype": "text/x-python",
   "name": "python",
   "nbconvert_exporter": "python",
   "pygments_lexer": "ipython2",
   "version": "2.7.6"
  }
 },
 "nbformat": 4,
 "nbformat_minor": 0
}