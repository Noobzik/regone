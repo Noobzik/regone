{
 "cells": [
  {
   "cell_type": "code",
   "execution_count": 1,
   "outputs": [],
   "source": [
    "from kafka import KafkaConsumer\n",
    "import json"
   ],
   "metadata": {
    "collapsed": false,
    "pycharm": {
     "name": "#%%\n"
    }
   }
  },
  {
   "cell_type": "code",
   "execution_count": 3,
   "outputs": [],
   "source": [
    "consumer = KafkaConsumer(\n",
    "    'rer-b-87001479',\n",
    "    bootstrap_servers = ['35.180.29.24:9092'],\n",
    "    value_deserializer=lambda m: json.loads(m.decode('utf-8')),\n",
    "    auto_offset_reset=\"latest\")"
   ],
   "metadata": {
    "collapsed": false,
    "pycharm": {
     "name": "#%%\n"
    }
   }
  },
  {
   "cell_type": "code",
   "execution_count": 4,
   "outputs": [
    {
     "ename": "AssertionError",
     "evalue": "Requires group_id",
     "output_type": "error",
     "traceback": [
      "\u001B[0;31m---------------------------------------------------------------------------\u001B[0m",
      "\u001B[0;31mAssertionError\u001B[0m                            Traceback (most recent call last)",
      "Input \u001B[0;32mIn [4]\u001B[0m, in \u001B[0;36m<cell line: 1>\u001B[0;34m()\u001B[0m\n\u001B[0;32m----> 1\u001B[0m \u001B[43mconsumer\u001B[49m\u001B[38;5;241;43m.\u001B[39;49m\u001B[43mcommitted\u001B[49m\u001B[43m(\u001B[49m\u001B[43mpartition\u001B[49m\u001B[38;5;241;43m=\u001B[39;49m\u001B[38;5;241;43m0\u001B[39;49m\u001B[43m)\u001B[49m\n",
      "File \u001B[0;32m~/miniforge3/envs/geo/lib/python3.10/site-packages/kafka/consumer/group.py:548\u001B[0m, in \u001B[0;36mKafkaConsumer.committed\u001B[0;34m(self, partition, metadata)\u001B[0m\n\u001B[1;32m    530\u001B[0m \u001B[38;5;124;03m\"\"\"Get the last committed offset for the given partition.\u001B[39;00m\n\u001B[1;32m    531\u001B[0m \n\u001B[1;32m    532\u001B[0m \u001B[38;5;124;03mThis offset will be used as the position for the consumer\u001B[39;00m\n\u001B[0;32m   (...)\u001B[0m\n\u001B[1;32m    545\u001B[0m \u001B[38;5;124;03m    The last committed offset (int or OffsetAndMetadata), or None if there was no prior commit.\u001B[39;00m\n\u001B[1;32m    546\u001B[0m \u001B[38;5;124;03m\"\"\"\u001B[39;00m\n\u001B[1;32m    547\u001B[0m \u001B[38;5;28;01massert\u001B[39;00m \u001B[38;5;28mself\u001B[39m\u001B[38;5;241m.\u001B[39mconfig[\u001B[38;5;124m'\u001B[39m\u001B[38;5;124mapi_version\u001B[39m\u001B[38;5;124m'\u001B[39m] \u001B[38;5;241m>\u001B[39m\u001B[38;5;241m=\u001B[39m (\u001B[38;5;241m0\u001B[39m, \u001B[38;5;241m8\u001B[39m, \u001B[38;5;241m1\u001B[39m), \u001B[38;5;124m'\u001B[39m\u001B[38;5;124mRequires >= Kafka 0.8.1\u001B[39m\u001B[38;5;124m'\u001B[39m\n\u001B[0;32m--> 548\u001B[0m \u001B[38;5;28;01massert\u001B[39;00m \u001B[38;5;28mself\u001B[39m\u001B[38;5;241m.\u001B[39mconfig[\u001B[38;5;124m'\u001B[39m\u001B[38;5;124mgroup_id\u001B[39m\u001B[38;5;124m'\u001B[39m] \u001B[38;5;129;01mis\u001B[39;00m \u001B[38;5;129;01mnot\u001B[39;00m \u001B[38;5;28;01mNone\u001B[39;00m, \u001B[38;5;124m'\u001B[39m\u001B[38;5;124mRequires group_id\u001B[39m\u001B[38;5;124m'\u001B[39m\n\u001B[1;32m    549\u001B[0m \u001B[38;5;28;01mif\u001B[39;00m \u001B[38;5;129;01mnot\u001B[39;00m \u001B[38;5;28misinstance\u001B[39m(partition, TopicPartition):\n\u001B[1;32m    550\u001B[0m     \u001B[38;5;28;01mraise\u001B[39;00m \u001B[38;5;167;01mTypeError\u001B[39;00m(\u001B[38;5;124m'\u001B[39m\u001B[38;5;124mpartition must be a TopicPartition namedtuple\u001B[39m\u001B[38;5;124m'\u001B[39m)\n",
      "\u001B[0;31mAssertionError\u001B[0m: Requires group_id"
     ]
    }
   ],
   "source": [
    "consumer.committed(partition=0)"
   ],
   "metadata": {
    "collapsed": false,
    "pycharm": {
     "name": "#%%\n"
    }
   }
  },
  {
   "cell_type": "code",
   "execution_count": 38,
   "outputs": [
    {
     "ename": "KeyboardInterrupt",
     "evalue": "",
     "output_type": "error",
     "traceback": [
      "\u001B[0;31m---------------------------------------------------------------------------\u001B[0m",
      "\u001B[0;31mKeyboardInterrupt\u001B[0m                         Traceback (most recent call last)",
      "Input \u001B[0;32mIn [38]\u001B[0m, in \u001B[0;36m<cell line: 1>\u001B[0;34m()\u001B[0m\n\u001B[0;32m----> 1\u001B[0m \u001B[38;5;28;01mfor\u001B[39;00m messages \u001B[38;5;129;01min\u001B[39;00m consumer:\n\u001B[1;32m      2\u001B[0m     \u001B[38;5;28mprint\u001B[39m(messages)\n\u001B[1;32m      3\u001B[0m     consumer\u001B[38;5;241m.\u001B[39mclose\n",
      "File \u001B[0;32m~/miniforge3/envs/geo/lib/python3.10/site-packages/kafka/consumer/group.py:1193\u001B[0m, in \u001B[0;36mKafkaConsumer.__next__\u001B[0;34m(self)\u001B[0m\n\u001B[1;32m   1191\u001B[0m     \u001B[38;5;28;01mreturn\u001B[39;00m \u001B[38;5;28mself\u001B[39m\u001B[38;5;241m.\u001B[39mnext_v1()\n\u001B[1;32m   1192\u001B[0m \u001B[38;5;28;01melse\u001B[39;00m:\n\u001B[0;32m-> 1193\u001B[0m     \u001B[38;5;28;01mreturn\u001B[39;00m \u001B[38;5;28;43mself\u001B[39;49m\u001B[38;5;241;43m.\u001B[39;49m\u001B[43mnext_v2\u001B[49m\u001B[43m(\u001B[49m\u001B[43m)\u001B[49m\n",
      "File \u001B[0;32m~/miniforge3/envs/geo/lib/python3.10/site-packages/kafka/consumer/group.py:1201\u001B[0m, in \u001B[0;36mKafkaConsumer.next_v2\u001B[0;34m(self)\u001B[0m\n\u001B[1;32m   1199\u001B[0m     \u001B[38;5;28mself\u001B[39m\u001B[38;5;241m.\u001B[39m_iterator \u001B[38;5;241m=\u001B[39m \u001B[38;5;28mself\u001B[39m\u001B[38;5;241m.\u001B[39m_message_generator_v2()\n\u001B[1;32m   1200\u001B[0m \u001B[38;5;28;01mtry\u001B[39;00m:\n\u001B[0;32m-> 1201\u001B[0m     \u001B[38;5;28;01mreturn\u001B[39;00m \u001B[38;5;28;43mnext\u001B[39;49m\u001B[43m(\u001B[49m\u001B[38;5;28;43mself\u001B[39;49m\u001B[38;5;241;43m.\u001B[39;49m\u001B[43m_iterator\u001B[49m\u001B[43m)\u001B[49m\n\u001B[1;32m   1202\u001B[0m \u001B[38;5;28;01mexcept\u001B[39;00m \u001B[38;5;167;01mStopIteration\u001B[39;00m:\n\u001B[1;32m   1203\u001B[0m     \u001B[38;5;28mself\u001B[39m\u001B[38;5;241m.\u001B[39m_iterator \u001B[38;5;241m=\u001B[39m \u001B[38;5;28;01mNone\u001B[39;00m\n",
      "File \u001B[0;32m~/miniforge3/envs/geo/lib/python3.10/site-packages/kafka/consumer/group.py:1116\u001B[0m, in \u001B[0;36mKafkaConsumer._message_generator_v2\u001B[0;34m(self)\u001B[0m\n\u001B[1;32m   1114\u001B[0m \u001B[38;5;28;01mdef\u001B[39;00m \u001B[38;5;21m_message_generator_v2\u001B[39m(\u001B[38;5;28mself\u001B[39m):\n\u001B[1;32m   1115\u001B[0m     timeout_ms \u001B[38;5;241m=\u001B[39m \u001B[38;5;241m1000\u001B[39m \u001B[38;5;241m*\u001B[39m (\u001B[38;5;28mself\u001B[39m\u001B[38;5;241m.\u001B[39m_consumer_timeout \u001B[38;5;241m-\u001B[39m time\u001B[38;5;241m.\u001B[39mtime())\n\u001B[0;32m-> 1116\u001B[0m     record_map \u001B[38;5;241m=\u001B[39m \u001B[38;5;28;43mself\u001B[39;49m\u001B[38;5;241;43m.\u001B[39;49m\u001B[43mpoll\u001B[49m\u001B[43m(\u001B[49m\u001B[43mtimeout_ms\u001B[49m\u001B[38;5;241;43m=\u001B[39;49m\u001B[43mtimeout_ms\u001B[49m\u001B[43m,\u001B[49m\u001B[43m \u001B[49m\u001B[43mupdate_offsets\u001B[49m\u001B[38;5;241;43m=\u001B[39;49m\u001B[38;5;28;43;01mFalse\u001B[39;49;00m\u001B[43m)\u001B[49m\n\u001B[1;32m   1117\u001B[0m     \u001B[38;5;28;01mfor\u001B[39;00m tp, records \u001B[38;5;129;01min\u001B[39;00m six\u001B[38;5;241m.\u001B[39miteritems(record_map):\n\u001B[1;32m   1118\u001B[0m         \u001B[38;5;66;03m# Generators are stateful, and it is possible that the tp / records\u001B[39;00m\n\u001B[1;32m   1119\u001B[0m         \u001B[38;5;66;03m# here may become stale during iteration -- i.e., we seek to a\u001B[39;00m\n\u001B[1;32m   1120\u001B[0m         \u001B[38;5;66;03m# different offset, pause consumption, or lose assignment.\u001B[39;00m\n\u001B[1;32m   1121\u001B[0m         \u001B[38;5;28;01mfor\u001B[39;00m record \u001B[38;5;129;01min\u001B[39;00m records:\n\u001B[1;32m   1122\u001B[0m             \u001B[38;5;66;03m# is_fetchable(tp) should handle assignment changes and offset\u001B[39;00m\n\u001B[1;32m   1123\u001B[0m             \u001B[38;5;66;03m# resets; for all other changes (e.g., seeks) we'll rely on the\u001B[39;00m\n\u001B[1;32m   1124\u001B[0m             \u001B[38;5;66;03m# outer function destroying the existing iterator/generator\u001B[39;00m\n\u001B[1;32m   1125\u001B[0m             \u001B[38;5;66;03m# via self._iterator = None\u001B[39;00m\n",
      "File \u001B[0;32m~/miniforge3/envs/geo/lib/python3.10/site-packages/kafka/consumer/group.py:655\u001B[0m, in \u001B[0;36mKafkaConsumer.poll\u001B[0;34m(self, timeout_ms, max_records, update_offsets)\u001B[0m\n\u001B[1;32m    653\u001B[0m remaining \u001B[38;5;241m=\u001B[39m timeout_ms\n\u001B[1;32m    654\u001B[0m \u001B[38;5;28;01mwhile\u001B[39;00m \u001B[38;5;28;01mTrue\u001B[39;00m:\n\u001B[0;32m--> 655\u001B[0m     records \u001B[38;5;241m=\u001B[39m \u001B[38;5;28;43mself\u001B[39;49m\u001B[38;5;241;43m.\u001B[39;49m\u001B[43m_poll_once\u001B[49m\u001B[43m(\u001B[49m\u001B[43mremaining\u001B[49m\u001B[43m,\u001B[49m\u001B[43m \u001B[49m\u001B[43mmax_records\u001B[49m\u001B[43m,\u001B[49m\u001B[43m \u001B[49m\u001B[43mupdate_offsets\u001B[49m\u001B[38;5;241;43m=\u001B[39;49m\u001B[43mupdate_offsets\u001B[49m\u001B[43m)\u001B[49m\n\u001B[1;32m    656\u001B[0m     \u001B[38;5;28;01mif\u001B[39;00m records:\n\u001B[1;32m    657\u001B[0m         \u001B[38;5;28;01mreturn\u001B[39;00m records\n",
      "File \u001B[0;32m~/miniforge3/envs/geo/lib/python3.10/site-packages/kafka/consumer/group.py:702\u001B[0m, in \u001B[0;36mKafkaConsumer._poll_once\u001B[0;34m(self, timeout_ms, max_records, update_offsets)\u001B[0m\n\u001B[1;32m    699\u001B[0m     \u001B[38;5;28mself\u001B[39m\u001B[38;5;241m.\u001B[39m_client\u001B[38;5;241m.\u001B[39mpoll(timeout_ms\u001B[38;5;241m=\u001B[39m\u001B[38;5;241m0\u001B[39m)\n\u001B[1;32m    701\u001B[0m timeout_ms \u001B[38;5;241m=\u001B[39m \u001B[38;5;28mmin\u001B[39m(timeout_ms, \u001B[38;5;28mself\u001B[39m\u001B[38;5;241m.\u001B[39m_coordinator\u001B[38;5;241m.\u001B[39mtime_to_next_poll() \u001B[38;5;241m*\u001B[39m \u001B[38;5;241m1000\u001B[39m)\n\u001B[0;32m--> 702\u001B[0m \u001B[38;5;28;43mself\u001B[39;49m\u001B[38;5;241;43m.\u001B[39;49m\u001B[43m_client\u001B[49m\u001B[38;5;241;43m.\u001B[39;49m\u001B[43mpoll\u001B[49m\u001B[43m(\u001B[49m\u001B[43mtimeout_ms\u001B[49m\u001B[38;5;241;43m=\u001B[39;49m\u001B[43mtimeout_ms\u001B[49m\u001B[43m)\u001B[49m\n\u001B[1;32m    703\u001B[0m \u001B[38;5;66;03m# after the long poll, we should check whether the group needs to rebalance\u001B[39;00m\n\u001B[1;32m    704\u001B[0m \u001B[38;5;66;03m# prior to returning data so that the group can stabilize faster\u001B[39;00m\n\u001B[1;32m    705\u001B[0m \u001B[38;5;28;01mif\u001B[39;00m \u001B[38;5;28mself\u001B[39m\u001B[38;5;241m.\u001B[39m_coordinator\u001B[38;5;241m.\u001B[39mneed_rejoin():\n",
      "File \u001B[0;32m~/miniforge3/envs/geo/lib/python3.10/site-packages/kafka/client_async.py:602\u001B[0m, in \u001B[0;36mKafkaClient.poll\u001B[0;34m(self, timeout_ms, future)\u001B[0m\n\u001B[1;32m    599\u001B[0m             timeout \u001B[38;5;241m=\u001B[39m \u001B[38;5;28mmin\u001B[39m(timeout, \u001B[38;5;28mself\u001B[39m\u001B[38;5;241m.\u001B[39mconfig[\u001B[38;5;124m'\u001B[39m\u001B[38;5;124mretry_backoff_ms\u001B[39m\u001B[38;5;124m'\u001B[39m])\n\u001B[1;32m    600\u001B[0m         timeout \u001B[38;5;241m=\u001B[39m \u001B[38;5;28mmax\u001B[39m(\u001B[38;5;241m0\u001B[39m, timeout)  \u001B[38;5;66;03m# avoid negative timeouts\u001B[39;00m\n\u001B[0;32m--> 602\u001B[0m     \u001B[38;5;28;43mself\u001B[39;49m\u001B[38;5;241;43m.\u001B[39;49m\u001B[43m_poll\u001B[49m\u001B[43m(\u001B[49m\u001B[43mtimeout\u001B[49m\u001B[43m \u001B[49m\u001B[38;5;241;43m/\u001B[39;49m\u001B[43m \u001B[49m\u001B[38;5;241;43m1000\u001B[39;49m\u001B[43m)\u001B[49m\n\u001B[1;32m    604\u001B[0m \u001B[38;5;66;03m# called without the lock to avoid deadlock potential\u001B[39;00m\n\u001B[1;32m    605\u001B[0m \u001B[38;5;66;03m# if handlers need to acquire locks\u001B[39;00m\n\u001B[1;32m    606\u001B[0m responses\u001B[38;5;241m.\u001B[39mextend(\u001B[38;5;28mself\u001B[39m\u001B[38;5;241m.\u001B[39m_fire_pending_completed_requests())\n",
      "File \u001B[0;32m~/miniforge3/envs/geo/lib/python3.10/site-packages/kafka/client_async.py:634\u001B[0m, in \u001B[0;36mKafkaClient._poll\u001B[0;34m(self, timeout)\u001B[0m\n\u001B[1;32m    631\u001B[0m \u001B[38;5;28mself\u001B[39m\u001B[38;5;241m.\u001B[39m_register_send_sockets()\n\u001B[1;32m    633\u001B[0m start_select \u001B[38;5;241m=\u001B[39m time\u001B[38;5;241m.\u001B[39mtime()\n\u001B[0;32m--> 634\u001B[0m ready \u001B[38;5;241m=\u001B[39m \u001B[38;5;28;43mself\u001B[39;49m\u001B[38;5;241;43m.\u001B[39;49m\u001B[43m_selector\u001B[49m\u001B[38;5;241;43m.\u001B[39;49m\u001B[43mselect\u001B[49m\u001B[43m(\u001B[49m\u001B[43mtimeout\u001B[49m\u001B[43m)\u001B[49m\n\u001B[1;32m    635\u001B[0m end_select \u001B[38;5;241m=\u001B[39m time\u001B[38;5;241m.\u001B[39mtime()\n\u001B[1;32m    636\u001B[0m \u001B[38;5;28;01mif\u001B[39;00m \u001B[38;5;28mself\u001B[39m\u001B[38;5;241m.\u001B[39m_sensors:\n",
      "File \u001B[0;32m~/miniforge3/envs/geo/lib/python3.10/selectors.py:562\u001B[0m, in \u001B[0;36mKqueueSelector.select\u001B[0;34m(self, timeout)\u001B[0m\n\u001B[1;32m    560\u001B[0m ready \u001B[38;5;241m=\u001B[39m []\n\u001B[1;32m    561\u001B[0m \u001B[38;5;28;01mtry\u001B[39;00m:\n\u001B[0;32m--> 562\u001B[0m     kev_list \u001B[38;5;241m=\u001B[39m \u001B[38;5;28;43mself\u001B[39;49m\u001B[38;5;241;43m.\u001B[39;49m\u001B[43m_selector\u001B[49m\u001B[38;5;241;43m.\u001B[39;49m\u001B[43mcontrol\u001B[49m\u001B[43m(\u001B[49m\u001B[38;5;28;43;01mNone\u001B[39;49;00m\u001B[43m,\u001B[49m\u001B[43m \u001B[49m\u001B[43mmax_ev\u001B[49m\u001B[43m,\u001B[49m\u001B[43m \u001B[49m\u001B[43mtimeout\u001B[49m\u001B[43m)\u001B[49m\n\u001B[1;32m    563\u001B[0m \u001B[38;5;28;01mexcept\u001B[39;00m \u001B[38;5;167;01mInterruptedError\u001B[39;00m:\n\u001B[1;32m    564\u001B[0m     \u001B[38;5;28;01mreturn\u001B[39;00m ready\n",
      "\u001B[0;31mKeyboardInterrupt\u001B[0m: "
     ]
    }
   ],
   "source": [
    "for messages in consumer:\n",
    "    print(messages)\n",
    "    consumer.close"
   ],
   "metadata": {
    "collapsed": false,
    "pycharm": {
     "name": "#%%\n"
    }
   }
  },
  {
   "cell_type": "code",
   "execution_count": 31,
   "outputs": [],
   "source": [
    "from kafka import KafkaConsumer, TopicPartition\n",
    "from kafka.consumer.fetcher import log\n",
    "import json\n",
    "def get_end_offsets(consumer, topic) -> dict:\n",
    "    partitions_for_topic = consumer.partitions_for_topic(topic)\n",
    "    if partitions_for_topic:\n",
    "        partitions = []\n",
    "        for partition in consumer.partitions_for_topic(topic):\n",
    "            partitions.append(TopicPartition(topic, partition))\n",
    "        # https://kafka-python.readthedocs.io/en/master/apidoc/KafkaConsumer.html#kafka.KafkaConsumer.end_offsets\n",
    "        # Get the last offset for the given partitions. The last offset of a partition is the offset of the upcoming message, i.e. the offset of the last available message + 1.\n",
    "        end_offsets = consumer.end_offsets(partitions)\n",
    "        return end_offsets"
   ],
   "metadata": {
    "collapsed": false,
    "pycharm": {
     "name": "#%%\n"
    }
   }
  },
  {
   "cell_type": "code",
   "execution_count": 32,
   "outputs": [],
   "source": [
    "def forgiving_json_deserializer(v):\n",
    "    if v is None:\n",
    "        try:\n",
    "            return json.loads(v.encode('utf-8'))\n",
    "        except json.decoder.JSONDecodeError:\n",
    "            log.exception('Unable to decode: %s', v)\n",
    "        return None"
   ],
   "metadata": {
    "collapsed": false,
    "pycharm": {
     "name": "#%%\n"
    }
   }
  },
  {
   "cell_type": "markdown",
   "source": [],
   "metadata": {
    "collapsed": false,
    "pycharm": {
     "name": "#%% md\n"
    }
   }
  },
  {
   "cell_type": "code",
   "execution_count": 33,
   "outputs": [],
   "source": [
    "def grab_topic_gare(gare: str = \"87271460\", num : int = 1):\n",
    "    last_n_msg = num\n",
    "    # kafka_server = \"35.180.29.24:9092\"\n",
    "    kafka_server = \"localhost:9092\"\n",
    "    # consumer\n",
    "    consumer = KafkaConsumer(\n",
    "        bootstrap_servers=kafka_server,\n",
    "        consumer_timeout_ms=10000)\n",
    "    end_offsets = get_end_offsets(consumer, gare)\n",
    "    consumer.assign([*end_offsets])\n",
    "    for key_partition, value_end_offset in end_offsets.items():\n",
    "        new_calculated_offset = value_end_offset - last_n_msg\n",
    "        new_offset = new_calculated_offset if new_calculated_offset >= 0 else 0\n",
    "        consumer.seek(key_partition, new_offset)\n",
    "\n",
    "    for msg in consumer:\n",
    "        return msg"
   ],
   "metadata": {
    "collapsed": false,
    "pycharm": {
     "name": "#%%\n"
    }
   }
  },
  {
   "cell_type": "code",
   "execution_count": 37,
   "outputs": [],
   "source": [
    "output = json.loads(grab_topic_gare(gare=\"rer-b-87271460\")[6])"
   ],
   "metadata": {
    "collapsed": false,
    "pycharm": {
     "name": "#%%\n"
    }
   }
  },
  {
   "cell_type": "code",
   "execution_count": 40,
   "outputs": [
    {
     "data": {
      "text/plain": "[{'time_recorded': '2022-06-22 14:37:22',\n  'num': 'KALI78',\n  'miss': 'KALI',\n  'date': '22/06/2022 14:39',\n  'mode': 'R',\n  'term': 87393579,\n  'direction': 1,\n  'etat': ''},\n {'time_recorded': '2022-06-22 14:37:22',\n  'num': 'PIST82',\n  'miss': 'PIST',\n  'date': '22/06/2022 14:47',\n  'mode': 'R',\n  'term': 87758896,\n  'direction': 0,\n  'etat': ''},\n {'time_recorded': '2022-06-22 14:37:22',\n  'num': 'KALI84',\n  'miss': 'KALI',\n  'date': '22/06/2022 14:54',\n  'mode': 'R',\n  'term': 87393579,\n  'direction': 0,\n  'etat': ''},\n {'time_recorded': '2022-06-22 14:37:22',\n  'num': 'EPAU51',\n  'miss': 'EPAU',\n  'date': '22/06/2022 14:55',\n  'mode': 'R',\n  'term': 87001479,\n  'direction': 1,\n  'etat': ''},\n {'time_recorded': '2022-06-22 14:37:22',\n  'num': 'ERIO55',\n  'miss': 'ERIO',\n  'date': '22/06/2022 14:55',\n  'mode': 'R',\n  'term': 87001479,\n  'direction': 1,\n  'etat': ''},\n {'time_recorded': '2022-06-22 14:37:22',\n  'num': 'EPAU57',\n  'miss': 'EPAU',\n  'date': '22/06/2022 15:01',\n  'mode': 'R',\n  'term': 87001479,\n  'direction': 1,\n  'etat': ''},\n {'time_recorded': '2022-06-22 14:37:22',\n  'num': 'PIST88',\n  'miss': 'PIST',\n  'date': '22/06/2022 15:02',\n  'mode': 'R',\n  'term': 87758896,\n  'direction': 0,\n  'etat': ''},\n {'time_recorded': '2022-06-22 14:37:22',\n  'num': 'KALI90',\n  'miss': 'KALI',\n  'date': '22/06/2022 15:09',\n  'mode': 'R',\n  'term': 87393579,\n  'direction': 1,\n  'etat': ''},\n {'time_recorded': '2022-06-22 14:37:22',\n  'num': 'ERIO61',\n  'miss': 'ERIO',\n  'date': '22/06/2022 15:10',\n  'mode': 'R',\n  'term': 87001479,\n  'direction': 0,\n  'etat': ''},\n {'time_recorded': '2022-06-22 14:37:22',\n  'num': 'PIST94',\n  'miss': 'PIST',\n  'date': '22/06/2022 15:17',\n  'mode': 'R',\n  'term': 87758896,\n  'direction': 1,\n  'etat': ''},\n {'time_recorded': '2022-06-22 14:37:22',\n  'num': 'EPAU63',\n  'miss': 'EPAU',\n  'date': '22/06/2022 15:19',\n  'mode': 'R',\n  'term': 87001479,\n  'direction': 0,\n  'etat': ''},\n {'time_recorded': '2022-06-22 14:37:22',\n  'num': 'ERIO67',\n  'miss': 'ERIO',\n  'date': '22/06/2022 15:24',\n  'mode': 'R',\n  'term': 87001479,\n  'direction': 0,\n  'etat': ''},\n {'time_recorded': '2022-06-22 14:37:22',\n  'num': 'KALI96',\n  'miss': 'KALI',\n  'date': '22/06/2022 15:24',\n  'mode': 'R',\n  'term': 87393579,\n  'direction': 1,\n  'etat': ''},\n {'time_recorded': '2022-06-22 14:37:22',\n  'num': 'EPAU69',\n  'miss': 'EPAU',\n  'date': '22/06/2022 15:31',\n  'mode': 'R',\n  'term': 87001479,\n  'direction': 0,\n  'etat': ''},\n {'time_recorded': '2022-06-22 14:37:22',\n  'num': 'PINA02',\n  'miss': 'PINA',\n  'date': '22/06/2022 15:32',\n  'mode': 'R',\n  'term': 87758896,\n  'direction': 0,\n  'etat': ''},\n {'time_recorded': '2022-06-22 14:37:22',\n  'num': 'ERIO73',\n  'miss': 'ERIO',\n  'date': '22/06/2022 15:39',\n  'mode': 'R',\n  'term': 87001479,\n  'direction': 1,\n  'etat': ''},\n {'time_recorded': '2022-06-22 14:37:22',\n  'num': 'KANE04',\n  'miss': 'KANE',\n  'date': '22/06/2022 15:39',\n  'mode': 'R',\n  'term': 87393579,\n  'direction': 0,\n  'etat': ''},\n {'time_recorded': '2022-06-22 14:37:22',\n  'num': 'EPAU75',\n  'miss': 'EPAU',\n  'date': '22/06/2022 15:46',\n  'mode': 'R',\n  'term': 87001479,\n  'direction': 1,\n  'etat': ''},\n {'time_recorded': '2022-06-22 14:37:22',\n  'num': 'PINA08',\n  'miss': 'PINA',\n  'date': '22/06/2022 15:47',\n  'mode': 'R',\n  'term': 87758896,\n  'direction': 0,\n  'etat': ''},\n {'time_recorded': '2022-06-22 14:37:22',\n  'num': 'ERIO79',\n  'miss': 'ERIO',\n  'date': '22/06/2022 15:54',\n  'mode': 'R',\n  'term': 87001479,\n  'direction': 1,\n  'etat': ''},\n {'time_recorded': '2022-06-22 14:37:22',\n  'num': 'PQUL10',\n  'miss': 'PQUL',\n  'date': '22/06/2022 15:54',\n  'mode': 'R',\n  'term': 87758896,\n  'direction': 1,\n  'etat': ''},\n {'time_recorded': '2022-06-22 14:37:22',\n  'num': 'EPAU81',\n  'miss': 'EPAU',\n  'date': '22/06/2022 16:01',\n  'mode': 'R',\n  'term': 87001479,\n  'direction': 0,\n  'etat': ''},\n {'time_recorded': '2022-06-22 14:37:22',\n  'num': 'LOUP14',\n  'miss': 'LOUP',\n  'date': '22/06/2022 16:02',\n  'mode': 'R',\n  'term': 87758847,\n  'direction': 1,\n  'etat': ''},\n {'time_recorded': '2022-06-22 14:37:22',\n  'num': 'ERIO85',\n  'miss': 'ERIO',\n  'date': '22/06/2022 16:07',\n  'mode': 'R',\n  'term': 87001479,\n  'direction': 0,\n  'etat': ''},\n {'time_recorded': '2022-06-22 14:37:22',\n  'num': 'STAR18',\n  'miss': 'STAR',\n  'date': '22/06/2022 16:08',\n  'mode': 'R',\n  'term': 87758722,\n  'direction': 1,\n  'etat': ''},\n {'time_recorded': '2022-06-22 14:37:22',\n  'num': 'LOUP22',\n  'miss': 'LOUP',\n  'date': '22/06/2022 16:14',\n  'mode': 'R',\n  'term': 87758847,\n  'direction': 0,\n  'etat': ''},\n {'time_recorded': '2022-06-22 14:37:22',\n  'num': 'EPAU87',\n  'miss': 'EPAU',\n  'date': '22/06/2022 16:19',\n  'mode': 'R',\n  'term': 87001479,\n  'direction': 0,\n  'etat': ''},\n {'time_recorded': '2022-06-22 14:37:22',\n  'num': 'STAR26',\n  'miss': 'STAR',\n  'date': '22/06/2022 16:20',\n  'mode': 'R',\n  'term': 87758722,\n  'direction': 0,\n  'etat': ''},\n {'time_recorded': '2022-06-22 14:37:22',\n  'num': 'ERIO91',\n  'miss': 'ERIO',\n  'date': '22/06/2022 16:25',\n  'mode': 'R',\n  'term': 87001479,\n  'direction': 1,\n  'etat': ''},\n {'time_recorded': '2022-06-22 14:37:22',\n  'num': 'LOUP30',\n  'miss': 'LOUP',\n  'date': '22/06/2022 16:26',\n  'mode': 'R',\n  'term': 87758847,\n  'direction': 1,\n  'etat': ''}]"
     },
     "execution_count": 40,
     "metadata": {},
     "output_type": "execute_result"
    }
   ],
   "source": [
    "output"
   ],
   "metadata": {
    "collapsed": false,
    "pycharm": {
     "name": "#%%\n"
    }
   }
  },
  {
   "cell_type": "code",
   "execution_count": 26,
   "outputs": [
    {
     "ename": "NameError",
     "evalue": "name 'consumer' is not defined",
     "output_type": "error",
     "traceback": [
      "\u001B[0;31m---------------------------------------------------------------------------\u001B[0m",
      "\u001B[0;31mNameError\u001B[0m                                 Traceback (most recent call last)",
      "Input \u001B[0;32mIn [26]\u001B[0m, in \u001B[0;36m<cell line: 1>\u001B[0;34m()\u001B[0m\n\u001B[0;32m----> 1\u001B[0m \u001B[43mconsumer\u001B[49m\u001B[38;5;241m.\u001B[39mtopics()\n",
      "\u001B[0;31mNameError\u001B[0m: name 'consumer' is not defined"
     ]
    }
   ],
   "source": [
    "consumer.topics()"
   ],
   "metadata": {
    "collapsed": false,
    "pycharm": {
     "name": "#%%\n"
    }
   }
  },
  {
   "cell_type": "code",
   "execution_count": 27,
   "outputs": [],
   "source": [
    "#js = json.loads(output[6].decode(\"utf-8\"))"
   ],
   "metadata": {
    "collapsed": false,
    "pycharm": {
     "name": "#%%\n"
    }
   }
  },
  {
   "cell_type": "code",
   "execution_count": 28,
   "outputs": [
    {
     "name": "stdout",
     "output_type": "stream",
     "text": [
      "[{'time_recorded': '2022-06-22 14:37:22', 'num': 'KALI78', 'miss': 'KALI', 'date': '22/06/2022 14:39', 'mode': 'R', 'term': 87393579, 'direction': 1, 'etat': ''}, {'time_recorded': '2022-06-22 14:37:22', 'num': 'PIST82', 'miss': 'PIST', 'date': '22/06/2022 14:47', 'mode': 'R', 'term': 87758896, 'direction': 0, 'etat': ''}, {'time_recorded': '2022-06-22 14:37:22', 'num': 'KALI84', 'miss': 'KALI', 'date': '22/06/2022 14:54', 'mode': 'R', 'term': 87393579, 'direction': 0, 'etat': ''}, {'time_recorded': '2022-06-22 14:37:22', 'num': 'EPAU51', 'miss': 'EPAU', 'date': '22/06/2022 14:55', 'mode': 'R', 'term': 87001479, 'direction': 1, 'etat': ''}, {'time_recorded': '2022-06-22 14:37:22', 'num': 'ERIO55', 'miss': 'ERIO', 'date': '22/06/2022 14:55', 'mode': 'R', 'term': 87001479, 'direction': 1, 'etat': ''}, {'time_recorded': '2022-06-22 14:37:22', 'num': 'EPAU57', 'miss': 'EPAU', 'date': '22/06/2022 15:01', 'mode': 'R', 'term': 87001479, 'direction': 1, 'etat': ''}, {'time_recorded': '2022-06-22 14:37:22', 'num': 'PIST88', 'miss': 'PIST', 'date': '22/06/2022 15:02', 'mode': 'R', 'term': 87758896, 'direction': 0, 'etat': ''}, {'time_recorded': '2022-06-22 14:37:22', 'num': 'KALI90', 'miss': 'KALI', 'date': '22/06/2022 15:09', 'mode': 'R', 'term': 87393579, 'direction': 1, 'etat': ''}, {'time_recorded': '2022-06-22 14:37:22', 'num': 'ERIO61', 'miss': 'ERIO', 'date': '22/06/2022 15:10', 'mode': 'R', 'term': 87001479, 'direction': 0, 'etat': ''}, {'time_recorded': '2022-06-22 14:37:22', 'num': 'PIST94', 'miss': 'PIST', 'date': '22/06/2022 15:17', 'mode': 'R', 'term': 87758896, 'direction': 1, 'etat': ''}, {'time_recorded': '2022-06-22 14:37:22', 'num': 'EPAU63', 'miss': 'EPAU', 'date': '22/06/2022 15:19', 'mode': 'R', 'term': 87001479, 'direction': 0, 'etat': ''}, {'time_recorded': '2022-06-22 14:37:22', 'num': 'ERIO67', 'miss': 'ERIO', 'date': '22/06/2022 15:24', 'mode': 'R', 'term': 87001479, 'direction': 0, 'etat': ''}, {'time_recorded': '2022-06-22 14:37:22', 'num': 'KALI96', 'miss': 'KALI', 'date': '22/06/2022 15:24', 'mode': 'R', 'term': 87393579, 'direction': 1, 'etat': ''}, {'time_recorded': '2022-06-22 14:37:22', 'num': 'EPAU69', 'miss': 'EPAU', 'date': '22/06/2022 15:31', 'mode': 'R', 'term': 87001479, 'direction': 0, 'etat': ''}, {'time_recorded': '2022-06-22 14:37:22', 'num': 'PINA02', 'miss': 'PINA', 'date': '22/06/2022 15:32', 'mode': 'R', 'term': 87758896, 'direction': 0, 'etat': ''}, {'time_recorded': '2022-06-22 14:37:22', 'num': 'ERIO73', 'miss': 'ERIO', 'date': '22/06/2022 15:39', 'mode': 'R', 'term': 87001479, 'direction': 1, 'etat': ''}, {'time_recorded': '2022-06-22 14:37:22', 'num': 'KANE04', 'miss': 'KANE', 'date': '22/06/2022 15:39', 'mode': 'R', 'term': 87393579, 'direction': 0, 'etat': ''}, {'time_recorded': '2022-06-22 14:37:22', 'num': 'EPAU75', 'miss': 'EPAU', 'date': '22/06/2022 15:46', 'mode': 'R', 'term': 87001479, 'direction': 1, 'etat': ''}, {'time_recorded': '2022-06-22 14:37:22', 'num': 'PINA08', 'miss': 'PINA', 'date': '22/06/2022 15:47', 'mode': 'R', 'term': 87758896, 'direction': 0, 'etat': ''}, {'time_recorded': '2022-06-22 14:37:22', 'num': 'ERIO79', 'miss': 'ERIO', 'date': '22/06/2022 15:54', 'mode': 'R', 'term': 87001479, 'direction': 1, 'etat': ''}, {'time_recorded': '2022-06-22 14:37:22', 'num': 'PQUL10', 'miss': 'PQUL', 'date': '22/06/2022 15:54', 'mode': 'R', 'term': 87758896, 'direction': 1, 'etat': ''}, {'time_recorded': '2022-06-22 14:37:22', 'num': 'EPAU81', 'miss': 'EPAU', 'date': '22/06/2022 16:01', 'mode': 'R', 'term': 87001479, 'direction': 0, 'etat': ''}, {'time_recorded': '2022-06-22 14:37:22', 'num': 'LOUP14', 'miss': 'LOUP', 'date': '22/06/2022 16:02', 'mode': 'R', 'term': 87758847, 'direction': 1, 'etat': ''}, {'time_recorded': '2022-06-22 14:37:22', 'num': 'ERIO85', 'miss': 'ERIO', 'date': '22/06/2022 16:07', 'mode': 'R', 'term': 87001479, 'direction': 0, 'etat': ''}, {'time_recorded': '2022-06-22 14:37:22', 'num': 'STAR18', 'miss': 'STAR', 'date': '22/06/2022 16:08', 'mode': 'R', 'term': 87758722, 'direction': 1, 'etat': ''}, {'time_recorded': '2022-06-22 14:37:22', 'num': 'LOUP22', 'miss': 'LOUP', 'date': '22/06/2022 16:14', 'mode': 'R', 'term': 87758847, 'direction': 0, 'etat': ''}, {'time_recorded': '2022-06-22 14:37:22', 'num': 'EPAU87', 'miss': 'EPAU', 'date': '22/06/2022 16:19', 'mode': 'R', 'term': 87001479, 'direction': 0, 'etat': ''}, {'time_recorded': '2022-06-22 14:37:22', 'num': 'STAR26', 'miss': 'STAR', 'date': '22/06/2022 16:20', 'mode': 'R', 'term': 87758722, 'direction': 0, 'etat': ''}, {'time_recorded': '2022-06-22 14:37:22', 'num': 'ERIO91', 'miss': 'ERIO', 'date': '22/06/2022 16:25', 'mode': 'R', 'term': 87001479, 'direction': 1, 'etat': ''}, {'time_recorded': '2022-06-22 14:37:22', 'num': 'LOUP30', 'miss': 'LOUP', 'date': '22/06/2022 16:26', 'mode': 'R', 'term': 87758847, 'direction': 1, 'etat': ''}]\n"
     ]
    }
   ],
   "source": [
    "print(output)"
   ],
   "metadata": {
    "collapsed": false,
    "pycharm": {
     "name": "#%%\n"
    }
   }
  },
  {
   "cell_type": "code",
   "execution_count": 95,
   "outputs": [
    {
     "data": {
      "text/plain": "'10/06/2022 19:14'"
     },
     "execution_count": 95,
     "metadata": {},
     "output_type": "execute_result"
    }
   ],
   "source": [
    "js[1][\"date\"]"
   ],
   "metadata": {
    "collapsed": false,
    "pycharm": {
     "name": "#%%\n"
    }
   }
  },
  {
   "cell_type": "code",
   "execution_count": 45,
   "outputs": [],
   "source": [
    "# import pendulum\n"
   ],
   "metadata": {
    "collapsed": false,
    "pycharm": {
     "name": "#%%\n"
    }
   }
  },
  {
   "cell_type": "code",
   "execution_count": 43,
   "outputs": [
    {
     "ename": "NameError",
     "evalue": "name 'js' is not defined",
     "output_type": "error",
     "traceback": [
      "\u001B[0;31m---------------------------------------------------------------------------\u001B[0m",
      "\u001B[0;31mNameError\u001B[0m                                 Traceback (most recent call last)",
      "Input \u001B[0;32mIn [43]\u001B[0m, in \u001B[0;36m<cell line: 1>\u001B[0;34m()\u001B[0m\n\u001B[0;32m----> 1\u001B[0m dt \u001B[38;5;241m=\u001B[39m pendulum\u001B[38;5;241m.\u001B[39mfrom_format(\u001B[43mjs\u001B[49m[\u001B[38;5;241m1\u001B[39m][\u001B[38;5;124m\"\u001B[39m\u001B[38;5;124mdate\u001B[39m\u001B[38;5;124m\"\u001B[39m], \u001B[38;5;124m\"\u001B[39m\u001B[38;5;124mDD/MM/YYYY HH:mm\u001B[39m\u001B[38;5;124m\"\u001B[39m)\u001B[38;5;241m.\u001B[39mtimestamp()\n",
      "\u001B[0;31mNameError\u001B[0m: name 'js' is not defined"
     ]
    }
   ],
   "source": [
    "dt = pendulum.from_format(js[1][\"date\"], \"DD/MM/YYYY HH:mm\").timestamp()"
   ],
   "metadata": {
    "collapsed": false,
    "pycharm": {
     "name": "#%%\n"
    }
   }
  },
  {
   "cell_type": "code",
   "execution_count": 7,
   "outputs": [],
   "source": [
    "from datetime import datetime\n",
    "import pendulum\n",
    "\n",
    "unix_timestamp: float = datetime.now().timestamp()\n",
    "unix_timestamp_pd:float = pendulum.now(\"Europe/Paris\").timestamp()\n",
    "datetime_obj: datetime = datetime.fromtimestamp(int(unix_timestamp))"
   ],
   "metadata": {
    "collapsed": false,
    "pycharm": {
     "name": "#%%\n"
    }
   }
  },
  {
   "cell_type": "code",
   "execution_count": 8,
   "outputs": [
    {
     "name": "stdout",
     "output_type": "stream",
     "text": [
      "1655912948.501337\n",
      "1655912948.501466\n"
     ]
    }
   ],
   "source": [
    "print(unix_timestamp)\n",
    "print(unix_timestamp_pd)"
   ],
   "metadata": {
    "collapsed": false,
    "pycharm": {
     "name": "#%%\n"
    }
   }
  },
  {
   "cell_type": "code",
   "execution_count": 11,
   "outputs": [
    {
     "name": "stdout",
     "output_type": "stream",
     "text": [
      "2022-06-22 17:49:08\n"
     ]
    }
   ],
   "source": [
    "print(datetime_obj)"
   ],
   "metadata": {
    "collapsed": false,
    "pycharm": {
     "name": "#%%\n"
    }
   }
  },
  {
   "cell_type": "code",
   "execution_count": 10,
   "outputs": [
    {
     "name": "stdout",
     "output_type": "stream",
     "text": [
      "2022-06-22T17:49:40.407687+02:00\n"
     ]
    }
   ],
   "source": [
    "print(pendulum.now(\"Europe/Paris\"))"
   ],
   "metadata": {
    "collapsed": false,
    "pycharm": {
     "name": "#%%\n"
    }
   }
  },
  {
   "cell_type": "code",
   "execution_count": 13,
   "outputs": [
    {
     "name": "stdout",
     "output_type": "stream",
     "text": [
      "2022-06-22 17:51:54\n"
     ]
    }
   ],
   "source": [
    "print(pendulum.now(\"Europe/Paris\").to_datetime_string())"
   ],
   "metadata": {
    "collapsed": false,
    "pycharm": {
     "name": "#%%\n"
    }
   }
  },
  {
   "cell_type": "code",
   "execution_count": null,
   "outputs": [],
   "source": [],
   "metadata": {
    "collapsed": false,
    "pycharm": {
     "name": "#%%\n"
    }
   }
  }
 ],
 "metadata": {
  "kernelspec": {
   "display_name": "Python 3",
   "language": "python",
   "name": "python3"
  },
  "language_info": {
   "codemirror_mode": {
    "name": "ipython",
    "version": 2
   },
   "file_extension": ".py",
   "mimetype": "text/x-python",
   "name": "python",
   "nbconvert_exporter": "python",
   "pygments_lexer": "ipython2",
   "version": "2.7.6"
  }
 },
 "nbformat": 4,
 "nbformat_minor": 0
}