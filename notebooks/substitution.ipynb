{
 "cells": [
  {
   "cell_type": "code",
   "execution_count": 138,
   "outputs": [],
   "source": [
    "import json"
   ],
   "metadata": {
    "collapsed": false,
    "pycharm": {
     "name": "#%%\n"
    }
   }
  },
  {
   "cell_type": "code",
   "execution_count": 139,
   "outputs": [],
   "source": [
    "import pandas\n",
    "import pendulum"
   ],
   "metadata": {
    "collapsed": false,
    "pycharm": {
     "name": "#%%\n"
    }
   }
  },
  {
   "cell_type": "code",
   "execution_count": 140,
   "outputs": [],
   "source": [
    "f = open('test.json')"
   ],
   "metadata": {
    "collapsed": false,
    "pycharm": {
     "name": "#%%\n"
    }
   }
  },
  {
   "cell_type": "code",
   "execution_count": 141,
   "outputs": [],
   "source": [
    "js = json.load(f)"
   ],
   "metadata": {
    "collapsed": false,
    "pycharm": {
     "name": "#%%\n"
    }
   }
  },
  {
   "cell_type": "code",
   "execution_count": 142,
   "outputs": [
    {
     "ename": "TypeError",
     "evalue": "'str' object is not callable",
     "output_type": "error",
     "traceback": [
      "\u001B[0;31m---------------------------------------------------------------------------\u001B[0m",
      "\u001B[0;31mTypeError\u001B[0m                                 Traceback (most recent call last)",
      "Input \u001B[0;32mIn [142]\u001B[0m, in \u001B[0;36m<cell line: 1>\u001B[0;34m()\u001B[0m\n\u001B[0;32m----> 1\u001B[0m \u001B[38;5;28;43mtype\u001B[39;49m\u001B[43m(\u001B[49m\u001B[43mjs\u001B[49m\u001B[43m)\u001B[49m\n",
      "\u001B[0;31mTypeError\u001B[0m: 'str' object is not callable"
     ]
    }
   ],
   "source": [
    "type(js)"
   ],
   "metadata": {
    "collapsed": false,
    "pycharm": {
     "name": "#%%\n"
    }
   }
  },
  {
   "cell_type": "code",
   "execution_count": 143,
   "outputs": [
    {
     "data": {
      "text/plain": "{'tickets': [],\n 'terminus': [{'codes': [{'type': 'source', 'value': '87681007'},\n    {'type': 'uic', 'value': '87681007'}],\n   'name': 'Corbeil-Essonnes',\n   'links': [],\n   'coord': {'lat': '48.614405', 'lon': '2.47376'},\n   'label': 'Corbeil-Essonnes (Corbeil-Essonnes)',\n   'timezone': 'Europe/Paris',\n   'id': 'stop_area:SNCF:87681007'},\n  {'codes': [{'type': 'source', 'value': '87164780'},\n    {'type': 'uic', 'value': '87164780'}],\n   'name': 'Stade de France Saint-Denis',\n   'links': [],\n   'coord': {'lat': '48.91779', 'lon': '2.35134'},\n   'label': 'Stade de France Saint-Denis (Saint-Denis)',\n   'timezone': 'Europe/Paris',\n   'id': 'stop_area:SNCF:87164780'}],\n 'links': [{'href': 'https://api.sncf.com/v1/coverage/sncf/journeys?to=stop_area%3ASNCF%3A87271304&datetime_represents=departure&forbidden_uris%5B%5D=line%3ASNCF%3AB&from=stop_area%3ASNCF%3A87271007&datetime=20220703T185301',\n   'type': 'next',\n   'rel': 'next',\n   'templated': False},\n  {'href': 'https://api.sncf.com/v1/coverage/sncf/journeys?to=stop_area%3ASNCF%3A87271304&datetime_represents=arrival&forbidden_uris%5B%5D=line%3ASNCF%3AB&from=stop_area%3ASNCF%3A87271007&datetime=20220703T203459',\n   'type': 'prev',\n   'rel': 'prev',\n   'templated': False},\n  {'href': 'https://api.sncf.com/v1/coverage/sncf/journeys?to=stop_area%3ASNCF%3A87271304&datetime_represents=departure&forbidden_uris%5B%5D=line%3ASNCF%3AB&from=stop_area%3ASNCF%3A87271007&datetime=20220703T000000',\n   'type': 'first',\n   'rel': 'first',\n   'templated': False},\n  {'href': 'https://api.sncf.com/v1/coverage/sncf/journeys?to=stop_area%3ASNCF%3A87271304&datetime_represents=arrival&forbidden_uris%5B%5D=line%3ASNCF%3AB&from=stop_area%3ASNCF%3A87271007&datetime=20220703T235959',\n   'type': 'last',\n   'rel': 'last',\n   'templated': False},\n  {'href': 'https://api.sncf.com/v1/coverage/sncf/stop_points/{stop_point.id}',\n   'type': 'stop_point',\n   'rel': 'stop_points',\n   'templated': True},\n  {'href': 'https://api.sncf.com/v1/coverage/sncf/stop_areas/{stop_area.id}',\n   'type': 'stop_area',\n   'rel': 'stop_areas',\n   'templated': True},\n  {'href': 'https://api.sncf.com/v1/coverage/sncf/vehicle_journeys/{vehicle_journey.id}',\n   'type': 'vehicle_journey',\n   'rel': 'vehicle_journeys',\n   'templated': True},\n  {'href': 'https://api.sncf.com/v1/coverage/sncf/routes/{route.id}',\n   'type': 'route',\n   'rel': 'routes',\n   'templated': True},\n  {'href': 'https://api.sncf.com/v1/coverage/sncf/commercial_modes/{commercial_mode.id}',\n   'type': 'commercial_mode',\n   'rel': 'commercial_modes',\n   'templated': True},\n  {'href': 'https://api.sncf.com/v1/coverage/sncf/lines/{line.id}',\n   'type': 'line',\n   'rel': 'lines',\n   'templated': True},\n  {'href': 'https://api.sncf.com/v1/coverage/sncf/physical_modes/{physical_mode.id}',\n   'type': 'physical_mode',\n   'rel': 'physical_modes',\n   'templated': True},\n  {'href': 'https://api.sncf.com/v1/coverage/sncf/networks/{network.id}',\n   'type': 'network',\n   'rel': 'networks',\n   'templated': True}],\n 'journeys': [{'status': '',\n   'distances': {'taxi': 0,\n    'car': 0,\n    'walking': 0,\n    'bike': 0,\n    'ridesharing': 0},\n   'links': [{'href': 'https://api.sncf.com/v1/coverage/sncf/journeys?first_section_mode%5B%5D=walking&direct_path=none&to=stop_area%3ASNCF%3A87271304&is_journey_schedules=True&datetime=20220703T185300&last_section_mode%5B%5D=walking&min_nb_journeys=5&min_nb_transfers=2&forbidden_uris%5B%5D=line%3ASNCF%3AB&allowed_id%5B%5D=stop_point%3ASNCF%3A87271411%3ABus&allowed_id%5B%5D=stop_point%3ASNCF%3A87271023%3ARapidTransit&allowed_id%5B%5D=stop_point%3ASNCF%3A87164780%3ABus&allowed_id%5B%5D=stop_point%3ASNCF%3A87164780%3ARapidTransit&allowed_id%5B%5D=stop_point%3ASNCF%3A87271304%3ABus&from=stop_area%3ASNCF%3A87271007',\n     'type': 'journeys',\n     'rel': 'same_journey_schedules',\n     'templated': False},\n    {'href': 'https://api.sncf.com/v1/coverage/sncf/journeys?count=1&first_section_mode%5B%5D=walking&direct_path=none&to=stop_area%3ASNCF%3A87271304&is_journey_schedules=True&datetime=20220703T185300&last_section_mode%5B%5D=walking&min_nb_journeys=1&min_nb_transfers=2&forbidden_uris%5B%5D=line%3ASNCF%3AB&allowed_id%5B%5D=stop_point%3ASNCF%3A87271411%3ABus&allowed_id%5B%5D=stop_point%3ASNCF%3A87271023%3ARapidTransit&allowed_id%5B%5D=stop_point%3ASNCF%3A87164780%3ABus&allowed_id%5B%5D=stop_point%3ASNCF%3A87164780%3ARapidTransit&allowed_id%5B%5D=stop_point%3ASNCF%3A87271304%3ABus&from=stop_area%3ASNCF%3A87271007',\n     'type': 'journeys',\n     'rel': 'this_journey',\n     'templated': False}],\n   'tags': ['walking'],\n   'nb_transfers': 2,\n   'durations': {'taxi': 0,\n    'walking': 300,\n    'car': 0,\n    'ridesharing': 0,\n    'bike': 0,\n    'total': 6120},\n   'arrival_date_time': '20220703T203500',\n   'calendars': [{'active_periods': [{'begin': '20220703', 'end': '20220704'}],\n     'week_pattern': {'monday': False,\n      'tuesday': False,\n      'friday': False,\n      'wednesday': False,\n      'thursday': False,\n      'sunday': True,\n      'saturday': False}}],\n   'departure_date_time': '20220703T185300',\n   'requested_date_time': '20220703T184752',\n   'fare': {'found': False, 'total': {'value': '0.0'}, 'links': []},\n   'co2_emission': {'value': 2500.23048, 'unit': 'gEC'},\n   'type': 'best',\n   'duration': 6120,\n   'sections': [{'from': {'embedded_type': 'stop_area',\n      'stop_area': {'codes': [{'type': 'secondary_id',\n         'value': 'SNCF:87271023'},\n        {'type': 'secondary_id', 'value': 'SNCF:87271031'},\n        {'type': 'source', 'value': '87271007'},\n        {'type': 'source', 'value': '87271023'},\n        {'type': 'source', 'value': '87271031'},\n        {'type': 'uic', 'value': '87271007'},\n        {'type': 'uic', 'value': '87271023'},\n        {'type': 'uic', 'value': '87271031'}],\n       'name': 'Paris Gare du Nord',\n       'links': [],\n       'coord': {'lat': '48.880136', 'lon': '2.354851'},\n       'label': 'Paris Gare du Nord (Paris)',\n       'administrative_regions': [{'insee': '75056',\n         'name': 'Paris',\n         'level': 8,\n         'coord': {'lat': '48.8566969', 'lon': '2.3514616'},\n         'label': 'Paris (75000-75116)',\n         'id': 'admin:fr:75056',\n         'zip_code': '75000;75116'}],\n       'timezone': 'Europe/Paris',\n       'id': 'stop_area:SNCF:87271007'},\n      'quality': 0,\n      'name': 'Paris Gare du Nord (Paris)',\n      'id': 'stop_area:SNCF:87271007'},\n     'links': [],\n     'arrival_date_time': '20220703T185300',\n     'co2_emission': {'value': 0.0, 'unit': ''},\n     'to': {'embedded_type': 'stop_point',\n      'stop_point': {'name': 'Paris Gare du Nord Souterrain',\n       'links': [],\n       'coord': {'lat': '48.880185', 'lon': '2.355151'},\n       'label': 'Paris Gare du Nord Souterrain (Paris)',\n       'equipments': [],\n       'administrative_regions': [{'insee': '75056',\n         'name': 'Paris',\n         'level': 8,\n         'coord': {'lat': '48.8566969', 'lon': '2.3514616'},\n         'label': 'Paris (75000-75116)',\n         'id': 'admin:fr:75056',\n         'zip_code': '75000;75116'}],\n       'id': 'stop_point:SNCF:87271023:RapidTransit',\n       'stop_area': {'codes': [{'type': 'secondary_id',\n          'value': 'SNCF:87271023'},\n         {'type': 'secondary_id', 'value': 'SNCF:87271031'},\n         {'type': 'source', 'value': '87271007'},\n         {'type': 'source', 'value': '87271023'},\n         {'type': 'source', 'value': '87271031'},\n         {'type': 'uic', 'value': '87271007'},\n         {'type': 'uic', 'value': '87271023'},\n         {'type': 'uic', 'value': '87271031'}],\n        'name': 'Paris Gare du Nord',\n        'links': [],\n        'coord': {'lat': '48.880136', 'lon': '2.354851'},\n        'label': 'Paris Gare du Nord (Paris)',\n        'timezone': 'Europe/Paris',\n        'id': 'stop_area:SNCF:87271007'}},\n      'quality': 0,\n      'name': 'Paris Gare du Nord Souterrain (Paris)',\n      'id': 'stop_point:SNCF:87271023:RapidTransit'},\n     'departure_date_time': '20220703T185300',\n     'geojson': {'type': 'LineString',\n      'properties': [{'length': 22}],\n      'coordinates': [[2.354851, 48.880136], [2.355151, 48.880185]]},\n     'duration': 0,\n     'type': 'crow_fly',\n     'id': '5Wt9SWzrduJMXntsn2qz9H_0',\n     'mode': 'walking'},\n    {'from': {'embedded_type': 'stop_point',\n      'stop_point': {'name': 'Paris Gare du Nord Souterrain',\n       'links': [],\n       'coord': {'lat': '48.880185', 'lon': '2.355151'},\n       'label': 'Paris Gare du Nord Souterrain (Paris)',\n       'equipments': [],\n       'administrative_regions': [{'insee': '75056',\n         'name': 'Paris',\n         'level': 8,\n         'coord': {'lat': '48.8566969', 'lon': '2.3514616'},\n         'label': 'Paris (75000-75116)',\n         'id': 'admin:fr:75056',\n         'zip_code': '75000;75116'}],\n       'id': 'stop_point:SNCF:87271023:RapidTransit',\n       'stop_area': {'codes': [{'type': 'secondary_id',\n          'value': 'SNCF:87271023'},\n         {'type': 'secondary_id', 'value': 'SNCF:87271031'},\n         {'type': 'source', 'value': '87271007'},\n         {'type': 'source', 'value': '87271023'},\n         {'type': 'source', 'value': '87271031'},\n         {'type': 'uic', 'value': '87271007'},\n         {'type': 'uic', 'value': '87271023'},\n         {'type': 'uic', 'value': '87271031'}],\n        'name': 'Paris Gare du Nord',\n        'links': [],\n        'coord': {'lat': '48.880136', 'lon': '2.354851'},\n        'label': 'Paris Gare du Nord (Paris)',\n        'timezone': 'Europe/Paris',\n        'id': 'stop_area:SNCF:87271007'}},\n      'quality': 0,\n      'name': 'Paris Gare du Nord Souterrain (Paris)',\n      'id': 'stop_point:SNCF:87271023:RapidTransit'},\n     'links': [{'type': 'vehicle_journey',\n       'id': 'vehicle_journey:SNCF:2022-07-03:126708-126709:1187:RapidTransit'},\n      {'type': 'line', 'id': 'line:SNCF:D'},\n      {'type': 'route', 'id': 'route:SNCF:D'},\n      {'type': 'commercial_mode', 'id': 'commercial_mode:TNRER'},\n      {'type': 'physical_mode', 'id': 'physical_mode:RapidTransit'},\n      {'type': 'network', 'id': 'network:SNCF:TNRER'}],\n     'arrival_date_time': '20220703T185700',\n     'additional_informations': ['regular'],\n     'co2_emission': {'value': 30.51048, 'unit': 'gEC'},\n     'display_informations': {'direction': 'Villiers-le-Bel - Gonesse (Arnouville)',\n      'code': 'D',\n      'description': '',\n      'links': [{'internal': True,\n        'type': 'stop_area',\n        'id': 'stop_area:SNCF:87681007',\n        'rel': 'terminus',\n        'templated': False}],\n      'color': '5E9620',\n      'physical_mode': 'RER / Transilien',\n      'headsign': 'VOPA',\n      'commercial_mode': 'RER',\n      'equipments': [],\n      'trip_short_name': '126708-126709',\n      'label': 'D',\n      'text_color': 'FFFFFF',\n      'network': 'RER',\n      'name': 'D'},\n     'to': {'embedded_type': 'stop_point',\n      'stop_point': {'name': 'Stade de France Saint-Denis',\n       'links': [],\n       'coord': {'lat': '48.91779', 'lon': '2.35134'},\n       'label': 'Stade de France Saint-Denis (Saint-Denis)',\n       'equipments': [],\n       'administrative_regions': [{'insee': '93066',\n         'name': 'Saint-Denis',\n         'level': 8,\n         'coord': {'lat': '48.935773', 'lon': '2.3580232'},\n         'label': 'Saint-Denis (93200)',\n         'id': 'admin:fr:93066',\n         'zip_code': '93200'}],\n       'id': 'stop_point:SNCF:87164780:RapidTransit',\n       'stop_area': {'codes': [{'type': 'source', 'value': '87164780'},\n         {'type': 'uic', 'value': '87164780'}],\n        'name': 'Stade de France Saint-Denis',\n        'links': [],\n        'coord': {'lat': '48.91779', 'lon': '2.35134'},\n        'label': 'Stade de France Saint-Denis (Saint-Denis)',\n        'timezone': 'Europe/Paris',\n        'id': 'stop_area:SNCF:87164780'}},\n      'quality': 0,\n      'name': 'Stade de France Saint-Denis (Saint-Denis)',\n      'id': 'stop_point:SNCF:87164780:RapidTransit'},\n     'base_arrival_date_time': '20220703T185700',\n     'base_departure_date_time': '20220703T185300',\n     'departure_date_time': '20220703T185300',\n     'geojson': {'type': 'LineString',\n      'properties': [{'length': 4191}],\n      'coordinates': [[2.355151, 48.880185], [2.35134, 48.91779]]},\n     'duration': 240,\n     'type': 'public_transport',\n     'id': 'section_0_0',\n     'data_freshness': 'base_schedule',\n     'stop_date_times': [{'stop_point': {'name': 'Paris Gare du Nord Souterrain',\n        'links': [],\n        'coord': {'lat': '48.880185', 'lon': '2.355151'},\n        'label': 'Paris Gare du Nord Souterrain (Paris)',\n        'equipments': [],\n        'id': 'stop_point:SNCF:87271023:RapidTransit'},\n       'links': [],\n       'arrival_date_time': '20220703T185130',\n       'additional_informations': [],\n       'departure_date_time': '20220703T185300',\n       'base_arrival_date_time': '20220703T185130',\n       'base_departure_date_time': '20220703T185300'},\n      {'stop_point': {'name': 'Stade de France Saint-Denis',\n        'links': [],\n        'coord': {'lat': '48.91779', 'lon': '2.35134'},\n        'label': 'Stade de France Saint-Denis (Saint-Denis)',\n        'equipments': [],\n        'id': 'stop_point:SNCF:87164780:RapidTransit'},\n       'links': [],\n       'arrival_date_time': '20220703T185700',\n       'additional_informations': [],\n       'departure_date_time': '20220703T185800',\n       'base_arrival_date_time': '20220703T185700',\n       'base_departure_date_time': '20220703T185800'}]},\n    {'from': {'embedded_type': 'stop_point',\n      'stop_point': {'name': 'Stade de France Saint-Denis',\n       'links': [],\n       'coord': {'lat': '48.91779', 'lon': '2.35134'},\n       'label': 'Stade de France Saint-Denis (Saint-Denis)',\n       'equipments': [],\n       'administrative_regions': [{'insee': '93066',\n         'name': 'Saint-Denis',\n         'level': 8,\n         'coord': {'lat': '48.935773', 'lon': '2.3580232'},\n         'label': 'Saint-Denis (93200)',\n         'id': 'admin:fr:93066',\n         'zip_code': '93200'}],\n       'id': 'stop_point:SNCF:87164780:RapidTransit',\n       'stop_area': {'codes': [{'type': 'source', 'value': '87164780'},\n         {'type': 'uic', 'value': '87164780'}],\n        'name': 'Stade de France Saint-Denis',\n        'links': [],\n        'coord': {'lat': '48.91779', 'lon': '2.35134'},\n        'label': 'Stade de France Saint-Denis (Saint-Denis)',\n        'timezone': 'Europe/Paris',\n        'id': 'stop_area:SNCF:87164780'}},\n      'quality': 0,\n      'name': 'Stade de France Saint-Denis (Saint-Denis)',\n      'id': 'stop_point:SNCF:87164780:RapidTransit'},\n     'links': [],\n     'arrival_date_time': '20220703T190200',\n     'co2_emission': {'value': 0.0, 'unit': ''},\n     'to': {'embedded_type': 'stop_point',\n      'stop_point': {'name': 'Stade de France Saint-Denis',\n       'links': [],\n       'coord': {'lat': '48.91779', 'lon': '2.35134'},\n       'label': 'Stade de France Saint-Denis (Saint-Denis)',\n       'equipments': [],\n       'administrative_regions': [{'insee': '93066',\n         'name': 'Saint-Denis',\n         'level': 8,\n         'coord': {'lat': '48.935773', 'lon': '2.3580232'},\n         'label': 'Saint-Denis (93200)',\n         'id': 'admin:fr:93066',\n         'zip_code': '93200'}],\n       'id': 'stop_point:SNCF:87164780:Bus',\n       'stop_area': {'codes': [{'type': 'source', 'value': '87164780'},\n         {'type': 'uic', 'value': '87164780'}],\n        'name': 'Stade de France Saint-Denis',\n        'links': [],\n        'coord': {'lat': '48.91779', 'lon': '2.35134'},\n        'label': 'Stade de France Saint-Denis (Saint-Denis)',\n        'timezone': 'Europe/Paris',\n        'id': 'stop_area:SNCF:87164780'}},\n      'quality': 0,\n      'name': 'Stade de France Saint-Denis (Saint-Denis)',\n      'id': 'stop_point:SNCF:87164780:Bus'},\n     'departure_date_time': '20220703T185700',\n     'geojson': {'type': 'LineString',\n      'properties': [{'length': 0}],\n      'coordinates': [[2.35134, 48.91779], [2.35134, 48.91779]]},\n     'duration': 300,\n     'transfer_type': 'walking',\n     'type': 'transfer',\n     'id': 'section_1_0'},\n    {'links': [],\n     'arrival_date_time': '20220703T190500',\n     'co2_emission': {'value': 0.0, 'unit': ''},\n     'departure_date_time': '20220703T190200',\n     'duration': 180,\n     'type': 'waiting',\n     'id': 'section_2_0'},\n    {'from': {'embedded_type': 'stop_point',\n      'stop_point': {'name': 'Stade de France Saint-Denis',\n       'links': [],\n       'coord': {'lat': '48.91779', 'lon': '2.35134'},\n       'label': 'Stade de France Saint-Denis (Saint-Denis)',\n       'equipments': [],\n       'administrative_regions': [{'insee': '93066',\n         'name': 'Saint-Denis',\n         'level': 8,\n         'coord': {'lat': '48.935773', 'lon': '2.3580232'},\n         'label': 'Saint-Denis (93200)',\n         'id': 'admin:fr:93066',\n         'zip_code': '93200'}],\n       'id': 'stop_point:SNCF:87164780:Bus',\n       'stop_area': {'codes': [{'type': 'source', 'value': '87164780'},\n         {'type': 'uic', 'value': '87164780'}],\n        'name': 'Stade de France Saint-Denis',\n        'links': [],\n        'coord': {'lat': '48.91779', 'lon': '2.35134'},\n        'label': 'Stade de France Saint-Denis (Saint-Denis)',\n        'timezone': 'Europe/Paris',\n        'id': 'stop_area:SNCF:87164780'}},\n      'quality': 0,\n      'name': 'Stade de France Saint-Denis (Saint-Denis)',\n      'id': 'stop_point:SNCF:87164780:Bus'},\n     'links': [{'type': 'vehicle_journey',\n       'id': 'vehicle_journey:SNCF:2022-07-03:12265203:1187:Bus'},\n      {'type': 'line', 'id': 'line:SNCF:59'},\n      {'type': 'route', 'id': 'route:SNCF:59'},\n      {'type': 'commercial_mode', 'id': 'commercial_mode:TN'},\n      {'type': 'physical_mode', 'id': 'physical_mode:Bus'},\n      {'type': 'network', 'id': 'network:SNCF:TN'}],\n     'arrival_date_time': '20220703T195500',\n     'additional_informations': ['regular'],\n     'co2_emission': {'value': 1395.24, 'unit': 'gEC'},\n     'display_informations': {'direction': 'Aéroport Charles de Gaulle 1 (Tremblay-en-France)',\n      'code': 'B',\n      'description': '',\n      'links': [{'internal': True,\n        'type': 'stop_area',\n        'id': 'stop_area:SNCF:87164780',\n        'rel': 'terminus',\n        'templated': False}],\n      'color': '',\n      'physical_mode': 'Bus',\n      'headsign': '12265203',\n      'commercial_mode': 'TRANSILIEN',\n      'equipments': [],\n      'trip_short_name': '12265203',\n      'label': 'B',\n      'text_color': '',\n      'network': 'TRANSILIEN',\n      'name': 'B Bus'},\n     'to': {'embedded_type': 'stop_point',\n      'stop_point': {'name': 'Aulnay-sous-Bois',\n       'links': [],\n       'coord': {'lat': '48.931869', 'lon': '2.494379'},\n       'label': 'Aulnay-sous-Bois (Aulnay-sous-Bois)',\n       'equipments': [],\n       'administrative_regions': [{'insee': '93005',\n         'name': 'Aulnay-sous-Bois',\n         'level': 8,\n         'coord': {'lat': '48.934231', 'lon': '2.499789'},\n         'label': 'Aulnay-sous-Bois (93600)',\n         'id': 'admin:fr:93005',\n         'zip_code': '93600'}],\n       'id': 'stop_point:SNCF:87271411:Bus',\n       'stop_area': {'codes': [{'type': 'source', 'value': '87271411'},\n         {'type': 'uic', 'value': '87271411'}],\n        'name': 'Aulnay-sous-Bois',\n        'links': [],\n        'coord': {'lat': '48.931869', 'lon': '2.494379'},\n        'label': 'Aulnay-sous-Bois (Aulnay-sous-Bois)',\n        'timezone': 'Europe/Paris',\n        'id': 'stop_area:SNCF:87271411'}},\n      'quality': 0,\n      'name': 'Aulnay-sous-Bois (Aulnay-sous-Bois)',\n      'id': 'stop_point:SNCF:87271411:Bus'},\n     'base_arrival_date_time': '20220703T195500',\n     'base_departure_date_time': '20220703T190500',\n     'departure_date_time': '20220703T190500',\n     'geojson': {'type': 'LineString',\n      'properties': [{'length': 10570}],\n      'coordinates': [[2.35134, 48.91779], [2.494379, 48.931869]]},\n     'duration': 3000,\n     'type': 'public_transport',\n     'id': 'section_3_0',\n     'data_freshness': 'base_schedule',\n     'stop_date_times': [{'stop_point': {'name': 'Stade de France Saint-Denis',\n        'links': [],\n        'coord': {'lat': '48.91779', 'lon': '2.35134'},\n        'label': 'Stade de France Saint-Denis (Saint-Denis)',\n        'equipments': [],\n        'id': 'stop_point:SNCF:87164780:Bus'},\n       'links': [],\n       'arrival_date_time': '20220703T190500',\n       'additional_informations': [],\n       'departure_date_time': '20220703T190500',\n       'base_arrival_date_time': '20220703T190500',\n       'base_departure_date_time': '20220703T190500'},\n      {'stop_point': {'name': 'Aulnay-sous-Bois',\n        'links': [],\n        'coord': {'lat': '48.931869', 'lon': '2.494379'},\n        'label': 'Aulnay-sous-Bois (Aulnay-sous-Bois)',\n        'equipments': [],\n        'id': 'stop_point:SNCF:87271411:Bus'},\n       'links': [],\n       'arrival_date_time': '20220703T195500',\n       'additional_informations': [],\n       'departure_date_time': '20220703T195500',\n       'base_arrival_date_time': '20220703T195500',\n       'base_departure_date_time': '20220703T195500'}]},\n    {'links': [],\n     'arrival_date_time': '20220703T200000',\n     'co2_emission': {'value': 0.0, 'unit': ''},\n     'departure_date_time': '20220703T195500',\n     'duration': 300,\n     'type': 'waiting',\n     'id': 'section_4_0'},\n    {'from': {'embedded_type': 'stop_point',\n      'stop_point': {'name': 'Aulnay-sous-Bois',\n       'links': [],\n       'coord': {'lat': '48.931869', 'lon': '2.494379'},\n       'label': 'Aulnay-sous-Bois (Aulnay-sous-Bois)',\n       'equipments': [],\n       'administrative_regions': [{'insee': '93005',\n         'name': 'Aulnay-sous-Bois',\n         'level': 8,\n         'coord': {'lat': '48.934231', 'lon': '2.499789'},\n         'label': 'Aulnay-sous-Bois (93600)',\n         'id': 'admin:fr:93005',\n         'zip_code': '93600'}],\n       'id': 'stop_point:SNCF:87271411:Bus',\n       'stop_area': {'codes': [{'type': 'source', 'value': '87271411'},\n         {'type': 'uic', 'value': '87271411'}],\n        'name': 'Aulnay-sous-Bois',\n        'links': [],\n        'coord': {'lat': '48.931869', 'lon': '2.494379'},\n        'label': 'Aulnay-sous-Bois (Aulnay-sous-Bois)',\n        'timezone': 'Europe/Paris',\n        'id': 'stop_area:SNCF:87271411'}},\n      'quality': 0,\n      'name': 'Aulnay-sous-Bois (Aulnay-sous-Bois)',\n      'id': 'stop_point:SNCF:87271411:Bus'},\n     'links': [{'type': 'vehicle_journey',\n       'id': 'vehicle_journey:SNCF:2022-07-03:12264948:1187:Bus'},\n      {'type': 'line', 'id': 'line:SNCF:59'},\n      {'type': 'route', 'id': 'route:SNCF:59'},\n      {'type': 'commercial_mode', 'id': 'commercial_mode:TN'},\n      {'type': 'physical_mode', 'id': 'physical_mode:Bus'},\n      {'type': 'network', 'id': 'network:SNCF:TN'}],\n     'arrival_date_time': '20220703T203500',\n     'additional_informations': ['regular'],\n     'co2_emission': {'value': 1074.48, 'unit': 'gEC'},\n     'display_informations': {'direction': 'La Plaine Stade France (Saint-Denis)',\n      'code': 'B',\n      'description': '',\n      'links': [{'internal': True,\n        'type': 'stop_area',\n        'id': 'stop_area:SNCF:87164780',\n        'rel': 'terminus',\n        'templated': False}],\n      'color': '',\n      'physical_mode': 'Bus',\n      'headsign': '12264948',\n      'commercial_mode': 'TRANSILIEN',\n      'equipments': [],\n      'trip_short_name': '12264948',\n      'label': 'B',\n      'text_color': '',\n      'network': 'TRANSILIEN',\n      'name': 'B Bus'},\n     'to': {'embedded_type': 'stop_point',\n      'stop_point': {'name': 'La Courneuve - Aubervilliers',\n       'links': [],\n       'coord': {'lat': '48.9242', 'lon': '2.38443'},\n       'label': 'La Courneuve - Aubervilliers (La Courneuve)',\n       'equipments': [],\n       'administrative_regions': [{'insee': '93027',\n         'name': 'La Courneuve',\n         'level': 8,\n         'coord': {'lat': '48.9267236', 'lon': '2.3896123'},\n         'label': 'La Courneuve (93120)',\n         'id': 'admin:fr:93027',\n         'zip_code': '93120'}],\n       'id': 'stop_point:SNCF:87271304:Bus',\n       'stop_area': {'codes': [{'type': 'source', 'value': '87271304'},\n         {'type': 'uic', 'value': '87271304'}],\n        'name': 'La Courneuve - Aubervilliers',\n        'links': [],\n        'coord': {'lat': '48.9242', 'lon': '2.38443'},\n        'label': 'La Courneuve - Aubervilliers (La Courneuve)',\n        'timezone': 'Europe/Paris',\n        'id': 'stop_area:SNCF:87271304'}},\n      'quality': 0,\n      'name': 'La Courneuve - Aubervilliers (La Courneuve)',\n      'id': 'stop_point:SNCF:87271304:Bus'},\n     'base_arrival_date_time': '20220703T203500',\n     'base_departure_date_time': '20220703T200000',\n     'departure_date_time': '20220703T200000',\n     'geojson': {'type': 'LineString',\n      'properties': [{'length': 8140}],\n      'coordinates': [[2.494379, 48.931869],\n       [2.477409, 48.932484],\n       [2.45497, 48.93298],\n       [2.425755, 48.930926],\n       [2.38443, 48.9242]]},\n     'duration': 2100,\n     'type': 'public_transport',\n     'id': 'section_5_0',\n     'data_freshness': 'base_schedule',\n     'stop_date_times': [{'stop_point': {'name': 'Aulnay-sous-Bois',\n        'links': [],\n        'coord': {'lat': '48.931869', 'lon': '2.494379'},\n        'label': 'Aulnay-sous-Bois (Aulnay-sous-Bois)',\n        'equipments': [],\n        'id': 'stop_point:SNCF:87271411:Bus'},\n       'links': [],\n       'arrival_date_time': '20220703T200000',\n       'additional_informations': [],\n       'departure_date_time': '20220703T200000',\n       'base_arrival_date_time': '20220703T200000',\n       'base_departure_date_time': '20220703T200000'},\n      {'stop_point': {'name': 'Le Blanc-Mesnil',\n        'links': [],\n        'coord': {'lat': '48.932484', 'lon': '2.477409'},\n        'label': 'Le Blanc-Mesnil (Le Blanc-Mesnil)',\n        'equipments': [],\n        'id': 'stop_point:SNCF:87271478:Bus'},\n       'links': [],\n       'arrival_date_time': '20220703T201000',\n       'additional_informations': [],\n       'departure_date_time': '20220703T201000',\n       'base_arrival_date_time': '20220703T201000',\n       'base_departure_date_time': '20220703T201000'},\n      {'stop_point': {'name': 'Drancy',\n        'links': [],\n        'coord': {'lat': '48.93298', 'lon': '2.45497'},\n        'label': 'Drancy (Drancy)',\n        'equipments': [],\n        'id': 'stop_point:SNCF:87271403:Bus'},\n       'links': [],\n       'arrival_date_time': '20220703T201500',\n       'additional_informations': [],\n       'departure_date_time': '20220703T201500',\n       'base_arrival_date_time': '20220703T201500',\n       'base_departure_date_time': '20220703T201500'},\n      {'stop_point': {'name': 'Le Bourget',\n        'links': [],\n        'coord': {'lat': '48.930926', 'lon': '2.425755'},\n        'label': 'Le Bourget (Le Bourget)',\n        'equipments': [],\n        'id': 'stop_point:SNCF:87271395:Bus'},\n       'links': [],\n       'arrival_date_time': '20220703T202000',\n       'additional_informations': [],\n       'departure_date_time': '20220703T202000',\n       'base_arrival_date_time': '20220703T202000',\n       'base_departure_date_time': '20220703T202000'},\n      {'stop_point': {'name': 'La Courneuve - Aubervilliers',\n        'links': [],\n        'coord': {'lat': '48.9242', 'lon': '2.38443'},\n        'label': 'La Courneuve - Aubervilliers (La Courneuve)',\n        'equipments': [],\n        'id': 'stop_point:SNCF:87271304:Bus'},\n       'links': [],\n       'arrival_date_time': '20220703T203500',\n       'additional_informations': [],\n       'departure_date_time': '20220703T203500',\n       'base_arrival_date_time': '20220703T203500',\n       'base_departure_date_time': '20220703T203500'}]},\n    {'from': {'embedded_type': 'stop_point',\n      'stop_point': {'name': 'La Courneuve - Aubervilliers',\n       'links': [],\n       'coord': {'lat': '48.9242', 'lon': '2.38443'},\n       'label': 'La Courneuve - Aubervilliers (La Courneuve)',\n       'equipments': [],\n       'administrative_regions': [{'insee': '93027',\n         'name': 'La Courneuve',\n         'level': 8,\n         'coord': {'lat': '48.9267236', 'lon': '2.3896123'},\n         'label': 'La Courneuve (93120)',\n         'id': 'admin:fr:93027',\n         'zip_code': '93120'}],\n       'id': 'stop_point:SNCF:87271304:Bus',\n       'stop_area': {'codes': [{'type': 'source', 'value': '87271304'},\n         {'type': 'uic', 'value': '87271304'}],\n        'name': 'La Courneuve - Aubervilliers',\n        'links': [],\n        'coord': {'lat': '48.9242', 'lon': '2.38443'},\n        'label': 'La Courneuve - Aubervilliers (La Courneuve)',\n        'timezone': 'Europe/Paris',\n        'id': 'stop_area:SNCF:87271304'}},\n      'quality': 0,\n      'name': 'La Courneuve - Aubervilliers (La Courneuve)',\n      'id': 'stop_point:SNCF:87271304:Bus'},\n     'links': [],\n     'arrival_date_time': '20220703T203500',\n     'co2_emission': {'value': 0.0, 'unit': ''},\n     'to': {'embedded_type': 'stop_area',\n      'stop_area': {'codes': [{'type': 'source', 'value': '87271304'},\n        {'type': 'uic', 'value': '87271304'}],\n       'name': 'La Courneuve - Aubervilliers',\n       'links': [],\n       'coord': {'lat': '48.9242', 'lon': '2.38443'},\n       'label': 'La Courneuve - Aubervilliers (La Courneuve)',\n       'administrative_regions': [{'insee': '93027',\n         'name': 'La Courneuve',\n         'level': 8,\n         'coord': {'lat': '48.9267236', 'lon': '2.3896123'},\n         'label': 'La Courneuve (93120)',\n         'id': 'admin:fr:93027',\n         'zip_code': '93120'}],\n       'timezone': 'Europe/Paris',\n       'id': 'stop_area:SNCF:87271304'},\n      'quality': 0,\n      'name': 'La Courneuve - Aubervilliers (La Courneuve)',\n      'id': 'stop_area:SNCF:87271304'},\n     'departure_date_time': '20220703T203500',\n     'geojson': {'type': 'LineString',\n      'properties': [{'length': 0}],\n      'coordinates': [[2.38443, 48.9242], [2.38443, 48.9242]]},\n     'duration': 0,\n     'type': 'crow_fly',\n     'id': 'k7caLrjpqC5N2L9yua9Lkd_0',\n     'mode': 'walking'}]}],\n 'disruptions': [],\n 'notes': [],\n 'feed_publishers': [{'url': '',\n   'id': 'sncf',\n   'license': 'Private (unspecified)',\n   'name': 'SNCF PIV Production'},\n  {'url': '',\n   'id': 'SNCF:sncf-piv',\n   'license': 'Private (unspecified)',\n   'name': 'SNCF PIV Production'}],\n 'context': {'timezone': 'Europe/Paris',\n  'current_datetime': '20220703T184752',\n  'car_direct_path': {'co2_emission': {'value': 1330.6818383601,\n    'unit': 'gEC'}}},\n 'exceptions': []}"
     },
     "execution_count": 143,
     "metadata": {},
     "output_type": "execute_result"
    }
   ],
   "source": [
    "js"
   ],
   "metadata": {
    "collapsed": false,
    "pycharm": {
     "name": "#%%\n"
    }
   }
  },
  {
   "cell_type": "code",
   "execution_count": 144,
   "outputs": [
    {
     "data": {
      "text/plain": "[{'status': '',\n  'distances': {'taxi': 0,\n   'car': 0,\n   'walking': 0,\n   'bike': 0,\n   'ridesharing': 0},\n  'links': [{'href': 'https://api.sncf.com/v1/coverage/sncf/journeys?first_section_mode%5B%5D=walking&direct_path=none&to=stop_area%3ASNCF%3A87271304&is_journey_schedules=True&datetime=20220703T185300&last_section_mode%5B%5D=walking&min_nb_journeys=5&min_nb_transfers=2&forbidden_uris%5B%5D=line%3ASNCF%3AB&allowed_id%5B%5D=stop_point%3ASNCF%3A87271411%3ABus&allowed_id%5B%5D=stop_point%3ASNCF%3A87271023%3ARapidTransit&allowed_id%5B%5D=stop_point%3ASNCF%3A87164780%3ABus&allowed_id%5B%5D=stop_point%3ASNCF%3A87164780%3ARapidTransit&allowed_id%5B%5D=stop_point%3ASNCF%3A87271304%3ABus&from=stop_area%3ASNCF%3A87271007',\n    'type': 'journeys',\n    'rel': 'same_journey_schedules',\n    'templated': False},\n   {'href': 'https://api.sncf.com/v1/coverage/sncf/journeys?count=1&first_section_mode%5B%5D=walking&direct_path=none&to=stop_area%3ASNCF%3A87271304&is_journey_schedules=True&datetime=20220703T185300&last_section_mode%5B%5D=walking&min_nb_journeys=1&min_nb_transfers=2&forbidden_uris%5B%5D=line%3ASNCF%3AB&allowed_id%5B%5D=stop_point%3ASNCF%3A87271411%3ABus&allowed_id%5B%5D=stop_point%3ASNCF%3A87271023%3ARapidTransit&allowed_id%5B%5D=stop_point%3ASNCF%3A87164780%3ABus&allowed_id%5B%5D=stop_point%3ASNCF%3A87164780%3ARapidTransit&allowed_id%5B%5D=stop_point%3ASNCF%3A87271304%3ABus&from=stop_area%3ASNCF%3A87271007',\n    'type': 'journeys',\n    'rel': 'this_journey',\n    'templated': False}],\n  'tags': ['walking'],\n  'nb_transfers': 2,\n  'durations': {'taxi': 0,\n   'walking': 300,\n   'car': 0,\n   'ridesharing': 0,\n   'bike': 0,\n   'total': 6120},\n  'arrival_date_time': '20220703T203500',\n  'calendars': [{'active_periods': [{'begin': '20220703', 'end': '20220704'}],\n    'week_pattern': {'monday': False,\n     'tuesday': False,\n     'friday': False,\n     'wednesday': False,\n     'thursday': False,\n     'sunday': True,\n     'saturday': False}}],\n  'departure_date_time': '20220703T185300',\n  'requested_date_time': '20220703T184752',\n  'fare': {'found': False, 'total': {'value': '0.0'}, 'links': []},\n  'co2_emission': {'value': 2500.23048, 'unit': 'gEC'},\n  'type': 'best',\n  'duration': 6120,\n  'sections': [{'from': {'embedded_type': 'stop_area',\n     'stop_area': {'codes': [{'type': 'secondary_id',\n        'value': 'SNCF:87271023'},\n       {'type': 'secondary_id', 'value': 'SNCF:87271031'},\n       {'type': 'source', 'value': '87271007'},\n       {'type': 'source', 'value': '87271023'},\n       {'type': 'source', 'value': '87271031'},\n       {'type': 'uic', 'value': '87271007'},\n       {'type': 'uic', 'value': '87271023'},\n       {'type': 'uic', 'value': '87271031'}],\n      'name': 'Paris Gare du Nord',\n      'links': [],\n      'coord': {'lat': '48.880136', 'lon': '2.354851'},\n      'label': 'Paris Gare du Nord (Paris)',\n      'administrative_regions': [{'insee': '75056',\n        'name': 'Paris',\n        'level': 8,\n        'coord': {'lat': '48.8566969', 'lon': '2.3514616'},\n        'label': 'Paris (75000-75116)',\n        'id': 'admin:fr:75056',\n        'zip_code': '75000;75116'}],\n      'timezone': 'Europe/Paris',\n      'id': 'stop_area:SNCF:87271007'},\n     'quality': 0,\n     'name': 'Paris Gare du Nord (Paris)',\n     'id': 'stop_area:SNCF:87271007'},\n    'links': [],\n    'arrival_date_time': '20220703T185300',\n    'co2_emission': {'value': 0.0, 'unit': ''},\n    'to': {'embedded_type': 'stop_point',\n     'stop_point': {'name': 'Paris Gare du Nord Souterrain',\n      'links': [],\n      'coord': {'lat': '48.880185', 'lon': '2.355151'},\n      'label': 'Paris Gare du Nord Souterrain (Paris)',\n      'equipments': [],\n      'administrative_regions': [{'insee': '75056',\n        'name': 'Paris',\n        'level': 8,\n        'coord': {'lat': '48.8566969', 'lon': '2.3514616'},\n        'label': 'Paris (75000-75116)',\n        'id': 'admin:fr:75056',\n        'zip_code': '75000;75116'}],\n      'id': 'stop_point:SNCF:87271023:RapidTransit',\n      'stop_area': {'codes': [{'type': 'secondary_id',\n         'value': 'SNCF:87271023'},\n        {'type': 'secondary_id', 'value': 'SNCF:87271031'},\n        {'type': 'source', 'value': '87271007'},\n        {'type': 'source', 'value': '87271023'},\n        {'type': 'source', 'value': '87271031'},\n        {'type': 'uic', 'value': '87271007'},\n        {'type': 'uic', 'value': '87271023'},\n        {'type': 'uic', 'value': '87271031'}],\n       'name': 'Paris Gare du Nord',\n       'links': [],\n       'coord': {'lat': '48.880136', 'lon': '2.354851'},\n       'label': 'Paris Gare du Nord (Paris)',\n       'timezone': 'Europe/Paris',\n       'id': 'stop_area:SNCF:87271007'}},\n     'quality': 0,\n     'name': 'Paris Gare du Nord Souterrain (Paris)',\n     'id': 'stop_point:SNCF:87271023:RapidTransit'},\n    'departure_date_time': '20220703T185300',\n    'geojson': {'type': 'LineString',\n     'properties': [{'length': 22}],\n     'coordinates': [[2.354851, 48.880136], [2.355151, 48.880185]]},\n    'duration': 0,\n    'type': 'crow_fly',\n    'id': '5Wt9SWzrduJMXntsn2qz9H_0',\n    'mode': 'walking'},\n   {'from': {'embedded_type': 'stop_point',\n     'stop_point': {'name': 'Paris Gare du Nord Souterrain',\n      'links': [],\n      'coord': {'lat': '48.880185', 'lon': '2.355151'},\n      'label': 'Paris Gare du Nord Souterrain (Paris)',\n      'equipments': [],\n      'administrative_regions': [{'insee': '75056',\n        'name': 'Paris',\n        'level': 8,\n        'coord': {'lat': '48.8566969', 'lon': '2.3514616'},\n        'label': 'Paris (75000-75116)',\n        'id': 'admin:fr:75056',\n        'zip_code': '75000;75116'}],\n      'id': 'stop_point:SNCF:87271023:RapidTransit',\n      'stop_area': {'codes': [{'type': 'secondary_id',\n         'value': 'SNCF:87271023'},\n        {'type': 'secondary_id', 'value': 'SNCF:87271031'},\n        {'type': 'source', 'value': '87271007'},\n        {'type': 'source', 'value': '87271023'},\n        {'type': 'source', 'value': '87271031'},\n        {'type': 'uic', 'value': '87271007'},\n        {'type': 'uic', 'value': '87271023'},\n        {'type': 'uic', 'value': '87271031'}],\n       'name': 'Paris Gare du Nord',\n       'links': [],\n       'coord': {'lat': '48.880136', 'lon': '2.354851'},\n       'label': 'Paris Gare du Nord (Paris)',\n       'timezone': 'Europe/Paris',\n       'id': 'stop_area:SNCF:87271007'}},\n     'quality': 0,\n     'name': 'Paris Gare du Nord Souterrain (Paris)',\n     'id': 'stop_point:SNCF:87271023:RapidTransit'},\n    'links': [{'type': 'vehicle_journey',\n      'id': 'vehicle_journey:SNCF:2022-07-03:126708-126709:1187:RapidTransit'},\n     {'type': 'line', 'id': 'line:SNCF:D'},\n     {'type': 'route', 'id': 'route:SNCF:D'},\n     {'type': 'commercial_mode', 'id': 'commercial_mode:TNRER'},\n     {'type': 'physical_mode', 'id': 'physical_mode:RapidTransit'},\n     {'type': 'network', 'id': 'network:SNCF:TNRER'}],\n    'arrival_date_time': '20220703T185700',\n    'additional_informations': ['regular'],\n    'co2_emission': {'value': 30.51048, 'unit': 'gEC'},\n    'display_informations': {'direction': 'Villiers-le-Bel - Gonesse (Arnouville)',\n     'code': 'D',\n     'description': '',\n     'links': [{'internal': True,\n       'type': 'stop_area',\n       'id': 'stop_area:SNCF:87681007',\n       'rel': 'terminus',\n       'templated': False}],\n     'color': '5E9620',\n     'physical_mode': 'RER / Transilien',\n     'headsign': 'VOPA',\n     'commercial_mode': 'RER',\n     'equipments': [],\n     'trip_short_name': '126708-126709',\n     'label': 'D',\n     'text_color': 'FFFFFF',\n     'network': 'RER',\n     'name': 'D'},\n    'to': {'embedded_type': 'stop_point',\n     'stop_point': {'name': 'Stade de France Saint-Denis',\n      'links': [],\n      'coord': {'lat': '48.91779', 'lon': '2.35134'},\n      'label': 'Stade de France Saint-Denis (Saint-Denis)',\n      'equipments': [],\n      'administrative_regions': [{'insee': '93066',\n        'name': 'Saint-Denis',\n        'level': 8,\n        'coord': {'lat': '48.935773', 'lon': '2.3580232'},\n        'label': 'Saint-Denis (93200)',\n        'id': 'admin:fr:93066',\n        'zip_code': '93200'}],\n      'id': 'stop_point:SNCF:87164780:RapidTransit',\n      'stop_area': {'codes': [{'type': 'source', 'value': '87164780'},\n        {'type': 'uic', 'value': '87164780'}],\n       'name': 'Stade de France Saint-Denis',\n       'links': [],\n       'coord': {'lat': '48.91779', 'lon': '2.35134'},\n       'label': 'Stade de France Saint-Denis (Saint-Denis)',\n       'timezone': 'Europe/Paris',\n       'id': 'stop_area:SNCF:87164780'}},\n     'quality': 0,\n     'name': 'Stade de France Saint-Denis (Saint-Denis)',\n     'id': 'stop_point:SNCF:87164780:RapidTransit'},\n    'base_arrival_date_time': '20220703T185700',\n    'base_departure_date_time': '20220703T185300',\n    'departure_date_time': '20220703T185300',\n    'geojson': {'type': 'LineString',\n     'properties': [{'length': 4191}],\n     'coordinates': [[2.355151, 48.880185], [2.35134, 48.91779]]},\n    'duration': 240,\n    'type': 'public_transport',\n    'id': 'section_0_0',\n    'data_freshness': 'base_schedule',\n    'stop_date_times': [{'stop_point': {'name': 'Paris Gare du Nord Souterrain',\n       'links': [],\n       'coord': {'lat': '48.880185', 'lon': '2.355151'},\n       'label': 'Paris Gare du Nord Souterrain (Paris)',\n       'equipments': [],\n       'id': 'stop_point:SNCF:87271023:RapidTransit'},\n      'links': [],\n      'arrival_date_time': '20220703T185130',\n      'additional_informations': [],\n      'departure_date_time': '20220703T185300',\n      'base_arrival_date_time': '20220703T185130',\n      'base_departure_date_time': '20220703T185300'},\n     {'stop_point': {'name': 'Stade de France Saint-Denis',\n       'links': [],\n       'coord': {'lat': '48.91779', 'lon': '2.35134'},\n       'label': 'Stade de France Saint-Denis (Saint-Denis)',\n       'equipments': [],\n       'id': 'stop_point:SNCF:87164780:RapidTransit'},\n      'links': [],\n      'arrival_date_time': '20220703T185700',\n      'additional_informations': [],\n      'departure_date_time': '20220703T185800',\n      'base_arrival_date_time': '20220703T185700',\n      'base_departure_date_time': '20220703T185800'}]},\n   {'from': {'embedded_type': 'stop_point',\n     'stop_point': {'name': 'Stade de France Saint-Denis',\n      'links': [],\n      'coord': {'lat': '48.91779', 'lon': '2.35134'},\n      'label': 'Stade de France Saint-Denis (Saint-Denis)',\n      'equipments': [],\n      'administrative_regions': [{'insee': '93066',\n        'name': 'Saint-Denis',\n        'level': 8,\n        'coord': {'lat': '48.935773', 'lon': '2.3580232'},\n        'label': 'Saint-Denis (93200)',\n        'id': 'admin:fr:93066',\n        'zip_code': '93200'}],\n      'id': 'stop_point:SNCF:87164780:RapidTransit',\n      'stop_area': {'codes': [{'type': 'source', 'value': '87164780'},\n        {'type': 'uic', 'value': '87164780'}],\n       'name': 'Stade de France Saint-Denis',\n       'links': [],\n       'coord': {'lat': '48.91779', 'lon': '2.35134'},\n       'label': 'Stade de France Saint-Denis (Saint-Denis)',\n       'timezone': 'Europe/Paris',\n       'id': 'stop_area:SNCF:87164780'}},\n     'quality': 0,\n     'name': 'Stade de France Saint-Denis (Saint-Denis)',\n     'id': 'stop_point:SNCF:87164780:RapidTransit'},\n    'links': [],\n    'arrival_date_time': '20220703T190200',\n    'co2_emission': {'value': 0.0, 'unit': ''},\n    'to': {'embedded_type': 'stop_point',\n     'stop_point': {'name': 'Stade de France Saint-Denis',\n      'links': [],\n      'coord': {'lat': '48.91779', 'lon': '2.35134'},\n      'label': 'Stade de France Saint-Denis (Saint-Denis)',\n      'equipments': [],\n      'administrative_regions': [{'insee': '93066',\n        'name': 'Saint-Denis',\n        'level': 8,\n        'coord': {'lat': '48.935773', 'lon': '2.3580232'},\n        'label': 'Saint-Denis (93200)',\n        'id': 'admin:fr:93066',\n        'zip_code': '93200'}],\n      'id': 'stop_point:SNCF:87164780:Bus',\n      'stop_area': {'codes': [{'type': 'source', 'value': '87164780'},\n        {'type': 'uic', 'value': '87164780'}],\n       'name': 'Stade de France Saint-Denis',\n       'links': [],\n       'coord': {'lat': '48.91779', 'lon': '2.35134'},\n       'label': 'Stade de France Saint-Denis (Saint-Denis)',\n       'timezone': 'Europe/Paris',\n       'id': 'stop_area:SNCF:87164780'}},\n     'quality': 0,\n     'name': 'Stade de France Saint-Denis (Saint-Denis)',\n     'id': 'stop_point:SNCF:87164780:Bus'},\n    'departure_date_time': '20220703T185700',\n    'geojson': {'type': 'LineString',\n     'properties': [{'length': 0}],\n     'coordinates': [[2.35134, 48.91779], [2.35134, 48.91779]]},\n    'duration': 300,\n    'transfer_type': 'walking',\n    'type': 'transfer',\n    'id': 'section_1_0'},\n   {'links': [],\n    'arrival_date_time': '20220703T190500',\n    'co2_emission': {'value': 0.0, 'unit': ''},\n    'departure_date_time': '20220703T190200',\n    'duration': 180,\n    'type': 'waiting',\n    'id': 'section_2_0'},\n   {'from': {'embedded_type': 'stop_point',\n     'stop_point': {'name': 'Stade de France Saint-Denis',\n      'links': [],\n      'coord': {'lat': '48.91779', 'lon': '2.35134'},\n      'label': 'Stade de France Saint-Denis (Saint-Denis)',\n      'equipments': [],\n      'administrative_regions': [{'insee': '93066',\n        'name': 'Saint-Denis',\n        'level': 8,\n        'coord': {'lat': '48.935773', 'lon': '2.3580232'},\n        'label': 'Saint-Denis (93200)',\n        'id': 'admin:fr:93066',\n        'zip_code': '93200'}],\n      'id': 'stop_point:SNCF:87164780:Bus',\n      'stop_area': {'codes': [{'type': 'source', 'value': '87164780'},\n        {'type': 'uic', 'value': '87164780'}],\n       'name': 'Stade de France Saint-Denis',\n       'links': [],\n       'coord': {'lat': '48.91779', 'lon': '2.35134'},\n       'label': 'Stade de France Saint-Denis (Saint-Denis)',\n       'timezone': 'Europe/Paris',\n       'id': 'stop_area:SNCF:87164780'}},\n     'quality': 0,\n     'name': 'Stade de France Saint-Denis (Saint-Denis)',\n     'id': 'stop_point:SNCF:87164780:Bus'},\n    'links': [{'type': 'vehicle_journey',\n      'id': 'vehicle_journey:SNCF:2022-07-03:12265203:1187:Bus'},\n     {'type': 'line', 'id': 'line:SNCF:59'},\n     {'type': 'route', 'id': 'route:SNCF:59'},\n     {'type': 'commercial_mode', 'id': 'commercial_mode:TN'},\n     {'type': 'physical_mode', 'id': 'physical_mode:Bus'},\n     {'type': 'network', 'id': 'network:SNCF:TN'}],\n    'arrival_date_time': '20220703T195500',\n    'additional_informations': ['regular'],\n    'co2_emission': {'value': 1395.24, 'unit': 'gEC'},\n    'display_informations': {'direction': 'Aéroport Charles de Gaulle 1 (Tremblay-en-France)',\n     'code': 'B',\n     'description': '',\n     'links': [{'internal': True,\n       'type': 'stop_area',\n       'id': 'stop_area:SNCF:87164780',\n       'rel': 'terminus',\n       'templated': False}],\n     'color': '',\n     'physical_mode': 'Bus',\n     'headsign': '12265203',\n     'commercial_mode': 'TRANSILIEN',\n     'equipments': [],\n     'trip_short_name': '12265203',\n     'label': 'B',\n     'text_color': '',\n     'network': 'TRANSILIEN',\n     'name': 'B Bus'},\n    'to': {'embedded_type': 'stop_point',\n     'stop_point': {'name': 'Aulnay-sous-Bois',\n      'links': [],\n      'coord': {'lat': '48.931869', 'lon': '2.494379'},\n      'label': 'Aulnay-sous-Bois (Aulnay-sous-Bois)',\n      'equipments': [],\n      'administrative_regions': [{'insee': '93005',\n        'name': 'Aulnay-sous-Bois',\n        'level': 8,\n        'coord': {'lat': '48.934231', 'lon': '2.499789'},\n        'label': 'Aulnay-sous-Bois (93600)',\n        'id': 'admin:fr:93005',\n        'zip_code': '93600'}],\n      'id': 'stop_point:SNCF:87271411:Bus',\n      'stop_area': {'codes': [{'type': 'source', 'value': '87271411'},\n        {'type': 'uic', 'value': '87271411'}],\n       'name': 'Aulnay-sous-Bois',\n       'links': [],\n       'coord': {'lat': '48.931869', 'lon': '2.494379'},\n       'label': 'Aulnay-sous-Bois (Aulnay-sous-Bois)',\n       'timezone': 'Europe/Paris',\n       'id': 'stop_area:SNCF:87271411'}},\n     'quality': 0,\n     'name': 'Aulnay-sous-Bois (Aulnay-sous-Bois)',\n     'id': 'stop_point:SNCF:87271411:Bus'},\n    'base_arrival_date_time': '20220703T195500',\n    'base_departure_date_time': '20220703T190500',\n    'departure_date_time': '20220703T190500',\n    'geojson': {'type': 'LineString',\n     'properties': [{'length': 10570}],\n     'coordinates': [[2.35134, 48.91779], [2.494379, 48.931869]]},\n    'duration': 3000,\n    'type': 'public_transport',\n    'id': 'section_3_0',\n    'data_freshness': 'base_schedule',\n    'stop_date_times': [{'stop_point': {'name': 'Stade de France Saint-Denis',\n       'links': [],\n       'coord': {'lat': '48.91779', 'lon': '2.35134'},\n       'label': 'Stade de France Saint-Denis (Saint-Denis)',\n       'equipments': [],\n       'id': 'stop_point:SNCF:87164780:Bus'},\n      'links': [],\n      'arrival_date_time': '20220703T190500',\n      'additional_informations': [],\n      'departure_date_time': '20220703T190500',\n      'base_arrival_date_time': '20220703T190500',\n      'base_departure_date_time': '20220703T190500'},\n     {'stop_point': {'name': 'Aulnay-sous-Bois',\n       'links': [],\n       'coord': {'lat': '48.931869', 'lon': '2.494379'},\n       'label': 'Aulnay-sous-Bois (Aulnay-sous-Bois)',\n       'equipments': [],\n       'id': 'stop_point:SNCF:87271411:Bus'},\n      'links': [],\n      'arrival_date_time': '20220703T195500',\n      'additional_informations': [],\n      'departure_date_time': '20220703T195500',\n      'base_arrival_date_time': '20220703T195500',\n      'base_departure_date_time': '20220703T195500'}]},\n   {'links': [],\n    'arrival_date_time': '20220703T200000',\n    'co2_emission': {'value': 0.0, 'unit': ''},\n    'departure_date_time': '20220703T195500',\n    'duration': 300,\n    'type': 'waiting',\n    'id': 'section_4_0'},\n   {'from': {'embedded_type': 'stop_point',\n     'stop_point': {'name': 'Aulnay-sous-Bois',\n      'links': [],\n      'coord': {'lat': '48.931869', 'lon': '2.494379'},\n      'label': 'Aulnay-sous-Bois (Aulnay-sous-Bois)',\n      'equipments': [],\n      'administrative_regions': [{'insee': '93005',\n        'name': 'Aulnay-sous-Bois',\n        'level': 8,\n        'coord': {'lat': '48.934231', 'lon': '2.499789'},\n        'label': 'Aulnay-sous-Bois (93600)',\n        'id': 'admin:fr:93005',\n        'zip_code': '93600'}],\n      'id': 'stop_point:SNCF:87271411:Bus',\n      'stop_area': {'codes': [{'type': 'source', 'value': '87271411'},\n        {'type': 'uic', 'value': '87271411'}],\n       'name': 'Aulnay-sous-Bois',\n       'links': [],\n       'coord': {'lat': '48.931869', 'lon': '2.494379'},\n       'label': 'Aulnay-sous-Bois (Aulnay-sous-Bois)',\n       'timezone': 'Europe/Paris',\n       'id': 'stop_area:SNCF:87271411'}},\n     'quality': 0,\n     'name': 'Aulnay-sous-Bois (Aulnay-sous-Bois)',\n     'id': 'stop_point:SNCF:87271411:Bus'},\n    'links': [{'type': 'vehicle_journey',\n      'id': 'vehicle_journey:SNCF:2022-07-03:12264948:1187:Bus'},\n     {'type': 'line', 'id': 'line:SNCF:59'},\n     {'type': 'route', 'id': 'route:SNCF:59'},\n     {'type': 'commercial_mode', 'id': 'commercial_mode:TN'},\n     {'type': 'physical_mode', 'id': 'physical_mode:Bus'},\n     {'type': 'network', 'id': 'network:SNCF:TN'}],\n    'arrival_date_time': '20220703T203500',\n    'additional_informations': ['regular'],\n    'co2_emission': {'value': 1074.48, 'unit': 'gEC'},\n    'display_informations': {'direction': 'La Plaine Stade France (Saint-Denis)',\n     'code': 'B',\n     'description': '',\n     'links': [{'internal': True,\n       'type': 'stop_area',\n       'id': 'stop_area:SNCF:87164780',\n       'rel': 'terminus',\n       'templated': False}],\n     'color': '',\n     'physical_mode': 'Bus',\n     'headsign': '12264948',\n     'commercial_mode': 'TRANSILIEN',\n     'equipments': [],\n     'trip_short_name': '12264948',\n     'label': 'B',\n     'text_color': '',\n     'network': 'TRANSILIEN',\n     'name': 'B Bus'},\n    'to': {'embedded_type': 'stop_point',\n     'stop_point': {'name': 'La Courneuve - Aubervilliers',\n      'links': [],\n      'coord': {'lat': '48.9242', 'lon': '2.38443'},\n      'label': 'La Courneuve - Aubervilliers (La Courneuve)',\n      'equipments': [],\n      'administrative_regions': [{'insee': '93027',\n        'name': 'La Courneuve',\n        'level': 8,\n        'coord': {'lat': '48.9267236', 'lon': '2.3896123'},\n        'label': 'La Courneuve (93120)',\n        'id': 'admin:fr:93027',\n        'zip_code': '93120'}],\n      'id': 'stop_point:SNCF:87271304:Bus',\n      'stop_area': {'codes': [{'type': 'source', 'value': '87271304'},\n        {'type': 'uic', 'value': '87271304'}],\n       'name': 'La Courneuve - Aubervilliers',\n       'links': [],\n       'coord': {'lat': '48.9242', 'lon': '2.38443'},\n       'label': 'La Courneuve - Aubervilliers (La Courneuve)',\n       'timezone': 'Europe/Paris',\n       'id': 'stop_area:SNCF:87271304'}},\n     'quality': 0,\n     'name': 'La Courneuve - Aubervilliers (La Courneuve)',\n     'id': 'stop_point:SNCF:87271304:Bus'},\n    'base_arrival_date_time': '20220703T203500',\n    'base_departure_date_time': '20220703T200000',\n    'departure_date_time': '20220703T200000',\n    'geojson': {'type': 'LineString',\n     'properties': [{'length': 8140}],\n     'coordinates': [[2.494379, 48.931869],\n      [2.477409, 48.932484],\n      [2.45497, 48.93298],\n      [2.425755, 48.930926],\n      [2.38443, 48.9242]]},\n    'duration': 2100,\n    'type': 'public_transport',\n    'id': 'section_5_0',\n    'data_freshness': 'base_schedule',\n    'stop_date_times': [{'stop_point': {'name': 'Aulnay-sous-Bois',\n       'links': [],\n       'coord': {'lat': '48.931869', 'lon': '2.494379'},\n       'label': 'Aulnay-sous-Bois (Aulnay-sous-Bois)',\n       'equipments': [],\n       'id': 'stop_point:SNCF:87271411:Bus'},\n      'links': [],\n      'arrival_date_time': '20220703T200000',\n      'additional_informations': [],\n      'departure_date_time': '20220703T200000',\n      'base_arrival_date_time': '20220703T200000',\n      'base_departure_date_time': '20220703T200000'},\n     {'stop_point': {'name': 'Le Blanc-Mesnil',\n       'links': [],\n       'coord': {'lat': '48.932484', 'lon': '2.477409'},\n       'label': 'Le Blanc-Mesnil (Le Blanc-Mesnil)',\n       'equipments': [],\n       'id': 'stop_point:SNCF:87271478:Bus'},\n      'links': [],\n      'arrival_date_time': '20220703T201000',\n      'additional_informations': [],\n      'departure_date_time': '20220703T201000',\n      'base_arrival_date_time': '20220703T201000',\n      'base_departure_date_time': '20220703T201000'},\n     {'stop_point': {'name': 'Drancy',\n       'links': [],\n       'coord': {'lat': '48.93298', 'lon': '2.45497'},\n       'label': 'Drancy (Drancy)',\n       'equipments': [],\n       'id': 'stop_point:SNCF:87271403:Bus'},\n      'links': [],\n      'arrival_date_time': '20220703T201500',\n      'additional_informations': [],\n      'departure_date_time': '20220703T201500',\n      'base_arrival_date_time': '20220703T201500',\n      'base_departure_date_time': '20220703T201500'},\n     {'stop_point': {'name': 'Le Bourget',\n       'links': [],\n       'coord': {'lat': '48.930926', 'lon': '2.425755'},\n       'label': 'Le Bourget (Le Bourget)',\n       'equipments': [],\n       'id': 'stop_point:SNCF:87271395:Bus'},\n      'links': [],\n      'arrival_date_time': '20220703T202000',\n      'additional_informations': [],\n      'departure_date_time': '20220703T202000',\n      'base_arrival_date_time': '20220703T202000',\n      'base_departure_date_time': '20220703T202000'},\n     {'stop_point': {'name': 'La Courneuve - Aubervilliers',\n       'links': [],\n       'coord': {'lat': '48.9242', 'lon': '2.38443'},\n       'label': 'La Courneuve - Aubervilliers (La Courneuve)',\n       'equipments': [],\n       'id': 'stop_point:SNCF:87271304:Bus'},\n      'links': [],\n      'arrival_date_time': '20220703T203500',\n      'additional_informations': [],\n      'departure_date_time': '20220703T203500',\n      'base_arrival_date_time': '20220703T203500',\n      'base_departure_date_time': '20220703T203500'}]},\n   {'from': {'embedded_type': 'stop_point',\n     'stop_point': {'name': 'La Courneuve - Aubervilliers',\n      'links': [],\n      'coord': {'lat': '48.9242', 'lon': '2.38443'},\n      'label': 'La Courneuve - Aubervilliers (La Courneuve)',\n      'equipments': [],\n      'administrative_regions': [{'insee': '93027',\n        'name': 'La Courneuve',\n        'level': 8,\n        'coord': {'lat': '48.9267236', 'lon': '2.3896123'},\n        'label': 'La Courneuve (93120)',\n        'id': 'admin:fr:93027',\n        'zip_code': '93120'}],\n      'id': 'stop_point:SNCF:87271304:Bus',\n      'stop_area': {'codes': [{'type': 'source', 'value': '87271304'},\n        {'type': 'uic', 'value': '87271304'}],\n       'name': 'La Courneuve - Aubervilliers',\n       'links': [],\n       'coord': {'lat': '48.9242', 'lon': '2.38443'},\n       'label': 'La Courneuve - Aubervilliers (La Courneuve)',\n       'timezone': 'Europe/Paris',\n       'id': 'stop_area:SNCF:87271304'}},\n     'quality': 0,\n     'name': 'La Courneuve - Aubervilliers (La Courneuve)',\n     'id': 'stop_point:SNCF:87271304:Bus'},\n    'links': [],\n    'arrival_date_time': '20220703T203500',\n    'co2_emission': {'value': 0.0, 'unit': ''},\n    'to': {'embedded_type': 'stop_area',\n     'stop_area': {'codes': [{'type': 'source', 'value': '87271304'},\n       {'type': 'uic', 'value': '87271304'}],\n      'name': 'La Courneuve - Aubervilliers',\n      'links': [],\n      'coord': {'lat': '48.9242', 'lon': '2.38443'},\n      'label': 'La Courneuve - Aubervilliers (La Courneuve)',\n      'administrative_regions': [{'insee': '93027',\n        'name': 'La Courneuve',\n        'level': 8,\n        'coord': {'lat': '48.9267236', 'lon': '2.3896123'},\n        'label': 'La Courneuve (93120)',\n        'id': 'admin:fr:93027',\n        'zip_code': '93120'}],\n      'timezone': 'Europe/Paris',\n      'id': 'stop_area:SNCF:87271304'},\n     'quality': 0,\n     'name': 'La Courneuve - Aubervilliers (La Courneuve)',\n     'id': 'stop_area:SNCF:87271304'},\n    'departure_date_time': '20220703T203500',\n    'geojson': {'type': 'LineString',\n     'properties': [{'length': 0}],\n     'coordinates': [[2.38443, 48.9242], [2.38443, 48.9242]]},\n    'duration': 0,\n    'type': 'crow_fly',\n    'id': 'k7caLrjpqC5N2L9yua9Lkd_0',\n    'mode': 'walking'}]}]"
     },
     "execution_count": 144,
     "metadata": {},
     "output_type": "execute_result"
    }
   ],
   "source": [
    "js[\"journeys\"]"
   ],
   "metadata": {
    "collapsed": false,
    "pycharm": {
     "name": "#%%\n"
    }
   }
  },
  {
   "cell_type": "code",
   "execution_count": 145,
   "outputs": [
    {
     "data": {
      "text/plain": "'18:53:00'"
     },
     "execution_count": 145,
     "metadata": {},
     "output_type": "execute_result"
    }
   ],
   "source": [
    "pendulum.parse(js[\"journeys\"][0][\"sections\"][1][\"departure_date_time\"]).to_time_string()"
   ],
   "metadata": {
    "collapsed": false,
    "pycharm": {
     "name": "#%%\n"
    }
   }
  },
  {
   "cell_type": "code",
   "execution_count": 146,
   "outputs": [
    {
     "data": {
      "text/plain": "'Paris Gare du Nord Souterrain (Paris)'"
     },
     "execution_count": 146,
     "metadata": {},
     "output_type": "execute_result"
    }
   ],
   "source": [
    "js[\"journeys\"][0][\"sections\"][1][\"from\"][\"name\"]"
   ],
   "metadata": {
    "collapsed": false,
    "pycharm": {
     "name": "#%%\n"
    }
   }
  },
  {
   "cell_type": "code",
   "execution_count": 147,
   "outputs": [
    {
     "data": {
      "text/plain": "'Stade de France Saint-Denis (Saint-Denis)'"
     },
     "execution_count": 147,
     "metadata": {},
     "output_type": "execute_result"
    }
   ],
   "source": [
    "js[\"journeys\"][0][\"sections\"][1][\"to\"][\"name\"]"
   ],
   "metadata": {
    "collapsed": false,
    "pycharm": {
     "name": "#%%\n"
    }
   }
  },
  {
   "cell_type": "code",
   "execution_count": 148,
   "outputs": [
    {
     "data": {
      "text/plain": "'public_transport'"
     },
     "execution_count": 148,
     "metadata": {},
     "output_type": "execute_result"
    }
   ],
   "source": [
    "js[\"journeys\"][0][\"sections\"][1][\"type\"]"
   ],
   "metadata": {
    "collapsed": false,
    "pycharm": {
     "name": "#%%\n"
    }
   }
  },
  {
   "cell_type": "code",
   "execution_count": 149,
   "outputs": [
    {
     "data": {
      "text/plain": "'18:57:00'"
     },
     "execution_count": 149,
     "metadata": {},
     "output_type": "execute_result"
    }
   ],
   "source": [
    "pendulum.parse(js[\"journeys\"][0][\"sections\"][1][\"arrival_date_time\"]).to_time_string()"
   ],
   "metadata": {
    "collapsed": false,
    "pycharm": {
     "name": "#%%\n"
    }
   }
  },
  {
   "cell_type": "code",
   "execution_count": 189,
   "outputs": [],
   "source": [
    "\n",
    "di = {}\n",
    "for j in range(len(js[\"journeys\"])):\n",
    "    li = {}\n",
    "\n",
    "    for i in range(len(js[\"journeys\"][j][\"sections\"])):\n",
    "        if \"display_informations\" in js[\"journeys\"][j][\"sections\"][i]:\n",
    "            type = js[\"journeys\"][j][\"sections\"][i][\"display_informations\"][\"physical_mode\"] + \\\n",
    "                   \" \"  + js[\"journeys\"][j][\"sections\"][i][\"display_informations\"][\"name\"] + \\\n",
    "                   \" direction : \" + js[\"journeys\"][j][\"sections\"][i][\"display_informations\"][\"direction\"] + \" \" + pendulum.duration(seconds=js[\"journeys\"][j][\"sections\"][i][\"duration\"]).in_words(locale=\"fr\") + \" départ à : \" +pendulum.parse(js[\"journeys\"][j][\"sections\"][i][\"departure_date_time\"]).to_time_string()\n",
    "\n",
    "        else:\n",
    "            type = js[\"journeys\"][j][\"sections\"][i][\"type\"] + \" \"\n",
    "\n",
    "        if js[\"journeys\"][j][\"sections\"][i][\"type\"] == \"waiting\":\n",
    "            li[i] = \"Patientez : \" + pendulum.duration(seconds=js[\"journeys\"][j][\"sections\"][i][\"duration\"]).in_words(locale=\"fr\")\n",
    "        else :\n",
    "            li[i] = (js[\"journeys\"][j][\"sections\"][i][\"from\"][\"name\"] + \" -> \" + js[\"journeys\"][j][\"sections\"][i][\"to\"][\"name\"] +\" via : \" + type)\n",
    "    di[j] = li\n",
    "    di[j][\"departure_date_time\"] = pendulum.parse(js[\"journeys\"][j][\"departure_date_time\"]).to_time_string()\n",
    "    di[j][\"arrival_date_time\"] = pendulum.parse(js[\"journeys\"][j][\"arrival_date_time\"]).to_time_string()\n",
    "    di[j][\"duration\"] = pendulum.duration(seconds=js[\"journeys\"][j][\"duration\"]).in_words()\n"
   ],
   "metadata": {
    "collapsed": false,
    "pycharm": {
     "name": "#%%\n"
    }
   }
  },
  {
   "cell_type": "code",
   "execution_count": 190,
   "outputs": [
    {
     "data": {
      "text/plain": "{0: 'Paris Gare du Nord (Paris) -> Paris Gare du Nord Souterrain (Paris) via : marche à pied ',\n 1: 'Paris Gare du Nord Souterrain (Paris) -> Stade de France Saint-Denis (Saint-Denis) via : RER / Transilien D direction : Villiers-le-Bel - Gonesse (Arnouville) 4 minutes départ à : 18:53:00',\n 2: 'Stade de France Saint-Denis (Saint-Denis) -> Stade de France Saint-Denis (Saint-Denis) via : transfer ',\n 3: 'Patientez : 3 minutes',\n 4: 'Stade de France Saint-Denis (Saint-Denis) -> Aulnay-sous-Bois (Aulnay-sous-Bois) via : Bus B Bus direction : Aéroport Charles de Gaulle 1 (Tremblay-en-France) 50 minutes départ à : 19:05:00',\n 5: 'Patientez : 5 minutes',\n 6: 'Aulnay-sous-Bois (Aulnay-sous-Bois) -> La Courneuve - Aubervilliers (La Courneuve) via : Bus B Bus direction : La Plaine Stade France (Saint-Denis) 35 minutes départ à : 20:00:00',\n 7: 'La Courneuve - Aubervilliers (La Courneuve) -> La Courneuve - Aubervilliers (La Courneuve) via : marche à pied ',\n 'departure_date_time': '18:53:00',\n 'arrival_date_time': '20:35:00',\n 'duration': '1 hour 42 minutes'}"
     },
     "execution_count": 190,
     "metadata": {},
     "output_type": "execute_result"
    }
   ],
   "source": [
    "di[0]"
   ],
   "metadata": {
    "collapsed": false,
    "pycharm": {
     "name": "#%%\n"
    }
   }
  },
  {
   "cell_type": "code",
   "execution_count": 171,
   "outputs": [
    {
     "data": {
      "text/plain": "'20:35:00'"
     },
     "execution_count": 171,
     "metadata": {},
     "output_type": "execute_result"
    }
   ],
   "source": [
    "pendulum.parse(js[\"journeys\"][0][\"arrival_date_time\"]).to_time_string()\n"
   ],
   "metadata": {
    "collapsed": false,
    "pycharm": {
     "name": "#%%\n"
    }
   }
  },
  {
   "cell_type": "code",
   "execution_count": 172,
   "outputs": [
    {
     "data": {
      "text/plain": "'18:53:00'"
     },
     "execution_count": 172,
     "metadata": {},
     "output_type": "execute_result"
    }
   ],
   "source": [
    "pendulum.parse(js[\"journeys\"][0][\"departure_date_time\"]).to_time_string()"
   ],
   "metadata": {
    "collapsed": false,
    "pycharm": {
     "name": "#%%\n"
    }
   }
  },
  {
   "cell_type": "code",
   "execution_count": 174,
   "outputs": [
    {
     "data": {
      "text/plain": "'1 hour 42 minutes'"
     },
     "execution_count": 174,
     "metadata": {},
     "output_type": "execute_result"
    }
   ],
   "source": [
    "pendulum.duration(seconds=js[\"journeys\"][0][\"duration\"]).in_words()"
   ],
   "metadata": {
    "collapsed": false,
    "pycharm": {
     "name": "#%%\n"
    }
   }
  },
  {
   "cell_type": "code",
   "execution_count": 196,
   "outputs": [
    {
     "name": "stdout",
     "output_type": "stream",
     "text": [
      "Trajet n°0\n",
      "Paris Gare du Nord (Paris) -> Paris Gare du Nord Souterrain (Paris) via : marche à pied \n",
      "Paris Gare du Nord Souterrain (Paris) -> Stade de France Saint-Denis (Saint-Denis) via : RER / Transilien D direction : Villiers-le-Bel - Gonesse (Arnouville) 4 minutes départ à : 18:53:00\n",
      "Stade de France Saint-Denis (Saint-Denis) -> Stade de France Saint-Denis (Saint-Denis) via : transfer \n",
      "Patientez : 3 minutes\n",
      "Stade de France Saint-Denis (Saint-Denis) -> Aulnay-sous-Bois (Aulnay-sous-Bois) via : Bus B Bus direction : Aéroport Charles de Gaulle 1 (Tremblay-en-France) 50 minutes départ à : 19:05:00\n",
      "Patientez : 5 minutes\n",
      "Aulnay-sous-Bois (Aulnay-sous-Bois) -> La Courneuve - Aubervilliers (La Courneuve) via : Bus B Bus direction : La Plaine Stade France (Saint-Denis) 35 minutes départ à : 20:00:00\n",
      "La Courneuve - Aubervilliers (La Courneuve) -> La Courneuve - Aubervilliers (La Courneuve) via : marche à pied \n"
     ]
    }
   ],
   "source": [
    "for i in range(len(di)):\n",
    "    print(\"Trajet n°\" + str(i))\n",
    "    for j in range(len(di[i]) - 3):\n",
    "        print(di[i][j])"
   ],
   "metadata": {
    "collapsed": false,
    "pycharm": {
     "name": "#%%\n"
    }
   }
  },
  {
   "cell_type": "code",
   "execution_count": null,
   "outputs": [],
   "source": [],
   "metadata": {
    "collapsed": false,
    "pycharm": {
     "name": "#%%\n"
    }
   }
  }
 ],
 "metadata": {
  "kernelspec": {
   "display_name": "Python 3",
   "language": "python",
   "name": "python3"
  },
  "language_info": {
   "codemirror_mode": {
    "name": "ipython",
    "version": 2
   },
   "file_extension": ".py",
   "mimetype": "text/x-python",
   "name": "python",
   "nbconvert_exporter": "python",
   "pygments_lexer": "ipython2",
   "version": "2.7.6"
  }
 },
 "nbformat": 4,
 "nbformat_minor": 0
}