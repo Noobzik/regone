{
 "cells": [
  {
   "cell_type": "markdown",
   "source": [
    "Essaie du cluster managé par AWS MSK"
   ],
   "metadata": {
    "collapsed": false,
    "pycharm": {
     "name": "#%% md\n"
    }
   }
  },
  {
   "cell_type": "code",
   "execution_count": 1,
   "id": "fb527b86",
   "metadata": {
    "pycharm": {
     "name": "#%%\n"
    }
   },
   "outputs": [],
   "source": [
    "import boto3"
   ]
  },
  {
   "cell_type": "code",
   "execution_count": 15,
   "id": "0fc3368b",
   "metadata": {
    "pycharm": {
     "name": "#%%\n"
    }
   },
   "outputs": [
    {
     "name": "stdout",
     "output_type": "stream",
     "text": [
      "{'ResponseMetadata': {'RequestId': '6d1b28cb-5434-4fa7-81b2-c679e4e32841', 'HTTPStatusCode': 200, 'HTTPHeaders': {'content-type': 'application/json', 'content-length': '2663', 'connection': 'keep-alive', 'date': 'Mon, 20 Jun 2022 12:51:05 GMT', 'x-amzn-requestid': '6d1b28cb-5434-4fa7-81b2-c679e4e32841', 'access-control-allow-origin': '*', 'access-control-allow-headers': 'Authorization,Date,X-Amz-Date,X-Amz-Security-Token,X-Amz-Target,content-type,x-amz-content-sha256,x-amz-user-agent,x-amzn-platform-id,x-amzn-trace-id', 'x-amz-apigw-id': 'UBYBDF41iGYFfhQ=', 'access-control-allow-methods': '*', 'access-control-expose-headers': 'x-amzn-errortype,x-amzn-requestid,x-amzn-errormessage,x-amzn-trace-id,x-amz-apigw-id,date', 'x-amzn-trace-id': 'Root=1-62b06d39-209d6b8f428035ec2f4fb352', 'access-control-max-age': '86400', 'x-cache': 'Miss from cloudfront', 'via': '1.1 59bc3e2055e3408285b7a1afc7b2dd02.cloudfront.net (CloudFront)', 'x-amz-cf-pop': 'CDG50-P1', 'x-amz-cf-id': 'ZHOSqt_YoSjm_Qf_8sZ3XKj-FYz9BTjadaKAym7yC0XMSiGwv43NhQ=='}, 'RetryAttempts': 0}, 'ClusterInfo': {'BrokerNodeGroupInfo': {'BrokerAZDistribution': 'DEFAULT', 'ClientSubnets': ['subnet-bab3a0d3', 'subnet-2773465c'], 'InstanceType': 'kafka.t3.small', 'SecurityGroups': ['sg-f07bdf92'], 'StorageInfo': {'EbsStorageInfo': {'ProvisionedThroughput': {'Enabled': False}, 'VolumeSize': 10}}, 'ConnectivityInfo': {'PublicAccess': {'Type': 'DISABLED'}}}, 'ClientAuthentication': {'Sasl': {'Scram': {'Enabled': False}, 'Iam': {'Enabled': False}}, 'Tls': {'CertificateAuthorityArnList': [], 'Enabled': False}, 'Unauthenticated': {'Enabled': True}}, 'ClusterArn': 'arn:aws:kafka:eu-west-3:529515974461:cluster/RER-B/5a1848d5-3649-41b1-ba7f-679e1fb999ca-2', 'ClusterName': 'RER-B', 'CreationTime': datetime.datetime(2022, 6, 20, 11, 44, 45, 98000, tzinfo=tzutc()), 'CurrentBrokerSoftwareInfo': {'ConfigurationArn': 'arn:aws:kafka:eu-west-3:529515974461:configuration/auto-topics/3cb07c77-3a36-4359-bd3d-b418747d7e13-2', 'ConfigurationRevision': 1, 'KafkaVersion': '2.8.1'}, 'CurrentVersion': 'K3P5ROKL5A1OLE', 'EncryptionInfo': {'EncryptionAtRest': {'DataVolumeKMSKeyId': 'arn:aws:kms:eu-west-3:529515974461:key/fff47668-9b45-4993-b0f4-94a38758d1b6'}, 'EncryptionInTransit': {'ClientBroker': 'PLAINTEXT', 'InCluster': True}}, 'EnhancedMonitoring': 'DEFAULT', 'OpenMonitoring': {'Prometheus': {'JmxExporter': {'EnabledInBroker': False}, 'NodeExporter': {'EnabledInBroker': False}}}, 'LoggingInfo': {'BrokerLogs': {'CloudWatchLogs': {'Enabled': False}, 'Firehose': {'Enabled': False}, 'S3': {'Bucket': 'sncf-rer-b', 'Enabled': True, 'Prefix': 'logs/kafka/'}}}, 'NumberOfBrokerNodes': 2, 'State': 'ACTIVE', 'Tags': {}, 'ZookeeperConnectString': 'z-2.rerb.mhw7w4.c2.kafka.eu-west-3.amazonaws.com:2181,z-1.rerb.mhw7w4.c2.kafka.eu-west-3.amazonaws.com:2181,z-3.rerb.mhw7w4.c2.kafka.eu-west-3.amazonaws.com:2181', 'ZookeeperConnectStringTls': 'z-2.rerb.mhw7w4.c2.kafka.eu-west-3.amazonaws.com:2182,z-1.rerb.mhw7w4.c2.kafka.eu-west-3.amazonaws.com:2182,z-3.rerb.mhw7w4.c2.kafka.eu-west-3.amazonaws.com:2182'}}\n"
     ]
    }
   ],
   "source": [
    "client = boto3.client('kafka',\n",
    "                      aws_access_key_id=\"\",\n",
    "    aws_secret_access_key=\"\",\n",
    "region_name=\"eu-west-3\")\n",
    "\n",
    "response = client.describe_cluster(\n",
    "    ClusterArn=''\n",
    ")\n",
    "print(response)\n"
   ]
  },
  {
   "cell_type": "code",
   "execution_count": null,
   "id": "259d2822",
   "metadata": {
    "pycharm": {
     "name": "#%%\n"
    }
   },
   "outputs": [],
   "source": [
    "'arn:aws:kafka:eu-west-3:529515974461:cluster/RER-B/5a1848d5-3649-41b1-ba7f-679e1fb999ca-2'\n",
    "'K3P5ROKL5A1OLE'"
   ]
  }
 ],
 "metadata": {
  "kernelspec": {
   "display_name": "Python 3 (ipykernel)",
   "language": "python",
   "name": "python3"
  },
  "language_info": {
   "codemirror_mode": {
    "name": "ipython",
    "version": 3
   },
   "file_extension": ".py",
   "mimetype": "text/x-python",
   "name": "python",
   "nbconvert_exporter": "python",
   "pygments_lexer": "ipython3",
   "version": "3.10.4"
  }
 },
 "nbformat": 4,
 "nbformat_minor": 5
}