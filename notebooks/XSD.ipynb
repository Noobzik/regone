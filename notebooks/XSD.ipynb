{
 "cells": [
  {
   "cell_type": "code",
   "execution_count": 1,
   "outputs": [],
   "source": [
    "import xmlschema\n",
    "import requests\n",
    "import json\n",
    "import re"
   ],
   "metadata": {
    "collapsed": false,
    "pycharm": {
     "name": "#%%\n"
    }
   }
  },
  {
   "cell_type": "code",
   "execution_count": 2,
   "outputs": [],
   "source": [
    "xsd=\"\"\"<?xml version=\"1.0\" encoding=\"UTF-8\"?>\n",
    "<xsd:schema xmlns:xsd=\"http://www.w3.org/2001/XMLSchema\">\n",
    "    <xsd:element name=\"passages\">\n",
    "        <xsd:complexType mixed=\"true\">\n",
    "            <xsd:sequence>\n",
    "                <xsd:element name=\"train\" type=\"trainType\" minOccurs=\"0\" maxOccurs=\"unbounded\"/>\n",
    "            </xsd:sequence>\n",
    "            <xsd:attribute name=\"gare\" type=\"xsd:string\" use=\"required\"/>\n",
    "        </xsd:complexType>\n",
    "    </xsd:element>\n",
    "    <xsd:complexType name=\"trainType\">\n",
    "        <xsd:all>\n",
    "            <xsd:element name=\"date\">\n",
    "                <xsd:complexType>\n",
    "                    <xsd:simpleContent>\n",
    "                        <xsd:extension base=\"xsd:string\">\n",
    "                            <xsd:attribute name=\"mode\" use=\"required\">\n",
    "                                <xsd:simpleType>\n",
    "                                    <xsd:restriction base=\"xsd:string\">\n",
    "                                        <xsd:enumeration value=\"R\"/>\n",
    "                                        <xsd:enumeration value=\"T\"/>\n",
    "                                    </xsd:restriction>\n",
    "                                </xsd:simpleType>\n",
    "                            </xsd:attribute>\n",
    "                        </xsd:extension>\n",
    "                    </xsd:simpleContent>\n",
    "                </xsd:complexType>\n",
    "            </xsd:element>\n",
    "            <xsd:element name=\"num\" maxOccurs=\"1\" type=\"xsd:string\"/>\n",
    "            <xsd:element name=\"miss\" maxOccurs=\"1\" type=\"xsd:string\"/>\n",
    "            <xsd:element name=\"term\" maxOccurs=\"1\" minOccurs=\"0\" type=\"xsd:string\"/>\n",
    "            <xsd:element name=\"etat\" maxOccurs=\"1\" minOccurs=\"0\">\n",
    "                <xsd:simpleType>\n",
    "                    <xsd:restriction base=\"xsd:string\">\n",
    "                        <xsd:enumeration value=\"Retardé\"/>\n",
    "                        <xsd:enumeration value=\"Supprimé\"/>\n",
    "                    </xsd:restriction>\n",
    "                </xsd:simpleType>\n",
    "            </xsd:element>\n",
    "        </xsd:all>\n",
    "    </xsd:complexType>\n",
    "</xsd:schema>\n",
    "\"\"\""
   ],
   "metadata": {
    "collapsed": false,
    "pycharm": {
     "name": "#%%\n"
    }
   }
  },
  {
   "cell_type": "code",
   "execution_count": 27,
   "outputs": [],
   "source": [
    "url = \"https://api.transilien.com/gare/87271007/depart/\""
   ],
   "metadata": {
    "collapsed": false,
    "pycharm": {
     "name": "#%%\n"
    }
   }
  },
  {
   "cell_type": "code",
   "execution_count": 28,
   "outputs": [],
   "source": [
    "payload = {}\n",
    "headers = {\n",
    "    'Authorization': 'Basic '\n",
    "}"
   ],
   "metadata": {
    "collapsed": false,
    "pycharm": {
     "name": "#%%\n"
    }
   }
  },
  {
   "cell_type": "markdown",
   "source": [],
   "metadata": {
    "collapsed": false,
    "pycharm": {
     "name": "#%% md\n"
    }
   }
  },
  {
   "cell_type": "code",
   "execution_count": 29,
   "outputs": [],
   "source": [
    "feed = requests.request(\"GET\", url, headers=headers, data=payload)"
   ],
   "metadata": {
    "collapsed": false,
    "pycharm": {
     "name": "#%%\n"
    }
   }
  },
  {
   "cell_type": "code",
   "execution_count": 30,
   "outputs": [
    {
     "data": {
      "text/plain": "b'<?xml version=\"1.0\" encoding=\"UTF-8\"?>\\r\\n<passages gare=\"87271007\">\\r\\n<train><date mode=\"R\">21/06/2022 09:48</date>\\r\\n<num>126626-126627</num>\\r\\n<miss>VUPH</miss>\\r\\n<term>87276220</term>\\r\\n</train>\\r\\n<train><date mode=\"R\">21/06/2022 09:49</date>\\r\\n<num>125203</num>\\r\\n<miss>MOSA</miss>\\r\\n<term>87276493</term>\\r\\n</train>\\r\\n<train><date mode=\"R\">21/06/2022 09:50</date>\\r\\n<num>EPAF43</num>\\r\\n<miss>EPAF</miss>\\r\\n<term>87001479</term>\\r\\n</train>\\r\\n<train><date mode=\"R\">21/06/2022 09:50</date>\\r\\n<num>PIER48</num>\\r\\n<miss>PIER</miss>\\r\\n<term>87758896</term>\\r\\n</train>\\r\\n<train><date mode=\"R\">21/06/2022 09:52</date>\\r\\n<num>127228-127229</num>\\r\\n<miss>FACA</miss>\\r\\n<term>87276246</term>\\r\\n</train>\\r\\n<train><date mode=\"R\">21/06/2022 09:52</date>\\r\\n<num>ILOT45</num>\\r\\n<miss>ILOT</miss>\\r\\n<term>87271528</term>\\r\\n</train>\\r\\n<train><date mode=\"R\">21/06/2022 09:53</date>\\r\\n<num>126502-126503</num>\\r\\n<miss>VOPG</miss>\\r\\n<term>87276220</term>\\r\\n</train>\\r\\n<train><date mode=\"R\">21/06/2022 09:53</date>\\r\\n<num>153630-153631</num>\\r\\n<miss>ZACO</miss>\\r\\n<term>87682005</term>\\r\\n</train>\\r\\n<train><date mode=\"R\">21/06/2022 09:53</date>\\r\\n<num>SORI46</num>\\r\\n<miss>SORI</miss>\\r\\n<term>87758722</term>\\r\\n</train>\\r\\n<train><date mode=\"R\">21/06/2022 09:54</date>\\r\\n<num>KARI50</num>\\r\\n<miss>KARI</miss>\\r\\n<term>87393579</term>\\r\\n</train>\\r\\n<train><date mode=\"R\">21/06/2022 09:56</date>\\r\\n<num>124623</num>\\r\\n<miss>POVA</miss>\\r\\n<term>87276469</term>\\r\\n</train>\\r\\n<train><date mode=\"R\">21/06/2022 09:57</date>\\r\\n<num>158508-158509</num>\\r\\n<miss>JULO</miss>\\r\\n<term>87545244</term>\\r\\n</train>\\r\\n<train><date mode=\"R\">21/06/2022 09:58</date>\\r\\n<num>122508-122509</num>\\r\\n<miss>UUPH</miss>\\r\\n<term>87164780</term>\\r\\n</train>\\r\\n<train><date mode=\"R\">21/06/2022 09:58</date>\\r\\n<num>ERIC47</num>\\r\\n<miss>ERIC</miss>\\r\\n<term>87001479</term>\\r\\n</train>\\r\\n<train><date mode=\"R\">21/06/2022 09:59</date>\\r\\n<num>SORI52</num>\\r\\n<miss>SORI</miss>\\r\\n<term>87758623</term>\\r\\n<etat>Supprim\\xc3\\xa9</etat>\\r\\n</train>\\r\\n<train><date mode=\"R\">21/06/2022 10:00</date>\\r\\n<num>EPAF49</num>\\r\\n<miss>EPAF</miss>\\r\\n<term>87001479</term>\\r\\n</train>\\r\\n<train><date mode=\"R\">21/06/2022 10:02</date>\\r\\n<num>127230-127231</num>\\r\\n<miss>FACA</miss>\\r\\n<term>87276246</term>\\r\\n</train>\\r\\n<train><date mode=\"R\">21/06/2022 10:02</date>\\r\\n<num>155832-155833</num>\\r\\n<miss>ROPE</miss>\\r\\n<term>87681007</term>\\r\\n</train>\\r\\n<train><date mode=\"R\">21/06/2022 10:04</date>\\r\\n<num>125443</num>\\r\\n<miss>LOMI</miss>\\r\\n<term>87276576</term>\\r\\n</train>\\r\\n<train><date mode=\"R\">21/06/2022 10:04</date>\\r\\n<num>153632-153633</num>\\r\\n<miss>ZACO</miss>\\r\\n<term>87682005</term>\\r\\n</train>\\r\\n<train><date mode=\"R\">21/06/2022 10:06</date>\\r\\n<num>ILOT51</num>\\r\\n<miss>ILOT</miss>\\r\\n<term>87271528</term>\\r\\n</train>\\r\\n<train><date mode=\"R\">21/06/2022 10:07</date>\\r\\n<num>158510-158511</num>\\r\\n<miss>JULO</miss>\\r\\n<term>87545244</term>\\r\\n</train>\\r\\n<train><date mode=\"R\">21/06/2022 10:08</date>\\r\\n<num>128522-128523</num>\\r\\n<miss>LOPG</miss>\\r\\n<term>87276279</term>\\r\\n</train>\\r\\n<train><date mode=\"R\">21/06/2022 10:08</date>\\r\\n<num>KARI56</num>\\r\\n<miss>KARI</miss>\\r\\n<term>87393579</term>\\r\\n</train>\\r\\n<train><date mode=\"R\">21/06/2022 10:09</date>\\r\\n<num>PIER54</num>\\r\\n<miss>PIER</miss>\\r\\n<term>87758896</term>\\r\\n</train>\\r\\n<train><date mode=\"R\">21/06/2022 10:11</date>\\r\\n<num>121509</num>\\r\\n<miss>KEPY</miss>\\r\\n<term>87271593</term>\\r\\n</train>\\r\\n<train><date mode=\"R\">21/06/2022 10:11</date>\\r\\n<num>123459</num>\\r\\n<miss>OPOC</miss>\\r\\n<term>87276139</term>\\r\\n</train>\\r\\n<train><date mode=\"R\">21/06/2022 10:11</date>\\r\\n<num>155834-155835</num>\\r\\n<miss>ROPE</miss>\\r\\n<term>87681007</term>\\r\\n</train>\\r\\n<train><date mode=\"R\">21/06/2022 10:12</date>\\r\\n<num>ERIC53</num>\\r\\n<miss>ERIC</miss>\\r\\n<term>87001479</term>\\r\\n</train>\\r\\n<train><date mode=\"R\">21/06/2022 10:14</date>\\r\\n<num>SORI58</num>\\r\\n<miss>SORI</miss>\\r\\n<term>87758722</term>\\r\\n</train>\\r\\n</passages>\\r\\n'"
     },
     "execution_count": 30,
     "metadata": {},
     "output_type": "execute_result"
    }
   ],
   "source": [
    "feed.content"
   ],
   "metadata": {
    "collapsed": false,
    "pycharm": {
     "name": "#%%\n"
    }
   }
  },
  {
   "cell_type": "code",
   "execution_count": 31,
   "outputs": [],
   "source": [
    "schema = xmlschema.XMLSchema(xsd)"
   ],
   "metadata": {
    "collapsed": false,
    "pycharm": {
     "name": "#%%\n"
    }
   }
  },
  {
   "cell_type": "code",
   "execution_count": 32,
   "outputs": [
    {
     "name": "stdout",
     "output_type": "stream",
     "text": [
      "XMLSchema10(namespace='')\n"
     ]
    }
   ],
   "source": [
    "print(schema)"
   ],
   "metadata": {
    "collapsed": false,
    "pycharm": {
     "name": "#%%\n"
    }
   }
  },
  {
   "cell_type": "code",
   "execution_count": 33,
   "outputs": [],
   "source": [
    "# xml = open('../data/external/response.xml', 'r')\n",
    "xml = feed.content"
   ],
   "metadata": {
    "collapsed": false,
    "pycharm": {
     "name": "#%%\n"
    }
   }
  },
  {
   "cell_type": "code",
   "execution_count": 34,
   "outputs": [
    {
     "name": "stdout",
     "output_type": "stream",
     "text": [
      "/Users/noobzik/Documents/ESGI/PA/retaro-gone/notebooks\r\n"
     ]
    }
   ],
   "source": [
    "!pwd"
   ],
   "metadata": {
    "collapsed": false,
    "pycharm": {
     "name": "#%%\n"
    }
   }
  },
  {
   "cell_type": "code",
   "execution_count": 35,
   "outputs": [],
   "source": [
    "df = xmlschema.to_dict(xml, schema=schema,preserve_root=False)"
   ],
   "metadata": {
    "collapsed": false,
    "pycharm": {
     "name": "#%%\n"
    }
   }
  },
  {
   "cell_type": "code",
   "execution_count": 36,
   "outputs": [
    {
     "data": {
      "text/plain": "{'@gare': '87271007',\n 'train': [{'date': {'@mode': 'R', '$': '21/06/2022 09:48'},\n   'num': '126626-126627',\n   'miss': 'VUPH',\n   'term': '87276220'},\n  {'date': {'@mode': 'R', '$': '21/06/2022 09:49'},\n   'num': '125203',\n   'miss': 'MOSA',\n   'term': '87276493'},\n  {'date': {'@mode': 'R', '$': '21/06/2022 09:50'},\n   'num': 'EPAF43',\n   'miss': 'EPAF',\n   'term': '87001479'},\n  {'date': {'@mode': 'R', '$': '21/06/2022 09:50'},\n   'num': 'PIER48',\n   'miss': 'PIER',\n   'term': '87758896'},\n  {'date': {'@mode': 'R', '$': '21/06/2022 09:52'},\n   'num': '127228-127229',\n   'miss': 'FACA',\n   'term': '87276246'},\n  {'date': {'@mode': 'R', '$': '21/06/2022 09:52'},\n   'num': 'ILOT45',\n   'miss': 'ILOT',\n   'term': '87271528'},\n  {'date': {'@mode': 'R', '$': '21/06/2022 09:53'},\n   'num': '126502-126503',\n   'miss': 'VOPG',\n   'term': '87276220'},\n  {'date': {'@mode': 'R', '$': '21/06/2022 09:53'},\n   'num': '153630-153631',\n   'miss': 'ZACO',\n   'term': '87682005'},\n  {'date': {'@mode': 'R', '$': '21/06/2022 09:53'},\n   'num': 'SORI46',\n   'miss': 'SORI',\n   'term': '87758722'},\n  {'date': {'@mode': 'R', '$': '21/06/2022 09:54'},\n   'num': 'KARI50',\n   'miss': 'KARI',\n   'term': '87393579'},\n  {'date': {'@mode': 'R', '$': '21/06/2022 09:56'},\n   'num': '124623',\n   'miss': 'POVA',\n   'term': '87276469'},\n  {'date': {'@mode': 'R', '$': '21/06/2022 09:57'},\n   'num': '158508-158509',\n   'miss': 'JULO',\n   'term': '87545244'},\n  {'date': {'@mode': 'R', '$': '21/06/2022 09:58'},\n   'num': '122508-122509',\n   'miss': 'UUPH',\n   'term': '87164780'},\n  {'date': {'@mode': 'R', '$': '21/06/2022 09:58'},\n   'num': 'ERIC47',\n   'miss': 'ERIC',\n   'term': '87001479'},\n  {'date': {'@mode': 'R', '$': '21/06/2022 09:59'},\n   'num': 'SORI52',\n   'miss': 'SORI',\n   'term': '87758623',\n   'etat': 'Supprimé'},\n  {'date': {'@mode': 'R', '$': '21/06/2022 10:00'},\n   'num': 'EPAF49',\n   'miss': 'EPAF',\n   'term': '87001479'},\n  {'date': {'@mode': 'R', '$': '21/06/2022 10:02'},\n   'num': '127230-127231',\n   'miss': 'FACA',\n   'term': '87276246'},\n  {'date': {'@mode': 'R', '$': '21/06/2022 10:02'},\n   'num': '155832-155833',\n   'miss': 'ROPE',\n   'term': '87681007'},\n  {'date': {'@mode': 'R', '$': '21/06/2022 10:04'},\n   'num': '125443',\n   'miss': 'LOMI',\n   'term': '87276576'},\n  {'date': {'@mode': 'R', '$': '21/06/2022 10:04'},\n   'num': '153632-153633',\n   'miss': 'ZACO',\n   'term': '87682005'},\n  {'date': {'@mode': 'R', '$': '21/06/2022 10:06'},\n   'num': 'ILOT51',\n   'miss': 'ILOT',\n   'term': '87271528'},\n  {'date': {'@mode': 'R', '$': '21/06/2022 10:07'},\n   'num': '158510-158511',\n   'miss': 'JULO',\n   'term': '87545244'},\n  {'date': {'@mode': 'R', '$': '21/06/2022 10:08'},\n   'num': '128522-128523',\n   'miss': 'LOPG',\n   'term': '87276279'},\n  {'date': {'@mode': 'R', '$': '21/06/2022 10:08'},\n   'num': 'KARI56',\n   'miss': 'KARI',\n   'term': '87393579'},\n  {'date': {'@mode': 'R', '$': '21/06/2022 10:09'},\n   'num': 'PIER54',\n   'miss': 'PIER',\n   'term': '87758896'},\n  {'date': {'@mode': 'R', '$': '21/06/2022 10:11'},\n   'num': '121509',\n   'miss': 'KEPY',\n   'term': '87271593'},\n  {'date': {'@mode': 'R', '$': '21/06/2022 10:11'},\n   'num': '123459',\n   'miss': 'OPOC',\n   'term': '87276139'},\n  {'date': {'@mode': 'R', '$': '21/06/2022 10:11'},\n   'num': '155834-155835',\n   'miss': 'ROPE',\n   'term': '87681007'},\n  {'date': {'@mode': 'R', '$': '21/06/2022 10:12'},\n   'num': 'ERIC53',\n   'miss': 'ERIC',\n   'term': '87001479'},\n  {'date': {'@mode': 'R', '$': '21/06/2022 10:14'},\n   'num': 'SORI58',\n   'miss': 'SORI',\n   'term': '87758722'}]}"
     },
     "execution_count": 36,
     "metadata": {},
     "output_type": "execute_result"
    }
   ],
   "source": [
    "df"
   ],
   "metadata": {
    "collapsed": false,
    "pycharm": {
     "name": "#%%\n"
    }
   }
  },
  {
   "cell_type": "code",
   "execution_count": 37,
   "outputs": [
    {
     "data": {
      "text/plain": "[{'date': {'@mode': 'R', '$': '21/06/2022 09:48'},\n  'num': '126626-126627',\n  'miss': 'VUPH',\n  'term': '87276220'},\n {'date': {'@mode': 'R', '$': '21/06/2022 09:49'},\n  'num': '125203',\n  'miss': 'MOSA',\n  'term': '87276493'},\n {'date': {'@mode': 'R', '$': '21/06/2022 09:50'},\n  'num': 'EPAF43',\n  'miss': 'EPAF',\n  'term': '87001479'},\n {'date': {'@mode': 'R', '$': '21/06/2022 09:50'},\n  'num': 'PIER48',\n  'miss': 'PIER',\n  'term': '87758896'},\n {'date': {'@mode': 'R', '$': '21/06/2022 09:52'},\n  'num': '127228-127229',\n  'miss': 'FACA',\n  'term': '87276246'},\n {'date': {'@mode': 'R', '$': '21/06/2022 09:52'},\n  'num': 'ILOT45',\n  'miss': 'ILOT',\n  'term': '87271528'},\n {'date': {'@mode': 'R', '$': '21/06/2022 09:53'},\n  'num': '126502-126503',\n  'miss': 'VOPG',\n  'term': '87276220'},\n {'date': {'@mode': 'R', '$': '21/06/2022 09:53'},\n  'num': '153630-153631',\n  'miss': 'ZACO',\n  'term': '87682005'},\n {'date': {'@mode': 'R', '$': '21/06/2022 09:53'},\n  'num': 'SORI46',\n  'miss': 'SORI',\n  'term': '87758722'},\n {'date': {'@mode': 'R', '$': '21/06/2022 09:54'},\n  'num': 'KARI50',\n  'miss': 'KARI',\n  'term': '87393579'},\n {'date': {'@mode': 'R', '$': '21/06/2022 09:56'},\n  'num': '124623',\n  'miss': 'POVA',\n  'term': '87276469'},\n {'date': {'@mode': 'R', '$': '21/06/2022 09:57'},\n  'num': '158508-158509',\n  'miss': 'JULO',\n  'term': '87545244'},\n {'date': {'@mode': 'R', '$': '21/06/2022 09:58'},\n  'num': '122508-122509',\n  'miss': 'UUPH',\n  'term': '87164780'},\n {'date': {'@mode': 'R', '$': '21/06/2022 09:58'},\n  'num': 'ERIC47',\n  'miss': 'ERIC',\n  'term': '87001479'},\n {'date': {'@mode': 'R', '$': '21/06/2022 09:59'},\n  'num': 'SORI52',\n  'miss': 'SORI',\n  'term': '87758623',\n  'etat': 'Supprimé'},\n {'date': {'@mode': 'R', '$': '21/06/2022 10:00'},\n  'num': 'EPAF49',\n  'miss': 'EPAF',\n  'term': '87001479'},\n {'date': {'@mode': 'R', '$': '21/06/2022 10:02'},\n  'num': '127230-127231',\n  'miss': 'FACA',\n  'term': '87276246'},\n {'date': {'@mode': 'R', '$': '21/06/2022 10:02'},\n  'num': '155832-155833',\n  'miss': 'ROPE',\n  'term': '87681007'},\n {'date': {'@mode': 'R', '$': '21/06/2022 10:04'},\n  'num': '125443',\n  'miss': 'LOMI',\n  'term': '87276576'},\n {'date': {'@mode': 'R', '$': '21/06/2022 10:04'},\n  'num': '153632-153633',\n  'miss': 'ZACO',\n  'term': '87682005'},\n {'date': {'@mode': 'R', '$': '21/06/2022 10:06'},\n  'num': 'ILOT51',\n  'miss': 'ILOT',\n  'term': '87271528'},\n {'date': {'@mode': 'R', '$': '21/06/2022 10:07'},\n  'num': '158510-158511',\n  'miss': 'JULO',\n  'term': '87545244'},\n {'date': {'@mode': 'R', '$': '21/06/2022 10:08'},\n  'num': '128522-128523',\n  'miss': 'LOPG',\n  'term': '87276279'},\n {'date': {'@mode': 'R', '$': '21/06/2022 10:08'},\n  'num': 'KARI56',\n  'miss': 'KARI',\n  'term': '87393579'},\n {'date': {'@mode': 'R', '$': '21/06/2022 10:09'},\n  'num': 'PIER54',\n  'miss': 'PIER',\n  'term': '87758896'},\n {'date': {'@mode': 'R', '$': '21/06/2022 10:11'},\n  'num': '121509',\n  'miss': 'KEPY',\n  'term': '87271593'},\n {'date': {'@mode': 'R', '$': '21/06/2022 10:11'},\n  'num': '123459',\n  'miss': 'OPOC',\n  'term': '87276139'},\n {'date': {'@mode': 'R', '$': '21/06/2022 10:11'},\n  'num': '155834-155835',\n  'miss': 'ROPE',\n  'term': '87681007'},\n {'date': {'@mode': 'R', '$': '21/06/2022 10:12'},\n  'num': 'ERIC53',\n  'miss': 'ERIC',\n  'term': '87001479'},\n {'date': {'@mode': 'R', '$': '21/06/2022 10:14'},\n  'num': 'SORI58',\n  'miss': 'SORI',\n  'term': '87758722'}]"
     },
     "execution_count": 37,
     "metadata": {},
     "output_type": "execute_result"
    }
   ],
   "source": [
    "df[\"train\"]"
   ],
   "metadata": {
    "collapsed": false,
    "pycharm": {
     "name": "#%%\n"
    }
   }
  },
  {
   "cell_type": "code",
   "execution_count": 38,
   "outputs": [
    {
     "name": "stdout",
     "output_type": "stream",
     "text": [
      "Etat is not here\n"
     ]
    }
   ],
   "source": [
    "if \"etat\" in df['train'][1]:\n",
    "    print(\"Etat is here\")\n",
    "else:\n",
    "    print(\"Etat is not here\")"
   ],
   "metadata": {
    "collapsed": false,
    "pycharm": {
     "name": "#%%\n"
    }
   }
  },
  {
   "cell_type": "code",
   "execution_count": 52,
   "outputs": [],
   "source": [
    "class Train:\n",
    "    def __init__(self, num: str, miss: str, date: str, mode: str, term: str, etat: str = \"\"):\n",
    "        self.num = num\n",
    "        self.miss = miss\n",
    "        self.date = date\n",
    "        self.mode = mode\n",
    "        self.direction : str = \"\"\n",
    "        self.term = int(term)\n",
    "        self.etat = etat\n",
    "\n",
    "    def get_num(self):\n",
    "        return self.num\n",
    "\n",
    "    def get_date(self):\n",
    "        return self.date\n",
    "\n",
    "    def get_mode(self):\n",
    "        return self.mode\n",
    "\n",
    "    def get_term(self):\n",
    "        return self.term\n",
    "\n",
    "    def get_miss(self):\n",
    "        return self.miss\n",
    "\n",
    "    def get_etat(self):\n",
    "        return self\n",
    "\n",
    "    def get_train(self):\n",
    "        return self.num, self.miss, self.date, self.mode, self.term, self.direction, self.etat\n",
    "\n",
    "    def to_dict(self):\n",
    "        a = [\"num\", self.num,\n",
    "             \"miss\", self.miss,\n",
    "            \"date\", self.date,\n",
    "            \"mode\", self.mode,\n",
    "            \"term\", self.term,\n",
    "            \"direction\", self.direction,\n",
    "            \"etat\", self.etat]\n",
    "        it = iter(a)\n",
    "        return dict(zip(it, it))\n",
    "\n",
    "class RERB(Train):\n",
    "    def __init__(self, num: str, miss: str, date: str, mode: str, term: str, etat: str = \"\"):\n",
    "        Train.__init__(self, num, miss, date, mode, term, etat)\n",
    "        self.direction = int(int(self.get_num()[-2]) % 2)\n",
    "\n",
    "class Station:\n",
    "    def __init__(self, xml_df : dict):\n",
    "        assert(\"@gare\" in xml_df and \"train\" in xml_df)\n",
    "        size = len(xml_df['train'])\n",
    "        d : list[RERB] = []\n",
    "        _pattern = r'[A-Z]{4}[0-9]{2}'\n",
    "        if size != 0:\n",
    "            for i in xml_df['train']:\n",
    "                if re.match(_pattern, i[\"num\"]):\n",
    "                    if \"etat\" in i:\n",
    "                        t = RERB(i[\"num\"], i[\"miss\"], i[\"date\"][\"$\"], i[\"date\"][\"@mode\"], i[\"term\"], i[\"etat\"])\n",
    "                    else:\n",
    "                        t = RERB(i[\"num\"], i[\"miss\"], i[\"date\"][\"$\"], i[\"date\"][\"@mode\"], i[\"term\"])\n",
    "                    d.append(t)\n",
    "\n",
    "        self.gare = int(xml_df[\"@gare\"])\n",
    "        self.train = d\n",
    "\n",
    "    def get_station(self):\n",
    "        return self.gare\n",
    "\n",
    "    def get_train(self):\n",
    "        return self.train"
   ],
   "metadata": {
    "collapsed": false,
    "pycharm": {
     "name": "#%%\n"
    }
   }
  },
  {
   "cell_type": "code",
   "execution_count": 53,
   "outputs": [],
   "source": [
    "station_df = Station(df)"
   ],
   "metadata": {
    "collapsed": false,
    "pycharm": {
     "name": "#%%\n"
    }
   }
  },
  {
   "cell_type": "code",
   "execution_count": 54,
   "outputs": [],
   "source": [
    "p = station_df.get_train()\n",
    "l = []\n",
    "for s in p:\n",
    "    l.append(s.to_dict())"
   ],
   "metadata": {
    "collapsed": false,
    "pycharm": {
     "name": "#%%\n"
    }
   }
  },
  {
   "cell_type": "code",
   "execution_count": 55,
   "outputs": [
    {
     "data": {
      "text/plain": "[{'num': 'EPAF43',\n  'miss': 'EPAF',\n  'date': '21/06/2022 09:50',\n  'mode': 'R',\n  'term': 87001479,\n  'direction': 0,\n  'etat': ''},\n {'num': 'PIER48',\n  'miss': 'PIER',\n  'date': '21/06/2022 09:50',\n  'mode': 'R',\n  'term': 87758896,\n  'direction': 0,\n  'etat': ''},\n {'num': 'ILOT45',\n  'miss': 'ILOT',\n  'date': '21/06/2022 09:52',\n  'mode': 'R',\n  'term': 87271528,\n  'direction': 0,\n  'etat': ''},\n {'num': 'SORI46',\n  'miss': 'SORI',\n  'date': '21/06/2022 09:53',\n  'mode': 'R',\n  'term': 87758722,\n  'direction': 0,\n  'etat': ''},\n {'num': 'KARI50',\n  'miss': 'KARI',\n  'date': '21/06/2022 09:54',\n  'mode': 'R',\n  'term': 87393579,\n  'direction': 1,\n  'etat': ''},\n {'num': 'ERIC47',\n  'miss': 'ERIC',\n  'date': '21/06/2022 09:58',\n  'mode': 'R',\n  'term': 87001479,\n  'direction': 0,\n  'etat': ''},\n {'num': 'SORI52',\n  'miss': 'SORI',\n  'date': '21/06/2022 09:59',\n  'mode': 'R',\n  'term': 87758623,\n  'direction': 1,\n  'etat': 'Supprimé'},\n {'num': 'EPAF49',\n  'miss': 'EPAF',\n  'date': '21/06/2022 10:00',\n  'mode': 'R',\n  'term': 87001479,\n  'direction': 0,\n  'etat': ''},\n {'num': 'ILOT51',\n  'miss': 'ILOT',\n  'date': '21/06/2022 10:06',\n  'mode': 'R',\n  'term': 87271528,\n  'direction': 1,\n  'etat': ''},\n {'num': 'KARI56',\n  'miss': 'KARI',\n  'date': '21/06/2022 10:08',\n  'mode': 'R',\n  'term': 87393579,\n  'direction': 1,\n  'etat': ''},\n {'num': 'PIER54',\n  'miss': 'PIER',\n  'date': '21/06/2022 10:09',\n  'mode': 'R',\n  'term': 87758896,\n  'direction': 1,\n  'etat': ''},\n {'num': 'ERIC53',\n  'miss': 'ERIC',\n  'date': '21/06/2022 10:12',\n  'mode': 'R',\n  'term': 87001479,\n  'direction': 1,\n  'etat': ''},\n {'num': 'SORI58',\n  'miss': 'SORI',\n  'date': '21/06/2022 10:14',\n  'mode': 'R',\n  'term': 87758722,\n  'direction': 1,\n  'etat': ''}]"
     },
     "execution_count": 55,
     "metadata": {},
     "output_type": "execute_result"
    }
   ],
   "source": [
    "l"
   ],
   "metadata": {
    "collapsed": false,
    "pycharm": {
     "name": "#%%\n"
    }
   }
  },
  {
   "cell_type": "code",
   "execution_count": 17,
   "outputs": [],
   "source": [
    "pattern = r'[A-Z]{4}[0-9]{2}'"
   ],
   "metadata": {
    "collapsed": false,
    "pycharm": {
     "name": "#%%\n"
    }
   }
  },
  {
   "cell_type": "code",
   "execution_count": 18,
   "outputs": [],
   "source": [
    "filtered = [s for s in station_df.get_train() if re.match(pattern, s.get_num())]"
   ],
   "metadata": {
    "collapsed": false,
    "pycharm": {
     "name": "#%%\n"
    }
   }
  },
  {
   "cell_type": "code",
   "execution_count": 19,
   "outputs": [
    {
     "name": "stdout",
     "output_type": "stream",
     "text": [
      "('PIER60', 'PIER', '21/06/2022 09:42', 'R', 87758896, 0, '')\n"
     ]
    }
   ],
   "source": [
    "print(filtered[1].get_train())"
   ],
   "metadata": {
    "collapsed": false,
    "pycharm": {
     "name": "#%%\n"
    }
   }
  },
  {
   "cell_type": "code",
   "execution_count": 19,
   "outputs": [],
   "source": [],
   "metadata": {
    "collapsed": false,
    "pycharm": {
     "name": "#%%\n"
    }
   }
  },
  {
   "cell_type": "code",
   "execution_count": 20,
   "outputs": [],
   "source": [
    "l = []\n",
    "for s in filtered:\n",
    "    l.append(s.to_dict())\n"
   ],
   "metadata": {
    "collapsed": false,
    "pycharm": {
     "name": "#%%\n"
    }
   }
  },
  {
   "cell_type": "code",
   "execution_count": 21,
   "outputs": [
    {
     "data": {
      "text/plain": "[{'num': 'KARI56',\n  'miss': 'KARI',\n  'date': '21/06/2022 09:36',\n  'mode': 'R',\n  'term': 87393579,\n  'direction': 1,\n  'etat': ''},\n {'num': 'PIER60',\n  'miss': 'PIER',\n  'date': '21/06/2022 09:42',\n  'mode': 'R',\n  'term': 87758896,\n  'direction': 0,\n  'etat': ''},\n {'num': 'KARI62',\n  'miss': 'KARI',\n  'date': '21/06/2022 09:54',\n  'mode': 'R',\n  'term': 87393579,\n  'direction': 0,\n  'etat': ''},\n {'num': 'PIER66',\n  'miss': 'PIER',\n  'date': '21/06/2022 09:59',\n  'mode': 'R',\n  'term': 87758896,\n  'direction': 0,\n  'etat': ''},\n {'num': 'KARI68',\n  'miss': 'KARI',\n  'date': '21/06/2022 10:06',\n  'mode': 'R',\n  'term': 87393579,\n  'direction': 0,\n  'etat': ''},\n {'num': 'PIER72',\n  'miss': 'PIER',\n  'date': '21/06/2022 10:14',\n  'mode': 'R',\n  'term': 87758896,\n  'direction': 1,\n  'etat': ''},\n {'num': 'KARI74',\n  'miss': 'KARI',\n  'date': '21/06/2022 10:21',\n  'mode': 'R',\n  'term': 87393579,\n  'direction': 1,\n  'etat': ''},\n {'num': 'PIER78',\n  'miss': 'PIER',\n  'date': '21/06/2022 10:29',\n  'mode': 'R',\n  'term': 87758896,\n  'direction': 1,\n  'etat': ''},\n {'num': 'KARI80',\n  'miss': 'KARI',\n  'date': '21/06/2022 10:36',\n  'mode': 'R',\n  'term': 87393579,\n  'direction': 0,\n  'etat': ''},\n {'num': 'PIER84',\n  'miss': 'PIER',\n  'date': '21/06/2022 10:44',\n  'mode': 'R',\n  'term': 87758896,\n  'direction': 0,\n  'etat': ''},\n {'num': 'KARI86',\n  'miss': 'KARI',\n  'date': '21/06/2022 10:51',\n  'mode': 'R',\n  'term': 87393579,\n  'direction': 0,\n  'etat': ''},\n {'num': 'PIER90',\n  'miss': 'PIER',\n  'date': '21/06/2022 10:59',\n  'mode': 'R',\n  'term': 87758896,\n  'direction': 1,\n  'etat': ''}]"
     },
     "execution_count": 21,
     "metadata": {},
     "output_type": "execute_result"
    }
   ],
   "source": [
    "l"
   ],
   "metadata": {
    "collapsed": false,
    "pycharm": {
     "name": "#%%\n"
    }
   }
  },
  {
   "cell_type": "code",
   "execution_count": 22,
   "outputs": [
    {
     "name": "stdout",
     "output_type": "stream",
     "text": [
      "[{\"num\": \"KARI56\", \"miss\": \"KARI\", \"date\": \"21/06/2022 09:36\", \"mode\": \"R\", \"term\": 87393579, \"direction\": 1, \"etat\": \"\"}, {\"num\": \"PIER60\", \"miss\": \"PIER\", \"date\": \"21/06/2022 09:42\", \"mode\": \"R\", \"term\": 87758896, \"direction\": 0, \"etat\": \"\"}, {\"num\": \"KARI62\", \"miss\": \"KARI\", \"date\": \"21/06/2022 09:54\", \"mode\": \"R\", \"term\": 87393579, \"direction\": 0, \"etat\": \"\"}, {\"num\": \"PIER66\", \"miss\": \"PIER\", \"date\": \"21/06/2022 09:59\", \"mode\": \"R\", \"term\": 87758896, \"direction\": 0, \"etat\": \"\"}, {\"num\": \"KARI68\", \"miss\": \"KARI\", \"date\": \"21/06/2022 10:06\", \"mode\": \"R\", \"term\": 87393579, \"direction\": 0, \"etat\": \"\"}, {\"num\": \"PIER72\", \"miss\": \"PIER\", \"date\": \"21/06/2022 10:14\", \"mode\": \"R\", \"term\": 87758896, \"direction\": 1, \"etat\": \"\"}, {\"num\": \"KARI74\", \"miss\": \"KARI\", \"date\": \"21/06/2022 10:21\", \"mode\": \"R\", \"term\": 87393579, \"direction\": 1, \"etat\": \"\"}, {\"num\": \"PIER78\", \"miss\": \"PIER\", \"date\": \"21/06/2022 10:29\", \"mode\": \"R\", \"term\": 87758896, \"direction\": 1, \"etat\": \"\"}, {\"num\": \"KARI80\", \"miss\": \"KARI\", \"date\": \"21/06/2022 10:36\", \"mode\": \"R\", \"term\": 87393579, \"direction\": 0, \"etat\": \"\"}, {\"num\": \"PIER84\", \"miss\": \"PIER\", \"date\": \"21/06/2022 10:44\", \"mode\": \"R\", \"term\": 87758896, \"direction\": 0, \"etat\": \"\"}, {\"num\": \"KARI86\", \"miss\": \"KARI\", \"date\": \"21/06/2022 10:51\", \"mode\": \"R\", \"term\": 87393579, \"direction\": 0, \"etat\": \"\"}, {\"num\": \"PIER90\", \"miss\": \"PIER\", \"date\": \"21/06/2022 10:59\", \"mode\": \"R\", \"term\": 87758896, \"direction\": 1, \"etat\": \"\"}]\n"
     ]
    }
   ],
   "source": [
    "final = json.dumps(l, ensure_ascii=False).encode('utf-8').decode()\n",
    "print(final)"
   ],
   "metadata": {
    "collapsed": false,
    "pycharm": {
     "name": "#%%\n"
    }
   }
  },
  {
   "cell_type": "code",
   "execution_count": 23,
   "outputs": [],
   "source": [
    "import kafka"
   ],
   "metadata": {
    "collapsed": false,
    "pycharm": {
     "name": "#%%\n"
    }
   }
  },
  {
   "cell_type": "code",
   "execution_count": 24,
   "outputs": [],
   "source": [
    "from kafka import KafkaProducer\n",
    "\n",
    "def send_to_kafka(data):\n",
    "    brokers = 'localhost:9092'\n",
    "    topic = 'rer-b-injector-test'\n",
    "    producer = KafkaProducer(bootstrap_servers=[brokers])\n",
    "    producer.send(topic, value=json.dumps(data, ensure_ascii=False).encode('utf-8'))\n",
    "    producer.flush()"
   ],
   "metadata": {
    "collapsed": false,
    "pycharm": {
     "name": "#%%\n"
    }
   }
  },
  {
   "cell_type": "code",
   "execution_count": 25,
   "outputs": [],
   "source": [
    "send_to_kafka(l)"
   ],
   "metadata": {
    "collapsed": false,
    "pycharm": {
     "name": "#%%\n"
    }
   }
  },
  {
   "cell_type": "code",
   "execution_count": 25,
   "outputs": [],
   "source": [],
   "metadata": {
    "collapsed": false,
    "pycharm": {
     "name": "#%%\n"
    }
   }
  }
 ],
 "metadata": {
  "kernelspec": {
   "display_name": "Python 3",
   "language": "python",
   "name": "python3"
  },
  "language_info": {
   "codemirror_mode": {
    "name": "ipython",
    "version": 2
   },
   "file_extension": ".py",
   "mimetype": "text/x-python",
   "name": "python",
   "nbconvert_exporter": "python",
   "pygments_lexer": "ipython2",
   "version": "2.7.6"
  }
 },
 "nbformat": 4,
 "nbformat_minor": 0
}