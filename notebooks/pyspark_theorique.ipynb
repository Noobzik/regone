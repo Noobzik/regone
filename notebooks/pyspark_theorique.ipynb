{
 "cells": [
  {
   "cell_type": "code",
   "execution_count": 1,
   "metadata": {
    "collapsed": true,
    "pycharm": {
     "name": "#%%\n"
    }
   },
   "outputs": [],
   "source": [
    "import pyspark"
   ]
  },
  {
   "cell_type": "code",
   "execution_count": 2,
   "outputs": [
    {
     "name": "stdout",
     "output_type": "stream",
     "text": [
      "22/06/25 23:40:40 WARN Utils: Your hostname, Rakibs-MacBook-Pro.local resolves to a loopback address: 127.0.0.1; using 10.0.0.9 instead (on interface en0)\n",
      "22/06/25 23:40:40 WARN Utils: Set SPARK_LOCAL_IP if you need to bind to another address\n"
     ]
    },
    {
     "name": "stderr",
     "output_type": "stream",
     "text": [
      "Setting default log level to \"WARN\".\n",
      "To adjust logging level use sc.setLogLevel(newLevel). For SparkR, use setLogLevel(newLevel).\n"
     ]
    },
    {
     "name": "stdout",
     "output_type": "stream",
     "text": [
      "22/06/25 23:40:41 WARN NativeCodeLoader: Unable to load native-hadoop library for your platform... using builtin-java classes where applicable\n"
     ]
    }
   ],
   "source": [
    "from pyspark.sql import *\n",
    "\n",
    "spark = SparkSession.builder\\\n",
    "    .appName(\"StructuredNetworkWordCount\")\\\n",
    "    .getOrCreate()"
   ],
   "metadata": {
    "collapsed": false,
    "pycharm": {
     "name": "#%%\n"
    }
   }
  },
  {
   "cell_type": "code",
   "execution_count": 3,
   "outputs": [],
   "source": [
    "df = spark.read.format(\"csv\").load(\"../docker/airflow/data/processed/gtfs/transilien-gtfs-2022-06-24.csv\", header=True)"
   ],
   "metadata": {
    "collapsed": false,
    "pycharm": {
     "name": "#%%\n"
    }
   }
  },
  {
   "cell_type": "code",
   "execution_count": 4,
   "outputs": [],
   "source": [
    "from pyspark.sql.types import *\n",
    "from pyspark.sql.functions import *\n",
    "relation_schema = StructType()\\\n",
    "    .add(\"Gare\", StringType(), True)\\\n",
    "    .add(\"Relation\", IntegerType(), True)\\\n",
    "    .add(\"Gare Api\", IntegerType(), True)\n",
    "\n",
    "df_relation = spark.read.format(\"csv\")\\\n",
    "    .options(delimiter=';')\\\n",
    "    .schema(relation_schema)\\\n",
    "    .load(\"../docker/airflow/data/reference/relation_ordre_RER_B.csv\", header=False)"
   ],
   "metadata": {
    "collapsed": false,
    "pycharm": {
     "name": "#%%\n"
    }
   }
  },
  {
   "cell_type": "code",
   "execution_count": 5,
   "outputs": [
    {
     "name": "stdout",
     "output_type": "stream",
     "text": [
      "+--------------------+--------+--------+\n",
      "|                Gare|Relation|Gare Api|\n",
      "+--------------------+--------+--------+\n",
      "|Aéroport Charles ...|       1|87001479|\n",
      "|Aéroport CDG 1 (T...|       2|87271460|\n",
      "|Parc des Expositions|       3|87271486|\n",
      "|          Villepinte|       4|87271452|\n",
      "|   Sevran Beaudottes|       5|87271445|\n",
      "|       Mitry - Claye|       6|87271528|\n",
      "|Villeparisis - Mi...|       7|87271510|\n",
      "|         Vert Galant|       8|87271437|\n",
      "|      Sevran - Livry|       9|87271429|\n",
      "|    Aulnay-sous-Bois|      10|87271411|\n",
      "|     Le Blanc-Mesnil|      11|87271478|\n",
      "|              Drancy|      12|87271403|\n",
      "|          Le Bourget|      13|87271395|\n",
      "|La Courneuve - Au...|      14|87271304|\n",
      "|La Plaine Stade d...|      15|87164798|\n",
      "|        Gare du Nord|      16|87271007|\n",
      "| Châtelet les Halles|      17|    null|\n",
      "|Saint-Michel Notr...|      18|    null|\n",
      "|          Luxembourg|      19|    null|\n",
      "|          Port Royal|      20|    null|\n",
      "+--------------------+--------+--------+\n",
      "only showing top 20 rows\n",
      "\n"
     ]
    }
   ],
   "source": [
    "df_relation.show()"
   ],
   "metadata": {
    "collapsed": false,
    "pycharm": {
     "name": "#%%\n"
    }
   }
  },
  {
   "cell_type": "code",
   "execution_count": 6,
   "outputs": [],
   "source": [
    "df = df.drop(\"_c0\")"
   ],
   "metadata": {
    "collapsed": false,
    "pycharm": {
     "name": "#%%\n"
    }
   }
  },
  {
   "cell_type": "code",
   "execution_count": 7,
   "outputs": [
    {
     "name": "stdout",
     "output_type": "stream",
     "text": [
      "+--------------------+-----------+-------------+---------------+--------------------+--------------+--------------------+-----------+--------------+--------------------+-----------+------------+--------------+---------+\n",
      "|             trip_id|  trip_line|trip_headsign|trip_short_name|         destination|destination_id|              origin|  origin_id|time_departure|             arrival| arrival_id|time_arrival|time_travelled|direction|\n",
      "+--------------------+-----------+-------------+---------------+--------------------+--------------+--------------------+-----------+--------------+--------------------+-----------+------------+--------------+---------+\n",
      "|IDFM:TN:SNCF:31a5...|IDFM:C01743|         JEKI|         JEPI18|   Denfert-Rochereau|    IDFM:71056|Aéroport Charles ...| IDFM:73699|       82610.0|Aéroport CDG 1 (T...| IDFM:73596|     82720.0|         110.0|      0.0|\n",
      "|IDFM:TN:SNCF:31a5...|IDFM:C01743|         JEKI|         JEPI18|   Denfert-Rochereau|    IDFM:71056|Aéroport CDG 1 (T...| IDFM:73596|       82780.0|Parc des Expositions| IDFM:73568|     83060.0|         280.0|      0.0|\n",
      "|IDFM:TN:SNCF:31a5...|IDFM:C01743|         JEKI|         JEPI18|   Denfert-Rochereau|    IDFM:71056|Parc des Expositions| IDFM:73568|       83090.0|          Villepinte| IDFM:73547|     83180.0|          90.0|      0.0|\n",
      "|IDFM:TN:SNCF:31a5...|IDFM:C01743|         JEKI|         JEPI18|   Denfert-Rochereau|    IDFM:71056|          Villepinte| IDFM:73547|       83210.0|   Sevran Beaudottes| IDFM:73491|     83320.0|         110.0|      0.0|\n",
      "|IDFM:TN:SNCF:31a5...|IDFM:C01743|         JEKI|         JEPI18|   Denfert-Rochereau|    IDFM:71056|   Sevran Beaudottes| IDFM:73491|       83370.0|    Aulnay-sous-Bois| IDFM:72646|     83540.0|         170.0|      0.0|\n",
      "|IDFM:TN:SNCF:31a5...|IDFM:C01743|         JEKI|         JEPI18|   Denfert-Rochereau|    IDFM:71056|    Aulnay-sous-Bois| IDFM:72646|       83590.0|     Le Blanc-Mesnil| IDFM:72648|     83690.0|         100.0|      0.0|\n",
      "|IDFM:TN:SNCF:31a5...|IDFM:C01743|         JEKI|         JEPI18|   Denfert-Rochereau|    IDFM:71056|     Le Blanc-Mesnil| IDFM:72648|       83720.0|              Drancy| IDFM:72652|     83820.0|         100.0|      0.0|\n",
      "|IDFM:TN:SNCF:31a5...|IDFM:C01743|         JEKI|         JEPI18|   Denfert-Rochereau|    IDFM:71056|              Drancy| IDFM:72652|       83850.0|          Le Bourget| IDFM:72641|     83980.0|         130.0|      0.0|\n",
      "|IDFM:TN:SNCF:31a5...|IDFM:C01743|         JEKI|         JEPI18|   Denfert-Rochereau|    IDFM:71056|          Le Bourget| IDFM:72641|       84010.0|La Courneuve - Au...| IDFM:72598|     84190.0|         180.0|      0.0|\n",
      "|IDFM:TN:SNCF:31a5...|IDFM:C01743|         JEKI|         JEPI18|   Denfert-Rochereau|    IDFM:71056|La Courneuve - Au...| IDFM:72598|       84220.0|La Plaine Stade d...| IDFM:72211|     84340.0|         120.0|      0.0|\n",
      "|IDFM:TN:SNCF:31a5...|IDFM:C01743|         JEKI|         JEPI18|   Denfert-Rochereau|    IDFM:71056|La Plaine Stade d...| IDFM:72211|       84390.0|        Gare du Nord| IDFM:71410|     84660.0|         270.0|      0.0|\n",
      "|IDFM:TN:SNCF:31a5...|IDFM:C01743|         JEKI|         JEPI18|   Denfert-Rochereau|    IDFM:71056|        Gare du Nord| IDFM:71410|       84720.0| Châtelet les Halles|IDFM:474151|     84900.0|         180.0|      0.0|\n",
      "|IDFM:TN:SNCF:31a5...|IDFM:C01743|         JEKI|         JEPI18|   Denfert-Rochereau|    IDFM:71056| Châtelet les Halles|IDFM:474151|       84936.0|Saint-Michel Notr...| IDFM:73620|     85018.0|          82.0|      0.0|\n",
      "|IDFM:TN:SNCF:31a5...|IDFM:C01743|         JEKI|         JEPI18|   Denfert-Rochereau|    IDFM:71056|Saint-Michel Notr...| IDFM:73620|       85050.0|          Luxembourg| IDFM:71161|     85132.0|          82.0|      0.0|\n",
      "|IDFM:TN:SNCF:31a5...|IDFM:C01743|         JEKI|         JEPI18|   Denfert-Rochereau|    IDFM:71056|          Luxembourg| IDFM:71161|       85170.0|   Denfert-Rochereau| IDFM:71056|     85288.0|         118.0|      0.0|\n",
      "|IDFM:TN:SNCF:1dcc...|IDFM:C01743|         JEKI|         JENO92|   Denfert-Rochereau|    IDFM:71056|Aéroport Charles ...| IDFM:73699|       77570.0|Aéroport CDG 1 (T...| IDFM:73596|     77680.0|         110.0|      0.0|\n",
      "|IDFM:TN:SNCF:1dcc...|IDFM:C01743|         JEKI|         JENO92|   Denfert-Rochereau|    IDFM:71056|Aéroport CDG 1 (T...| IDFM:73596|       77740.0|Parc des Expositions| IDFM:73568|     78020.0|         280.0|      0.0|\n",
      "|IDFM:TN:SNCF:1dcc...|IDFM:C01743|         JEKI|         JENO92|   Denfert-Rochereau|    IDFM:71056|Parc des Expositions| IDFM:73568|       78050.0|          Villepinte| IDFM:73547|     78140.0|          90.0|      0.0|\n",
      "|IDFM:TN:SNCF:1dcc...|IDFM:C01743|         JEKI|         JENO92|   Denfert-Rochereau|    IDFM:71056|          Villepinte| IDFM:73547|       78170.0|   Sevran Beaudottes| IDFM:73491|     78280.0|         110.0|      0.0|\n",
      "|IDFM:TN:SNCF:1dcc...|IDFM:C01743|         JEKI|         JENO92|   Denfert-Rochereau|    IDFM:71056|   Sevran Beaudottes| IDFM:73491|       78330.0|    Aulnay-sous-Bois| IDFM:72646|     78500.0|         170.0|      0.0|\n",
      "|IDFM:TN:SNCF:1dcc...|IDFM:C01743|         JEKI|         JENO92|   Denfert-Rochereau|    IDFM:71056|    Aulnay-sous-Bois| IDFM:72646|       78550.0|     Le Blanc-Mesnil| IDFM:72648|     78650.0|         100.0|      0.0|\n",
      "|IDFM:TN:SNCF:1dcc...|IDFM:C01743|         JEKI|         JENO92|   Denfert-Rochereau|    IDFM:71056|     Le Blanc-Mesnil| IDFM:72648|       78680.0|              Drancy| IDFM:72652|     78780.0|         100.0|      0.0|\n",
      "|IDFM:TN:SNCF:1dcc...|IDFM:C01743|         JEKI|         JENO92|   Denfert-Rochereau|    IDFM:71056|              Drancy| IDFM:72652|       78810.0|          Le Bourget| IDFM:72641|     78940.0|         130.0|      0.0|\n",
      "|IDFM:TN:SNCF:1dcc...|IDFM:C01743|         JEKI|         JENO92|   Denfert-Rochereau|    IDFM:71056|          Le Bourget| IDFM:72641|       78970.0|La Courneuve - Au...| IDFM:72598|     79150.0|         180.0|      0.0|\n",
      "|IDFM:TN:SNCF:1dcc...|IDFM:C01743|         JEKI|         JENO92|   Denfert-Rochereau|    IDFM:71056|La Courneuve - Au...| IDFM:72598|       79180.0|La Plaine Stade d...| IDFM:72211|     79300.0|         120.0|      0.0|\n",
      "|IDFM:TN:SNCF:1dcc...|IDFM:C01743|         JEKI|         JENO92|   Denfert-Rochereau|    IDFM:71056|La Plaine Stade d...| IDFM:72211|       79350.0|        Gare du Nord| IDFM:71410|     79620.0|         270.0|      0.0|\n",
      "|IDFM:TN:SNCF:1dcc...|IDFM:C01743|         JEKI|         JENO92|   Denfert-Rochereau|    IDFM:71056|        Gare du Nord| IDFM:71410|       79680.0| Châtelet les Halles|IDFM:474151|     79860.0|         180.0|      0.0|\n",
      "|IDFM:TN:SNCF:1dcc...|IDFM:C01743|         JEKI|         JENO92|   Denfert-Rochereau|    IDFM:71056| Châtelet les Halles|IDFM:474151|       79896.0|Saint-Michel Notr...| IDFM:73620|     79978.0|          82.0|      0.0|\n",
      "|IDFM:TN:SNCF:1dcc...|IDFM:C01743|         JEKI|         JENO92|   Denfert-Rochereau|    IDFM:71056|Saint-Michel Notr...| IDFM:73620|       80010.0|          Luxembourg| IDFM:71161|     80092.0|          82.0|      0.0|\n",
      "|IDFM:TN:SNCF:1dcc...|IDFM:C01743|         JEKI|         JENO92|   Denfert-Rochereau|    IDFM:71056|          Luxembourg| IDFM:71161|       80130.0|   Denfert-Rochereau| IDFM:71056|     80248.0|         118.0|      0.0|\n",
      "|IDFM:TN:SNCF:5992...|IDFM:C01743|         STEL|         STET06|            Robinson|   IDFM:427230|Aéroport Charles ...| IDFM:73699|       80090.0|Aéroport CDG 1 (T...| IDFM:73596|     80200.0|         110.0|      0.0|\n",
      "|IDFM:TN:SNCF:5992...|IDFM:C01743|         STEL|         STET06|            Robinson|   IDFM:427230|Aéroport CDG 1 (T...| IDFM:73596|       80260.0|Parc des Expositions| IDFM:73568|     80540.0|         280.0|      0.0|\n",
      "|IDFM:TN:SNCF:5992...|IDFM:C01743|         STEL|         STET06|            Robinson|   IDFM:427230|Parc des Expositions| IDFM:73568|       80570.0|          Villepinte| IDFM:73547|     80660.0|          90.0|      0.0|\n",
      "|IDFM:TN:SNCF:5992...|IDFM:C01743|         STEL|         STET06|            Robinson|   IDFM:427230|          Villepinte| IDFM:73547|       80690.0|   Sevran Beaudottes| IDFM:73491|     80810.0|         120.0|      0.0|\n",
      "|IDFM:TN:SNCF:5992...|IDFM:C01743|         STEL|         STET06|            Robinson|   IDFM:427230|   Sevran Beaudottes| IDFM:73491|       80860.0|    Aulnay-sous-Bois| IDFM:72646|     81020.0|         160.0|      0.0|\n",
      "|IDFM:TN:SNCF:5992...|IDFM:C01743|         STEL|         STET06|            Robinson|   IDFM:427230|    Aulnay-sous-Bois| IDFM:72646|       81070.0|     Le Blanc-Mesnil| IDFM:72648|     81170.0|         100.0|      0.0|\n",
      "|IDFM:TN:SNCF:5992...|IDFM:C01743|         STEL|         STET06|            Robinson|   IDFM:427230|     Le Blanc-Mesnil| IDFM:72648|       81200.0|              Drancy| IDFM:72652|     81300.0|         100.0|      0.0|\n",
      "|IDFM:TN:SNCF:5992...|IDFM:C01743|         STEL|         STET06|            Robinson|   IDFM:427230|              Drancy| IDFM:72652|       81330.0|          Le Bourget| IDFM:72641|     81460.0|         130.0|      0.0|\n",
      "|IDFM:TN:SNCF:5992...|IDFM:C01743|         STEL|         STET06|            Robinson|   IDFM:427230|          Le Bourget| IDFM:72641|       81490.0|La Courneuve - Au...| IDFM:72598|     81670.0|         180.0|      0.0|\n",
      "|IDFM:TN:SNCF:5992...|IDFM:C01743|         STEL|         STET06|            Robinson|   IDFM:427230|La Courneuve - Au...| IDFM:72598|       81700.0|La Plaine Stade d...| IDFM:72211|     81820.0|         120.0|      0.0|\n",
      "|IDFM:TN:SNCF:5992...|IDFM:C01743|         STEL|         STET06|            Robinson|   IDFM:427230|La Plaine Stade d...| IDFM:72211|       81870.0|        Gare du Nord| IDFM:71410|     82140.0|         270.0|      0.0|\n",
      "|IDFM:TN:SNCF:5992...|IDFM:C01743|         STEL|         STET06|            Robinson|   IDFM:427230|        Gare du Nord| IDFM:71410|       82200.0| Châtelet les Halles|IDFM:474151|     82380.0|         180.0|      0.0|\n",
      "|IDFM:TN:SNCF:5992...|IDFM:C01743|         STEL|         STET06|            Robinson|   IDFM:427230| Châtelet les Halles|IDFM:474151|       82416.0|Saint-Michel Notr...| IDFM:73620|     82498.0|          82.0|      0.0|\n",
      "|IDFM:TN:SNCF:5992...|IDFM:C01743|         STEL|         STET06|            Robinson|   IDFM:427230|Saint-Michel Notr...| IDFM:73620|       82530.0|          Luxembourg| IDFM:71161|     82612.0|          82.0|      0.0|\n",
      "|IDFM:TN:SNCF:5992...|IDFM:C01743|         STEL|         STET06|            Robinson|   IDFM:427230|          Luxembourg| IDFM:71161|       82650.0|   Denfert-Rochereau| IDFM:71056|     82769.0|         119.0|      0.0|\n",
      "|IDFM:TN:SNCF:5992...|IDFM:C01743|         STEL|         STET06|            Robinson|   IDFM:427230|   Denfert-Rochereau| IDFM:71056|       82819.0|  Cité Universitaire| IDFM:70623|     82927.0|         108.0|      0.0|\n",
      "|IDFM:TN:SNCF:5992...|IDFM:C01743|         STEL|         STET06|            Robinson|   IDFM:427230|  Cité Universitaire| IDFM:70623|       82955.0|            Gentilly| IDFM:70543|     83022.0|          67.0|      0.0|\n",
      "|IDFM:TN:SNCF:5992...|IDFM:C01743|         STEL|         STET06|            Robinson|   IDFM:427230|            Gentilly| IDFM:70543|       83045.0|             Laplace| IDFM:70427|     83122.0|          77.0|      0.0|\n",
      "|IDFM:TN:SNCF:5992...|IDFM:C01743|         STEL|         STET06|            Robinson|   IDFM:427230|             Laplace| IDFM:70427|       83150.0|    Arcueil - Cachan| IDFM:70263|     83241.0|          91.0|      0.0|\n",
      "|IDFM:TN:SNCF:5992...|IDFM:C01743|         STEL|         STET06|            Robinson|   IDFM:427230|    Arcueil - Cachan| IDFM:70263|       83270.0|             Bagneux| IDFM:70210|     83340.0|          70.0|      0.0|\n",
      "|IDFM:TN:SNCF:5992...|IDFM:C01743|         STEL|         STET06|            Robinson|   IDFM:427230|             Bagneux| IDFM:70210|       83370.0|      Bourg-la-Reine| IDFM:70033|     83493.0|         123.0|      0.0|\n",
      "|IDFM:TN:SNCF:5992...|IDFM:C01743|         STEL|         STET06|            Robinson|   IDFM:427230|      Bourg-la-Reine| IDFM:70033|       83527.0|              Sceaux| IDFM:74265|     83614.0|          87.0|      0.0|\n",
      "|IDFM:TN:SNCF:5992...|IDFM:C01743|         STEL|         STET06|            Robinson|   IDFM:427230|              Sceaux| IDFM:74265|       83638.0|  Fontenay-aux-Roses| IDFM:70133|     83713.0|          75.0|      0.0|\n",
      "|IDFM:TN:SNCF:5992...|IDFM:C01743|         STEL|         STET06|            Robinson|   IDFM:427230|  Fontenay-aux-Roses| IDFM:70133|       83737.0|            Robinson|IDFM:427230|     83853.0|         116.0|      0.0|\n",
      "|IDFM:TN:SNCF:14e5...|IDFM:C01743|         STEL|         STUK80|            Robinson|   IDFM:427230|Aéroport Charles ...| IDFM:73699|       75050.0|Aéroport CDG 1 (T...| IDFM:73596|     75160.0|         110.0|      0.0|\n",
      "|IDFM:TN:SNCF:14e5...|IDFM:C01743|         STEL|         STUK80|            Robinson|   IDFM:427230|Aéroport CDG 1 (T...| IDFM:73596|       75220.0|Parc des Expositions| IDFM:73568|     75500.0|         280.0|      0.0|\n",
      "|IDFM:TN:SNCF:14e5...|IDFM:C01743|         STEL|         STUK80|            Robinson|   IDFM:427230|Parc des Expositions| IDFM:73568|       75530.0|          Villepinte| IDFM:73547|     75620.0|          90.0|      0.0|\n",
      "|IDFM:TN:SNCF:14e5...|IDFM:C01743|         STEL|         STUK80|            Robinson|   IDFM:427230|          Villepinte| IDFM:73547|       75650.0|   Sevran Beaudottes| IDFM:73491|     75770.0|         120.0|      0.0|\n",
      "|IDFM:TN:SNCF:14e5...|IDFM:C01743|         STEL|         STUK80|            Robinson|   IDFM:427230|   Sevran Beaudottes| IDFM:73491|       75820.0|    Aulnay-sous-Bois| IDFM:72646|     75980.0|         160.0|      0.0|\n",
      "|IDFM:TN:SNCF:14e5...|IDFM:C01743|         STEL|         STUK80|            Robinson|   IDFM:427230|    Aulnay-sous-Bois| IDFM:72646|       76030.0|     Le Blanc-Mesnil| IDFM:72648|     76130.0|         100.0|      0.0|\n",
      "|IDFM:TN:SNCF:14e5...|IDFM:C01743|         STEL|         STUK80|            Robinson|   IDFM:427230|     Le Blanc-Mesnil| IDFM:72648|       76160.0|              Drancy| IDFM:72652|     76260.0|         100.0|      0.0|\n",
      "|IDFM:TN:SNCF:14e5...|IDFM:C01743|         STEL|         STUK80|            Robinson|   IDFM:427230|              Drancy| IDFM:72652|       76290.0|          Le Bourget| IDFM:72641|     76420.0|         130.0|      0.0|\n",
      "|IDFM:TN:SNCF:14e5...|IDFM:C01743|         STEL|         STUK80|            Robinson|   IDFM:427230|          Le Bourget| IDFM:72641|       76450.0|La Courneuve - Au...| IDFM:72598|     76630.0|         180.0|      0.0|\n",
      "|IDFM:TN:SNCF:14e5...|IDFM:C01743|         STEL|         STUK80|            Robinson|   IDFM:427230|La Courneuve - Au...| IDFM:72598|       76660.0|La Plaine Stade d...| IDFM:72211|     76780.0|         120.0|      0.0|\n",
      "|IDFM:TN:SNCF:14e5...|IDFM:C01743|         STEL|         STUK80|            Robinson|   IDFM:427230|La Plaine Stade d...| IDFM:72211|       76830.0|        Gare du Nord| IDFM:71410|     77100.0|         270.0|      0.0|\n",
      "|IDFM:TN:SNCF:14e5...|IDFM:C01743|         STEL|         STUK80|            Robinson|   IDFM:427230|        Gare du Nord| IDFM:71410|       77160.0| Châtelet les Halles|IDFM:474151|     77340.0|         180.0|      0.0|\n",
      "|IDFM:TN:SNCF:14e5...|IDFM:C01743|         STEL|         STUK80|            Robinson|   IDFM:427230| Châtelet les Halles|IDFM:474151|       77376.0|Saint-Michel Notr...| IDFM:73620|     77458.0|          82.0|      0.0|\n",
      "|IDFM:TN:SNCF:14e5...|IDFM:C01743|         STEL|         STUK80|            Robinson|   IDFM:427230|Saint-Michel Notr...| IDFM:73620|       77495.0|          Luxembourg| IDFM:71161|     77577.0|          82.0|      0.0|\n",
      "|IDFM:TN:SNCF:14e5...|IDFM:C01743|         STEL|         STUK80|            Robinson|   IDFM:427230|          Luxembourg| IDFM:71161|       77620.0|   Denfert-Rochereau| IDFM:71056|     77739.0|         119.0|      0.0|\n",
      "|IDFM:TN:SNCF:14e5...|IDFM:C01743|         STEL|         STUK80|            Robinson|   IDFM:427230|   Denfert-Rochereau| IDFM:71056|       77789.0|  Cité Universitaire| IDFM:70623|     77897.0|         108.0|      0.0|\n",
      "|IDFM:TN:SNCF:14e5...|IDFM:C01743|         STEL|         STUK80|            Robinson|   IDFM:427230|  Cité Universitaire| IDFM:70623|       77930.0|            Gentilly| IDFM:70543|     77997.0|          67.0|      0.0|\n",
      "|IDFM:TN:SNCF:14e5...|IDFM:C01743|         STEL|         STUK80|            Robinson|   IDFM:427230|            Gentilly| IDFM:70543|       78020.0|             Laplace| IDFM:70427|     78097.0|          77.0|      0.0|\n",
      "|IDFM:TN:SNCF:14e5...|IDFM:C01743|         STEL|         STUK80|            Robinson|   IDFM:427230|             Laplace| IDFM:70427|       78125.0|    Arcueil - Cachan| IDFM:70263|     78216.0|          91.0|      0.0|\n",
      "|IDFM:TN:SNCF:14e5...|IDFM:C01743|         STEL|         STUK80|            Robinson|   IDFM:427230|    Arcueil - Cachan| IDFM:70263|       78246.0|             Bagneux| IDFM:70210|     78316.0|          70.0|      0.0|\n",
      "|IDFM:TN:SNCF:14e5...|IDFM:C01743|         STEL|         STUK80|            Robinson|   IDFM:427230|             Bagneux| IDFM:70210|       78347.0|      Bourg-la-Reine| IDFM:70033|     78470.0|         123.0|      0.0|\n",
      "|IDFM:TN:SNCF:14e5...|IDFM:C01743|         STEL|         STUK80|            Robinson|   IDFM:427230|      Bourg-la-Reine| IDFM:70033|       78504.0|              Sceaux| IDFM:74265|     78591.0|          87.0|      0.0|\n",
      "|IDFM:TN:SNCF:14e5...|IDFM:C01743|         STEL|         STUK80|            Robinson|   IDFM:427230|              Sceaux| IDFM:74265|       78615.0|  Fontenay-aux-Roses| IDFM:70133|     78690.0|          75.0|      0.0|\n",
      "|IDFM:TN:SNCF:14e5...|IDFM:C01743|         STEL|         STUK80|            Robinson|   IDFM:427230|  Fontenay-aux-Roses| IDFM:70133|       78714.0|            Robinson|IDFM:427230|     78830.0|         116.0|      0.0|\n",
      "|IDFM:TN:SNCF:c5ee...|IDFM:C01743|         STEL|         STOS04|            Robinson|   IDFM:427230|Aéroport Charles ...| IDFM:73699|       17630.0|Aéroport CDG 1 (T...| IDFM:73596|     17740.0|         110.0|      0.0|\n",
      "|IDFM:TN:SNCF:c5ee...|IDFM:C01743|         STEL|         STOS04|            Robinson|   IDFM:427230|Aéroport CDG 1 (T...| IDFM:73596|       17800.0|Parc des Expositions| IDFM:73568|     18080.0|         280.0|      0.0|\n",
      "|IDFM:TN:SNCF:c5ee...|IDFM:C01743|         STEL|         STOS04|            Robinson|   IDFM:427230|Parc des Expositions| IDFM:73568|       18110.0|          Villepinte| IDFM:73547|     18200.0|          90.0|      0.0|\n",
      "|IDFM:TN:SNCF:c5ee...|IDFM:C01743|         STEL|         STOS04|            Robinson|   IDFM:427230|          Villepinte| IDFM:73547|       18230.0|   Sevran Beaudottes| IDFM:73491|     18340.0|         110.0|      0.0|\n",
      "|IDFM:TN:SNCF:c5ee...|IDFM:C01743|         STEL|         STOS04|            Robinson|   IDFM:427230|   Sevran Beaudottes| IDFM:73491|       18390.0|    Aulnay-sous-Bois| IDFM:72646|     18560.0|         170.0|      0.0|\n",
      "|IDFM:TN:SNCF:c5ee...|IDFM:C01743|         STEL|         STOS04|            Robinson|   IDFM:427230|    Aulnay-sous-Bois| IDFM:72646|       18610.0|     Le Blanc-Mesnil| IDFM:72648|     18710.0|         100.0|      0.0|\n",
      "|IDFM:TN:SNCF:c5ee...|IDFM:C01743|         STEL|         STOS04|            Robinson|   IDFM:427230|     Le Blanc-Mesnil| IDFM:72648|       18740.0|              Drancy| IDFM:72652|     18840.0|         100.0|      0.0|\n",
      "|IDFM:TN:SNCF:c5ee...|IDFM:C01743|         STEL|         STOS04|            Robinson|   IDFM:427230|              Drancy| IDFM:72652|       18870.0|          Le Bourget| IDFM:72641|     19000.0|         130.0|      0.0|\n",
      "|IDFM:TN:SNCF:c5ee...|IDFM:C01743|         STEL|         STOS04|            Robinson|   IDFM:427230|          Le Bourget| IDFM:72641|       19030.0|La Courneuve - Au...| IDFM:72598|     19210.0|         180.0|      0.0|\n",
      "|IDFM:TN:SNCF:c5ee...|IDFM:C01743|         STEL|         STOS04|            Robinson|   IDFM:427230|La Courneuve - Au...| IDFM:72598|       19240.0|La Plaine Stade d...| IDFM:72211|     19360.0|         120.0|      0.0|\n",
      "|IDFM:TN:SNCF:c5ee...|IDFM:C01743|         STEL|         STOS04|            Robinson|   IDFM:427230|La Plaine Stade d...| IDFM:72211|       19410.0|        Gare du Nord| IDFM:71410|     19680.0|         270.0|      0.0|\n",
      "|IDFM:TN:SNCF:c5ee...|IDFM:C01743|         STEL|         STOS04|            Robinson|   IDFM:427230|        Gare du Nord| IDFM:71410|       19740.0| Châtelet les Halles|IDFM:474151|     19920.0|         180.0|      0.0|\n",
      "|IDFM:TN:SNCF:c5ee...|IDFM:C01743|         STEL|         STOS04|            Robinson|   IDFM:427230| Châtelet les Halles|IDFM:474151|       19956.0|Saint-Michel Notr...| IDFM:73620|     20038.0|          82.0|      0.0|\n",
      "|IDFM:TN:SNCF:c5ee...|IDFM:C01743|         STEL|         STOS04|            Robinson|   IDFM:427230|Saint-Michel Notr...| IDFM:73620|       20075.0|          Luxembourg| IDFM:71161|     20157.0|          82.0|      0.0|\n",
      "|IDFM:TN:SNCF:c5ee...|IDFM:C01743|         STEL|         STOS04|            Robinson|   IDFM:427230|          Luxembourg| IDFM:71161|       20200.0|   Denfert-Rochereau| IDFM:71056|     20319.0|         119.0|      0.0|\n",
      "|IDFM:TN:SNCF:c5ee...|IDFM:C01743|         STEL|         STOS04|            Robinson|   IDFM:427230|   Denfert-Rochereau| IDFM:71056|       20369.0|  Cité Universitaire| IDFM:70623|     20477.0|         108.0|      0.0|\n",
      "|IDFM:TN:SNCF:c5ee...|IDFM:C01743|         STEL|         STOS04|            Robinson|   IDFM:427230|  Cité Universitaire| IDFM:70623|       20510.0|            Gentilly| IDFM:70543|     20577.0|          67.0|      0.0|\n",
      "|IDFM:TN:SNCF:c5ee...|IDFM:C01743|         STEL|         STOS04|            Robinson|   IDFM:427230|            Gentilly| IDFM:70543|       20600.0|             Laplace| IDFM:70427|     20677.0|          77.0|      0.0|\n",
      "|IDFM:TN:SNCF:c5ee...|IDFM:C01743|         STEL|         STOS04|            Robinson|   IDFM:427230|             Laplace| IDFM:70427|       20705.0|    Arcueil - Cachan| IDFM:70263|     20796.0|          91.0|      0.0|\n",
      "|IDFM:TN:SNCF:c5ee...|IDFM:C01743|         STEL|         STOS04|            Robinson|   IDFM:427230|    Arcueil - Cachan| IDFM:70263|       20826.0|             Bagneux| IDFM:70210|     20896.0|          70.0|      0.0|\n",
      "|IDFM:TN:SNCF:c5ee...|IDFM:C01743|         STEL|         STOS04|            Robinson|   IDFM:427230|             Bagneux| IDFM:70210|       20927.0|      Bourg-la-Reine| IDFM:70033|     21050.0|         123.0|      0.0|\n",
      "|IDFM:TN:SNCF:c5ee...|IDFM:C01743|         STEL|         STOS04|            Robinson|   IDFM:427230|      Bourg-la-Reine| IDFM:70033|       21084.0|              Sceaux| IDFM:74265|     21171.0|          87.0|      0.0|\n",
      "|IDFM:TN:SNCF:c5ee...|IDFM:C01743|         STEL|         STOS04|            Robinson|   IDFM:427230|              Sceaux| IDFM:74265|       21195.0|  Fontenay-aux-Roses| IDFM:70133|     21270.0|          75.0|      0.0|\n",
      "|IDFM:TN:SNCF:c5ee...|IDFM:C01743|         STEL|         STOS04|            Robinson|   IDFM:427230|  Fontenay-aux-Roses| IDFM:70133|       21294.0|            Robinson|IDFM:427230|     21410.0|         116.0|      0.0|\n",
      "|IDFM:TN:SNCF:c348...|IDFM:C01743|         JOLO|         JONI26|   Denfert-Rochereau|    IDFM:71056|       Mitry - Claye| IDFM:69065|       84310.0|Villeparisis - Mi...| IDFM:68916|     84520.0|         210.0|      0.0|\n",
      "|IDFM:TN:SNCF:c348...|IDFM:C01743|         JOLO|         JONI26|   Denfert-Rochereau|    IDFM:71056|Villeparisis - Mi...| IDFM:68916|       84550.0|         Vert Galant| IDFM:73482|     84700.0|         150.0|      0.0|\n",
      "|IDFM:TN:SNCF:c348...|IDFM:C01743|         JOLO|         JONI26|   Denfert-Rochereau|    IDFM:71056|         Vert Galant| IDFM:73482|       84730.0|      Sevran - Livry| IDFM:73439|     84940.0|         210.0|      0.0|\n",
      "|IDFM:TN:SNCF:c348...|IDFM:C01743|         JOLO|         JONI26|   Denfert-Rochereau|    IDFM:71056|      Sevran - Livry| IDFM:73439|       84990.0|    Aulnay-sous-Bois| IDFM:72646|     85160.0|         170.0|      0.0|\n",
      "|IDFM:TN:SNCF:c348...|IDFM:C01743|         JOLO|         JONI26|   Denfert-Rochereau|    IDFM:71056|    Aulnay-sous-Bois| IDFM:72646|       85210.0|     Le Blanc-Mesnil| IDFM:72648|     85310.0|         100.0|      0.0|\n",
      "|IDFM:TN:SNCF:c348...|IDFM:C01743|         JOLO|         JONI26|   Denfert-Rochereau|    IDFM:71056|     Le Blanc-Mesnil| IDFM:72648|       85340.0|              Drancy| IDFM:72652|     85440.0|         100.0|      0.0|\n",
      "|IDFM:TN:SNCF:c348...|IDFM:C01743|         JOLO|         JONI26|   Denfert-Rochereau|    IDFM:71056|              Drancy| IDFM:72652|       85470.0|          Le Bourget| IDFM:72641|     85610.0|         140.0|      0.0|\n",
      "|IDFM:TN:SNCF:c348...|IDFM:C01743|         JOLO|         JONI26|   Denfert-Rochereau|    IDFM:71056|          Le Bourget| IDFM:72641|       85640.0|La Courneuve - Au...| IDFM:72598|     85810.0|         170.0|      0.0|\n",
      "|IDFM:TN:SNCF:c348...|IDFM:C01743|         JOLO|         JONI26|   Denfert-Rochereau|    IDFM:71056|La Courneuve - Au...| IDFM:72598|       85840.0|La Plaine Stade d...| IDFM:72211|     85960.0|         120.0|      0.0|\n",
      "|IDFM:TN:SNCF:c348...|IDFM:C01743|         JOLO|         JONI26|   Denfert-Rochereau|    IDFM:71056|La Plaine Stade d...| IDFM:72211|       86010.0|        Gare du Nord| IDFM:71410|     86280.0|         270.0|      0.0|\n",
      "|IDFM:TN:SNCF:c348...|IDFM:C01743|         JOLO|         JONI26|   Denfert-Rochereau|    IDFM:71056|        Gare du Nord| IDFM:71410|       86340.0| Châtelet les Halles|IDFM:474151|     86520.0|         180.0|      0.0|\n",
      "|IDFM:TN:SNCF:c348...|IDFM:C01743|         JOLO|         JONI26|   Denfert-Rochereau|    IDFM:71056| Châtelet les Halles|IDFM:474151|       86556.0|Saint-Michel Notr...| IDFM:73620|     86638.0|          82.0|      0.0|\n",
      "|IDFM:TN:SNCF:c348...|IDFM:C01743|         JOLO|         JONI26|   Denfert-Rochereau|    IDFM:71056|Saint-Michel Notr...| IDFM:73620|       86670.0|          Luxembourg| IDFM:71161|     86752.0|          82.0|      0.0|\n",
      "|IDFM:TN:SNCF:c348...|IDFM:C01743|         JOLO|         JONI26|   Denfert-Rochereau|    IDFM:71056|          Luxembourg| IDFM:71161|       86790.0|   Denfert-Rochereau| IDFM:71056|     86908.0|         118.0|      0.0|\n",
      "|IDFM:TN:SNCF:8927...|IDFM:C01743|         JOLO|         JONI10|   Denfert-Rochereau|    IDFM:71056|       Mitry - Claye| IDFM:69065|       80890.0|Villeparisis - Mi...| IDFM:68916|     81100.0|         210.0|      0.0|\n",
      "|IDFM:TN:SNCF:8927...|IDFM:C01743|         JOLO|         JONI10|   Denfert-Rochereau|    IDFM:71056|Villeparisis - Mi...| IDFM:68916|       81130.0|         Vert Galant| IDFM:73482|     81280.0|         150.0|      0.0|\n",
      "|IDFM:TN:SNCF:8927...|IDFM:C01743|         JOLO|         JONI10|   Denfert-Rochereau|    IDFM:71056|         Vert Galant| IDFM:73482|       81310.0|      Sevran - Livry| IDFM:73439|     81520.0|         210.0|      0.0|\n",
      "|IDFM:TN:SNCF:8927...|IDFM:C01743|         JOLO|         JONI10|   Denfert-Rochereau|    IDFM:71056|      Sevran - Livry| IDFM:73439|       81570.0|    Aulnay-sous-Bois| IDFM:72646|     81740.0|         170.0|      0.0|\n",
      "|IDFM:TN:SNCF:8927...|IDFM:C01743|         JOLO|         JONI10|   Denfert-Rochereau|    IDFM:71056|    Aulnay-sous-Bois| IDFM:72646|       81790.0|     Le Blanc-Mesnil| IDFM:72648|     81890.0|         100.0|      0.0|\n",
      "|IDFM:TN:SNCF:8927...|IDFM:C01743|         JOLO|         JONI10|   Denfert-Rochereau|    IDFM:71056|     Le Blanc-Mesnil| IDFM:72648|       81920.0|              Drancy| IDFM:72652|     82020.0|         100.0|      0.0|\n",
      "|IDFM:TN:SNCF:8927...|IDFM:C01743|         JOLO|         JONI10|   Denfert-Rochereau|    IDFM:71056|              Drancy| IDFM:72652|       82050.0|          Le Bourget| IDFM:72641|     82190.0|         140.0|      0.0|\n",
      "|IDFM:TN:SNCF:8927...|IDFM:C01743|         JOLO|         JONI10|   Denfert-Rochereau|    IDFM:71056|          Le Bourget| IDFM:72641|       82220.0|La Courneuve - Au...| IDFM:72598|     82390.0|         170.0|      0.0|\n",
      "|IDFM:TN:SNCF:8927...|IDFM:C01743|         JOLO|         JONI10|   Denfert-Rochereau|    IDFM:71056|La Courneuve - Au...| IDFM:72598|       82420.0|La Plaine Stade d...| IDFM:72211|     82540.0|         120.0|      0.0|\n",
      "|IDFM:TN:SNCF:8927...|IDFM:C01743|         JOLO|         JONI10|   Denfert-Rochereau|    IDFM:71056|La Plaine Stade d...| IDFM:72211|       82590.0|        Gare du Nord| IDFM:71410|     82860.0|         270.0|      0.0|\n",
      "|IDFM:TN:SNCF:8927...|IDFM:C01743|         JOLO|         JONI10|   Denfert-Rochereau|    IDFM:71056|        Gare du Nord| IDFM:71410|       82920.0| Châtelet les Halles|IDFM:474151|     83100.0|         180.0|      0.0|\n",
      "|IDFM:TN:SNCF:8927...|IDFM:C01743|         JOLO|         JONI10|   Denfert-Rochereau|    IDFM:71056| Châtelet les Halles|IDFM:474151|       83136.0|Saint-Michel Notr...| IDFM:73620|     83218.0|          82.0|      0.0|\n",
      "|IDFM:TN:SNCF:8927...|IDFM:C01743|         JOLO|         JONI10|   Denfert-Rochereau|    IDFM:71056|Saint-Michel Notr...| IDFM:73620|       83250.0|          Luxembourg| IDFM:71161|     83332.0|          82.0|      0.0|\n",
      "|IDFM:TN:SNCF:8927...|IDFM:C01743|         JOLO|         JONI10|   Denfert-Rochereau|    IDFM:71056|          Luxembourg| IDFM:71161|       83370.0|   Denfert-Rochereau| IDFM:71056|     83488.0|         118.0|      0.0|\n",
      "|IDFM:TN:SNCF:adf4...|IDFM:C01743|         JOLO|         JOLU84|   Denfert-Rochereau|    IDFM:71056|       Mitry - Claye| IDFM:69065|       75840.0|Villeparisis - Mi...| IDFM:68916|     76060.0|         220.0|      0.0|\n",
      "|IDFM:TN:SNCF:adf4...|IDFM:C01743|         JOLO|         JOLU84|   Denfert-Rochereau|    IDFM:71056|Villeparisis - Mi...| IDFM:68916|       76090.0|         Vert Galant| IDFM:73482|     76240.0|         150.0|      0.0|\n",
      "|IDFM:TN:SNCF:adf4...|IDFM:C01743|         JOLO|         JOLU84|   Denfert-Rochereau|    IDFM:71056|         Vert Galant| IDFM:73482|       76270.0|      Sevran - Livry| IDFM:73439|     76480.0|         210.0|      0.0|\n",
      "|IDFM:TN:SNCF:adf4...|IDFM:C01743|         JOLO|         JOLU84|   Denfert-Rochereau|    IDFM:71056|      Sevran - Livry| IDFM:73439|       76530.0|    Aulnay-sous-Bois| IDFM:72646|     76700.0|         170.0|      0.0|\n",
      "|IDFM:TN:SNCF:adf4...|IDFM:C01743|         JOLO|         JOLU84|   Denfert-Rochereau|    IDFM:71056|    Aulnay-sous-Bois| IDFM:72646|       76750.0|     Le Blanc-Mesnil| IDFM:72648|     76850.0|         100.0|      0.0|\n",
      "|IDFM:TN:SNCF:adf4...|IDFM:C01743|         JOLO|         JOLU84|   Denfert-Rochereau|    IDFM:71056|     Le Blanc-Mesnil| IDFM:72648|       76880.0|              Drancy| IDFM:72652|     76980.0|         100.0|      0.0|\n",
      "|IDFM:TN:SNCF:adf4...|IDFM:C01743|         JOLO|         JOLU84|   Denfert-Rochereau|    IDFM:71056|              Drancy| IDFM:72652|       77010.0|          Le Bourget| IDFM:72641|     77150.0|         140.0|      0.0|\n",
      "|IDFM:TN:SNCF:adf4...|IDFM:C01743|         JOLO|         JOLU84|   Denfert-Rochereau|    IDFM:71056|          Le Bourget| IDFM:72641|       77180.0|La Courneuve - Au...| IDFM:72598|     77350.0|         170.0|      0.0|\n",
      "|IDFM:TN:SNCF:adf4...|IDFM:C01743|         JOLO|         JOLU84|   Denfert-Rochereau|    IDFM:71056|La Courneuve - Au...| IDFM:72598|       77380.0|La Plaine Stade d...| IDFM:72211|     77500.0|         120.0|      0.0|\n",
      "|IDFM:TN:SNCF:adf4...|IDFM:C01743|         JOLO|         JOLU84|   Denfert-Rochereau|    IDFM:71056|La Plaine Stade d...| IDFM:72211|       77550.0|        Gare du Nord| IDFM:71410|     77820.0|         270.0|      0.0|\n",
      "|IDFM:TN:SNCF:adf4...|IDFM:C01743|         JOLO|         JOLU84|   Denfert-Rochereau|    IDFM:71056|        Gare du Nord| IDFM:71410|       77880.0| Châtelet les Halles|IDFM:474151|     78060.0|         180.0|      0.0|\n",
      "|IDFM:TN:SNCF:adf4...|IDFM:C01743|         JOLO|         JOLU84|   Denfert-Rochereau|    IDFM:71056| Châtelet les Halles|IDFM:474151|       78096.0|Saint-Michel Notr...| IDFM:73620|     78178.0|          82.0|      0.0|\n",
      "|IDFM:TN:SNCF:adf4...|IDFM:C01743|         JOLO|         JOLU84|   Denfert-Rochereau|    IDFM:71056|Saint-Michel Notr...| IDFM:73620|       78215.0|          Luxembourg| IDFM:71161|     78297.0|          82.0|      0.0|\n",
      "|IDFM:TN:SNCF:adf4...|IDFM:C01743|         JOLO|         JOLU84|   Denfert-Rochereau|    IDFM:71056|          Luxembourg| IDFM:71161|       78340.0|   Denfert-Rochereau| IDFM:71056|     78458.0|         118.0|      0.0|\n",
      "|IDFM:TN:SNCF:0a46...|IDFM:C01743|         PITO|         PIDO12|Saint-Rémy-lès-Ch...|    IDFM:62978|Aéroport Charles ...| IDFM:73699|       19610.0|Aéroport CDG 1 (T...| IDFM:73596|     19720.0|         110.0|      0.0|\n",
      "|IDFM:TN:SNCF:0a46...|IDFM:C01743|         PITO|         PIDO12|Saint-Rémy-lès-Ch...|    IDFM:62978|Aéroport CDG 1 (T...| IDFM:73596|       19780.0|Parc des Expositions| IDFM:73568|     20060.0|         280.0|      0.0|\n",
      "|IDFM:TN:SNCF:0a46...|IDFM:C01743|         PITO|         PIDO12|Saint-Rémy-lès-Ch...|    IDFM:62978|Parc des Expositions| IDFM:73568|       20090.0|          Villepinte| IDFM:73547|     20180.0|          90.0|      0.0|\n",
      "|IDFM:TN:SNCF:0a46...|IDFM:C01743|         PITO|         PIDO12|Saint-Rémy-lès-Ch...|    IDFM:62978|          Villepinte| IDFM:73547|       20210.0|   Sevran Beaudottes| IDFM:73491|     20320.0|         110.0|      0.0|\n",
      "|IDFM:TN:SNCF:0a46...|IDFM:C01743|         PITO|         PIDO12|Saint-Rémy-lès-Ch...|    IDFM:62978|   Sevran Beaudottes| IDFM:73491|       20370.0|    Aulnay-sous-Bois| IDFM:72646|     20540.0|         170.0|      0.0|\n",
      "|IDFM:TN:SNCF:0a46...|IDFM:C01743|         PITO|         PIDO12|Saint-Rémy-lès-Ch...|    IDFM:62978|    Aulnay-sous-Bois| IDFM:72646|       20590.0|     Le Blanc-Mesnil| IDFM:72648|     20690.0|         100.0|      0.0|\n",
      "|IDFM:TN:SNCF:0a46...|IDFM:C01743|         PITO|         PIDO12|Saint-Rémy-lès-Ch...|    IDFM:62978|     Le Blanc-Mesnil| IDFM:72648|       20720.0|              Drancy| IDFM:72652|     20820.0|         100.0|      0.0|\n",
      "|IDFM:TN:SNCF:0a46...|IDFM:C01743|         PITO|         PIDO12|Saint-Rémy-lès-Ch...|    IDFM:62978|              Drancy| IDFM:72652|       20850.0|          Le Bourget| IDFM:72641|     20980.0|         130.0|      0.0|\n",
      "|IDFM:TN:SNCF:0a46...|IDFM:C01743|         PITO|         PIDO12|Saint-Rémy-lès-Ch...|    IDFM:62978|          Le Bourget| IDFM:72641|       21010.0|La Courneuve - Au...| IDFM:72598|     21190.0|         180.0|      0.0|\n",
      "|IDFM:TN:SNCF:0a46...|IDFM:C01743|         PITO|         PIDO12|Saint-Rémy-lès-Ch...|    IDFM:62978|La Courneuve - Au...| IDFM:72598|       21220.0|La Plaine Stade d...| IDFM:72211|     21340.0|         120.0|      0.0|\n",
      "|IDFM:TN:SNCF:0a46...|IDFM:C01743|         PITO|         PIDO12|Saint-Rémy-lès-Ch...|    IDFM:62978|La Plaine Stade d...| IDFM:72211|       21390.0|        Gare du Nord| IDFM:71410|     21660.0|         270.0|      0.0|\n",
      "|IDFM:TN:SNCF:0a46...|IDFM:C01743|         PITO|         PIDO12|Saint-Rémy-lès-Ch...|    IDFM:62978|        Gare du Nord| IDFM:71410|       21720.0| Châtelet les Halles|IDFM:474151|     21900.0|         180.0|      0.0|\n",
      "|IDFM:TN:SNCF:0a46...|IDFM:C01743|         PITO|         PIDO12|Saint-Rémy-lès-Ch...|    IDFM:62978| Châtelet les Halles|IDFM:474151|       21936.0|Saint-Michel Notr...| IDFM:73620|     22018.0|          82.0|      0.0|\n",
      "|IDFM:TN:SNCF:0a46...|IDFM:C01743|         PITO|         PIDO12|Saint-Rémy-lès-Ch...|    IDFM:62978|Saint-Michel Notr...| IDFM:73620|       22055.0|          Luxembourg| IDFM:71161|     22137.0|          82.0|      0.0|\n",
      "|IDFM:TN:SNCF:0a46...|IDFM:C01743|         PITO|         PIDO12|Saint-Rémy-lès-Ch...|    IDFM:62978|          Luxembourg| IDFM:71161|       22180.0|   Denfert-Rochereau| IDFM:71056|     22299.0|         119.0|      0.0|\n",
      "|IDFM:TN:SNCF:0a46...|IDFM:C01743|         PITO|         PIDO12|Saint-Rémy-lès-Ch...|    IDFM:62978|   Denfert-Rochereau| IDFM:71056|       22349.0|  Cité Universitaire| IDFM:70623|     22457.0|         108.0|      0.0|\n",
      "|IDFM:TN:SNCF:0a46...|IDFM:C01743|         PITO|         PIDO12|Saint-Rémy-lès-Ch...|    IDFM:62978|  Cité Universitaire| IDFM:70623|       22490.0|      Bourg-la-Reine| IDFM:70033|     22787.0|         297.0|      0.0|\n",
      "|IDFM:TN:SNCF:0a46...|IDFM:C01743|         PITO|         PIDO12|Saint-Rémy-lès-Ch...|    IDFM:62978|      Bourg-la-Reine| IDFM:70033|       22816.0|   La Croix de Berny| IDFM:69813|     22949.0|         133.0|      0.0|\n",
      "|IDFM:TN:SNCF:0a46...|IDFM:C01743|         PITO|         PIDO12|Saint-Rémy-lès-Ch...|    IDFM:62978|   La Croix de Berny| IDFM:69813|       22975.0|              Antony| IDFM:69759|     23045.0|          70.0|      0.0|\n",
      "|IDFM:TN:SNCF:0a46...|IDFM:C01743|         PITO|         PIDO12|Saint-Rémy-lès-Ch...|    IDFM:62978|              Antony| IDFM:69759|       23072.0|   Massy - Palaiseau| IDFM:63244|     23326.0|         254.0|      0.0|\n",
      "|IDFM:TN:SNCF:0a46...|IDFM:C01743|         PITO|         PIDO12|Saint-Rémy-lès-Ch...|    IDFM:62978|   Massy - Palaiseau| IDFM:63244|       23377.0|           Palaiseau| IDFM:63175|     23479.0|         102.0|      0.0|\n",
      "|IDFM:TN:SNCF:0a46...|IDFM:C01743|         PITO|         PIDO12|Saint-Rémy-lès-Ch...|    IDFM:62978|           Palaiseau| IDFM:63175|       23504.0|Palaiseau - Villebon| IDFM:63067|     23584.0|          80.0|      0.0|\n",
      "|IDFM:TN:SNCF:0a46...|IDFM:C01743|         PITO|         PIDO12|Saint-Rémy-lès-Ch...|    IDFM:62978|Palaiseau - Villebon| IDFM:63067|       23609.0|              Lozère| IDFM:63029|     23737.0|         128.0|      0.0|\n",
      "|IDFM:TN:SNCF:0a46...|IDFM:C01743|         PITO|         PIDO12|Saint-Rémy-lès-Ch...|    IDFM:62978|              Lozère| IDFM:63029|       23753.0|          Le Guichet| IDFM:63025|     23849.0|          96.0|      0.0|\n",
      "|IDFM:TN:SNCF:0a46...|IDFM:C01743|         PITO|         PIDO12|Saint-Rémy-lès-Ch...|    IDFM:62978|          Le Guichet| IDFM:63025|       23873.0|         Orsay Ville| IDFM:62892|     23966.0|          93.0|      0.0|\n",
      "|IDFM:TN:SNCF:0a46...|IDFM:C01743|         PITO|         PIDO12|Saint-Rémy-lès-Ch...|    IDFM:62978|         Orsay Ville| IDFM:62892|       23998.0|    Bures-sur-Yvette| IDFM:62851|     24085.0|          87.0|      0.0|\n",
      "|IDFM:TN:SNCF:0a46...|IDFM:C01743|         PITO|         PIDO12|Saint-Rémy-lès-Ch...|    IDFM:62978|    Bures-sur-Yvette| IDFM:62851|       24109.0|      La Hacquinière| IDFM:62825|     24191.0|          82.0|      0.0|\n",
      "|IDFM:TN:SNCF:0a46...|IDFM:C01743|         PITO|         PIDO12|Saint-Rémy-lès-Ch...|    IDFM:62978|      La Hacquinière| IDFM:62825|       24214.0|      Gif-sur-Yvette| IDFM:62890|     24297.0|          83.0|      0.0|\n",
      "|IDFM:TN:SNCF:0a46...|IDFM:C01743|         PITO|         PIDO12|Saint-Rémy-lès-Ch...|    IDFM:62978|      Gif-sur-Yvette| IDFM:62890|       24319.0|Courcelle-sur-Yvette| IDFM:62951|     24477.0|         158.0|      0.0|\n",
      "|IDFM:TN:SNCF:0a46...|IDFM:C01743|         PITO|         PIDO12|Saint-Rémy-lès-Ch...|    IDFM:62978|Courcelle-sur-Yvette| IDFM:62951|       24499.0|Saint-Rémy-lès-Ch...| IDFM:62978|     24655.0|         156.0|      0.0|\n",
      "|IDFM:TN:SNCF:b470...|IDFM:C01743|         PITO|         PIDO18|Saint-Rémy-lès-Ch...|    IDFM:62978|Aéroport Charles ...| IDFM:73699|       20870.0|Aéroport CDG 1 (T...| IDFM:73596|     20980.0|         110.0|      0.0|\n",
      "|IDFM:TN:SNCF:b470...|IDFM:C01743|         PITO|         PIDO18|Saint-Rémy-lès-Ch...|    IDFM:62978|Aéroport CDG 1 (T...| IDFM:73596|       21040.0|Parc des Expositions| IDFM:73568|     21320.0|         280.0|      0.0|\n",
      "|IDFM:TN:SNCF:b470...|IDFM:C01743|         PITO|         PIDO18|Saint-Rémy-lès-Ch...|    IDFM:62978|Parc des Expositions| IDFM:73568|       21350.0|          Villepinte| IDFM:73547|     21440.0|          90.0|      0.0|\n",
      "|IDFM:TN:SNCF:b470...|IDFM:C01743|         PITO|         PIDO18|Saint-Rémy-lès-Ch...|    IDFM:62978|          Villepinte| IDFM:73547|       21470.0|   Sevran Beaudottes| IDFM:73491|     21580.0|         110.0|      0.0|\n",
      "|IDFM:TN:SNCF:b470...|IDFM:C01743|         PITO|         PIDO18|Saint-Rémy-lès-Ch...|    IDFM:62978|   Sevran Beaudottes| IDFM:73491|       21630.0|    Aulnay-sous-Bois| IDFM:72646|     21800.0|         170.0|      0.0|\n",
      "|IDFM:TN:SNCF:b470...|IDFM:C01743|         PITO|         PIDO18|Saint-Rémy-lès-Ch...|    IDFM:62978|    Aulnay-sous-Bois| IDFM:72646|       21850.0|     Le Blanc-Mesnil| IDFM:72648|     21950.0|         100.0|      0.0|\n",
      "|IDFM:TN:SNCF:b470...|IDFM:C01743|         PITO|         PIDO18|Saint-Rémy-lès-Ch...|    IDFM:62978|     Le Blanc-Mesnil| IDFM:72648|       21980.0|              Drancy| IDFM:72652|     22080.0|         100.0|      0.0|\n",
      "|IDFM:TN:SNCF:b470...|IDFM:C01743|         PITO|         PIDO18|Saint-Rémy-lès-Ch...|    IDFM:62978|              Drancy| IDFM:72652|       22110.0|          Le Bourget| IDFM:72641|     22240.0|         130.0|      0.0|\n",
      "|IDFM:TN:SNCF:b470...|IDFM:C01743|         PITO|         PIDO18|Saint-Rémy-lès-Ch...|    IDFM:62978|          Le Bourget| IDFM:72641|       22270.0|La Courneuve - Au...| IDFM:72598|     22450.0|         180.0|      0.0|\n",
      "|IDFM:TN:SNCF:b470...|IDFM:C01743|         PITO|         PIDO18|Saint-Rémy-lès-Ch...|    IDFM:62978|La Courneuve - Au...| IDFM:72598|       22480.0|La Plaine Stade d...| IDFM:72211|     22600.0|         120.0|      0.0|\n",
      "|IDFM:TN:SNCF:b470...|IDFM:C01743|         PITO|         PIDO18|Saint-Rémy-lès-Ch...|    IDFM:62978|La Plaine Stade d...| IDFM:72211|       22650.0|        Gare du Nord| IDFM:71410|     22920.0|         270.0|      0.0|\n",
      "|IDFM:TN:SNCF:b470...|IDFM:C01743|         PITO|         PIDO18|Saint-Rémy-lès-Ch...|    IDFM:62978|        Gare du Nord| IDFM:71410|       22980.0| Châtelet les Halles|IDFM:474151|     23160.0|         180.0|      0.0|\n",
      "|IDFM:TN:SNCF:b470...|IDFM:C01743|         PITO|         PIDO18|Saint-Rémy-lès-Ch...|    IDFM:62978| Châtelet les Halles|IDFM:474151|       23196.0|Saint-Michel Notr...| IDFM:73620|     23278.0|          82.0|      0.0|\n",
      "|IDFM:TN:SNCF:b470...|IDFM:C01743|         PITO|         PIDO18|Saint-Rémy-lès-Ch...|    IDFM:62978|Saint-Michel Notr...| IDFM:73620|       23315.0|          Luxembourg| IDFM:71161|     23397.0|          82.0|      0.0|\n",
      "|IDFM:TN:SNCF:b470...|IDFM:C01743|         PITO|         PIDO18|Saint-Rémy-lès-Ch...|    IDFM:62978|          Luxembourg| IDFM:71161|       23440.0|   Denfert-Rochereau| IDFM:71056|     23559.0|         119.0|      0.0|\n",
      "|IDFM:TN:SNCF:b470...|IDFM:C01743|         PITO|         PIDO18|Saint-Rémy-lès-Ch...|    IDFM:62978|   Denfert-Rochereau| IDFM:71056|       23609.0|  Cité Universitaire| IDFM:70623|     23717.0|         108.0|      0.0|\n",
      "|IDFM:TN:SNCF:b470...|IDFM:C01743|         PITO|         PIDO18|Saint-Rémy-lès-Ch...|    IDFM:62978|  Cité Universitaire| IDFM:70623|       23750.0|      Bourg-la-Reine| IDFM:70033|     24047.0|         297.0|      0.0|\n",
      "|IDFM:TN:SNCF:b470...|IDFM:C01743|         PITO|         PIDO18|Saint-Rémy-lès-Ch...|    IDFM:62978|      Bourg-la-Reine| IDFM:70033|       24076.0|   La Croix de Berny| IDFM:69813|     24209.0|         133.0|      0.0|\n",
      "|IDFM:TN:SNCF:b470...|IDFM:C01743|         PITO|         PIDO18|Saint-Rémy-lès-Ch...|    IDFM:62978|   La Croix de Berny| IDFM:69813|       24235.0|              Antony| IDFM:69759|     24305.0|          70.0|      0.0|\n",
      "|IDFM:TN:SNCF:b470...|IDFM:C01743|         PITO|         PIDO18|Saint-Rémy-lès-Ch...|    IDFM:62978|              Antony| IDFM:69759|       24332.0|   Massy - Palaiseau| IDFM:63244|     24586.0|         254.0|      0.0|\n",
      "|IDFM:TN:SNCF:b470...|IDFM:C01743|         PITO|         PIDO18|Saint-Rémy-lès-Ch...|    IDFM:62978|   Massy - Palaiseau| IDFM:63244|       24637.0|           Palaiseau| IDFM:63175|     24739.0|         102.0|      0.0|\n",
      "|IDFM:TN:SNCF:b470...|IDFM:C01743|         PITO|         PIDO18|Saint-Rémy-lès-Ch...|    IDFM:62978|           Palaiseau| IDFM:63175|       24764.0|Palaiseau - Villebon| IDFM:63067|     24844.0|          80.0|      0.0|\n",
      "|IDFM:TN:SNCF:b470...|IDFM:C01743|         PITO|         PIDO18|Saint-Rémy-lès-Ch...|    IDFM:62978|Palaiseau - Villebon| IDFM:63067|       24869.0|              Lozère| IDFM:63029|     24997.0|         128.0|      0.0|\n",
      "|IDFM:TN:SNCF:b470...|IDFM:C01743|         PITO|         PIDO18|Saint-Rémy-lès-Ch...|    IDFM:62978|              Lozère| IDFM:63029|       25013.0|          Le Guichet| IDFM:63025|     25109.0|          96.0|      0.0|\n",
      "|IDFM:TN:SNCF:b470...|IDFM:C01743|         PITO|         PIDO18|Saint-Rémy-lès-Ch...|    IDFM:62978|          Le Guichet| IDFM:63025|       25133.0|         Orsay Ville| IDFM:62892|     25226.0|          93.0|      0.0|\n",
      "|IDFM:TN:SNCF:b470...|IDFM:C01743|         PITO|         PIDO18|Saint-Rémy-lès-Ch...|    IDFM:62978|         Orsay Ville| IDFM:62892|       25258.0|    Bures-sur-Yvette| IDFM:62851|     25345.0|          87.0|      0.0|\n",
      "|IDFM:TN:SNCF:b470...|IDFM:C01743|         PITO|         PIDO18|Saint-Rémy-lès-Ch...|    IDFM:62978|    Bures-sur-Yvette| IDFM:62851|       25369.0|      La Hacquinière| IDFM:62825|     25451.0|          82.0|      0.0|\n",
      "|IDFM:TN:SNCF:b470...|IDFM:C01743|         PITO|         PIDO18|Saint-Rémy-lès-Ch...|    IDFM:62978|      La Hacquinière| IDFM:62825|       25474.0|      Gif-sur-Yvette| IDFM:62890|     25557.0|          83.0|      0.0|\n",
      "|IDFM:TN:SNCF:b470...|IDFM:C01743|         PITO|         PIDO18|Saint-Rémy-lès-Ch...|    IDFM:62978|      Gif-sur-Yvette| IDFM:62890|       25579.0|Courcelle-sur-Yvette| IDFM:62951|     25737.0|         158.0|      0.0|\n",
      "|IDFM:TN:SNCF:b470...|IDFM:C01743|         PITO|         PIDO18|Saint-Rémy-lès-Ch...|    IDFM:62978|Courcelle-sur-Yvette| IDFM:62951|       25759.0|Saint-Rémy-lès-Ch...| IDFM:62978|     25915.0|         156.0|      0.0|\n",
      "|IDFM:TN:SNCF:3ddb...|IDFM:C01743|         PITO|         PIDO24|Saint-Rémy-lès-Ch...|    IDFM:62978|Aéroport Charles ...| IDFM:73699|       22130.0|Aéroport CDG 1 (T...| IDFM:73596|     22240.0|         110.0|      0.0|\n",
      "|IDFM:TN:SNCF:3ddb...|IDFM:C01743|         PITO|         PIDO24|Saint-Rémy-lès-Ch...|    IDFM:62978|Aéroport CDG 1 (T...| IDFM:73596|       22300.0|Parc des Expositions| IDFM:73568|     22580.0|         280.0|      0.0|\n",
      "|IDFM:TN:SNCF:3ddb...|IDFM:C01743|         PITO|         PIDO24|Saint-Rémy-lès-Ch...|    IDFM:62978|Parc des Expositions| IDFM:73568|       22610.0|          Villepinte| IDFM:73547|     22700.0|          90.0|      0.0|\n",
      "|IDFM:TN:SNCF:3ddb...|IDFM:C01743|         PITO|         PIDO24|Saint-Rémy-lès-Ch...|    IDFM:62978|          Villepinte| IDFM:73547|       22730.0|   Sevran Beaudottes| IDFM:73491|     22840.0|         110.0|      0.0|\n",
      "|IDFM:TN:SNCF:3ddb...|IDFM:C01743|         PITO|         PIDO24|Saint-Rémy-lès-Ch...|    IDFM:62978|   Sevran Beaudottes| IDFM:73491|       22890.0|    Aulnay-sous-Bois| IDFM:72646|     23060.0|         170.0|      0.0|\n",
      "|IDFM:TN:SNCF:3ddb...|IDFM:C01743|         PITO|         PIDO24|Saint-Rémy-lès-Ch...|    IDFM:62978|    Aulnay-sous-Bois| IDFM:72646|       23110.0|     Le Blanc-Mesnil| IDFM:72648|     23210.0|         100.0|      0.0|\n",
      "|IDFM:TN:SNCF:3ddb...|IDFM:C01743|         PITO|         PIDO24|Saint-Rémy-lès-Ch...|    IDFM:62978|     Le Blanc-Mesnil| IDFM:72648|       23240.0|              Drancy| IDFM:72652|     23340.0|         100.0|      0.0|\n",
      "|IDFM:TN:SNCF:3ddb...|IDFM:C01743|         PITO|         PIDO24|Saint-Rémy-lès-Ch...|    IDFM:62978|              Drancy| IDFM:72652|       23370.0|          Le Bourget| IDFM:72641|     23500.0|         130.0|      0.0|\n",
      "|IDFM:TN:SNCF:3ddb...|IDFM:C01743|         PITO|         PIDO24|Saint-Rémy-lès-Ch...|    IDFM:62978|          Le Bourget| IDFM:72641|       23530.0|La Courneuve - Au...| IDFM:72598|     23710.0|         180.0|      0.0|\n",
      "|IDFM:TN:SNCF:3ddb...|IDFM:C01743|         PITO|         PIDO24|Saint-Rémy-lès-Ch...|    IDFM:62978|La Courneuve - Au...| IDFM:72598|       23740.0|La Plaine Stade d...| IDFM:72211|     23860.0|         120.0|      0.0|\n",
      "|IDFM:TN:SNCF:3ddb...|IDFM:C01743|         PITO|         PIDO24|Saint-Rémy-lès-Ch...|    IDFM:62978|La Plaine Stade d...| IDFM:72211|       23910.0|        Gare du Nord| IDFM:71410|     24180.0|         270.0|      0.0|\n",
      "|IDFM:TN:SNCF:3ddb...|IDFM:C01743|         PITO|         PIDO24|Saint-Rémy-lès-Ch...|    IDFM:62978|        Gare du Nord| IDFM:71410|       24240.0| Châtelet les Halles|IDFM:474151|     24420.0|         180.0|      0.0|\n",
      "|IDFM:TN:SNCF:3ddb...|IDFM:C01743|         PITO|         PIDO24|Saint-Rémy-lès-Ch...|    IDFM:62978| Châtelet les Halles|IDFM:474151|       24456.0|Saint-Michel Notr...| IDFM:73620|     24538.0|          82.0|      0.0|\n",
      "|IDFM:TN:SNCF:3ddb...|IDFM:C01743|         PITO|         PIDO24|Saint-Rémy-lès-Ch...|    IDFM:62978|Saint-Michel Notr...| IDFM:73620|       24575.0|          Luxembourg| IDFM:71161|     24657.0|          82.0|      0.0|\n",
      "|IDFM:TN:SNCF:3ddb...|IDFM:C01743|         PITO|         PIDO24|Saint-Rémy-lès-Ch...|    IDFM:62978|          Luxembourg| IDFM:71161|       24700.0|   Denfert-Rochereau| IDFM:71056|     24819.0|         119.0|      0.0|\n",
      "|IDFM:TN:SNCF:3ddb...|IDFM:C01743|         PITO|         PIDO24|Saint-Rémy-lès-Ch...|    IDFM:62978|   Denfert-Rochereau| IDFM:71056|       24869.0|  Cité Universitaire| IDFM:70623|     24977.0|         108.0|      0.0|\n",
      "|IDFM:TN:SNCF:3ddb...|IDFM:C01743|         PITO|         PIDO24|Saint-Rémy-lès-Ch...|    IDFM:62978|  Cité Universitaire| IDFM:70623|       25010.0|      Bourg-la-Reine| IDFM:70033|     25307.0|         297.0|      0.0|\n",
      "|IDFM:TN:SNCF:3ddb...|IDFM:C01743|         PITO|         PIDO24|Saint-Rémy-lès-Ch...|    IDFM:62978|      Bourg-la-Reine| IDFM:70033|       25336.0|   La Croix de Berny| IDFM:69813|     25469.0|         133.0|      0.0|\n",
      "|IDFM:TN:SNCF:3ddb...|IDFM:C01743|         PITO|         PIDO24|Saint-Rémy-lès-Ch...|    IDFM:62978|   La Croix de Berny| IDFM:69813|       25495.0|              Antony| IDFM:69759|     25565.0|          70.0|      0.0|\n",
      "|IDFM:TN:SNCF:3ddb...|IDFM:C01743|         PITO|         PIDO24|Saint-Rémy-lès-Ch...|    IDFM:62978|              Antony| IDFM:69759|       25592.0|   Massy - Palaiseau| IDFM:63244|     25846.0|         254.0|      0.0|\n",
      "|IDFM:TN:SNCF:3ddb...|IDFM:C01743|         PITO|         PIDO24|Saint-Rémy-lès-Ch...|    IDFM:62978|   Massy - Palaiseau| IDFM:63244|       25897.0|           Palaiseau| IDFM:63175|     25999.0|         102.0|      0.0|\n",
      "|IDFM:TN:SNCF:3ddb...|IDFM:C01743|         PITO|         PIDO24|Saint-Rémy-lès-Ch...|    IDFM:62978|           Palaiseau| IDFM:63175|       26024.0|Palaiseau - Villebon| IDFM:63067|     26104.0|          80.0|      0.0|\n",
      "|IDFM:TN:SNCF:3ddb...|IDFM:C01743|         PITO|         PIDO24|Saint-Rémy-lès-Ch...|    IDFM:62978|Palaiseau - Villebon| IDFM:63067|       26129.0|              Lozère| IDFM:63029|     26257.0|         128.0|      0.0|\n",
      "|IDFM:TN:SNCF:3ddb...|IDFM:C01743|         PITO|         PIDO24|Saint-Rémy-lès-Ch...|    IDFM:62978|              Lozère| IDFM:63029|       26273.0|          Le Guichet| IDFM:63025|     26369.0|          96.0|      0.0|\n",
      "|IDFM:TN:SNCF:3ddb...|IDFM:C01743|         PITO|         PIDO24|Saint-Rémy-lès-Ch...|    IDFM:62978|          Le Guichet| IDFM:63025|       26393.0|         Orsay Ville| IDFM:62892|     26486.0|          93.0|      0.0|\n",
      "|IDFM:TN:SNCF:3ddb...|IDFM:C01743|         PITO|         PIDO24|Saint-Rémy-lès-Ch...|    IDFM:62978|         Orsay Ville| IDFM:62892|       26518.0|    Bures-sur-Yvette| IDFM:62851|     26605.0|          87.0|      0.0|\n",
      "|IDFM:TN:SNCF:3ddb...|IDFM:C01743|         PITO|         PIDO24|Saint-Rémy-lès-Ch...|    IDFM:62978|    Bures-sur-Yvette| IDFM:62851|       26629.0|      La Hacquinière| IDFM:62825|     26711.0|          82.0|      0.0|\n",
      "|IDFM:TN:SNCF:3ddb...|IDFM:C01743|         PITO|         PIDO24|Saint-Rémy-lès-Ch...|    IDFM:62978|      La Hacquinière| IDFM:62825|       26734.0|      Gif-sur-Yvette| IDFM:62890|     26817.0|          83.0|      0.0|\n",
      "|IDFM:TN:SNCF:3ddb...|IDFM:C01743|         PITO|         PIDO24|Saint-Rémy-lès-Ch...|    IDFM:62978|      Gif-sur-Yvette| IDFM:62890|       26839.0|Courcelle-sur-Yvette| IDFM:62951|     26997.0|         158.0|      0.0|\n",
      "|IDFM:TN:SNCF:3ddb...|IDFM:C01743|         PITO|         PIDO24|Saint-Rémy-lès-Ch...|    IDFM:62978|Courcelle-sur-Yvette| IDFM:62951|       27019.0|Saint-Rémy-lès-Ch...| IDFM:62978|     27175.0|         156.0|      0.0|\n",
      "|IDFM:TN:SNCF:beee...|IDFM:C01743|         PITO|         PIDO30|Saint-Rémy-lès-Ch...|    IDFM:62978|Aéroport Charles ...| IDFM:73699|       23390.0|Aéroport CDG 1 (T...| IDFM:73596|     23500.0|         110.0|      0.0|\n",
      "|IDFM:TN:SNCF:beee...|IDFM:C01743|         PITO|         PIDO30|Saint-Rémy-lès-Ch...|    IDFM:62978|Aéroport CDG 1 (T...| IDFM:73596|       23560.0|Parc des Expositions| IDFM:73568|     23840.0|         280.0|      0.0|\n",
      "|IDFM:TN:SNCF:beee...|IDFM:C01743|         PITO|         PIDO30|Saint-Rémy-lès-Ch...|    IDFM:62978|Parc des Expositions| IDFM:73568|       23870.0|          Villepinte| IDFM:73547|     23960.0|          90.0|      0.0|\n",
      "|IDFM:TN:SNCF:beee...|IDFM:C01743|         PITO|         PIDO30|Saint-Rémy-lès-Ch...|    IDFM:62978|          Villepinte| IDFM:73547|       23990.0|   Sevran Beaudottes| IDFM:73491|     24100.0|         110.0|      0.0|\n",
      "|IDFM:TN:SNCF:beee...|IDFM:C01743|         PITO|         PIDO30|Saint-Rémy-lès-Ch...|    IDFM:62978|   Sevran Beaudottes| IDFM:73491|       24150.0|    Aulnay-sous-Bois| IDFM:72646|     24320.0|         170.0|      0.0|\n",
      "|IDFM:TN:SNCF:beee...|IDFM:C01743|         PITO|         PIDO30|Saint-Rémy-lès-Ch...|    IDFM:62978|    Aulnay-sous-Bois| IDFM:72646|       24370.0|     Le Blanc-Mesnil| IDFM:72648|     24470.0|         100.0|      0.0|\n",
      "|IDFM:TN:SNCF:beee...|IDFM:C01743|         PITO|         PIDO30|Saint-Rémy-lès-Ch...|    IDFM:62978|     Le Blanc-Mesnil| IDFM:72648|       24500.0|              Drancy| IDFM:72652|     24600.0|         100.0|      0.0|\n",
      "|IDFM:TN:SNCF:beee...|IDFM:C01743|         PITO|         PIDO30|Saint-Rémy-lès-Ch...|    IDFM:62978|              Drancy| IDFM:72652|       24630.0|          Le Bourget| IDFM:72641|     24760.0|         130.0|      0.0|\n",
      "|IDFM:TN:SNCF:beee...|IDFM:C01743|         PITO|         PIDO30|Saint-Rémy-lès-Ch...|    IDFM:62978|          Le Bourget| IDFM:72641|       24790.0|La Courneuve - Au...| IDFM:72598|     24970.0|         180.0|      0.0|\n",
      "|IDFM:TN:SNCF:beee...|IDFM:C01743|         PITO|         PIDO30|Saint-Rémy-lès-Ch...|    IDFM:62978|La Courneuve - Au...| IDFM:72598|       25000.0|La Plaine Stade d...| IDFM:72211|     25120.0|         120.0|      0.0|\n",
      "|IDFM:TN:SNCF:beee...|IDFM:C01743|         PITO|         PIDO30|Saint-Rémy-lès-Ch...|    IDFM:62978|La Plaine Stade d...| IDFM:72211|       25170.0|        Gare du Nord| IDFM:71410|     25440.0|         270.0|      0.0|\n",
      "|IDFM:TN:SNCF:beee...|IDFM:C01743|         PITO|         PIDO30|Saint-Rémy-lès-Ch...|    IDFM:62978|        Gare du Nord| IDFM:71410|       25500.0| Châtelet les Halles|IDFM:474151|     25680.0|         180.0|      0.0|\n",
      "|IDFM:TN:SNCF:beee...|IDFM:C01743|         PITO|         PIDO30|Saint-Rémy-lès-Ch...|    IDFM:62978| Châtelet les Halles|IDFM:474151|       25716.0|Saint-Michel Notr...| IDFM:73620|     25798.0|          82.0|      0.0|\n",
      "|IDFM:TN:SNCF:beee...|IDFM:C01743|         PITO|         PIDO30|Saint-Rémy-lès-Ch...|    IDFM:62978|Saint-Michel Notr...| IDFM:73620|       25835.0|          Luxembourg| IDFM:71161|     25917.0|          82.0|      0.0|\n",
      "|IDFM:TN:SNCF:beee...|IDFM:C01743|         PITO|         PIDO30|Saint-Rémy-lès-Ch...|    IDFM:62978|          Luxembourg| IDFM:71161|       25960.0|   Denfert-Rochereau| IDFM:71056|     26079.0|         119.0|      0.0|\n",
      "|IDFM:TN:SNCF:beee...|IDFM:C01743|         PITO|         PIDO30|Saint-Rémy-lès-Ch...|    IDFM:62978|   Denfert-Rochereau| IDFM:71056|       26129.0|  Cité Universitaire| IDFM:70623|     26237.0|         108.0|      0.0|\n",
      "|IDFM:TN:SNCF:beee...|IDFM:C01743|         PITO|         PIDO30|Saint-Rémy-lès-Ch...|    IDFM:62978|  Cité Universitaire| IDFM:70623|       26270.0|      Bourg-la-Reine| IDFM:70033|     26567.0|         297.0|      0.0|\n",
      "|IDFM:TN:SNCF:beee...|IDFM:C01743|         PITO|         PIDO30|Saint-Rémy-lès-Ch...|    IDFM:62978|      Bourg-la-Reine| IDFM:70033|       26596.0|   La Croix de Berny| IDFM:69813|     26729.0|         133.0|      0.0|\n",
      "|IDFM:TN:SNCF:beee...|IDFM:C01743|         PITO|         PIDO30|Saint-Rémy-lès-Ch...|    IDFM:62978|   La Croix de Berny| IDFM:69813|       26755.0|              Antony| IDFM:69759|     26825.0|          70.0|      0.0|\n",
      "|IDFM:TN:SNCF:beee...|IDFM:C01743|         PITO|         PIDO30|Saint-Rémy-lès-Ch...|    IDFM:62978|              Antony| IDFM:69759|       26852.0|   Massy - Palaiseau| IDFM:63244|     27106.0|         254.0|      0.0|\n",
      "|IDFM:TN:SNCF:beee...|IDFM:C01743|         PITO|         PIDO30|Saint-Rémy-lès-Ch...|    IDFM:62978|   Massy - Palaiseau| IDFM:63244|       27157.0|           Palaiseau| IDFM:63175|     27259.0|         102.0|      0.0|\n",
      "|IDFM:TN:SNCF:beee...|IDFM:C01743|         PITO|         PIDO30|Saint-Rémy-lès-Ch...|    IDFM:62978|           Palaiseau| IDFM:63175|       27284.0|Palaiseau - Villebon| IDFM:63067|     27364.0|          80.0|      0.0|\n",
      "|IDFM:TN:SNCF:beee...|IDFM:C01743|         PITO|         PIDO30|Saint-Rémy-lès-Ch...|    IDFM:62978|Palaiseau - Villebon| IDFM:63067|       27389.0|              Lozère| IDFM:63029|     27517.0|         128.0|      0.0|\n",
      "|IDFM:TN:SNCF:beee...|IDFM:C01743|         PITO|         PIDO30|Saint-Rémy-lès-Ch...|    IDFM:62978|              Lozère| IDFM:63029|       27533.0|          Le Guichet| IDFM:63025|     27629.0|          96.0|      0.0|\n",
      "|IDFM:TN:SNCF:beee...|IDFM:C01743|         PITO|         PIDO30|Saint-Rémy-lès-Ch...|    IDFM:62978|          Le Guichet| IDFM:63025|       27653.0|         Orsay Ville| IDFM:62892|     27746.0|          93.0|      0.0|\n",
      "|IDFM:TN:SNCF:beee...|IDFM:C01743|         PITO|         PIDO30|Saint-Rémy-lès-Ch...|    IDFM:62978|         Orsay Ville| IDFM:62892|       27778.0|    Bures-sur-Yvette| IDFM:62851|     27865.0|          87.0|      0.0|\n",
      "|IDFM:TN:SNCF:beee...|IDFM:C01743|         PITO|         PIDO30|Saint-Rémy-lès-Ch...|    IDFM:62978|    Bures-sur-Yvette| IDFM:62851|       27889.0|      La Hacquinière| IDFM:62825|     27971.0|          82.0|      0.0|\n",
      "|IDFM:TN:SNCF:beee...|IDFM:C01743|         PITO|         PIDO30|Saint-Rémy-lès-Ch...|    IDFM:62978|      La Hacquinière| IDFM:62825|       27994.0|      Gif-sur-Yvette| IDFM:62890|     28077.0|          83.0|      0.0|\n",
      "|IDFM:TN:SNCF:beee...|IDFM:C01743|         PITO|         PIDO30|Saint-Rémy-lès-Ch...|    IDFM:62978|      Gif-sur-Yvette| IDFM:62890|       28099.0|Courcelle-sur-Yvette| IDFM:62951|     28257.0|         158.0|      0.0|\n",
      "|IDFM:TN:SNCF:beee...|IDFM:C01743|         PITO|         PIDO30|Saint-Rémy-lès-Ch...|    IDFM:62978|Courcelle-sur-Yvette| IDFM:62951|       28279.0|Saint-Rémy-lès-Ch...| IDFM:62978|     28435.0|         156.0|      0.0|\n",
      "|IDFM:TN:SNCF:e6fe...|IDFM:C01743|         PITO|         PIDO36|Saint-Rémy-lès-Ch...|    IDFM:62978|Aéroport Charles ...| IDFM:73699|       24650.0|Aéroport CDG 1 (T...| IDFM:73596|     24760.0|         110.0|      0.0|\n",
      "|IDFM:TN:SNCF:e6fe...|IDFM:C01743|         PITO|         PIDO36|Saint-Rémy-lès-Ch...|    IDFM:62978|Aéroport CDG 1 (T...| IDFM:73596|       24820.0|Parc des Expositions| IDFM:73568|     25100.0|         280.0|      0.0|\n",
      "|IDFM:TN:SNCF:e6fe...|IDFM:C01743|         PITO|         PIDO36|Saint-Rémy-lès-Ch...|    IDFM:62978|Parc des Expositions| IDFM:73568|       25130.0|          Villepinte| IDFM:73547|     25220.0|          90.0|      0.0|\n",
      "|IDFM:TN:SNCF:e6fe...|IDFM:C01743|         PITO|         PIDO36|Saint-Rémy-lès-Ch...|    IDFM:62978|          Villepinte| IDFM:73547|       25250.0|   Sevran Beaudottes| IDFM:73491|     25360.0|         110.0|      0.0|\n",
      "|IDFM:TN:SNCF:e6fe...|IDFM:C01743|         PITO|         PIDO36|Saint-Rémy-lès-Ch...|    IDFM:62978|   Sevran Beaudottes| IDFM:73491|       25410.0|    Aulnay-sous-Bois| IDFM:72646|     25580.0|         170.0|      0.0|\n",
      "|IDFM:TN:SNCF:e6fe...|IDFM:C01743|         PITO|         PIDO36|Saint-Rémy-lès-Ch...|    IDFM:62978|    Aulnay-sous-Bois| IDFM:72646|       25630.0|     Le Blanc-Mesnil| IDFM:72648|     25730.0|         100.0|      0.0|\n",
      "|IDFM:TN:SNCF:e6fe...|IDFM:C01743|         PITO|         PIDO36|Saint-Rémy-lès-Ch...|    IDFM:62978|     Le Blanc-Mesnil| IDFM:72648|       25760.0|              Drancy| IDFM:72652|     25860.0|         100.0|      0.0|\n",
      "|IDFM:TN:SNCF:e6fe...|IDFM:C01743|         PITO|         PIDO36|Saint-Rémy-lès-Ch...|    IDFM:62978|              Drancy| IDFM:72652|       25890.0|          Le Bourget| IDFM:72641|     26020.0|         130.0|      0.0|\n",
      "|IDFM:TN:SNCF:e6fe...|IDFM:C01743|         PITO|         PIDO36|Saint-Rémy-lès-Ch...|    IDFM:62978|          Le Bourget| IDFM:72641|       26050.0|La Courneuve - Au...| IDFM:72598|     26230.0|         180.0|      0.0|\n",
      "|IDFM:TN:SNCF:e6fe...|IDFM:C01743|         PITO|         PIDO36|Saint-Rémy-lès-Ch...|    IDFM:62978|La Courneuve - Au...| IDFM:72598|       26260.0|La Plaine Stade d...| IDFM:72211|     26380.0|         120.0|      0.0|\n",
      "|IDFM:TN:SNCF:e6fe...|IDFM:C01743|         PITO|         PIDO36|Saint-Rémy-lès-Ch...|    IDFM:62978|La Plaine Stade d...| IDFM:72211|       26430.0|        Gare du Nord| IDFM:71410|     26700.0|         270.0|      0.0|\n",
      "|IDFM:TN:SNCF:e6fe...|IDFM:C01743|         PITO|         PIDO36|Saint-Rémy-lès-Ch...|    IDFM:62978|        Gare du Nord| IDFM:71410|       26760.0| Châtelet les Halles|IDFM:474151|     26940.0|         180.0|      0.0|\n",
      "|IDFM:TN:SNCF:e6fe...|IDFM:C01743|         PITO|         PIDO36|Saint-Rémy-lès-Ch...|    IDFM:62978| Châtelet les Halles|IDFM:474151|       26976.0|Saint-Michel Notr...| IDFM:73620|     27058.0|          82.0|      0.0|\n",
      "|IDFM:TN:SNCF:e6fe...|IDFM:C01743|         PITO|         PIDO36|Saint-Rémy-lès-Ch...|    IDFM:62978|Saint-Michel Notr...| IDFM:73620|       27095.0|          Luxembourg| IDFM:71161|     27177.0|          82.0|      0.0|\n",
      "|IDFM:TN:SNCF:e6fe...|IDFM:C01743|         PITO|         PIDO36|Saint-Rémy-lès-Ch...|    IDFM:62978|          Luxembourg| IDFM:71161|       27220.0|   Denfert-Rochereau| IDFM:71056|     27339.0|         119.0|      0.0|\n",
      "|IDFM:TN:SNCF:e6fe...|IDFM:C01743|         PITO|         PIDO36|Saint-Rémy-lès-Ch...|    IDFM:62978|   Denfert-Rochereau| IDFM:71056|       27389.0|  Cité Universitaire| IDFM:70623|     27497.0|         108.0|      0.0|\n",
      "|IDFM:TN:SNCF:e6fe...|IDFM:C01743|         PITO|         PIDO36|Saint-Rémy-lès-Ch...|    IDFM:62978|  Cité Universitaire| IDFM:70623|       27530.0|      Bourg-la-Reine| IDFM:70033|     27827.0|         297.0|      0.0|\n",
      "|IDFM:TN:SNCF:e6fe...|IDFM:C01743|         PITO|         PIDO36|Saint-Rémy-lès-Ch...|    IDFM:62978|      Bourg-la-Reine| IDFM:70033|       27856.0|   La Croix de Berny| IDFM:69813|     27989.0|         133.0|      0.0|\n",
      "|IDFM:TN:SNCF:e6fe...|IDFM:C01743|         PITO|         PIDO36|Saint-Rémy-lès-Ch...|    IDFM:62978|   La Croix de Berny| IDFM:69813|       28015.0|              Antony| IDFM:69759|     28085.0|          70.0|      0.0|\n",
      "|IDFM:TN:SNCF:e6fe...|IDFM:C01743|         PITO|         PIDO36|Saint-Rémy-lès-Ch...|    IDFM:62978|              Antony| IDFM:69759|       28112.0|   Massy - Palaiseau| IDFM:63244|     28366.0|         254.0|      0.0|\n",
      "|IDFM:TN:SNCF:e6fe...|IDFM:C01743|         PITO|         PIDO36|Saint-Rémy-lès-Ch...|    IDFM:62978|   Massy - Palaiseau| IDFM:63244|       28417.0|           Palaiseau| IDFM:63175|     28519.0|         102.0|      0.0|\n",
      "|IDFM:TN:SNCF:e6fe...|IDFM:C01743|         PITO|         PIDO36|Saint-Rémy-lès-Ch...|    IDFM:62978|           Palaiseau| IDFM:63175|       28544.0|Palaiseau - Villebon| IDFM:63067|     28624.0|          80.0|      0.0|\n",
      "|IDFM:TN:SNCF:e6fe...|IDFM:C01743|         PITO|         PIDO36|Saint-Rémy-lès-Ch...|    IDFM:62978|Palaiseau - Villebon| IDFM:63067|       28649.0|              Lozère| IDFM:63029|     28777.0|         128.0|      0.0|\n",
      "|IDFM:TN:SNCF:e6fe...|IDFM:C01743|         PITO|         PIDO36|Saint-Rémy-lès-Ch...|    IDFM:62978|              Lozère| IDFM:63029|       28793.0|          Le Guichet| IDFM:63025|     28889.0|          96.0|      0.0|\n",
      "|IDFM:TN:SNCF:e6fe...|IDFM:C01743|         PITO|         PIDO36|Saint-Rémy-lès-Ch...|    IDFM:62978|          Le Guichet| IDFM:63025|       28913.0|         Orsay Ville| IDFM:62892|     29006.0|          93.0|      0.0|\n",
      "|IDFM:TN:SNCF:e6fe...|IDFM:C01743|         PITO|         PIDO36|Saint-Rémy-lès-Ch...|    IDFM:62978|         Orsay Ville| IDFM:62892|       29038.0|    Bures-sur-Yvette| IDFM:62851|     29125.0|          87.0|      0.0|\n",
      "|IDFM:TN:SNCF:e6fe...|IDFM:C01743|         PITO|         PIDO36|Saint-Rémy-lès-Ch...|    IDFM:62978|    Bures-sur-Yvette| IDFM:62851|       29149.0|      La Hacquinière| IDFM:62825|     29231.0|          82.0|      0.0|\n",
      "|IDFM:TN:SNCF:e6fe...|IDFM:C01743|         PITO|         PIDO36|Saint-Rémy-lès-Ch...|    IDFM:62978|      La Hacquinière| IDFM:62825|       29254.0|      Gif-sur-Yvette| IDFM:62890|     29337.0|          83.0|      0.0|\n",
      "|IDFM:TN:SNCF:e6fe...|IDFM:C01743|         PITO|         PIDO36|Saint-Rémy-lès-Ch...|    IDFM:62978|      Gif-sur-Yvette| IDFM:62890|       29359.0|Courcelle-sur-Yvette| IDFM:62951|     29517.0|         158.0|      0.0|\n",
      "|IDFM:TN:SNCF:e6fe...|IDFM:C01743|         PITO|         PIDO36|Saint-Rémy-lès-Ch...|    IDFM:62978|Courcelle-sur-Yvette| IDFM:62951|       29539.0|Saint-Rémy-lès-Ch...| IDFM:62978|     29695.0|         156.0|      0.0|\n",
      "|IDFM:TN:SNCF:32b0...|IDFM:C01743|         PITO|         PIDO42|Saint-Rémy-lès-Ch...|    IDFM:62978|Aéroport Charles ...| IDFM:73699|       25910.0|Aéroport CDG 1 (T...| IDFM:73596|     26020.0|         110.0|      0.0|\n",
      "|IDFM:TN:SNCF:32b0...|IDFM:C01743|         PITO|         PIDO42|Saint-Rémy-lès-Ch...|    IDFM:62978|Aéroport CDG 1 (T...| IDFM:73596|       26080.0|Parc des Expositions| IDFM:73568|     26360.0|         280.0|      0.0|\n",
      "|IDFM:TN:SNCF:32b0...|IDFM:C01743|         PITO|         PIDO42|Saint-Rémy-lès-Ch...|    IDFM:62978|Parc des Expositions| IDFM:73568|       26390.0|          Villepinte| IDFM:73547|     26480.0|          90.0|      0.0|\n",
      "|IDFM:TN:SNCF:32b0...|IDFM:C01743|         PITO|         PIDO42|Saint-Rémy-lès-Ch...|    IDFM:62978|          Villepinte| IDFM:73547|       26510.0|   Sevran Beaudottes| IDFM:73491|     26630.0|         120.0|      0.0|\n",
      "|IDFM:TN:SNCF:32b0...|IDFM:C01743|         PITO|         PIDO42|Saint-Rémy-lès-Ch...|    IDFM:62978|   Sevran Beaudottes| IDFM:73491|       26680.0|    Aulnay-sous-Bois| IDFM:72646|     26840.0|         160.0|      0.0|\n",
      "|IDFM:TN:SNCF:32b0...|IDFM:C01743|         PITO|         PIDO42|Saint-Rémy-lès-Ch...|    IDFM:62978|    Aulnay-sous-Bois| IDFM:72646|       26890.0|     Le Blanc-Mesnil| IDFM:72648|     26990.0|         100.0|      0.0|\n",
      "|IDFM:TN:SNCF:32b0...|IDFM:C01743|         PITO|         PIDO42|Saint-Rémy-lès-Ch...|    IDFM:62978|     Le Blanc-Mesnil| IDFM:72648|       27020.0|              Drancy| IDFM:72652|     27120.0|         100.0|      0.0|\n",
      "|IDFM:TN:SNCF:32b0...|IDFM:C01743|         PITO|         PIDO42|Saint-Rémy-lès-Ch...|    IDFM:62978|              Drancy| IDFM:72652|       27150.0|          Le Bourget| IDFM:72641|     27280.0|         130.0|      0.0|\n",
      "|IDFM:TN:SNCF:32b0...|IDFM:C01743|         PITO|         PIDO42|Saint-Rémy-lès-Ch...|    IDFM:62978|          Le Bourget| IDFM:72641|       27310.0|La Courneuve - Au...| IDFM:72598|     27490.0|         180.0|      0.0|\n",
      "|IDFM:TN:SNCF:32b0...|IDFM:C01743|         PITO|         PIDO42|Saint-Rémy-lès-Ch...|    IDFM:62978|La Courneuve - Au...| IDFM:72598|       27520.0|La Plaine Stade d...| IDFM:72211|     27640.0|         120.0|      0.0|\n",
      "|IDFM:TN:SNCF:32b0...|IDFM:C01743|         PITO|         PIDO42|Saint-Rémy-lès-Ch...|    IDFM:62978|La Plaine Stade d...| IDFM:72211|       27690.0|        Gare du Nord| IDFM:71410|     27960.0|         270.0|      0.0|\n",
      "|IDFM:TN:SNCF:32b0...|IDFM:C01743|         PITO|         PIDO42|Saint-Rémy-lès-Ch...|    IDFM:62978|        Gare du Nord| IDFM:71410|       28020.0| Châtelet les Halles|IDFM:474151|     28200.0|         180.0|      0.0|\n",
      "|IDFM:TN:SNCF:32b0...|IDFM:C01743|         PITO|         PIDO42|Saint-Rémy-lès-Ch...|    IDFM:62978| Châtelet les Halles|IDFM:474151|       28236.0|Saint-Michel Notr...| IDFM:73620|     28318.0|          82.0|      0.0|\n",
      "|IDFM:TN:SNCF:32b0...|IDFM:C01743|         PITO|         PIDO42|Saint-Rémy-lès-Ch...|    IDFM:62978|Saint-Michel Notr...| IDFM:73620|       28355.0|          Luxembourg| IDFM:71161|     28437.0|          82.0|      0.0|\n",
      "|IDFM:TN:SNCF:32b0...|IDFM:C01743|         PITO|         PIDO42|Saint-Rémy-lès-Ch...|    IDFM:62978|          Luxembourg| IDFM:71161|       28480.0|   Denfert-Rochereau| IDFM:71056|     28599.0|         119.0|      0.0|\n",
      "|IDFM:TN:SNCF:32b0...|IDFM:C01743|         PITO|         PIDO42|Saint-Rémy-lès-Ch...|    IDFM:62978|   Denfert-Rochereau| IDFM:71056|       28649.0|  Cité Universitaire| IDFM:70623|     28757.0|         108.0|      0.0|\n",
      "|IDFM:TN:SNCF:32b0...|IDFM:C01743|         PITO|         PIDO42|Saint-Rémy-lès-Ch...|    IDFM:62978|  Cité Universitaire| IDFM:70623|       28790.0|      Bourg-la-Reine| IDFM:70033|     29087.0|         297.0|      0.0|\n",
      "|IDFM:TN:SNCF:32b0...|IDFM:C01743|         PITO|         PIDO42|Saint-Rémy-lès-Ch...|    IDFM:62978|      Bourg-la-Reine| IDFM:70033|       29116.0|   La Croix de Berny| IDFM:69813|     29249.0|         133.0|      0.0|\n",
      "|IDFM:TN:SNCF:32b0...|IDFM:C01743|         PITO|         PIDO42|Saint-Rémy-lès-Ch...|    IDFM:62978|   La Croix de Berny| IDFM:69813|       29275.0|              Antony| IDFM:69759|     29345.0|          70.0|      0.0|\n",
      "|IDFM:TN:SNCF:32b0...|IDFM:C01743|         PITO|         PIDO42|Saint-Rémy-lès-Ch...|    IDFM:62978|              Antony| IDFM:69759|       29372.0|   Massy - Palaiseau| IDFM:63244|     29626.0|         254.0|      0.0|\n",
      "|IDFM:TN:SNCF:32b0...|IDFM:C01743|         PITO|         PIDO42|Saint-Rémy-lès-Ch...|    IDFM:62978|   Massy - Palaiseau| IDFM:63244|       29677.0|           Palaiseau| IDFM:63175|     29779.0|         102.0|      0.0|\n",
      "|IDFM:TN:SNCF:32b0...|IDFM:C01743|         PITO|         PIDO42|Saint-Rémy-lès-Ch...|    IDFM:62978|           Palaiseau| IDFM:63175|       29804.0|Palaiseau - Villebon| IDFM:63067|     29884.0|          80.0|      0.0|\n",
      "|IDFM:TN:SNCF:32b0...|IDFM:C01743|         PITO|         PIDO42|Saint-Rémy-lès-Ch...|    IDFM:62978|Palaiseau - Villebon| IDFM:63067|       29909.0|              Lozère| IDFM:63029|     30037.0|         128.0|      0.0|\n",
      "|IDFM:TN:SNCF:32b0...|IDFM:C01743|         PITO|         PIDO42|Saint-Rémy-lès-Ch...|    IDFM:62978|              Lozère| IDFM:63029|       30053.0|          Le Guichet| IDFM:63025|     30149.0|          96.0|      0.0|\n",
      "|IDFM:TN:SNCF:32b0...|IDFM:C01743|         PITO|         PIDO42|Saint-Rémy-lès-Ch...|    IDFM:62978|          Le Guichet| IDFM:63025|       30173.0|         Orsay Ville| IDFM:62892|     30266.0|          93.0|      0.0|\n",
      "|IDFM:TN:SNCF:32b0...|IDFM:C01743|         PITO|         PIDO42|Saint-Rémy-lès-Ch...|    IDFM:62978|         Orsay Ville| IDFM:62892|       30298.0|    Bures-sur-Yvette| IDFM:62851|     30385.0|          87.0|      0.0|\n",
      "|IDFM:TN:SNCF:32b0...|IDFM:C01743|         PITO|         PIDO42|Saint-Rémy-lès-Ch...|    IDFM:62978|    Bures-sur-Yvette| IDFM:62851|       30409.0|      La Hacquinière| IDFM:62825|     30491.0|          82.0|      0.0|\n",
      "|IDFM:TN:SNCF:32b0...|IDFM:C01743|         PITO|         PIDO42|Saint-Rémy-lès-Ch...|    IDFM:62978|      La Hacquinière| IDFM:62825|       30514.0|      Gif-sur-Yvette| IDFM:62890|     30597.0|          83.0|      0.0|\n",
      "|IDFM:TN:SNCF:32b0...|IDFM:C01743|         PITO|         PIDO42|Saint-Rémy-lès-Ch...|    IDFM:62978|      Gif-sur-Yvette| IDFM:62890|       30619.0|Courcelle-sur-Yvette| IDFM:62951|     30777.0|         158.0|      0.0|\n",
      "|IDFM:TN:SNCF:32b0...|IDFM:C01743|         PITO|         PIDO42|Saint-Rémy-lès-Ch...|    IDFM:62978|Courcelle-sur-Yvette| IDFM:62951|       30799.0|Saint-Rémy-lès-Ch...| IDFM:62978|     30955.0|         156.0|      0.0|\n",
      "|IDFM:TN:SNCF:40f0...|IDFM:C01743|         PITO|         PIDO48|Saint-Rémy-lès-Ch...|    IDFM:62978|Aéroport Charles ...| IDFM:73699|       27170.0|Aéroport CDG 1 (T...| IDFM:73596|     27280.0|         110.0|      0.0|\n",
      "|IDFM:TN:SNCF:40f0...|IDFM:C01743|         PITO|         PIDO48|Saint-Rémy-lès-Ch...|    IDFM:62978|Aéroport CDG 1 (T...| IDFM:73596|       27340.0|Parc des Expositions| IDFM:73568|     27620.0|         280.0|      0.0|\n",
      "|IDFM:TN:SNCF:40f0...|IDFM:C01743|         PITO|         PIDO48|Saint-Rémy-lès-Ch...|    IDFM:62978|Parc des Expositions| IDFM:73568|       27650.0|          Villepinte| IDFM:73547|     27740.0|          90.0|      0.0|\n",
      "|IDFM:TN:SNCF:40f0...|IDFM:C01743|         PITO|         PIDO48|Saint-Rémy-lès-Ch...|    IDFM:62978|          Villepinte| IDFM:73547|       27770.0|   Sevran Beaudottes| IDFM:73491|     27890.0|         120.0|      0.0|\n",
      "|IDFM:TN:SNCF:40f0...|IDFM:C01743|         PITO|         PIDO48|Saint-Rémy-lès-Ch...|    IDFM:62978|   Sevran Beaudottes| IDFM:73491|       27940.0|    Aulnay-sous-Bois| IDFM:72646|     28100.0|         160.0|      0.0|\n",
      "|IDFM:TN:SNCF:40f0...|IDFM:C01743|         PITO|         PIDO48|Saint-Rémy-lès-Ch...|    IDFM:62978|    Aulnay-sous-Bois| IDFM:72646|       28150.0|     Le Blanc-Mesnil| IDFM:72648|     28250.0|         100.0|      0.0|\n",
      "|IDFM:TN:SNCF:40f0...|IDFM:C01743|         PITO|         PIDO48|Saint-Rémy-lès-Ch...|    IDFM:62978|     Le Blanc-Mesnil| IDFM:72648|       28280.0|              Drancy| IDFM:72652|     28380.0|         100.0|      0.0|\n",
      "|IDFM:TN:SNCF:40f0...|IDFM:C01743|         PITO|         PIDO48|Saint-Rémy-lès-Ch...|    IDFM:62978|              Drancy| IDFM:72652|       28410.0|          Le Bourget| IDFM:72641|     28540.0|         130.0|      0.0|\n",
      "|IDFM:TN:SNCF:40f0...|IDFM:C01743|         PITO|         PIDO48|Saint-Rémy-lès-Ch...|    IDFM:62978|          Le Bourget| IDFM:72641|       28570.0|La Courneuve - Au...| IDFM:72598|     28750.0|         180.0|      0.0|\n",
      "|IDFM:TN:SNCF:40f0...|IDFM:C01743|         PITO|         PIDO48|Saint-Rémy-lès-Ch...|    IDFM:62978|La Courneuve - Au...| IDFM:72598|       28780.0|La Plaine Stade d...| IDFM:72211|     28900.0|         120.0|      0.0|\n",
      "|IDFM:TN:SNCF:40f0...|IDFM:C01743|         PITO|         PIDO48|Saint-Rémy-lès-Ch...|    IDFM:62978|La Plaine Stade d...| IDFM:72211|       28950.0|        Gare du Nord| IDFM:71410|     29220.0|         270.0|      0.0|\n",
      "|IDFM:TN:SNCF:40f0...|IDFM:C01743|         PITO|         PIDO48|Saint-Rémy-lès-Ch...|    IDFM:62978|        Gare du Nord| IDFM:71410|       29280.0| Châtelet les Halles|IDFM:474151|     29460.0|         180.0|      0.0|\n",
      "|IDFM:TN:SNCF:40f0...|IDFM:C01743|         PITO|         PIDO48|Saint-Rémy-lès-Ch...|    IDFM:62978| Châtelet les Halles|IDFM:474151|       29496.0|Saint-Michel Notr...| IDFM:73620|     29578.0|          82.0|      0.0|\n",
      "|IDFM:TN:SNCF:40f0...|IDFM:C01743|         PITO|         PIDO48|Saint-Rémy-lès-Ch...|    IDFM:62978|Saint-Michel Notr...| IDFM:73620|       29615.0|          Luxembourg| IDFM:71161|     29697.0|          82.0|      0.0|\n",
      "|IDFM:TN:SNCF:40f0...|IDFM:C01743|         PITO|         PIDO48|Saint-Rémy-lès-Ch...|    IDFM:62978|          Luxembourg| IDFM:71161|       29740.0|   Denfert-Rochereau| IDFM:71056|     29859.0|         119.0|      0.0|\n",
      "|IDFM:TN:SNCF:40f0...|IDFM:C01743|         PITO|         PIDO48|Saint-Rémy-lès-Ch...|    IDFM:62978|   Denfert-Rochereau| IDFM:71056|       29909.0|  Cité Universitaire| IDFM:70623|     30017.0|         108.0|      0.0|\n",
      "|IDFM:TN:SNCF:40f0...|IDFM:C01743|         PITO|         PIDO48|Saint-Rémy-lès-Ch...|    IDFM:62978|  Cité Universitaire| IDFM:70623|       30050.0|      Bourg-la-Reine| IDFM:70033|     30347.0|         297.0|      0.0|\n",
      "|IDFM:TN:SNCF:40f0...|IDFM:C01743|         PITO|         PIDO48|Saint-Rémy-lès-Ch...|    IDFM:62978|      Bourg-la-Reine| IDFM:70033|       30376.0|   La Croix de Berny| IDFM:69813|     30509.0|         133.0|      0.0|\n",
      "|IDFM:TN:SNCF:40f0...|IDFM:C01743|         PITO|         PIDO48|Saint-Rémy-lès-Ch...|    IDFM:62978|   La Croix de Berny| IDFM:69813|       30535.0|              Antony| IDFM:69759|     30605.0|          70.0|      0.0|\n",
      "|IDFM:TN:SNCF:40f0...|IDFM:C01743|         PITO|         PIDO48|Saint-Rémy-lès-Ch...|    IDFM:62978|              Antony| IDFM:69759|       30632.0|   Massy - Palaiseau| IDFM:63244|     30886.0|         254.0|      0.0|\n",
      "|IDFM:TN:SNCF:40f0...|IDFM:C01743|         PITO|         PIDO48|Saint-Rémy-lès-Ch...|    IDFM:62978|   Massy - Palaiseau| IDFM:63244|       30937.0|           Palaiseau| IDFM:63175|     31039.0|         102.0|      0.0|\n",
      "|IDFM:TN:SNCF:40f0...|IDFM:C01743|         PITO|         PIDO48|Saint-Rémy-lès-Ch...|    IDFM:62978|           Palaiseau| IDFM:63175|       31064.0|Palaiseau - Villebon| IDFM:63067|     31144.0|          80.0|      0.0|\n",
      "|IDFM:TN:SNCF:40f0...|IDFM:C01743|         PITO|         PIDO48|Saint-Rémy-lès-Ch...|    IDFM:62978|Palaiseau - Villebon| IDFM:63067|       31169.0|              Lozère| IDFM:63029|     31297.0|         128.0|      0.0|\n",
      "|IDFM:TN:SNCF:40f0...|IDFM:C01743|         PITO|         PIDO48|Saint-Rémy-lès-Ch...|    IDFM:62978|              Lozère| IDFM:63029|       31313.0|          Le Guichet| IDFM:63025|     31409.0|          96.0|      0.0|\n",
      "|IDFM:TN:SNCF:40f0...|IDFM:C01743|         PITO|         PIDO48|Saint-Rémy-lès-Ch...|    IDFM:62978|          Le Guichet| IDFM:63025|       31433.0|         Orsay Ville| IDFM:62892|     31526.0|          93.0|      0.0|\n",
      "|IDFM:TN:SNCF:40f0...|IDFM:C01743|         PITO|         PIDO48|Saint-Rémy-lès-Ch...|    IDFM:62978|         Orsay Ville| IDFM:62892|       31558.0|    Bures-sur-Yvette| IDFM:62851|     31645.0|          87.0|      0.0|\n",
      "|IDFM:TN:SNCF:40f0...|IDFM:C01743|         PITO|         PIDO48|Saint-Rémy-lès-Ch...|    IDFM:62978|    Bures-sur-Yvette| IDFM:62851|       31669.0|      La Hacquinière| IDFM:62825|     31751.0|          82.0|      0.0|\n",
      "|IDFM:TN:SNCF:40f0...|IDFM:C01743|         PITO|         PIDO48|Saint-Rémy-lès-Ch...|    IDFM:62978|      La Hacquinière| IDFM:62825|       31774.0|      Gif-sur-Yvette| IDFM:62890|     31857.0|          83.0|      0.0|\n",
      "|IDFM:TN:SNCF:40f0...|IDFM:C01743|         PITO|         PIDO48|Saint-Rémy-lès-Ch...|    IDFM:62978|      Gif-sur-Yvette| IDFM:62890|       31879.0|Courcelle-sur-Yvette| IDFM:62951|     32037.0|         158.0|      0.0|\n",
      "|IDFM:TN:SNCF:40f0...|IDFM:C01743|         PITO|         PIDO48|Saint-Rémy-lès-Ch...|    IDFM:62978|Courcelle-sur-Yvette| IDFM:62951|       32059.0|Saint-Rémy-lès-Ch...| IDFM:62978|     32215.0|         156.0|      0.0|\n",
      "|IDFM:TN:SNCF:6344...|IDFM:C01743|         PITO|         PIDO54|Saint-Rémy-lès-Ch...|    IDFM:62978|Aéroport Charles ...| IDFM:73699|       28430.0|Aéroport CDG 1 (T...| IDFM:73596|     28540.0|         110.0|      0.0|\n",
      "|IDFM:TN:SNCF:6344...|IDFM:C01743|         PITO|         PIDO54|Saint-Rémy-lès-Ch...|    IDFM:62978|Aéroport CDG 1 (T...| IDFM:73596|       28600.0|Parc des Expositions| IDFM:73568|     28880.0|         280.0|      0.0|\n",
      "|IDFM:TN:SNCF:6344...|IDFM:C01743|         PITO|         PIDO54|Saint-Rémy-lès-Ch...|    IDFM:62978|Parc des Expositions| IDFM:73568|       28910.0|          Villepinte| IDFM:73547|     29000.0|          90.0|      0.0|\n",
      "|IDFM:TN:SNCF:6344...|IDFM:C01743|         PITO|         PIDO54|Saint-Rémy-lès-Ch...|    IDFM:62978|          Villepinte| IDFM:73547|       29030.0|   Sevran Beaudottes| IDFM:73491|     29140.0|         110.0|      0.0|\n",
      "|IDFM:TN:SNCF:6344...|IDFM:C01743|         PITO|         PIDO54|Saint-Rémy-lès-Ch...|    IDFM:62978|   Sevran Beaudottes| IDFM:73491|       29190.0|    Aulnay-sous-Bois| IDFM:72646|     29360.0|         170.0|      0.0|\n",
      "|IDFM:TN:SNCF:6344...|IDFM:C01743|         PITO|         PIDO54|Saint-Rémy-lès-Ch...|    IDFM:62978|    Aulnay-sous-Bois| IDFM:72646|       29410.0|     Le Blanc-Mesnil| IDFM:72648|     29510.0|         100.0|      0.0|\n",
      "|IDFM:TN:SNCF:6344...|IDFM:C01743|         PITO|         PIDO54|Saint-Rémy-lès-Ch...|    IDFM:62978|     Le Blanc-Mesnil| IDFM:72648|       29540.0|              Drancy| IDFM:72652|     29640.0|         100.0|      0.0|\n",
      "|IDFM:TN:SNCF:6344...|IDFM:C01743|         PITO|         PIDO54|Saint-Rémy-lès-Ch...|    IDFM:62978|              Drancy| IDFM:72652|       29670.0|          Le Bourget| IDFM:72641|     29800.0|         130.0|      0.0|\n",
      "|IDFM:TN:SNCF:6344...|IDFM:C01743|         PITO|         PIDO54|Saint-Rémy-lès-Ch...|    IDFM:62978|          Le Bourget| IDFM:72641|       29830.0|La Courneuve - Au...| IDFM:72598|     30010.0|         180.0|      0.0|\n",
      "|IDFM:TN:SNCF:6344...|IDFM:C01743|         PITO|         PIDO54|Saint-Rémy-lès-Ch...|    IDFM:62978|La Courneuve - Au...| IDFM:72598|       30040.0|La Plaine Stade d...| IDFM:72211|     30160.0|         120.0|      0.0|\n",
      "|IDFM:TN:SNCF:6344...|IDFM:C01743|         PITO|         PIDO54|Saint-Rémy-lès-Ch...|    IDFM:62978|La Plaine Stade d...| IDFM:72211|       30210.0|        Gare du Nord| IDFM:71410|     30480.0|         270.0|      0.0|\n",
      "|IDFM:TN:SNCF:6344...|IDFM:C01743|         PITO|         PIDO54|Saint-Rémy-lès-Ch...|    IDFM:62978|        Gare du Nord| IDFM:71410|       30540.0| Châtelet les Halles|IDFM:474151|     30720.0|         180.0|      0.0|\n",
      "|IDFM:TN:SNCF:6344...|IDFM:C01743|         PITO|         PIDO54|Saint-Rémy-lès-Ch...|    IDFM:62978| Châtelet les Halles|IDFM:474151|       30756.0|Saint-Michel Notr...| IDFM:73620|     30838.0|          82.0|      0.0|\n",
      "|IDFM:TN:SNCF:6344...|IDFM:C01743|         PITO|         PIDO54|Saint-Rémy-lès-Ch...|    IDFM:62978|Saint-Michel Notr...| IDFM:73620|       30875.0|          Luxembourg| IDFM:71161|     30957.0|          82.0|      0.0|\n",
      "|IDFM:TN:SNCF:6344...|IDFM:C01743|         PITO|         PIDO54|Saint-Rémy-lès-Ch...|    IDFM:62978|          Luxembourg| IDFM:71161|       31000.0|   Denfert-Rochereau| IDFM:71056|     31119.0|         119.0|      0.0|\n",
      "|IDFM:TN:SNCF:6344...|IDFM:C01743|         PITO|         PIDO54|Saint-Rémy-lès-Ch...|    IDFM:62978|   Denfert-Rochereau| IDFM:71056|       31169.0|  Cité Universitaire| IDFM:70623|     31277.0|         108.0|      0.0|\n",
      "|IDFM:TN:SNCF:6344...|IDFM:C01743|         PITO|         PIDO54|Saint-Rémy-lès-Ch...|    IDFM:62978|  Cité Universitaire| IDFM:70623|       31310.0|      Bourg-la-Reine| IDFM:70033|     31607.0|         297.0|      0.0|\n",
      "|IDFM:TN:SNCF:6344...|IDFM:C01743|         PITO|         PIDO54|Saint-Rémy-lès-Ch...|    IDFM:62978|      Bourg-la-Reine| IDFM:70033|       31636.0|   La Croix de Berny| IDFM:69813|     31769.0|         133.0|      0.0|\n",
      "|IDFM:TN:SNCF:6344...|IDFM:C01743|         PITO|         PIDO54|Saint-Rémy-lès-Ch...|    IDFM:62978|   La Croix de Berny| IDFM:69813|       31795.0|              Antony| IDFM:69759|     31865.0|          70.0|      0.0|\n",
      "|IDFM:TN:SNCF:6344...|IDFM:C01743|         PITO|         PIDO54|Saint-Rémy-lès-Ch...|    IDFM:62978|              Antony| IDFM:69759|       31892.0|   Massy - Palaiseau| IDFM:63244|     32146.0|         254.0|      0.0|\n",
      "|IDFM:TN:SNCF:6344...|IDFM:C01743|         PITO|         PIDO54|Saint-Rémy-lès-Ch...|    IDFM:62978|   Massy - Palaiseau| IDFM:63244|       32197.0|           Palaiseau| IDFM:63175|     32299.0|         102.0|      0.0|\n",
      "|IDFM:TN:SNCF:6344...|IDFM:C01743|         PITO|         PIDO54|Saint-Rémy-lès-Ch...|    IDFM:62978|           Palaiseau| IDFM:63175|       32324.0|Palaiseau - Villebon| IDFM:63067|     32404.0|          80.0|      0.0|\n",
      "|IDFM:TN:SNCF:6344...|IDFM:C01743|         PITO|         PIDO54|Saint-Rémy-lès-Ch...|    IDFM:62978|Palaiseau - Villebon| IDFM:63067|       32429.0|              Lozère| IDFM:63029|     32557.0|         128.0|      0.0|\n",
      "|IDFM:TN:SNCF:6344...|IDFM:C01743|         PITO|         PIDO54|Saint-Rémy-lès-Ch...|    IDFM:62978|              Lozère| IDFM:63029|       32573.0|          Le Guichet| IDFM:63025|     32669.0|          96.0|      0.0|\n",
      "|IDFM:TN:SNCF:6344...|IDFM:C01743|         PITO|         PIDO54|Saint-Rémy-lès-Ch...|    IDFM:62978|          Le Guichet| IDFM:63025|       32693.0|         Orsay Ville| IDFM:62892|     32786.0|          93.0|      0.0|\n",
      "|IDFM:TN:SNCF:6344...|IDFM:C01743|         PITO|         PIDO54|Saint-Rémy-lès-Ch...|    IDFM:62978|         Orsay Ville| IDFM:62892|       32818.0|    Bures-sur-Yvette| IDFM:62851|     32905.0|          87.0|      0.0|\n",
      "|IDFM:TN:SNCF:6344...|IDFM:C01743|         PITO|         PIDO54|Saint-Rémy-lès-Ch...|    IDFM:62978|    Bures-sur-Yvette| IDFM:62851|       32929.0|      La Hacquinière| IDFM:62825|     33011.0|          82.0|      0.0|\n",
      "|IDFM:TN:SNCF:6344...|IDFM:C01743|         PITO|         PIDO54|Saint-Rémy-lès-Ch...|    IDFM:62978|      La Hacquinière| IDFM:62825|       33034.0|      Gif-sur-Yvette| IDFM:62890|     33117.0|          83.0|      0.0|\n",
      "|IDFM:TN:SNCF:6344...|IDFM:C01743|         PITO|         PIDO54|Saint-Rémy-lès-Ch...|    IDFM:62978|      Gif-sur-Yvette| IDFM:62890|       33139.0|Courcelle-sur-Yvette| IDFM:62951|     33297.0|         158.0|      0.0|\n",
      "|IDFM:TN:SNCF:6344...|IDFM:C01743|         PITO|         PIDO54|Saint-Rémy-lès-Ch...|    IDFM:62978|Courcelle-sur-Yvette| IDFM:62951|       33319.0|Saint-Rémy-lès-Ch...| IDFM:62978|     33475.0|         156.0|      0.0|\n",
      "|IDFM:TN:SNCF:9ebc...|IDFM:C01743|         PITO|         PIDO60|Saint-Rémy-lès-Ch...|    IDFM:62978|Aéroport Charles ...| IDFM:73699|       29690.0|Aéroport CDG 1 (T...| IDFM:73596|     29800.0|         110.0|      0.0|\n",
      "|IDFM:TN:SNCF:9ebc...|IDFM:C01743|         PITO|         PIDO60|Saint-Rémy-lès-Ch...|    IDFM:62978|Aéroport CDG 1 (T...| IDFM:73596|       29860.0|Parc des Expositions| IDFM:73568|     30140.0|         280.0|      0.0|\n",
      "|IDFM:TN:SNCF:9ebc...|IDFM:C01743|         PITO|         PIDO60|Saint-Rémy-lès-Ch...|    IDFM:62978|Parc des Expositions| IDFM:73568|       30170.0|          Villepinte| IDFM:73547|     30260.0|          90.0|      0.0|\n",
      "|IDFM:TN:SNCF:9ebc...|IDFM:C01743|         PITO|         PIDO60|Saint-Rémy-lès-Ch...|    IDFM:62978|          Villepinte| IDFM:73547|       30290.0|   Sevran Beaudottes| IDFM:73491|     30410.0|         120.0|      0.0|\n",
      "|IDFM:TN:SNCF:9ebc...|IDFM:C01743|         PITO|         PIDO60|Saint-Rémy-lès-Ch...|    IDFM:62978|   Sevran Beaudottes| IDFM:73491|       30460.0|    Aulnay-sous-Bois| IDFM:72646|     30620.0|         160.0|      0.0|\n",
      "|IDFM:TN:SNCF:9ebc...|IDFM:C01743|         PITO|         PIDO60|Saint-Rémy-lès-Ch...|    IDFM:62978|    Aulnay-sous-Bois| IDFM:72646|       30670.0|     Le Blanc-Mesnil| IDFM:72648|     30770.0|         100.0|      0.0|\n",
      "|IDFM:TN:SNCF:9ebc...|IDFM:C01743|         PITO|         PIDO60|Saint-Rémy-lès-Ch...|    IDFM:62978|     Le Blanc-Mesnil| IDFM:72648|       30800.0|              Drancy| IDFM:72652|     30900.0|         100.0|      0.0|\n",
      "|IDFM:TN:SNCF:9ebc...|IDFM:C01743|         PITO|         PIDO60|Saint-Rémy-lès-Ch...|    IDFM:62978|              Drancy| IDFM:72652|       30930.0|          Le Bourget| IDFM:72641|     31060.0|         130.0|      0.0|\n",
      "|IDFM:TN:SNCF:9ebc...|IDFM:C01743|         PITO|         PIDO60|Saint-Rémy-lès-Ch...|    IDFM:62978|          Le Bourget| IDFM:72641|       31090.0|La Courneuve - Au...| IDFM:72598|     31270.0|         180.0|      0.0|\n",
      "|IDFM:TN:SNCF:9ebc...|IDFM:C01743|         PITO|         PIDO60|Saint-Rémy-lès-Ch...|    IDFM:62978|La Courneuve - Au...| IDFM:72598|       31300.0|La Plaine Stade d...| IDFM:72211|     31420.0|         120.0|      0.0|\n",
      "|IDFM:TN:SNCF:9ebc...|IDFM:C01743|         PITO|         PIDO60|Saint-Rémy-lès-Ch...|    IDFM:62978|La Plaine Stade d...| IDFM:72211|       31470.0|        Gare du Nord| IDFM:71410|     31740.0|         270.0|      0.0|\n",
      "|IDFM:TN:SNCF:9ebc...|IDFM:C01743|         PITO|         PIDO60|Saint-Rémy-lès-Ch...|    IDFM:62978|        Gare du Nord| IDFM:71410|       31800.0| Châtelet les Halles|IDFM:474151|     31980.0|         180.0|      0.0|\n",
      "|IDFM:TN:SNCF:9ebc...|IDFM:C01743|         PITO|         PIDO60|Saint-Rémy-lès-Ch...|    IDFM:62978| Châtelet les Halles|IDFM:474151|       32016.0|Saint-Michel Notr...| IDFM:73620|     32098.0|          82.0|      0.0|\n",
      "|IDFM:TN:SNCF:9ebc...|IDFM:C01743|         PITO|         PIDO60|Saint-Rémy-lès-Ch...|    IDFM:62978|Saint-Michel Notr...| IDFM:73620|       32135.0|          Luxembourg| IDFM:71161|     32217.0|          82.0|      0.0|\n",
      "|IDFM:TN:SNCF:9ebc...|IDFM:C01743|         PITO|         PIDO60|Saint-Rémy-lès-Ch...|    IDFM:62978|          Luxembourg| IDFM:71161|       32260.0|   Denfert-Rochereau| IDFM:71056|     32379.0|         119.0|      0.0|\n",
      "|IDFM:TN:SNCF:9ebc...|IDFM:C01743|         PITO|         PIDO60|Saint-Rémy-lès-Ch...|    IDFM:62978|   Denfert-Rochereau| IDFM:71056|       32429.0|  Cité Universitaire| IDFM:70623|     32537.0|         108.0|      0.0|\n",
      "|IDFM:TN:SNCF:9ebc...|IDFM:C01743|         PITO|         PIDO60|Saint-Rémy-lès-Ch...|    IDFM:62978|  Cité Universitaire| IDFM:70623|       32570.0|      Bourg-la-Reine| IDFM:70033|     32867.0|         297.0|      0.0|\n",
      "|IDFM:TN:SNCF:9ebc...|IDFM:C01743|         PITO|         PIDO60|Saint-Rémy-lès-Ch...|    IDFM:62978|      Bourg-la-Reine| IDFM:70033|       32896.0|   La Croix de Berny| IDFM:69813|     33029.0|         133.0|      0.0|\n",
      "|IDFM:TN:SNCF:9ebc...|IDFM:C01743|         PITO|         PIDO60|Saint-Rémy-lès-Ch...|    IDFM:62978|   La Croix de Berny| IDFM:69813|       33055.0|              Antony| IDFM:69759|     33125.0|          70.0|      0.0|\n",
      "|IDFM:TN:SNCF:9ebc...|IDFM:C01743|         PITO|         PIDO60|Saint-Rémy-lès-Ch...|    IDFM:62978|              Antony| IDFM:69759|       33152.0|   Massy - Palaiseau| IDFM:63244|     33406.0|         254.0|      0.0|\n",
      "|IDFM:TN:SNCF:9ebc...|IDFM:C01743|         PITO|         PIDO60|Saint-Rémy-lès-Ch...|    IDFM:62978|   Massy - Palaiseau| IDFM:63244|       33457.0|           Palaiseau| IDFM:63175|     33559.0|         102.0|      0.0|\n",
      "|IDFM:TN:SNCF:9ebc...|IDFM:C01743|         PITO|         PIDO60|Saint-Rémy-lès-Ch...|    IDFM:62978|           Palaiseau| IDFM:63175|       33584.0|Palaiseau - Villebon| IDFM:63067|     33664.0|          80.0|      0.0|\n",
      "|IDFM:TN:SNCF:9ebc...|IDFM:C01743|         PITO|         PIDO60|Saint-Rémy-lès-Ch...|    IDFM:62978|Palaiseau - Villebon| IDFM:63067|       33689.0|              Lozère| IDFM:63029|     33817.0|         128.0|      0.0|\n",
      "|IDFM:TN:SNCF:9ebc...|IDFM:C01743|         PITO|         PIDO60|Saint-Rémy-lès-Ch...|    IDFM:62978|              Lozère| IDFM:63029|       33833.0|          Le Guichet| IDFM:63025|     33929.0|          96.0|      0.0|\n",
      "|IDFM:TN:SNCF:9ebc...|IDFM:C01743|         PITO|         PIDO60|Saint-Rémy-lès-Ch...|    IDFM:62978|          Le Guichet| IDFM:63025|       33953.0|         Orsay Ville| IDFM:62892|     34046.0|          93.0|      0.0|\n",
      "|IDFM:TN:SNCF:9ebc...|IDFM:C01743|         PITO|         PIDO60|Saint-Rémy-lès-Ch...|    IDFM:62978|         Orsay Ville| IDFM:62892|       34078.0|    Bures-sur-Yvette| IDFM:62851|     34165.0|          87.0|      0.0|\n",
      "|IDFM:TN:SNCF:9ebc...|IDFM:C01743|         PITO|         PIDO60|Saint-Rémy-lès-Ch...|    IDFM:62978|    Bures-sur-Yvette| IDFM:62851|       34189.0|      La Hacquinière| IDFM:62825|     34271.0|          82.0|      0.0|\n",
      "|IDFM:TN:SNCF:9ebc...|IDFM:C01743|         PITO|         PIDO60|Saint-Rémy-lès-Ch...|    IDFM:62978|      La Hacquinière| IDFM:62825|       34294.0|      Gif-sur-Yvette| IDFM:62890|     34377.0|          83.0|      0.0|\n",
      "|IDFM:TN:SNCF:9ebc...|IDFM:C01743|         PITO|         PIDO60|Saint-Rémy-lès-Ch...|    IDFM:62978|      Gif-sur-Yvette| IDFM:62890|       34399.0|Courcelle-sur-Yvette| IDFM:62951|     34557.0|         158.0|      0.0|\n",
      "|IDFM:TN:SNCF:9ebc...|IDFM:C01743|         PITO|         PIDO60|Saint-Rémy-lès-Ch...|    IDFM:62978|Courcelle-sur-Yvette| IDFM:62951|       34579.0|Saint-Rémy-lès-Ch...| IDFM:62978|     34735.0|         156.0|      0.0|\n",
      "|IDFM:TN:SNCF:3f22...|IDFM:C01743|         PITO|         PIDO66|Saint-Rémy-lès-Ch...|    IDFM:62978|Aéroport Charles ...| IDFM:73699|       30950.0|Aéroport CDG 1 (T...| IDFM:73596|     31060.0|         110.0|      0.0|\n",
      "|IDFM:TN:SNCF:3f22...|IDFM:C01743|         PITO|         PIDO66|Saint-Rémy-lès-Ch...|    IDFM:62978|Aéroport CDG 1 (T...| IDFM:73596|       31120.0|Parc des Expositions| IDFM:73568|     31400.0|         280.0|      0.0|\n",
      "|IDFM:TN:SNCF:3f22...|IDFM:C01743|         PITO|         PIDO66|Saint-Rémy-lès-Ch...|    IDFM:62978|Parc des Expositions| IDFM:73568|       31430.0|          Villepinte| IDFM:73547|     31520.0|          90.0|      0.0|\n",
      "|IDFM:TN:SNCF:3f22...|IDFM:C01743|         PITO|         PIDO66|Saint-Rémy-lès-Ch...|    IDFM:62978|          Villepinte| IDFM:73547|       31550.0|   Sevran Beaudottes| IDFM:73491|     31660.0|         110.0|      0.0|\n",
      "|IDFM:TN:SNCF:3f22...|IDFM:C01743|         PITO|         PIDO66|Saint-Rémy-lès-Ch...|    IDFM:62978|   Sevran Beaudottes| IDFM:73491|       31710.0|    Aulnay-sous-Bois| IDFM:72646|     31880.0|         170.0|      0.0|\n",
      "|IDFM:TN:SNCF:3f22...|IDFM:C01743|         PITO|         PIDO66|Saint-Rémy-lès-Ch...|    IDFM:62978|    Aulnay-sous-Bois| IDFM:72646|       31930.0|     Le Blanc-Mesnil| IDFM:72648|     32030.0|         100.0|      0.0|\n",
      "|IDFM:TN:SNCF:3f22...|IDFM:C01743|         PITO|         PIDO66|Saint-Rémy-lès-Ch...|    IDFM:62978|     Le Blanc-Mesnil| IDFM:72648|       32060.0|              Drancy| IDFM:72652|     32160.0|         100.0|      0.0|\n",
      "|IDFM:TN:SNCF:3f22...|IDFM:C01743|         PITO|         PIDO66|Saint-Rémy-lès-Ch...|    IDFM:62978|              Drancy| IDFM:72652|       32190.0|          Le Bourget| IDFM:72641|     32320.0|         130.0|      0.0|\n",
      "|IDFM:TN:SNCF:3f22...|IDFM:C01743|         PITO|         PIDO66|Saint-Rémy-lès-Ch...|    IDFM:62978|          Le Bourget| IDFM:72641|       32350.0|La Courneuve - Au...| IDFM:72598|     32530.0|         180.0|      0.0|\n",
      "|IDFM:TN:SNCF:3f22...|IDFM:C01743|         PITO|         PIDO66|Saint-Rémy-lès-Ch...|    IDFM:62978|La Courneuve - Au...| IDFM:72598|       32560.0|La Plaine Stade d...| IDFM:72211|     32680.0|         120.0|      0.0|\n",
      "|IDFM:TN:SNCF:3f22...|IDFM:C01743|         PITO|         PIDO66|Saint-Rémy-lès-Ch...|    IDFM:62978|La Plaine Stade d...| IDFM:72211|       32730.0|        Gare du Nord| IDFM:71410|     33000.0|         270.0|      0.0|\n",
      "|IDFM:TN:SNCF:3f22...|IDFM:C01743|         PITO|         PIDO66|Saint-Rémy-lès-Ch...|    IDFM:62978|        Gare du Nord| IDFM:71410|       33060.0| Châtelet les Halles|IDFM:474151|     33240.0|         180.0|      0.0|\n",
      "|IDFM:TN:SNCF:3f22...|IDFM:C01743|         PITO|         PIDO66|Saint-Rémy-lès-Ch...|    IDFM:62978| Châtelet les Halles|IDFM:474151|       33276.0|Saint-Michel Notr...| IDFM:73620|     33358.0|          82.0|      0.0|\n",
      "|IDFM:TN:SNCF:3f22...|IDFM:C01743|         PITO|         PIDO66|Saint-Rémy-lès-Ch...|    IDFM:62978|Saint-Michel Notr...| IDFM:73620|       33395.0|          Luxembourg| IDFM:71161|     33477.0|          82.0|      0.0|\n",
      "|IDFM:TN:SNCF:3f22...|IDFM:C01743|         PITO|         PIDO66|Saint-Rémy-lès-Ch...|    IDFM:62978|          Luxembourg| IDFM:71161|       33520.0|   Denfert-Rochereau| IDFM:71056|     33639.0|         119.0|      0.0|\n",
      "|IDFM:TN:SNCF:3f22...|IDFM:C01743|         PITO|         PIDO66|Saint-Rémy-lès-Ch...|    IDFM:62978|   Denfert-Rochereau| IDFM:71056|       33689.0|  Cité Universitaire| IDFM:70623|     33797.0|         108.0|      0.0|\n",
      "|IDFM:TN:SNCF:3f22...|IDFM:C01743|         PITO|         PIDO66|Saint-Rémy-lès-Ch...|    IDFM:62978|  Cité Universitaire| IDFM:70623|       33830.0|      Bourg-la-Reine| IDFM:70033|     34127.0|         297.0|      0.0|\n",
      "|IDFM:TN:SNCF:3f22...|IDFM:C01743|         PITO|         PIDO66|Saint-Rémy-lès-Ch...|    IDFM:62978|      Bourg-la-Reine| IDFM:70033|       34156.0|   La Croix de Berny| IDFM:69813|     34289.0|         133.0|      0.0|\n",
      "|IDFM:TN:SNCF:3f22...|IDFM:C01743|         PITO|         PIDO66|Saint-Rémy-lès-Ch...|    IDFM:62978|   La Croix de Berny| IDFM:69813|       34315.0|              Antony| IDFM:69759|     34385.0|          70.0|      0.0|\n",
      "|IDFM:TN:SNCF:3f22...|IDFM:C01743|         PITO|         PIDO66|Saint-Rémy-lès-Ch...|    IDFM:62978|              Antony| IDFM:69759|       34412.0|   Massy - Palaiseau| IDFM:63244|     34666.0|         254.0|      0.0|\n",
      "|IDFM:TN:SNCF:3f22...|IDFM:C01743|         PITO|         PIDO66|Saint-Rémy-lès-Ch...|    IDFM:62978|   Massy - Palaiseau| IDFM:63244|       34717.0|           Palaiseau| IDFM:63175|     34819.0|         102.0|      0.0|\n",
      "|IDFM:TN:SNCF:3f22...|IDFM:C01743|         PITO|         PIDO66|Saint-Rémy-lès-Ch...|    IDFM:62978|           Palaiseau| IDFM:63175|       34844.0|Palaiseau - Villebon| IDFM:63067|     34924.0|          80.0|      0.0|\n",
      "|IDFM:TN:SNCF:3f22...|IDFM:C01743|         PITO|         PIDO66|Saint-Rémy-lès-Ch...|    IDFM:62978|Palaiseau - Villebon| IDFM:63067|       34949.0|              Lozère| IDFM:63029|     35077.0|         128.0|      0.0|\n",
      "|IDFM:TN:SNCF:3f22...|IDFM:C01743|         PITO|         PIDO66|Saint-Rémy-lès-Ch...|    IDFM:62978|              Lozère| IDFM:63029|       35093.0|          Le Guichet| IDFM:63025|     35189.0|          96.0|      0.0|\n",
      "|IDFM:TN:SNCF:3f22...|IDFM:C01743|         PITO|         PIDO66|Saint-Rémy-lès-Ch...|    IDFM:62978|          Le Guichet| IDFM:63025|       35213.0|         Orsay Ville| IDFM:62892|     35306.0|          93.0|      0.0|\n",
      "|IDFM:TN:SNCF:3f22...|IDFM:C01743|         PITO|         PIDO66|Saint-Rémy-lès-Ch...|    IDFM:62978|         Orsay Ville| IDFM:62892|       35338.0|    Bures-sur-Yvette| IDFM:62851|     35425.0|          87.0|      0.0|\n",
      "|IDFM:TN:SNCF:3f22...|IDFM:C01743|         PITO|         PIDO66|Saint-Rémy-lès-Ch...|    IDFM:62978|    Bures-sur-Yvette| IDFM:62851|       35449.0|      La Hacquinière| IDFM:62825|     35531.0|          82.0|      0.0|\n",
      "|IDFM:TN:SNCF:3f22...|IDFM:C01743|         PITO|         PIDO66|Saint-Rémy-lès-Ch...|    IDFM:62978|      La Hacquinière| IDFM:62825|       35554.0|      Gif-sur-Yvette| IDFM:62890|     35637.0|          83.0|      0.0|\n",
      "|IDFM:TN:SNCF:3f22...|IDFM:C01743|         PITO|         PIDO66|Saint-Rémy-lès-Ch...|    IDFM:62978|      Gif-sur-Yvette| IDFM:62890|       35659.0|Courcelle-sur-Yvette| IDFM:62951|     35817.0|         158.0|      0.0|\n",
      "|IDFM:TN:SNCF:3f22...|IDFM:C01743|         PITO|         PIDO66|Saint-Rémy-lès-Ch...|    IDFM:62978|Courcelle-sur-Yvette| IDFM:62951|       35839.0|Saint-Rémy-lès-Ch...| IDFM:62978|     35995.0|         156.0|      0.0|\n",
      "|IDFM:TN:SNCF:28ca...|IDFM:C01743|         PITO|         PIDO72|Saint-Rémy-lès-Ch...|    IDFM:62978|Aéroport Charles ...| IDFM:73699|       32210.0|Aéroport CDG 1 (T...| IDFM:73596|     32320.0|         110.0|      0.0|\n",
      "|IDFM:TN:SNCF:28ca...|IDFM:C01743|         PITO|         PIDO72|Saint-Rémy-lès-Ch...|    IDFM:62978|Aéroport CDG 1 (T...| IDFM:73596|       32380.0|Parc des Expositions| IDFM:73568|     32660.0|         280.0|      0.0|\n",
      "|IDFM:TN:SNCF:28ca...|IDFM:C01743|         PITO|         PIDO72|Saint-Rémy-lès-Ch...|    IDFM:62978|Parc des Expositions| IDFM:73568|       32690.0|          Villepinte| IDFM:73547|     32780.0|          90.0|      0.0|\n",
      "|IDFM:TN:SNCF:28ca...|IDFM:C01743|         PITO|         PIDO72|Saint-Rémy-lès-Ch...|    IDFM:62978|          Villepinte| IDFM:73547|       32810.0|   Sevran Beaudottes| IDFM:73491|     32930.0|         120.0|      0.0|\n",
      "|IDFM:TN:SNCF:28ca...|IDFM:C01743|         PITO|         PIDO72|Saint-Rémy-lès-Ch...|    IDFM:62978|   Sevran Beaudottes| IDFM:73491|       32980.0|    Aulnay-sous-Bois| IDFM:72646|     33140.0|         160.0|      0.0|\n",
      "|IDFM:TN:SNCF:28ca...|IDFM:C01743|         PITO|         PIDO72|Saint-Rémy-lès-Ch...|    IDFM:62978|    Aulnay-sous-Bois| IDFM:72646|       33190.0|     Le Blanc-Mesnil| IDFM:72648|     33290.0|         100.0|      0.0|\n",
      "|IDFM:TN:SNCF:28ca...|IDFM:C01743|         PITO|         PIDO72|Saint-Rémy-lès-Ch...|    IDFM:62978|     Le Blanc-Mesnil| IDFM:72648|       33320.0|              Drancy| IDFM:72652|     33420.0|         100.0|      0.0|\n",
      "|IDFM:TN:SNCF:28ca...|IDFM:C01743|         PITO|         PIDO72|Saint-Rémy-lès-Ch...|    IDFM:62978|              Drancy| IDFM:72652|       33450.0|          Le Bourget| IDFM:72641|     33580.0|         130.0|      0.0|\n",
      "|IDFM:TN:SNCF:28ca...|IDFM:C01743|         PITO|         PIDO72|Saint-Rémy-lès-Ch...|    IDFM:62978|          Le Bourget| IDFM:72641|       33610.0|La Courneuve - Au...| IDFM:72598|     33790.0|         180.0|      0.0|\n",
      "|IDFM:TN:SNCF:28ca...|IDFM:C01743|         PITO|         PIDO72|Saint-Rémy-lès-Ch...|    IDFM:62978|La Courneuve - Au...| IDFM:72598|       33820.0|La Plaine Stade d...| IDFM:72211|     33940.0|         120.0|      0.0|\n",
      "|IDFM:TN:SNCF:28ca...|IDFM:C01743|         PITO|         PIDO72|Saint-Rémy-lès-Ch...|    IDFM:62978|La Plaine Stade d...| IDFM:72211|       33990.0|        Gare du Nord| IDFM:71410|     34260.0|         270.0|      0.0|\n",
      "|IDFM:TN:SNCF:28ca...|IDFM:C01743|         PITO|         PIDO72|Saint-Rémy-lès-Ch...|    IDFM:62978|        Gare du Nord| IDFM:71410|       34320.0| Châtelet les Halles|IDFM:474151|     34500.0|         180.0|      0.0|\n",
      "|IDFM:TN:SNCF:28ca...|IDFM:C01743|         PITO|         PIDO72|Saint-Rémy-lès-Ch...|    IDFM:62978| Châtelet les Halles|IDFM:474151|       34536.0|Saint-Michel Notr...| IDFM:73620|     34618.0|          82.0|      0.0|\n",
      "|IDFM:TN:SNCF:28ca...|IDFM:C01743|         PITO|         PIDO72|Saint-Rémy-lès-Ch...|    IDFM:62978|Saint-Michel Notr...| IDFM:73620|       34655.0|          Luxembourg| IDFM:71161|     34737.0|          82.0|      0.0|\n",
      "|IDFM:TN:SNCF:28ca...|IDFM:C01743|         PITO|         PIDO72|Saint-Rémy-lès-Ch...|    IDFM:62978|          Luxembourg| IDFM:71161|       34780.0|   Denfert-Rochereau| IDFM:71056|     34899.0|         119.0|      0.0|\n",
      "|IDFM:TN:SNCF:28ca...|IDFM:C01743|         PITO|         PIDO72|Saint-Rémy-lès-Ch...|    IDFM:62978|   Denfert-Rochereau| IDFM:71056|       34949.0|  Cité Universitaire| IDFM:70623|     35057.0|         108.0|      0.0|\n",
      "|IDFM:TN:SNCF:28ca...|IDFM:C01743|         PITO|         PIDO72|Saint-Rémy-lès-Ch...|    IDFM:62978|  Cité Universitaire| IDFM:70623|       35090.0|      Bourg-la-Reine| IDFM:70033|     35387.0|         297.0|      0.0|\n",
      "|IDFM:TN:SNCF:28ca...|IDFM:C01743|         PITO|         PIDO72|Saint-Rémy-lès-Ch...|    IDFM:62978|      Bourg-la-Reine| IDFM:70033|       35416.0|   La Croix de Berny| IDFM:69813|     35549.0|         133.0|      0.0|\n",
      "|IDFM:TN:SNCF:28ca...|IDFM:C01743|         PITO|         PIDO72|Saint-Rémy-lès-Ch...|    IDFM:62978|   La Croix de Berny| IDFM:69813|       35575.0|              Antony| IDFM:69759|     35645.0|          70.0|      0.0|\n",
      "|IDFM:TN:SNCF:28ca...|IDFM:C01743|         PITO|         PIDO72|Saint-Rémy-lès-Ch...|    IDFM:62978|              Antony| IDFM:69759|       35672.0|   Massy - Palaiseau| IDFM:63244|     35926.0|         254.0|      0.0|\n",
      "|IDFM:TN:SNCF:28ca...|IDFM:C01743|         PITO|         PIDO72|Saint-Rémy-lès-Ch...|    IDFM:62978|   Massy - Palaiseau| IDFM:63244|       35977.0|           Palaiseau| IDFM:63175|     36079.0|         102.0|      0.0|\n",
      "|IDFM:TN:SNCF:28ca...|IDFM:C01743|         PITO|         PIDO72|Saint-Rémy-lès-Ch...|    IDFM:62978|           Palaiseau| IDFM:63175|       36104.0|Palaiseau - Villebon| IDFM:63067|     36184.0|          80.0|      0.0|\n",
      "|IDFM:TN:SNCF:28ca...|IDFM:C01743|         PITO|         PIDO72|Saint-Rémy-lès-Ch...|    IDFM:62978|Palaiseau - Villebon| IDFM:63067|       36209.0|              Lozère| IDFM:63029|     36337.0|         128.0|      0.0|\n",
      "|IDFM:TN:SNCF:28ca...|IDFM:C01743|         PITO|         PIDO72|Saint-Rémy-lès-Ch...|    IDFM:62978|              Lozère| IDFM:63029|       36353.0|          Le Guichet| IDFM:63025|     36449.0|          96.0|      0.0|\n",
      "|IDFM:TN:SNCF:28ca...|IDFM:C01743|         PITO|         PIDO72|Saint-Rémy-lès-Ch...|    IDFM:62978|          Le Guichet| IDFM:63025|       36473.0|         Orsay Ville| IDFM:62892|     36566.0|          93.0|      0.0|\n",
      "|IDFM:TN:SNCF:28ca...|IDFM:C01743|         PITO|         PIDO72|Saint-Rémy-lès-Ch...|    IDFM:62978|         Orsay Ville| IDFM:62892|       36598.0|    Bures-sur-Yvette| IDFM:62851|     36685.0|          87.0|      0.0|\n",
      "|IDFM:TN:SNCF:28ca...|IDFM:C01743|         PITO|         PIDO72|Saint-Rémy-lès-Ch...|    IDFM:62978|    Bures-sur-Yvette| IDFM:62851|       36709.0|      La Hacquinière| IDFM:62825|     36791.0|          82.0|      0.0|\n",
      "|IDFM:TN:SNCF:28ca...|IDFM:C01743|         PITO|         PIDO72|Saint-Rémy-lès-Ch...|    IDFM:62978|      La Hacquinière| IDFM:62825|       36814.0|      Gif-sur-Yvette| IDFM:62890|     36897.0|          83.0|      0.0|\n",
      "|IDFM:TN:SNCF:28ca...|IDFM:C01743|         PITO|         PIDO72|Saint-Rémy-lès-Ch...|    IDFM:62978|      Gif-sur-Yvette| IDFM:62890|       36919.0|Courcelle-sur-Yvette| IDFM:62951|     37077.0|         158.0|      0.0|\n",
      "|IDFM:TN:SNCF:28ca...|IDFM:C01743|         PITO|         PIDO72|Saint-Rémy-lès-Ch...|    IDFM:62978|Courcelle-sur-Yvette| IDFM:62951|       37099.0|Saint-Rémy-lès-Ch...| IDFM:62978|     37255.0|         156.0|      0.0|\n",
      "|IDFM:TN:SNCF:99ce...|IDFM:C01743|         PITO|         PIDO78|Saint-Rémy-lès-Ch...|    IDFM:62978|Aéroport Charles ...| IDFM:73699|       33470.0|Aéroport CDG 1 (T...| IDFM:73596|     33580.0|         110.0|      0.0|\n",
      "|IDFM:TN:SNCF:99ce...|IDFM:C01743|         PITO|         PIDO78|Saint-Rémy-lès-Ch...|    IDFM:62978|Aéroport CDG 1 (T...| IDFM:73596|       33640.0|Parc des Expositions| IDFM:73568|     33920.0|         280.0|      0.0|\n",
      "|IDFM:TN:SNCF:99ce...|IDFM:C01743|         PITO|         PIDO78|Saint-Rémy-lès-Ch...|    IDFM:62978|Parc des Expositions| IDFM:73568|       33950.0|          Villepinte| IDFM:73547|     34040.0|          90.0|      0.0|\n",
      "|IDFM:TN:SNCF:99ce...|IDFM:C01743|         PITO|         PIDO78|Saint-Rémy-lès-Ch...|    IDFM:62978|          Villepinte| IDFM:73547|       34070.0|   Sevran Beaudottes| IDFM:73491|     34180.0|         110.0|      0.0|\n",
      "|IDFM:TN:SNCF:99ce...|IDFM:C01743|         PITO|         PIDO78|Saint-Rémy-lès-Ch...|    IDFM:62978|   Sevran Beaudottes| IDFM:73491|       34230.0|    Aulnay-sous-Bois| IDFM:72646|     34400.0|         170.0|      0.0|\n",
      "|IDFM:TN:SNCF:99ce...|IDFM:C01743|         PITO|         PIDO78|Saint-Rémy-lès-Ch...|    IDFM:62978|    Aulnay-sous-Bois| IDFM:72646|       34450.0|     Le Blanc-Mesnil| IDFM:72648|     34550.0|         100.0|      0.0|\n",
      "|IDFM:TN:SNCF:99ce...|IDFM:C01743|         PITO|         PIDO78|Saint-Rémy-lès-Ch...|    IDFM:62978|     Le Blanc-Mesnil| IDFM:72648|       34580.0|              Drancy| IDFM:72652|     34680.0|         100.0|      0.0|\n",
      "|IDFM:TN:SNCF:99ce...|IDFM:C01743|         PITO|         PIDO78|Saint-Rémy-lès-Ch...|    IDFM:62978|              Drancy| IDFM:72652|       34710.0|          Le Bourget| IDFM:72641|     34840.0|         130.0|      0.0|\n",
      "|IDFM:TN:SNCF:99ce...|IDFM:C01743|         PITO|         PIDO78|Saint-Rémy-lès-Ch...|    IDFM:62978|          Le Bourget| IDFM:72641|       34870.0|La Courneuve - Au...| IDFM:72598|     35050.0|         180.0|      0.0|\n",
      "|IDFM:TN:SNCF:99ce...|IDFM:C01743|         PITO|         PIDO78|Saint-Rémy-lès-Ch...|    IDFM:62978|La Courneuve - Au...| IDFM:72598|       35080.0|La Plaine Stade d...| IDFM:72211|     35200.0|         120.0|      0.0|\n",
      "|IDFM:TN:SNCF:99ce...|IDFM:C01743|         PITO|         PIDO78|Saint-Rémy-lès-Ch...|    IDFM:62978|La Plaine Stade d...| IDFM:72211|       35250.0|        Gare du Nord| IDFM:71410|     35520.0|         270.0|      0.0|\n",
      "|IDFM:TN:SNCF:99ce...|IDFM:C01743|         PITO|         PIDO78|Saint-Rémy-lès-Ch...|    IDFM:62978|        Gare du Nord| IDFM:71410|       35580.0| Châtelet les Halles|IDFM:474151|     35760.0|         180.0|      0.0|\n",
      "|IDFM:TN:SNCF:99ce...|IDFM:C01743|         PITO|         PIDO78|Saint-Rémy-lès-Ch...|    IDFM:62978| Châtelet les Halles|IDFM:474151|       35796.0|Saint-Michel Notr...| IDFM:73620|     35878.0|          82.0|      0.0|\n",
      "|IDFM:TN:SNCF:99ce...|IDFM:C01743|         PITO|         PIDO78|Saint-Rémy-lès-Ch...|    IDFM:62978|Saint-Michel Notr...| IDFM:73620|       35915.0|          Luxembourg| IDFM:71161|     35997.0|          82.0|      0.0|\n",
      "|IDFM:TN:SNCF:99ce...|IDFM:C01743|         PITO|         PIDO78|Saint-Rémy-lès-Ch...|    IDFM:62978|          Luxembourg| IDFM:71161|       36040.0|   Denfert-Rochereau| IDFM:71056|     36159.0|         119.0|      0.0|\n",
      "|IDFM:TN:SNCF:99ce...|IDFM:C01743|         PITO|         PIDO78|Saint-Rémy-lès-Ch...|    IDFM:62978|   Denfert-Rochereau| IDFM:71056|       36209.0|  Cité Universitaire| IDFM:70623|     36317.0|         108.0|      0.0|\n",
      "|IDFM:TN:SNCF:99ce...|IDFM:C01743|         PITO|         PIDO78|Saint-Rémy-lès-Ch...|    IDFM:62978|  Cité Universitaire| IDFM:70623|       36350.0|      Bourg-la-Reine| IDFM:70033|     36647.0|         297.0|      0.0|\n",
      "|IDFM:TN:SNCF:99ce...|IDFM:C01743|         PITO|         PIDO78|Saint-Rémy-lès-Ch...|    IDFM:62978|      Bourg-la-Reine| IDFM:70033|       36676.0|   La Croix de Berny| IDFM:69813|     36809.0|         133.0|      0.0|\n",
      "|IDFM:TN:SNCF:99ce...|IDFM:C01743|         PITO|         PIDO78|Saint-Rémy-lès-Ch...|    IDFM:62978|   La Croix de Berny| IDFM:69813|       36835.0|              Antony| IDFM:69759|     36905.0|          70.0|      0.0|\n",
      "|IDFM:TN:SNCF:99ce...|IDFM:C01743|         PITO|         PIDO78|Saint-Rémy-lès-Ch...|    IDFM:62978|              Antony| IDFM:69759|       36932.0|   Massy - Palaiseau| IDFM:63244|     37186.0|         254.0|      0.0|\n",
      "|IDFM:TN:SNCF:99ce...|IDFM:C01743|         PITO|         PIDO78|Saint-Rémy-lès-Ch...|    IDFM:62978|   Massy - Palaiseau| IDFM:63244|       37237.0|           Palaiseau| IDFM:63175|     37339.0|         102.0|      0.0|\n",
      "|IDFM:TN:SNCF:99ce...|IDFM:C01743|         PITO|         PIDO78|Saint-Rémy-lès-Ch...|    IDFM:62978|           Palaiseau| IDFM:63175|       37364.0|Palaiseau - Villebon| IDFM:63067|     37444.0|          80.0|      0.0|\n",
      "|IDFM:TN:SNCF:99ce...|IDFM:C01743|         PITO|         PIDO78|Saint-Rémy-lès-Ch...|    IDFM:62978|Palaiseau - Villebon| IDFM:63067|       37469.0|              Lozère| IDFM:63029|     37597.0|         128.0|      0.0|\n",
      "|IDFM:TN:SNCF:99ce...|IDFM:C01743|         PITO|         PIDO78|Saint-Rémy-lès-Ch...|    IDFM:62978|              Lozère| IDFM:63029|       37613.0|          Le Guichet| IDFM:63025|     37709.0|          96.0|      0.0|\n",
      "|IDFM:TN:SNCF:99ce...|IDFM:C01743|         PITO|         PIDO78|Saint-Rémy-lès-Ch...|    IDFM:62978|          Le Guichet| IDFM:63025|       37733.0|         Orsay Ville| IDFM:62892|     37826.0|          93.0|      0.0|\n",
      "|IDFM:TN:SNCF:99ce...|IDFM:C01743|         PITO|         PIDO78|Saint-Rémy-lès-Ch...|    IDFM:62978|         Orsay Ville| IDFM:62892|       37858.0|    Bures-sur-Yvette| IDFM:62851|     37945.0|          87.0|      0.0|\n",
      "+--------------------+-----------+-------------+---------------+--------------------+--------------+--------------------+-----------+--------------+--------------------+-----------+------------+--------------+---------+\n",
      "only showing top 500 rows\n",
      "\n"
     ]
    }
   ],
   "source": [
    "df\\\n",
    "    .filter(col(\"direction\")==0)\\\n",
    "    .show(500)"
   ],
   "metadata": {
    "collapsed": false,
    "pycharm": {
     "name": "#%%\n"
    }
   }
  },
  {
   "cell_type": "code",
   "execution_count": 8,
   "outputs": [
    {
     "name": "stdout",
     "output_type": "stream",
     "text": [
      "+--------------------+----------+--------------------+---------+-------------------+\n",
      "|              origin| origin_id|             arrival|direction|avg(time_travelled)|\n",
      "+--------------------+----------+--------------------+---------+-------------------+\n",
      "|        Gare du Nord|IDFM:71410|La Plaine Stade d...|      1.0| 262.22222222222223|\n",
      "|        Gare du Nord|IDFM:71410|Aéroport CDG 1 (T...|      1.0| 1587.7551020408164|\n",
      "|Villeparisis - Mi...|IDFM:68916|       Mitry - Claye|      1.0|              240.0|\n",
      "|          Villepinte|IDFM:73547|Parc des Expositions|      1.0|  90.33898305084746|\n",
      "|     Le Blanc-Mesnil|IDFM:72648|    Aulnay-sous-Bois|      1.0| 105.04273504273505|\n",
      "|Aéroport CDG 1 (T...|IDFM:73596|Aéroport Charles ...|      1.0| 145.27777777777777|\n",
      "|              Drancy|IDFM:72652|     Le Blanc-Mesnil|      1.0|              100.0|\n",
      "|Parc des Expositions|IDFM:73568|Aéroport CDG 1 (T...|      1.0|  291.0169491525424|\n",
      "|         Vert Galant|IDFM:73482|Villeparisis - Mi...|      1.0|              150.0|\n",
      "|      Sevran - Livry|IDFM:73439|         Vert Galant|      1.0|              210.0|\n",
      "|    Aulnay-sous-Bois|IDFM:72646|      Sevran - Livry|      1.0|              160.0|\n",
      "|La Plaine Stade d...|IDFM:72211|La Courneuve - Au...|      1.0| 110.08547008547009|\n",
      "|La Courneuve - Au...|IDFM:72598|          Le Bourget|      1.0|              170.0|\n",
      "|          Le Bourget|IDFM:72641|              Drancy|      1.0|  130.0854700854701|\n",
      "|   Sevran Beaudottes|IDFM:73491|          Villepinte|      1.0| 110.84745762711864|\n",
      "|    Aulnay-sous-Bois|IDFM:72646|   Sevran Beaudottes|      1.0| 160.84745762711864|\n",
      "+--------------------+----------+--------------------+---------+-------------------+\n",
      "\n"
     ]
    }
   ],
   "source": [
    "from pyspark.sql.functions import *\n",
    "\n",
    "# Direction au nord\n",
    "\n",
    "val = ['IDFM:73596', 'IDFM:73699', 'IDFM:73568', 'IDFM:73547', 'IDFM:73491', 'IDFM:72646', 'IDFM:72648', 'IDFM:72652', 'IDFM:72641', 'IDFM:72598', 'IDFM:72211', 'IDFM:71410', 'IDFM:68916', 'IDFM:69065', 'IDFM:73482', 'IDFM:73439']\n",
    "df.groupBy(\"origin\", \"origin_id\", \"arrival\", \"direction\")\\\n",
    "    .agg({'time_travelled': 'avg'})\\\n",
    "    .filter(df.direction == 1)\\\n",
    "    .filter(df.origin_id.isin(val))\\\n",
    "    .show(100)"
   ],
   "metadata": {
    "collapsed": false,
    "pycharm": {
     "name": "#%%\n"
    }
   }
  },
  {
   "cell_type": "code",
   "execution_count": 9,
   "outputs": [
    {
     "data": {
      "text/plain": "DataFrame[origin: string, origin_id: string, arrival: string, direction: string, avg(time_travelled): double, Gare: string, Relation: int, Gare Api: int, Gare_origin: string, Relation_origin: int, Gare Api_origin: int]"
     },
     "execution_count": 9,
     "metadata": {},
     "output_type": "execute_result"
    }
   ],
   "source": [
    "# Direction du Sud\n",
    "\n",
    "\n",
    "df.groupBy(\"origin\", \"origin_id\", \"arrival\", \"direction\") \\\n",
    "    .agg({'time_travelled': 'avg'}) \\\n",
    "    .filter(df.direction == 0) \\\n",
    "    .filter(df.origin_id.isin(val)) \\\n",
    "    .join(df_relation, df.arrival == df_relation.Gare) \\\n",
    "    .join(df_relation.select([col(k).alias(k+'_origin') for k in df_relation.columns]).alias('df2_origin'), df.origin == col('df2_origin.gare_origin')) \\\n"
   ],
   "metadata": {
    "collapsed": false,
    "pycharm": {
     "name": "#%%\n"
    }
   }
  },
  {
   "cell_type": "code",
   "execution_count": 188,
   "outputs": [
    {
     "ename": "AnalysisException",
     "evalue": "Resolved attribute(s) arrival#2521 missing from Gare#2830,Relation#2831,Gare Api#2832 in operator !Join FullOuter, (arrival#2521 = Gare#2830).;\n!Join FullOuter, (arrival#2521 = Gare#2830)\n:- Project\n:  +- Sort [Relation#2542 ASC NULLS FIRST], true\n:     +- Project [Relation#2542]\n:        +- Join Inner, (origin#2518 = Gare#2541)\n:           :- Filter (cast(direction#2525 as int) = 0)\n:           :  +- Aggregate [origin#2518, origin_id#2519, arrival#2521, direction#2525], [origin#2518, origin_id#2519, arrival#2521, direction#2525, avg(cast(time_travelled#2524 as double)) AS avg(time_travelled)#2807]\n:           :     +- Project [trip_id#2512, trip_line#2513, trip_headsign#2514, trip_short_name#2515, destination#2516, destination_id#2517, origin#2518, origin_id#2519, time_departure#2520, arrival#2521, arrival_id#2522, time_arrival#2523, time_travelled#2524, direction#2525]\n:           :        +- Relation [_c0#2511,trip_id#2512,trip_line#2513,trip_headsign#2514,trip_short_name#2515,destination#2516,destination_id#2517,origin#2518,origin_id#2519,time_departure#2520,arrival#2521,arrival_id#2522,time_arrival#2523,time_travelled#2524,direction#2525] csv\n:           +- Relation [Gare#2541,Relation#2542,Gare Api#2543] csv\n+- Relation [Gare#2830,Relation#2831,Gare Api#2832] csv\n",
     "output_type": "error",
     "traceback": [
      "\u001B[0;31m---------------------------------------------------------------------------\u001B[0m",
      "\u001B[0;31mAnalysisException\u001B[0m                         Traceback (most recent call last)",
      "Input \u001B[0;32mIn [188]\u001B[0m, in \u001B[0;36m<cell line: 1>\u001B[0;34m()\u001B[0m\n\u001B[0;32m----> 1\u001B[0m \u001B[43mdf_sud\u001B[49m\u001B[38;5;241;43m.\u001B[39;49m\u001B[43mjoin\u001B[49m\u001B[43m(\u001B[49m\u001B[43mdf_relation\u001B[49m\u001B[43m,\u001B[49m\u001B[43m \u001B[49m\u001B[43mdf\u001B[49m\u001B[38;5;241;43m.\u001B[39;49m\u001B[43marrival\u001B[49m\u001B[43m \u001B[49m\u001B[38;5;241;43m==\u001B[39;49m\u001B[43m \u001B[49m\u001B[43mdf_relation\u001B[49m\u001B[38;5;241;43m.\u001B[39;49m\u001B[43mGare\u001B[49m\u001B[43m,\u001B[49m\u001B[43m \u001B[49m\u001B[38;5;124;43m\"\u001B[39;49m\u001B[38;5;124;43mfull\u001B[39;49m\u001B[38;5;124;43m\"\u001B[39;49m\u001B[43m)\u001B[49m\u001B[38;5;241m.\u001B[39mshow()\n",
      "File \u001B[0;32m~/miniforge3/envs/geo/lib/python3.10/site-packages/pyspark/sql/dataframe.py:1539\u001B[0m, in \u001B[0;36mDataFrame.join\u001B[0;34m(self, other, on, how)\u001B[0m\n\u001B[1;32m   1537\u001B[0m         on \u001B[38;5;241m=\u001B[39m \u001B[38;5;28mself\u001B[39m\u001B[38;5;241m.\u001B[39m_jseq([])\n\u001B[1;32m   1538\u001B[0m     \u001B[38;5;28;01massert\u001B[39;00m \u001B[38;5;28misinstance\u001B[39m(how, \u001B[38;5;28mstr\u001B[39m), \u001B[38;5;124m\"\u001B[39m\u001B[38;5;124mhow should be a string\u001B[39m\u001B[38;5;124m\"\u001B[39m\n\u001B[0;32m-> 1539\u001B[0m     jdf \u001B[38;5;241m=\u001B[39m \u001B[38;5;28;43mself\u001B[39;49m\u001B[38;5;241;43m.\u001B[39;49m\u001B[43m_jdf\u001B[49m\u001B[38;5;241;43m.\u001B[39;49m\u001B[43mjoin\u001B[49m\u001B[43m(\u001B[49m\u001B[43mother\u001B[49m\u001B[38;5;241;43m.\u001B[39;49m\u001B[43m_jdf\u001B[49m\u001B[43m,\u001B[49m\u001B[43m \u001B[49m\u001B[43mon\u001B[49m\u001B[43m,\u001B[49m\u001B[43m \u001B[49m\u001B[43mhow\u001B[49m\u001B[43m)\u001B[49m\n\u001B[1;32m   1540\u001B[0m \u001B[38;5;28;01mreturn\u001B[39;00m DataFrame(jdf, \u001B[38;5;28mself\u001B[39m\u001B[38;5;241m.\u001B[39msparkSession)\n",
      "File \u001B[0;32m~/miniforge3/envs/geo/lib/python3.10/site-packages/py4j/java_gateway.py:1321\u001B[0m, in \u001B[0;36mJavaMember.__call__\u001B[0;34m(self, *args)\u001B[0m\n\u001B[1;32m   1315\u001B[0m command \u001B[38;5;241m=\u001B[39m proto\u001B[38;5;241m.\u001B[39mCALL_COMMAND_NAME \u001B[38;5;241m+\u001B[39m\\\n\u001B[1;32m   1316\u001B[0m     \u001B[38;5;28mself\u001B[39m\u001B[38;5;241m.\u001B[39mcommand_header \u001B[38;5;241m+\u001B[39m\\\n\u001B[1;32m   1317\u001B[0m     args_command \u001B[38;5;241m+\u001B[39m\\\n\u001B[1;32m   1318\u001B[0m     proto\u001B[38;5;241m.\u001B[39mEND_COMMAND_PART\n\u001B[1;32m   1320\u001B[0m answer \u001B[38;5;241m=\u001B[39m \u001B[38;5;28mself\u001B[39m\u001B[38;5;241m.\u001B[39mgateway_client\u001B[38;5;241m.\u001B[39msend_command(command)\n\u001B[0;32m-> 1321\u001B[0m return_value \u001B[38;5;241m=\u001B[39m \u001B[43mget_return_value\u001B[49m\u001B[43m(\u001B[49m\n\u001B[1;32m   1322\u001B[0m \u001B[43m    \u001B[49m\u001B[43manswer\u001B[49m\u001B[43m,\u001B[49m\u001B[43m \u001B[49m\u001B[38;5;28;43mself\u001B[39;49m\u001B[38;5;241;43m.\u001B[39;49m\u001B[43mgateway_client\u001B[49m\u001B[43m,\u001B[49m\u001B[43m \u001B[49m\u001B[38;5;28;43mself\u001B[39;49m\u001B[38;5;241;43m.\u001B[39;49m\u001B[43mtarget_id\u001B[49m\u001B[43m,\u001B[49m\u001B[43m \u001B[49m\u001B[38;5;28;43mself\u001B[39;49m\u001B[38;5;241;43m.\u001B[39;49m\u001B[43mname\u001B[49m\u001B[43m)\u001B[49m\n\u001B[1;32m   1324\u001B[0m \u001B[38;5;28;01mfor\u001B[39;00m temp_arg \u001B[38;5;129;01min\u001B[39;00m temp_args:\n\u001B[1;32m   1325\u001B[0m     temp_arg\u001B[38;5;241m.\u001B[39m_detach()\n",
      "File \u001B[0;32m~/miniforge3/envs/geo/lib/python3.10/site-packages/pyspark/sql/utils.py:196\u001B[0m, in \u001B[0;36mcapture_sql_exception.<locals>.deco\u001B[0;34m(*a, **kw)\u001B[0m\n\u001B[1;32m    192\u001B[0m converted \u001B[38;5;241m=\u001B[39m convert_exception(e\u001B[38;5;241m.\u001B[39mjava_exception)\n\u001B[1;32m    193\u001B[0m \u001B[38;5;28;01mif\u001B[39;00m \u001B[38;5;129;01mnot\u001B[39;00m \u001B[38;5;28misinstance\u001B[39m(converted, UnknownException):\n\u001B[1;32m    194\u001B[0m     \u001B[38;5;66;03m# Hide where the exception came from that shows a non-Pythonic\u001B[39;00m\n\u001B[1;32m    195\u001B[0m     \u001B[38;5;66;03m# JVM exception message.\u001B[39;00m\n\u001B[0;32m--> 196\u001B[0m     \u001B[38;5;28;01mraise\u001B[39;00m converted \u001B[38;5;28;01mfrom\u001B[39;00m \u001B[38;5;28mNone\u001B[39m\n\u001B[1;32m    197\u001B[0m \u001B[38;5;28;01melse\u001B[39;00m:\n\u001B[1;32m    198\u001B[0m     \u001B[38;5;28;01mraise\u001B[39;00m\n",
      "\u001B[0;31mAnalysisException\u001B[0m: Resolved attribute(s) arrival#2521 missing from Gare#2830,Relation#2831,Gare Api#2832 in operator !Join FullOuter, (arrival#2521 = Gare#2830).;\n!Join FullOuter, (arrival#2521 = Gare#2830)\n:- Project\n:  +- Sort [Relation#2542 ASC NULLS FIRST], true\n:     +- Project [Relation#2542]\n:        +- Join Inner, (origin#2518 = Gare#2541)\n:           :- Filter (cast(direction#2525 as int) = 0)\n:           :  +- Aggregate [origin#2518, origin_id#2519, arrival#2521, direction#2525], [origin#2518, origin_id#2519, arrival#2521, direction#2525, avg(cast(time_travelled#2524 as double)) AS avg(time_travelled)#2807]\n:           :     +- Project [trip_id#2512, trip_line#2513, trip_headsign#2514, trip_short_name#2515, destination#2516, destination_id#2517, origin#2518, origin_id#2519, time_departure#2520, arrival#2521, arrival_id#2522, time_arrival#2523, time_travelled#2524, direction#2525]\n:           :        +- Relation [_c0#2511,trip_id#2512,trip_line#2513,trip_headsign#2514,trip_short_name#2515,destination#2516,destination_id#2517,origin#2518,origin_id#2519,time_departure#2520,arrival#2521,arrival_id#2522,time_arrival#2523,time_travelled#2524,direction#2525] csv\n:           +- Relation [Gare#2541,Relation#2542,Gare Api#2543] csv\n+- Relation [Gare#2830,Relation#2831,Gare Api#2832] csv\n"
     ]
    }
   ],
   "source": [
    "df_sud.join(df_relation, df.arrival == df_relation.Gare, \"full\").show()"
   ],
   "metadata": {
    "collapsed": false,
    "pycharm": {
     "name": "#%%\n"
    }
   }
  },
  {
   "cell_type": "code",
   "execution_count": 68,
   "outputs": [
    {
     "name": "stdout",
     "output_type": "stream",
     "text": [
      "+--------------------+----------+--------------------+---------+-------------------+--------------------+--------+\n",
      "|              origin| origin_id|             arrival|direction|avg(time_travelled)|                Gare|Relation|\n",
      "+--------------------+----------+--------------------+---------+-------------------+--------------------+--------+\n",
      "|Aéroport Charles ...|IDFM:73699|Aéroport CDG 1 (T...|      0.0| 110.09345794392523|Aéroport Charles ...|       1|\n",
      "|Aéroport CDG 1 (T...|IDFM:73596|Parc des Expositions|      0.0| 280.17543859649123|Aéroport CDG 1 (T...|       2|\n",
      "|Aéroport CDG 1 (T...|IDFM:73596|        Gare du Nord|      0.0|             1707.4|Aéroport CDG 1 (T...|       2|\n",
      "|Parc des Expositions|IDFM:73568|          Villepinte|      0.0|  90.17543859649123|Parc des Expositions|       3|\n",
      "|          Villepinte|IDFM:73547|   Sevran Beaudottes|      0.0| 112.45614035087719|          Villepinte|       4|\n",
      "|   Sevran Beaudottes|IDFM:73491|    Aulnay-sous-Bois|      0.0| 168.24561403508773|   Sevran Beaudottes|       5|\n",
      "|       Mitry - Claye|IDFM:69065|Villeparisis - Mi...|      0.0| 210.51724137931035|       Mitry - Claye|       6|\n",
      "|Villeparisis - Mi...|IDFM:68916|         Vert Galant|      0.0|              150.0|Villeparisis - Mi...|       7|\n",
      "|         Vert Galant|IDFM:73482|      Sevran - Livry|      0.0|              210.0|         Vert Galant|       8|\n",
      "|      Sevran - Livry|IDFM:73439|    Aulnay-sous-Bois|      0.0|              170.0|      Sevran - Livry|       9|\n",
      "|    Aulnay-sous-Bois|IDFM:72646|     Le Blanc-Mesnil|      0.0| 100.08695652173913|    Aulnay-sous-Bois|      10|\n",
      "+--------------------+----------+--------------------+---------+-------------------+--------------------+--------+\n",
      "\n"
     ]
    }
   ],
   "source": [
    "df_sud.filter(\"Relation >= 1 and Relation <= 10\").show()"
   ],
   "metadata": {
    "collapsed": false,
    "pycharm": {
     "name": "#%%\n"
    }
   }
  },
  {
   "cell_type": "code",
   "execution_count": 63,
   "outputs": [],
   "source": [
    "result_sud = df_sud.filter(\"Relation >= 10 and Relation <= 16\").agg({\"avg(time_travelled)\": \"sum\"}).collect()[0][0]"
   ],
   "metadata": {
    "collapsed": false,
    "pycharm": {
     "name": "#%%\n"
    }
   }
  },
  {
   "cell_type": "code",
   "execution_count": 64,
   "outputs": [],
   "source": [],
   "metadata": {
    "collapsed": false,
    "pycharm": {
     "name": "#%%\n"
    }
   }
  },
  {
   "cell_type": "code",
   "execution_count": 65,
   "outputs": [],
   "source": [
    "dt = pendulum.duration(seconds=result_sud)"
   ],
   "metadata": {
    "collapsed": false,
    "pycharm": {
     "name": "#%%\n"
    }
   }
  },
  {
   "cell_type": "code",
   "execution_count": 66,
   "outputs": [
    {
     "name": "stdout",
     "output_type": "stream",
     "text": [
      "18 minutes\n"
     ]
    }
   ],
   "source": [
    "print(str(dt.in_minutes()) + \" minutes\")"
   ],
   "metadata": {
    "collapsed": false,
    "pycharm": {
     "name": "#%%\n"
    }
   }
  },
  {
   "cell_type": "code",
   "execution_count": 394,
   "outputs": [],
   "source": [
    "# b1 = [\"87001479\", \"87271460\", \"87271486\", \"87271452\", \"87271445\"] # Aeroport\n",
    "# b2 = [\"87271528\", \"87271510\", \"87271437\", \"87271429\"] # Mitry\n",
    "# central = [\"87271411\", \"87271478\", \"87271403\", \"87271395\", \"87271304\", \"87164798\", \"87271007\"] # Central"
   ],
   "metadata": {
    "collapsed": false,
    "pycharm": {
     "name": "#%%\n"
    }
   }
  },
  {
   "cell_type": "code",
   "execution_count": 31,
   "outputs": [],
   "source": [
    "import pendulum\n",
    "def get_travel_time(gare_depart: str, gare_arrive: str, direction: int) -> str:\n",
    "    gares: list[str] = compute_inter_station(gare_depart, gare_arrive, direction)\n",
    "    time = df.groupBy(\"origin\", \"origin_id\", \"arrival\", \"direction\") \\\n",
    "        .agg({'time_travelled': 'avg'}) \\\n",
    "        .filter(df.direction == direction) \\\n",
    "        .join(df_relation, df.arrival == df_relation.Gare) \\\n",
    "        .join(df_relation.select([col(k).alias(k+'_origin') for k in df_relation.columns]).alias('df2_origin'), df.origin == col('df2_origin.gare_origin')) \\\n",
    "        .orderBy(\"Relation_origin\") \\\n",
    "        .filter(col(\"Gare Api_origin\").isin(gares)) \\\n",
    "        .filter(col(\"Gare Api\").isin(gares)) \\\n",
    "        .select(col(\"origin\"), col(\"arrival\"), col(\"direction\"), col(\"avg(time_travelled)\")) \\\n",
    "        .agg({'avg(time_travelled)': 'sum'}).collect()[0][0]\n",
    "    dt = pendulum.duration(seconds=time)\n",
    "\n",
    "    # return str(dt.in_minutes()) + \" minutes\"\n",
    "    return str(dt.in_minutes()) + \" minutes\""
   ],
   "metadata": {
    "collapsed": false,
    "pycharm": {
     "name": "#%%\n"
    }
   }
  },
  {
   "cell_type": "code",
   "execution_count": 32,
   "outputs": [],
   "source": [
    "def compute_inter_station(gare_depart: str, gare_arrive: str, direction: int) -> list[str]:\n",
    "    \"\"\"\n",
    "    Génère une liste des gare parcourus a partir d'une gare de départ vers une gare d'arrivé\n",
    "    \"\"\"\n",
    "\n",
    "    b1 = [\"87001479\", \"87271460\", \"87271486\", \"87271452\", \"87271445\"]  # Aeroport\n",
    "    b2 = [\"87271528\", \"87271510\", \"87271437\", \"87271429\"]  # Mitry\n",
    "    central = [\"87271411\", \"87271478\", \"87271403\", \"87271395\", \"87271304\", \"87164798\", \"87271007\"]  # Central\n",
    "\n",
    "    # Detecter l'appartenance de la gare de départ\n",
    "    res = []\n",
    "    # Construction des listes\n",
    "    if direction == 0: # Direction Sud\n",
    "        if gare_depart in b1:\n",
    "            res = b1 + central\n",
    "        elif gare_depart in b2:\n",
    "            res = b2 + central\n",
    "        elif gare_depart in central:\n",
    "            res = central\n",
    "    elif direction == 1: # Direction nord\n",
    "        if gare_depart in central:\n",
    "            central.reverse()\n",
    "            if gare_arrive in central:\n",
    "                res = central\n",
    "            elif gare_arrive in b1:\n",
    "                b1.reverse()\n",
    "                res = central + b1\n",
    "            elif gare_arrive in b2:\n",
    "                b2.reverse()\n",
    "                res = central + b2\n",
    "        elif gare_depart in b1:\n",
    "            b1.reverse()\n",
    "            res = b1\n",
    "        elif gare_depart in b2:\n",
    "            b2.reverse()\n",
    "            res = b2\n",
    "\n",
    "    return res[res.index(gare_depart):res.index(gare_arrive)+1]\n"
   ],
   "metadata": {
    "collapsed": false,
    "pycharm": {
     "name": "#%%\n"
    }
   }
  },
  {
   "cell_type": "code",
   "execution_count": 38,
   "outputs": [
    {
     "name": "stdout",
     "output_type": "stream",
     "text": [
      "21 minutes\n"
     ]
    }
   ],
   "source": [
    "print(get_travel_time(\"87271437\",\"87271007\", 0))"
   ],
   "metadata": {
    "collapsed": false,
    "pycharm": {
     "name": "#%%\n"
    }
   }
  },
  {
   "cell_type": "code",
   "execution_count": 25,
   "outputs": [
    {
     "name": "stdout",
     "output_type": "stream",
     "text": [
      "['87271411', '87271478', '87271403', '87271395', '87271304', '87164798', '87271007']\n",
      "+--------------------+--------------------+---------+-------------------+\n",
      "|              origin|             arrival|direction|avg(time_travelled)|\n",
      "+--------------------+--------------------+---------+-------------------+\n",
      "|    Aulnay-sous-Bois|     Le Blanc-Mesnil|      0.0| 100.08695652173913|\n",
      "|     Le Blanc-Mesnil|              Drancy|      0.0| 100.08695652173913|\n",
      "|              Drancy|          Le Bourget|      0.0|  135.1304347826087|\n",
      "|          Le Bourget|La Courneuve - Au...|      0.0| 175.04347826086956|\n",
      "|La Courneuve - Au...|La Plaine Stade d...|      0.0| 120.17391304347827|\n",
      "|La Plaine Stade d...|        Gare du Nord|      0.0|  269.8333333333333|\n",
      "+--------------------+--------------------+---------+-------------------+\n",
      "\n"
     ]
    }
   ],
   "source": [
    "direction = 0\n",
    "# gares: list = compute_inter_station(\"87271486\", \"87164798\", direction)\n",
    "gares: list = compute_inter_station(\"87271411\",\"87271007\", 0)\n",
    "print(gares)\n",
    "if direction == 1:\n",
    "    df.groupBy(\"origin\", \"origin_id\", \"arrival\", \"direction\") \\\n",
    "        .agg({'time_travelled': 'avg'}) \\\n",
    "        .filter(df.direction == direction) \\\n",
    "        .join(df_relation, df.arrival == df_relation.Gare) \\\n",
    "        .join(df_relation.select([col(k).alias(k+'_origin') for k in df_relation.columns]).alias('df2_origin'), df.origin == col('df2_origin.gare_origin')) \\\n",
    "        .orderBy(\"Relation_origin\") \\\n",
    "        .filter(col(\"Gare Api_origin\").isin(gares)) \\\n",
    "        .filter(col(\"Gare Api\").isin(gares)) \\\n",
    "        .select(col(\"origin\"), col(\"arrival\"), col(\"direction\"), col(\"avg(time_travelled)\")) \\\n",
    "        .show()\n",
    "else:\n",
    "    df.groupBy(\"origin\", \"origin_id\", \"arrival\", \"direction\") \\\n",
    "        .agg({'time_travelled': 'avg'}) \\\n",
    "        .filter(df.direction == direction) \\\n",
    "        .join(df_relation, df.arrival == df_relation.Gare) \\\n",
    "        .join(df_relation.select([col(k).alias(k+'_origin') for k in df_relation.columns]).alias('df2_origin'), df.origin == col('df2_origin.gare_origin')) \\\n",
    "        .orderBy(\"Relation_origin\") \\\n",
    "        .filter(col(\"Gare Api_origin\").isin(gares)) \\\n",
    "        .filter(col(\"Gare Api\").isin(gares)) \\\n",
    "        .select(col(\"origin\"), col(\"arrival\"), col(\"direction\"), col(\"avg(time_travelled)\")) \\\n",
    "        .show()"
   ],
   "metadata": {
    "collapsed": false,
    "pycharm": {
     "name": "#%%\n"
    }
   }
  },
  {
   "cell_type": "code",
   "execution_count": null,
   "outputs": [],
   "source": [],
   "metadata": {
    "collapsed": false,
    "pycharm": {
     "name": "#%%\n"
    }
   }
  }
 ],
 "metadata": {
  "kernelspec": {
   "display_name": "Python 3",
   "language": "python",
   "name": "python3"
  },
  "language_info": {
   "codemirror_mode": {
    "name": "ipython",
    "version": 2
   },
   "file_extension": ".py",
   "mimetype": "text/x-python",
   "name": "python",
   "nbconvert_exporter": "python",
   "pygments_lexer": "ipython2",
   "version": "2.7.6"
  }
 },
 "nbformat": 4,
 "nbformat_minor": 0
}