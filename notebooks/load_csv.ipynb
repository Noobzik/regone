{
 "cells": [
  {
   "cell_type": "code",
   "execution_count": 28,
   "outputs": [],
   "source": [
    "import pandas as pd\n",
    "import json"
   ],
   "metadata": {
    "collapsed": false,
    "pycharm": {
     "name": "#%%\n"
    }
   }
  },
  {
   "cell_type": "code",
   "execution_count": 29,
   "outputs": [],
   "source": [
    "data = json.loads('[{\"num\": \"LOUP38\", \"miss\": \"LOUP\", \"date\": \"21/06/2022 16:30\", \"mode\": \"R\", \"term\": 87758847, \"direction\": 1, \"etat\": \"\"}, {\"num\": \"STAR42\", \"miss\": \"STAR\", \"date\": \"21/06/2022 16:36\", \"mode\": \"R\", \"term\": 87758722, \"direction\": 0, \"etat\": \"\"}, {\"num\": \"LOUP46\", \"miss\": \"LOUP\", \"date\": \"21/06/2022 16:42\", \"mode\": \"R\", \"term\": 87758847, \"direction\": 0, \"etat\": \"\"}, {\"num\": \"STAR50\", \"miss\": \"STAR\", \"date\": \"21/06/2022 16:48\", \"mode\": \"R\", \"term\": 87758722, \"direction\": 1, \"etat\": \"\"}, {\"num\": \"LOUP54\", \"miss\": \"LOUP\", \"date\": \"21/06/2022 16:54\", \"mode\": \"R\", \"term\": 87758847, \"direction\": 1, \"etat\": \"\"}, {\"num\": \"STAR58\", \"miss\": \"STAR\", \"date\": \"21/06/2022 17:00\", \"mode\": \"R\", \"term\": 87758722, \"direction\": 1, \"etat\": \"\"}, {\"num\": \"LOUP62\", \"miss\": \"LOUP\", \"date\": \"21/06/2022 17:06\", \"mode\": \"R\", \"term\": 87758847, \"direction\": 0, \"etat\": \"\"}, {\"num\": \"STAR66\", \"miss\": \"STAR\", \"date\": \"21/06/2022 17:12\", \"mode\": \"R\", \"term\": 87758722, \"direction\": 0, \"etat\": \"\"}, {\"num\": \"LOUP70\", \"miss\": \"LOUP\", \"date\": \"21/06/2022 17:18\", \"mode\": \"R\", \"term\": 87758847, \"direction\": 1, \"etat\": \"\"}, {\"num\": \"STAR74\", \"miss\": \"STAR\", \"date\": \"21/06/2022 17:24\", \"mode\": \"R\", \"term\": 87758722, \"direction\": 1, \"etat\": \"\"}, {\"num\": \"LOUP78\", \"miss\": \"LOUP\", \"date\": \"21/06/2022 17:30\", \"mode\": \"R\", \"term\": 87758847, \"direction\": 1, \"etat\": \"\"}]')"
   ],
   "metadata": {
    "collapsed": false,
    "pycharm": {
     "name": "#%%\n"
    }
   }
  },
  {
   "cell_type": "code",
   "execution_count": 30,
   "outputs": [],
   "source": [
    "df = pd.DataFrame.from_dict(data)"
   ],
   "metadata": {
    "collapsed": false,
    "pycharm": {
     "name": "#%%\n"
    }
   }
  },
  {
   "cell_type": "code",
   "execution_count": 31,
   "outputs": [
    {
     "data": {
      "text/plain": "       num  miss              date mode      term  direction etat\n0   LOUP38  LOUP  21/06/2022 16:30    R  87758847          1     \n1   STAR42  STAR  21/06/2022 16:36    R  87758722          0     \n2   LOUP46  LOUP  21/06/2022 16:42    R  87758847          0     \n3   STAR50  STAR  21/06/2022 16:48    R  87758722          1     \n4   LOUP54  LOUP  21/06/2022 16:54    R  87758847          1     \n5   STAR58  STAR  21/06/2022 17:00    R  87758722          1     \n6   LOUP62  LOUP  21/06/2022 17:06    R  87758847          0     \n7   STAR66  STAR  21/06/2022 17:12    R  87758722          0     \n8   LOUP70  LOUP  21/06/2022 17:18    R  87758847          1     \n9   STAR74  STAR  21/06/2022 17:24    R  87758722          1     \n10  LOUP78  LOUP  21/06/2022 17:30    R  87758847          1     ",
      "text/html": "<div>\n<style scoped>\n    .dataframe tbody tr th:only-of-type {\n        vertical-align: middle;\n    }\n\n    .dataframe tbody tr th {\n        vertical-align: top;\n    }\n\n    .dataframe thead th {\n        text-align: right;\n    }\n</style>\n<table border=\"1\" class=\"dataframe\">\n  <thead>\n    <tr style=\"text-align: right;\">\n      <th></th>\n      <th>num</th>\n      <th>miss</th>\n      <th>date</th>\n      <th>mode</th>\n      <th>term</th>\n      <th>direction</th>\n      <th>etat</th>\n    </tr>\n  </thead>\n  <tbody>\n    <tr>\n      <th>0</th>\n      <td>LOUP38</td>\n      <td>LOUP</td>\n      <td>21/06/2022 16:30</td>\n      <td>R</td>\n      <td>87758847</td>\n      <td>1</td>\n      <td></td>\n    </tr>\n    <tr>\n      <th>1</th>\n      <td>STAR42</td>\n      <td>STAR</td>\n      <td>21/06/2022 16:36</td>\n      <td>R</td>\n      <td>87758722</td>\n      <td>0</td>\n      <td></td>\n    </tr>\n    <tr>\n      <th>2</th>\n      <td>LOUP46</td>\n      <td>LOUP</td>\n      <td>21/06/2022 16:42</td>\n      <td>R</td>\n      <td>87758847</td>\n      <td>0</td>\n      <td></td>\n    </tr>\n    <tr>\n      <th>3</th>\n      <td>STAR50</td>\n      <td>STAR</td>\n      <td>21/06/2022 16:48</td>\n      <td>R</td>\n      <td>87758722</td>\n      <td>1</td>\n      <td></td>\n    </tr>\n    <tr>\n      <th>4</th>\n      <td>LOUP54</td>\n      <td>LOUP</td>\n      <td>21/06/2022 16:54</td>\n      <td>R</td>\n      <td>87758847</td>\n      <td>1</td>\n      <td></td>\n    </tr>\n    <tr>\n      <th>5</th>\n      <td>STAR58</td>\n      <td>STAR</td>\n      <td>21/06/2022 17:00</td>\n      <td>R</td>\n      <td>87758722</td>\n      <td>1</td>\n      <td></td>\n    </tr>\n    <tr>\n      <th>6</th>\n      <td>LOUP62</td>\n      <td>LOUP</td>\n      <td>21/06/2022 17:06</td>\n      <td>R</td>\n      <td>87758847</td>\n      <td>0</td>\n      <td></td>\n    </tr>\n    <tr>\n      <th>7</th>\n      <td>STAR66</td>\n      <td>STAR</td>\n      <td>21/06/2022 17:12</td>\n      <td>R</td>\n      <td>87758722</td>\n      <td>0</td>\n      <td></td>\n    </tr>\n    <tr>\n      <th>8</th>\n      <td>LOUP70</td>\n      <td>LOUP</td>\n      <td>21/06/2022 17:18</td>\n      <td>R</td>\n      <td>87758847</td>\n      <td>1</td>\n      <td></td>\n    </tr>\n    <tr>\n      <th>9</th>\n      <td>STAR74</td>\n      <td>STAR</td>\n      <td>21/06/2022 17:24</td>\n      <td>R</td>\n      <td>87758722</td>\n      <td>1</td>\n      <td></td>\n    </tr>\n    <tr>\n      <th>10</th>\n      <td>LOUP78</td>\n      <td>LOUP</td>\n      <td>21/06/2022 17:30</td>\n      <td>R</td>\n      <td>87758847</td>\n      <td>1</td>\n      <td></td>\n    </tr>\n  </tbody>\n</table>\n</div>"
     },
     "execution_count": 31,
     "metadata": {},
     "output_type": "execute_result"
    }
   ],
   "source": [
    "df"
   ],
   "metadata": {
    "collapsed": false,
    "pycharm": {
     "name": "#%%\n"
    }
   }
  },
  {
   "cell_type": "code",
   "execution_count": 57,
   "outputs": [
    {
     "name": "stdout",
     "output_type": "stream",
     "text": [
      "File exist\n"
     ]
    }
   ],
   "source": [
    "from pathlib import Path\n",
    "from datetime import datetime\n",
    "unix_timestamp = datetime.now().timestamp()\n",
    "datetime_obj = datetime.fromtimestamp(int(unix_timestamp))\n",
    "output_dir = Path('../data/processed/6/21/')\n",
    "output_file = 'data-reel-87001479.csv'\n",
    "path = Path(output_dir / output_file)\n",
    "if path.is_file():\n",
    "    print(\"File exist\")\n",
    "else:\n",
    "    print (\"File not exist\")"
   ],
   "metadata": {
    "collapsed": false,
    "pycharm": {
     "name": "#%%\n"
    }
   }
  },
  {
   "cell_type": "code",
   "execution_count": null,
   "outputs": [],
   "source": [],
   "metadata": {
    "collapsed": false,
    "pycharm": {
     "name": "#%%\n"
    }
   }
  },
  {
   "cell_type": "code",
   "execution_count": 58,
   "outputs": [],
   "source": [
    "output_dir = Path('../../../data/processed/' + str(datetime_obj.month) + '/' + str(datetime_obj.day))\n",
    "output_file = 'data-reel-87001479.csv'\n",
    "path = Path(output_dir / output_file)"
   ],
   "metadata": {
    "collapsed": false,
    "pycharm": {
     "name": "#%%\n"
    }
   }
  },
  {
   "cell_type": "code",
   "execution_count": 60,
   "outputs": [
    {
     "data": {
      "text/plain": "'../../../data/processed/6/21/data-reel-87001479.csv'"
     },
     "execution_count": 60,
     "metadata": {},
     "output_type": "execute_result"
    }
   ],
   "source": [
    "str(path)"
   ],
   "metadata": {
    "collapsed": false,
    "pycharm": {
     "name": "#%%\n"
    }
   }
  },
  {
   "cell_type": "code",
   "execution_count": null,
   "outputs": [],
   "source": [],
   "metadata": {
    "collapsed": false,
    "pycharm": {
     "name": "#%%\n"
    }
   }
  }
 ],
 "metadata": {
  "kernelspec": {
   "display_name": "Python 3",
   "language": "python",
   "name": "python3"
  },
  "language_info": {
   "codemirror_mode": {
    "name": "ipython",
    "version": 2
   },
   "file_extension": ".py",
   "mimetype": "text/x-python",
   "name": "python",
   "nbconvert_exporter": "python",
   "pygments_lexer": "ipython2",
   "version": "2.7.6"
  }
 },
 "nbformat": 4,
 "nbformat_minor": 0
}