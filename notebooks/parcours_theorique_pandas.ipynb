{
 "cells": [
  {
   "cell_type": "code",
   "execution_count": 11,
   "outputs": [],
   "source": [
    "import pandas as pd"
   ],
   "metadata": {
    "collapsed": false,
    "pycharm": {
     "name": "#%%\n"
    }
   }
  },
  {
   "cell_type": "code",
   "execution_count": 12,
   "outputs": [],
   "source": [
    "df = pd.read_csv(\"../docker/airflow/data/processed/gtfs/transilien-gtfs-2022-06-24.csv\")"
   ],
   "metadata": {
    "collapsed": false,
    "pycharm": {
     "name": "#%%\n"
    }
   }
  },
  {
   "cell_type": "code",
   "execution_count": 13,
   "outputs": [],
   "source": [
    "del df[df.columns[0]]"
   ],
   "metadata": {
    "collapsed": false,
    "pycharm": {
     "name": "#%%\n"
    }
   }
  },
  {
   "cell_type": "code",
   "execution_count": 14,
   "outputs": [],
   "source": [
    "df_relation = pd.read_csv(\"../docker/airflow/data/reference/relation_ordre_RER_B.csv\", header=None, names=[\"Gare\", \"Relation\", \"API\"],  delimiter=\";\")"
   ],
   "metadata": {
    "collapsed": false,
    "pycharm": {
     "name": "#%%\n"
    }
   }
  },
  {
   "cell_type": "code",
   "execution_count": 10,
   "outputs": [
    {
     "data": {
      "text/plain": "                                                trip_id    trip_line  \\\n0     IDFM:TN:SNCF:7057d5db-4167-45fb-80fd-acde4637e487  IDFM:C01743   \n1     IDFM:TN:SNCF:7057d5db-4167-45fb-80fd-acde4637e487  IDFM:C01743   \n2     IDFM:TN:SNCF:7057d5db-4167-45fb-80fd-acde4637e487  IDFM:C01743   \n3     IDFM:TN:SNCF:7057d5db-4167-45fb-80fd-acde4637e487  IDFM:C01743   \n4     IDFM:TN:SNCF:7057d5db-4167-45fb-80fd-acde4637e487  IDFM:C01743   \n...                                                 ...          ...   \n7851  IDFM:TN:SNCF:228bfe63-bcf9-4fc9-a1b7-16fb77ecb250  IDFM:C01743   \n7852  IDFM:TN:SNCF:228bfe63-bcf9-4fc9-a1b7-16fb77ecb250  IDFM:C01743   \n7853  IDFM:TN:SNCF:228bfe63-bcf9-4fc9-a1b7-16fb77ecb250  IDFM:C01743   \n7854  IDFM:TN:SNCF:228bfe63-bcf9-4fc9-a1b7-16fb77ecb250  IDFM:C01743   \n7855  IDFM:TN:SNCF:228bfe63-bcf9-4fc9-a1b7-16fb77ecb250  IDFM:C01743   \n\n     trip_headsign trip_short_name                                destination  \\\n0             IPEL          IPOI01                              Mitry - Claye   \n1             IPEL          IPOI01                              Mitry - Claye   \n2             IPEL          IPOI01                              Mitry - Claye   \n3             IPEL          IPOI01                              Mitry - Claye   \n4             IPEL          IPOI01                              Mitry - Claye   \n...            ...             ...                                        ...   \n7851          EZIP          EZUT91  Aéroport Charles de Gaulle 2 (Terminal 2)   \n7852          EZIP          EZUT91  Aéroport Charles de Gaulle 2 (Terminal 2)   \n7853          EZIP          EZUT91  Aéroport Charles de Gaulle 2 (Terminal 2)   \n7854          EZIP          EZUT91  Aéroport Charles de Gaulle 2 (Terminal 2)   \n7855          EZIP          EZUT91  Aéroport Charles de Gaulle 2 (Terminal 2)   \n\n     destination_id                             origin    origin_id  \\\n0        IDFM:69065                  Denfert-Rochereau   IDFM:71056   \n1        IDFM:69065                         Luxembourg   IDFM:71161   \n2        IDFM:69065            Saint-Michel Notre-Dame   IDFM:73620   \n3        IDFM:69065                Châtelet les Halles  IDFM:474151   \n4        IDFM:69065                       Gare du Nord   IDFM:71410   \n...             ...                                ...          ...   \n7851     IDFM:73699                         Luxembourg   IDFM:71161   \n7852     IDFM:73699            Saint-Michel Notre-Dame   IDFM:73620   \n7853     IDFM:73699                Châtelet les Halles  IDFM:474151   \n7854     IDFM:73699                       Gare du Nord   IDFM:71410   \n7855     IDFM:73699  Aéroport CDG 1 (Terminal 3) - RER   IDFM:73596   \n\n      time_departure                                    arrival   arrival_id  \\\n0            81433.0                                 Luxembourg   IDFM:71161   \n1            81597.0                    Saint-Michel Notre-Dame   IDFM:73620   \n2            81729.0                        Châtelet les Halles  IDFM:474151   \n3            81840.0                               Gare du Nord   IDFM:71410   \n4            82080.0                  La Plaine Stade de France   IDFM:72211   \n...              ...                                        ...          ...   \n7851         79437.0                    Saint-Michel Notre-Dame   IDFM:73620   \n7852         79569.0                        Châtelet les Halles  IDFM:474151   \n7853         79680.0                               Gare du Nord   IDFM:71410   \n7854         79920.0          Aéroport CDG 1 (Terminal 3) - RER   IDFM:73596   \n7855         81570.0  Aéroport Charles de Gaulle 2 (Terminal 2)   IDFM:73699   \n\n      time_arrival  time_travelled  direction  \n0          81564.0           131.0          1  \n1          81693.0            96.0          1  \n2          81809.0            80.0          1  \n3          82020.0           180.0          1  \n4          82340.0           260.0          1  \n...            ...             ...        ...  \n7851       79533.0            96.0          1  \n7852       79649.0            80.0          1  \n7853       79860.0           180.0          1  \n7854       81510.0          1590.0          1  \n7855       81710.0           140.0          1  \n\n[7856 rows x 14 columns]",
      "text/html": "<div>\n<style scoped>\n    .dataframe tbody tr th:only-of-type {\n        vertical-align: middle;\n    }\n\n    .dataframe tbody tr th {\n        vertical-align: top;\n    }\n\n    .dataframe thead th {\n        text-align: right;\n    }\n</style>\n<table border=\"1\" class=\"dataframe\">\n  <thead>\n    <tr style=\"text-align: right;\">\n      <th></th>\n      <th>trip_id</th>\n      <th>trip_line</th>\n      <th>trip_headsign</th>\n      <th>trip_short_name</th>\n      <th>destination</th>\n      <th>destination_id</th>\n      <th>origin</th>\n      <th>origin_id</th>\n      <th>time_departure</th>\n      <th>arrival</th>\n      <th>arrival_id</th>\n      <th>time_arrival</th>\n      <th>time_travelled</th>\n      <th>direction</th>\n    </tr>\n  </thead>\n  <tbody>\n    <tr>\n      <th>0</th>\n      <td>IDFM:TN:SNCF:7057d5db-4167-45fb-80fd-acde4637e487</td>\n      <td>IDFM:C01743</td>\n      <td>IPEL</td>\n      <td>IPOI01</td>\n      <td>Mitry - Claye</td>\n      <td>IDFM:69065</td>\n      <td>Denfert-Rochereau</td>\n      <td>IDFM:71056</td>\n      <td>81433.0</td>\n      <td>Luxembourg</td>\n      <td>IDFM:71161</td>\n      <td>81564.0</td>\n      <td>131.0</td>\n      <td>1</td>\n    </tr>\n    <tr>\n      <th>1</th>\n      <td>IDFM:TN:SNCF:7057d5db-4167-45fb-80fd-acde4637e487</td>\n      <td>IDFM:C01743</td>\n      <td>IPEL</td>\n      <td>IPOI01</td>\n      <td>Mitry - Claye</td>\n      <td>IDFM:69065</td>\n      <td>Luxembourg</td>\n      <td>IDFM:71161</td>\n      <td>81597.0</td>\n      <td>Saint-Michel Notre-Dame</td>\n      <td>IDFM:73620</td>\n      <td>81693.0</td>\n      <td>96.0</td>\n      <td>1</td>\n    </tr>\n    <tr>\n      <th>2</th>\n      <td>IDFM:TN:SNCF:7057d5db-4167-45fb-80fd-acde4637e487</td>\n      <td>IDFM:C01743</td>\n      <td>IPEL</td>\n      <td>IPOI01</td>\n      <td>Mitry - Claye</td>\n      <td>IDFM:69065</td>\n      <td>Saint-Michel Notre-Dame</td>\n      <td>IDFM:73620</td>\n      <td>81729.0</td>\n      <td>Châtelet les Halles</td>\n      <td>IDFM:474151</td>\n      <td>81809.0</td>\n      <td>80.0</td>\n      <td>1</td>\n    </tr>\n    <tr>\n      <th>3</th>\n      <td>IDFM:TN:SNCF:7057d5db-4167-45fb-80fd-acde4637e487</td>\n      <td>IDFM:C01743</td>\n      <td>IPEL</td>\n      <td>IPOI01</td>\n      <td>Mitry - Claye</td>\n      <td>IDFM:69065</td>\n      <td>Châtelet les Halles</td>\n      <td>IDFM:474151</td>\n      <td>81840.0</td>\n      <td>Gare du Nord</td>\n      <td>IDFM:71410</td>\n      <td>82020.0</td>\n      <td>180.0</td>\n      <td>1</td>\n    </tr>\n    <tr>\n      <th>4</th>\n      <td>IDFM:TN:SNCF:7057d5db-4167-45fb-80fd-acde4637e487</td>\n      <td>IDFM:C01743</td>\n      <td>IPEL</td>\n      <td>IPOI01</td>\n      <td>Mitry - Claye</td>\n      <td>IDFM:69065</td>\n      <td>Gare du Nord</td>\n      <td>IDFM:71410</td>\n      <td>82080.0</td>\n      <td>La Plaine Stade de France</td>\n      <td>IDFM:72211</td>\n      <td>82340.0</td>\n      <td>260.0</td>\n      <td>1</td>\n    </tr>\n    <tr>\n      <th>...</th>\n      <td>...</td>\n      <td>...</td>\n      <td>...</td>\n      <td>...</td>\n      <td>...</td>\n      <td>...</td>\n      <td>...</td>\n      <td>...</td>\n      <td>...</td>\n      <td>...</td>\n      <td>...</td>\n      <td>...</td>\n      <td>...</td>\n      <td>...</td>\n    </tr>\n    <tr>\n      <th>7851</th>\n      <td>IDFM:TN:SNCF:228bfe63-bcf9-4fc9-a1b7-16fb77ecb250</td>\n      <td>IDFM:C01743</td>\n      <td>EZIP</td>\n      <td>EZUT91</td>\n      <td>Aéroport Charles de Gaulle 2 (Terminal 2)</td>\n      <td>IDFM:73699</td>\n      <td>Luxembourg</td>\n      <td>IDFM:71161</td>\n      <td>79437.0</td>\n      <td>Saint-Michel Notre-Dame</td>\n      <td>IDFM:73620</td>\n      <td>79533.0</td>\n      <td>96.0</td>\n      <td>1</td>\n    </tr>\n    <tr>\n      <th>7852</th>\n      <td>IDFM:TN:SNCF:228bfe63-bcf9-4fc9-a1b7-16fb77ecb250</td>\n      <td>IDFM:C01743</td>\n      <td>EZIP</td>\n      <td>EZUT91</td>\n      <td>Aéroport Charles de Gaulle 2 (Terminal 2)</td>\n      <td>IDFM:73699</td>\n      <td>Saint-Michel Notre-Dame</td>\n      <td>IDFM:73620</td>\n      <td>79569.0</td>\n      <td>Châtelet les Halles</td>\n      <td>IDFM:474151</td>\n      <td>79649.0</td>\n      <td>80.0</td>\n      <td>1</td>\n    </tr>\n    <tr>\n      <th>7853</th>\n      <td>IDFM:TN:SNCF:228bfe63-bcf9-4fc9-a1b7-16fb77ecb250</td>\n      <td>IDFM:C01743</td>\n      <td>EZIP</td>\n      <td>EZUT91</td>\n      <td>Aéroport Charles de Gaulle 2 (Terminal 2)</td>\n      <td>IDFM:73699</td>\n      <td>Châtelet les Halles</td>\n      <td>IDFM:474151</td>\n      <td>79680.0</td>\n      <td>Gare du Nord</td>\n      <td>IDFM:71410</td>\n      <td>79860.0</td>\n      <td>180.0</td>\n      <td>1</td>\n    </tr>\n    <tr>\n      <th>7854</th>\n      <td>IDFM:TN:SNCF:228bfe63-bcf9-4fc9-a1b7-16fb77ecb250</td>\n      <td>IDFM:C01743</td>\n      <td>EZIP</td>\n      <td>EZUT91</td>\n      <td>Aéroport Charles de Gaulle 2 (Terminal 2)</td>\n      <td>IDFM:73699</td>\n      <td>Gare du Nord</td>\n      <td>IDFM:71410</td>\n      <td>79920.0</td>\n      <td>Aéroport CDG 1 (Terminal 3) - RER</td>\n      <td>IDFM:73596</td>\n      <td>81510.0</td>\n      <td>1590.0</td>\n      <td>1</td>\n    </tr>\n    <tr>\n      <th>7855</th>\n      <td>IDFM:TN:SNCF:228bfe63-bcf9-4fc9-a1b7-16fb77ecb250</td>\n      <td>IDFM:C01743</td>\n      <td>EZIP</td>\n      <td>EZUT91</td>\n      <td>Aéroport Charles de Gaulle 2 (Terminal 2)</td>\n      <td>IDFM:73699</td>\n      <td>Aéroport CDG 1 (Terminal 3) - RER</td>\n      <td>IDFM:73596</td>\n      <td>81570.0</td>\n      <td>Aéroport Charles de Gaulle 2 (Terminal 2)</td>\n      <td>IDFM:73699</td>\n      <td>81710.0</td>\n      <td>140.0</td>\n      <td>1</td>\n    </tr>\n  </tbody>\n</table>\n<p>7856 rows × 14 columns</p>\n</div>"
     },
     "execution_count": 10,
     "metadata": {},
     "output_type": "execute_result"
    }
   ],
   "source": [
    "df_relation\n",
    "df['direction'] = df['direction'].astype(int)\n",
    "df"
   ],
   "metadata": {
    "collapsed": false,
    "pycharm": {
     "name": "#%%\n"
    }
   }
  },
  {
   "cell_type": "code",
   "execution_count": 6,
   "outputs": [],
   "source": [
    "df = df.groupby(by=[\"origin\", \"origin_id\", \"arrival\", \"direction\"]).agg(travelled_mean = ('time_travelled', 'mean')).reset_index()"
   ],
   "metadata": {
    "collapsed": false,
    "pycharm": {
     "name": "#%%\n"
    }
   }
  },
  {
   "cell_type": "code",
   "execution_count": 7,
   "outputs": [
    {
     "data": {
      "text/plain": "                          origin   origin_id                       arrival  \\\n0                         Antony  IDFM:69759             Fontaine Michalon   \n1                         Antony  IDFM:69759             La Croix de Berny   \n2                         Antony  IDFM:69759             Massy - Palaiseau   \n3               Arcueil - Cachan  IDFM:70263                       Bagneux   \n4               Arcueil - Cachan  IDFM:70263                       Laplace   \n..                           ...         ...                           ...   \n93                   Vert Galant  IDFM:73482  Villeparisis - Mitry-le-Neuf   \n94  Villeparisis - Mitry-le-Neuf  IDFM:68916                 Mitry - Claye   \n95  Villeparisis - Mitry-le-Neuf  IDFM:68916                   Vert Galant   \n96                    Villepinte  IDFM:73547          Parc des Expositions   \n97                    Villepinte  IDFM:73547             Sevran Beaudottes   \n\n    direction  travelled_mean  \n0           0       95.000000  \n1           1       71.000000  \n2           0      254.000000  \n3           0       70.000000  \n4           1       94.000000  \n..        ...             ...  \n93          1      150.000000  \n94          1      240.000000  \n95          0      150.000000  \n96          1       90.338983  \n97          0      112.456140  \n\n[98 rows x 5 columns]",
      "text/html": "<div>\n<style scoped>\n    .dataframe tbody tr th:only-of-type {\n        vertical-align: middle;\n    }\n\n    .dataframe tbody tr th {\n        vertical-align: top;\n    }\n\n    .dataframe thead th {\n        text-align: right;\n    }\n</style>\n<table border=\"1\" class=\"dataframe\">\n  <thead>\n    <tr style=\"text-align: right;\">\n      <th></th>\n      <th>origin</th>\n      <th>origin_id</th>\n      <th>arrival</th>\n      <th>direction</th>\n      <th>travelled_mean</th>\n    </tr>\n  </thead>\n  <tbody>\n    <tr>\n      <th>0</th>\n      <td>Antony</td>\n      <td>IDFM:69759</td>\n      <td>Fontaine Michalon</td>\n      <td>0</td>\n      <td>95.000000</td>\n    </tr>\n    <tr>\n      <th>1</th>\n      <td>Antony</td>\n      <td>IDFM:69759</td>\n      <td>La Croix de Berny</td>\n      <td>1</td>\n      <td>71.000000</td>\n    </tr>\n    <tr>\n      <th>2</th>\n      <td>Antony</td>\n      <td>IDFM:69759</td>\n      <td>Massy - Palaiseau</td>\n      <td>0</td>\n      <td>254.000000</td>\n    </tr>\n    <tr>\n      <th>3</th>\n      <td>Arcueil - Cachan</td>\n      <td>IDFM:70263</td>\n      <td>Bagneux</td>\n      <td>0</td>\n      <td>70.000000</td>\n    </tr>\n    <tr>\n      <th>4</th>\n      <td>Arcueil - Cachan</td>\n      <td>IDFM:70263</td>\n      <td>Laplace</td>\n      <td>1</td>\n      <td>94.000000</td>\n    </tr>\n    <tr>\n      <th>...</th>\n      <td>...</td>\n      <td>...</td>\n      <td>...</td>\n      <td>...</td>\n      <td>...</td>\n    </tr>\n    <tr>\n      <th>93</th>\n      <td>Vert Galant</td>\n      <td>IDFM:73482</td>\n      <td>Villeparisis - Mitry-le-Neuf</td>\n      <td>1</td>\n      <td>150.000000</td>\n    </tr>\n    <tr>\n      <th>94</th>\n      <td>Villeparisis - Mitry-le-Neuf</td>\n      <td>IDFM:68916</td>\n      <td>Mitry - Claye</td>\n      <td>1</td>\n      <td>240.000000</td>\n    </tr>\n    <tr>\n      <th>95</th>\n      <td>Villeparisis - Mitry-le-Neuf</td>\n      <td>IDFM:68916</td>\n      <td>Vert Galant</td>\n      <td>0</td>\n      <td>150.000000</td>\n    </tr>\n    <tr>\n      <th>96</th>\n      <td>Villepinte</td>\n      <td>IDFM:73547</td>\n      <td>Parc des Expositions</td>\n      <td>1</td>\n      <td>90.338983</td>\n    </tr>\n    <tr>\n      <th>97</th>\n      <td>Villepinte</td>\n      <td>IDFM:73547</td>\n      <td>Sevran Beaudottes</td>\n      <td>0</td>\n      <td>112.456140</td>\n    </tr>\n  </tbody>\n</table>\n<p>98 rows × 5 columns</p>\n</div>"
     },
     "execution_count": 7,
     "metadata": {},
     "output_type": "execute_result"
    }
   ],
   "source": [
    "df"
   ],
   "metadata": {
    "collapsed": false,
    "pycharm": {
     "name": "#%%\n"
    }
   }
  },
  {
   "cell_type": "code",
   "execution_count": 8,
   "outputs": [],
   "source": [
    "df_1 = pd.merge(df, df_relation, left_on='origin', right_on='Gare')"
   ],
   "metadata": {
    "collapsed": false,
    "pycharm": {
     "name": "#%%\n"
    }
   }
  },
  {
   "cell_type": "code",
   "execution_count": 9,
   "outputs": [],
   "source": [
    "df_2 = pd.merge(df_1, df_relation, left_on='arrival', right_on='Gare')"
   ],
   "metadata": {
    "collapsed": false,
    "pycharm": {
     "name": "#%%\n"
    }
   }
  },
  {
   "cell_type": "code",
   "execution_count": 10,
   "outputs": [],
   "source": [
    "df_2.drop(['Gare_x', 'Gare_y'], axis=1, inplace=True)"
   ],
   "metadata": {
    "collapsed": false,
    "pycharm": {
     "name": "#%%\n"
    }
   }
  },
  {
   "cell_type": "code",
   "execution_count": 11,
   "outputs": [],
   "source": [
    "df_2 = df_2.dropna()"
   ],
   "metadata": {
    "collapsed": false,
    "pycharm": {
     "name": "#%%\n"
    }
   }
  },
  {
   "cell_type": "code",
   "execution_count": 12,
   "outputs": [],
   "source": [
    "def compute_inter_station(gare_depart, gare_arrive, direction):\n",
    "    \"\"\"\n",
    "    Génère une liste des gare parcourus a partir d'une gare de départ vers une gare d'arrivé\n",
    "    \"\"\"\n",
    "\n",
    "    b1 = [\"87001479\", \"87271460\", \"87271486\", \"87271452\", \"87271445\"]  # Aeroport\n",
    "    b2 = [\"87271528\", \"87271510\", \"87271437\", \"87271429\"]  # Mitry\n",
    "    central = [\"87271411\", \"87271478\", \"87271403\", \"87271395\", \"87271304\", \"87164798\", \"87271007\"]  # Central\n",
    "\n",
    "    # Detecter l'appartenance de la gare de départ\n",
    "    res = []\n",
    "    # Construction des listes\n",
    "    if direction == 0:  # Direction Sud\n",
    "        if gare_depart in b1:\n",
    "            res = b1 + central\n",
    "        elif gare_depart in b2:\n",
    "            res = b2 + central\n",
    "        elif gare_depart in central:\n",
    "            res = central\n",
    "    elif direction == 1:  # Direction nord\n",
    "        if gare_depart in central:\n",
    "            central.reverse()\n",
    "            if gare_arrive in central:\n",
    "                res = central\n",
    "            elif gare_arrive in b1:\n",
    "                b1.reverse()\n",
    "                res = central + b1\n",
    "            elif gare_arrive in b2:\n",
    "                b2.reverse()\n",
    "                res = central + b2\n",
    "        elif gare_depart in b1:\n",
    "            b1.reverse()\n",
    "            res = b1\n",
    "        elif gare_depart in b2:\n",
    "            b2.reverse()\n",
    "            res = b2\n",
    "\n",
    "    return res[res.index(gare_depart):res.index(gare_arrive) + 1]"
   ],
   "metadata": {
    "collapsed": false,
    "pycharm": {
     "name": "#%%\n"
    }
   }
  },
  {
   "cell_type": "code",
   "execution_count": 13,
   "outputs": [],
   "source": [
    "names = compute_inter_station(\"87271007\", \"87271528\", 1)"
   ],
   "metadata": {
    "collapsed": false,
    "pycharm": {
     "name": "#%%\n"
    }
   }
  },
  {
   "cell_type": "code",
   "execution_count": 14,
   "outputs": [
    {
     "data": {
      "text/plain": "['87271007',\n '87164798',\n '87271304',\n '87271395',\n '87271403',\n '87271478',\n '87271411',\n '87271429',\n '87271437',\n '87271510',\n '87271528']"
     },
     "execution_count": 14,
     "metadata": {},
     "output_type": "execute_result"
    }
   ],
   "source": [
    "names"
   ],
   "metadata": {
    "collapsed": false,
    "pycharm": {
     "name": "#%%\n"
    }
   }
  },
  {
   "cell_type": "code",
   "execution_count": 15,
   "outputs": [
    {
     "data": {
      "text/plain": "                                       origin   origin_id  \\\n0                            Aulnay-sous-Bois  IDFM:72646   \n1                                      Drancy  IDFM:72652   \n2                            Aulnay-sous-Bois  IDFM:72646   \n3                                 Vert Galant  IDFM:73482   \n4                            Aulnay-sous-Bois  IDFM:72646   \n5                                  Villepinte  IDFM:73547   \n6           Aéroport CDG 1 (Terminal 3) - RER  IDFM:73596   \n7           Aéroport CDG 1 (Terminal 3) - RER  IDFM:73596   \n8                   La Plaine Stade de France  IDFM:72211   \n9           Aéroport CDG 1 (Terminal 3) - RER  IDFM:73596   \n10                                 Villepinte  IDFM:73547   \n11  Aéroport Charles de Gaulle 2 (Terminal 2)  IDFM:73699   \n12                               Gare du Nord  IDFM:71410   \n13                       Parc des Expositions  IDFM:73568   \n14                                     Drancy  IDFM:72652   \n15               La Courneuve - Aubervilliers  IDFM:72598   \n16                               Gare du Nord  IDFM:71410   \n17               La Courneuve - Aubervilliers  IDFM:72598   \n18                  La Plaine Stade de France  IDFM:72211   \n19                                 Le Bourget  IDFM:72641   \n20                            Le Blanc-Mesnil  IDFM:72648   \n21                             Sevran - Livry  IDFM:73439   \n22                          Sevran Beaudottes  IDFM:73491   \n23                            Le Blanc-Mesnil  IDFM:72648   \n24                                 Le Bourget  IDFM:72641   \n25                              Mitry - Claye  IDFM:69065   \n26                                Vert Galant  IDFM:73482   \n27                       Parc des Expositions  IDFM:73568   \n28                          Sevran Beaudottes  IDFM:73491   \n29                             Sevran - Livry  IDFM:73439   \n30               Villeparisis - Mitry-le-Neuf  IDFM:68916   \n31               Villeparisis - Mitry-le-Neuf  IDFM:68916   \n\n                                      arrival  direction  travelled_mean  \\\n0                             Le Blanc-Mesnil          0      100.086957   \n1                             Le Blanc-Mesnil          1      100.000000   \n2                              Sevran - Livry          1      160.000000   \n3                              Sevran - Livry          0      210.000000   \n4                           Sevran Beaudottes          1      160.847458   \n5                           Sevran Beaudottes          0      112.456140   \n6   Aéroport Charles de Gaulle 2 (Terminal 2)          1      145.277778   \n7                                Gare du Nord          0     1707.400000   \n8                                Gare du Nord          0      269.833333   \n9                        Parc des Expositions          0      280.175439   \n10                       Parc des Expositions          1       90.338983   \n11          Aéroport CDG 1 (Terminal 3) - RER          0      110.093458   \n12          Aéroport CDG 1 (Terminal 3) - RER          1     1587.755102   \n13          Aéroport CDG 1 (Terminal 3) - RER          1      291.016949   \n14                                 Le Bourget          0      135.130435   \n15                                 Le Bourget          1      170.000000   \n16                  La Plaine Stade de France          1      262.222222   \n17                  La Plaine Stade de France          0      120.173913   \n18               La Courneuve - Aubervilliers          1      110.085470   \n19               La Courneuve - Aubervilliers          0      175.043478   \n20                           Aulnay-sous-Bois          1      105.042735   \n21                           Aulnay-sous-Bois          0      170.000000   \n22                           Aulnay-sous-Bois          0      168.245614   \n23                                     Drancy          0      100.086957   \n24                                     Drancy          1      130.085470   \n25               Villeparisis - Mitry-le-Neuf          0      210.517241   \n26               Villeparisis - Mitry-le-Neuf          1      150.000000   \n27                                 Villepinte          0       90.175439   \n28                                 Villepinte          1      110.847458   \n29                                Vert Galant          1      210.000000   \n30                                Vert Galant          0      150.000000   \n31                              Mitry - Claye          1      240.000000   \n\n    Relation_x       API_x  Relation_y       API_y  \n0           10  87271411.0          11  87271478.0  \n1           12  87271403.0          11  87271478.0  \n2           10  87271411.0           9  87271429.0  \n3            8  87271437.0           9  87271429.0  \n4           10  87271411.0           5  87271445.0  \n5            4  87271452.0           5  87271445.0  \n6            2  87271460.0           1  87001479.0  \n7            2  87271460.0          16  87271007.0  \n8           15  87164798.0          16  87271007.0  \n9            2  87271460.0           3  87271486.0  \n10           4  87271452.0           3  87271486.0  \n11           1  87001479.0           2  87271460.0  \n12          16  87271007.0           2  87271460.0  \n13           3  87271486.0           2  87271460.0  \n14          12  87271403.0          13  87271395.0  \n15          14  87271304.0          13  87271395.0  \n16          16  87271007.0          15  87164798.0  \n17          14  87271304.0          15  87164798.0  \n18          15  87164798.0          14  87271304.0  \n19          13  87271395.0          14  87271304.0  \n20          11  87271478.0          10  87271411.0  \n21           9  87271429.0          10  87271411.0  \n22           5  87271445.0          10  87271411.0  \n23          11  87271478.0          12  87271403.0  \n24          13  87271395.0          12  87271403.0  \n25           6  87271528.0           7  87271510.0  \n26           8  87271437.0           7  87271510.0  \n27           3  87271486.0           4  87271452.0  \n28           5  87271445.0           4  87271452.0  \n29           9  87271429.0           8  87271437.0  \n30           7  87271510.0           8  87271437.0  \n31           7  87271510.0           6  87271528.0  ",
      "text/html": "<div>\n<style scoped>\n    .dataframe tbody tr th:only-of-type {\n        vertical-align: middle;\n    }\n\n    .dataframe tbody tr th {\n        vertical-align: top;\n    }\n\n    .dataframe thead th {\n        text-align: right;\n    }\n</style>\n<table border=\"1\" class=\"dataframe\">\n  <thead>\n    <tr style=\"text-align: right;\">\n      <th></th>\n      <th>origin</th>\n      <th>origin_id</th>\n      <th>arrival</th>\n      <th>direction</th>\n      <th>travelled_mean</th>\n      <th>Relation_x</th>\n      <th>API_x</th>\n      <th>Relation_y</th>\n      <th>API_y</th>\n    </tr>\n  </thead>\n  <tbody>\n    <tr>\n      <th>0</th>\n      <td>Aulnay-sous-Bois</td>\n      <td>IDFM:72646</td>\n      <td>Le Blanc-Mesnil</td>\n      <td>0</td>\n      <td>100.086957</td>\n      <td>10</td>\n      <td>87271411.0</td>\n      <td>11</td>\n      <td>87271478.0</td>\n    </tr>\n    <tr>\n      <th>1</th>\n      <td>Drancy</td>\n      <td>IDFM:72652</td>\n      <td>Le Blanc-Mesnil</td>\n      <td>1</td>\n      <td>100.000000</td>\n      <td>12</td>\n      <td>87271403.0</td>\n      <td>11</td>\n      <td>87271478.0</td>\n    </tr>\n    <tr>\n      <th>2</th>\n      <td>Aulnay-sous-Bois</td>\n      <td>IDFM:72646</td>\n      <td>Sevran - Livry</td>\n      <td>1</td>\n      <td>160.000000</td>\n      <td>10</td>\n      <td>87271411.0</td>\n      <td>9</td>\n      <td>87271429.0</td>\n    </tr>\n    <tr>\n      <th>3</th>\n      <td>Vert Galant</td>\n      <td>IDFM:73482</td>\n      <td>Sevran - Livry</td>\n      <td>0</td>\n      <td>210.000000</td>\n      <td>8</td>\n      <td>87271437.0</td>\n      <td>9</td>\n      <td>87271429.0</td>\n    </tr>\n    <tr>\n      <th>4</th>\n      <td>Aulnay-sous-Bois</td>\n      <td>IDFM:72646</td>\n      <td>Sevran Beaudottes</td>\n      <td>1</td>\n      <td>160.847458</td>\n      <td>10</td>\n      <td>87271411.0</td>\n      <td>5</td>\n      <td>87271445.0</td>\n    </tr>\n    <tr>\n      <th>5</th>\n      <td>Villepinte</td>\n      <td>IDFM:73547</td>\n      <td>Sevran Beaudottes</td>\n      <td>0</td>\n      <td>112.456140</td>\n      <td>4</td>\n      <td>87271452.0</td>\n      <td>5</td>\n      <td>87271445.0</td>\n    </tr>\n    <tr>\n      <th>6</th>\n      <td>Aéroport CDG 1 (Terminal 3) - RER</td>\n      <td>IDFM:73596</td>\n      <td>Aéroport Charles de Gaulle 2 (Terminal 2)</td>\n      <td>1</td>\n      <td>145.277778</td>\n      <td>2</td>\n      <td>87271460.0</td>\n      <td>1</td>\n      <td>87001479.0</td>\n    </tr>\n    <tr>\n      <th>7</th>\n      <td>Aéroport CDG 1 (Terminal 3) - RER</td>\n      <td>IDFM:73596</td>\n      <td>Gare du Nord</td>\n      <td>0</td>\n      <td>1707.400000</td>\n      <td>2</td>\n      <td>87271460.0</td>\n      <td>16</td>\n      <td>87271007.0</td>\n    </tr>\n    <tr>\n      <th>8</th>\n      <td>La Plaine Stade de France</td>\n      <td>IDFM:72211</td>\n      <td>Gare du Nord</td>\n      <td>0</td>\n      <td>269.833333</td>\n      <td>15</td>\n      <td>87164798.0</td>\n      <td>16</td>\n      <td>87271007.0</td>\n    </tr>\n    <tr>\n      <th>9</th>\n      <td>Aéroport CDG 1 (Terminal 3) - RER</td>\n      <td>IDFM:73596</td>\n      <td>Parc des Expositions</td>\n      <td>0</td>\n      <td>280.175439</td>\n      <td>2</td>\n      <td>87271460.0</td>\n      <td>3</td>\n      <td>87271486.0</td>\n    </tr>\n    <tr>\n      <th>10</th>\n      <td>Villepinte</td>\n      <td>IDFM:73547</td>\n      <td>Parc des Expositions</td>\n      <td>1</td>\n      <td>90.338983</td>\n      <td>4</td>\n      <td>87271452.0</td>\n      <td>3</td>\n      <td>87271486.0</td>\n    </tr>\n    <tr>\n      <th>11</th>\n      <td>Aéroport Charles de Gaulle 2 (Terminal 2)</td>\n      <td>IDFM:73699</td>\n      <td>Aéroport CDG 1 (Terminal 3) - RER</td>\n      <td>0</td>\n      <td>110.093458</td>\n      <td>1</td>\n      <td>87001479.0</td>\n      <td>2</td>\n      <td>87271460.0</td>\n    </tr>\n    <tr>\n      <th>12</th>\n      <td>Gare du Nord</td>\n      <td>IDFM:71410</td>\n      <td>Aéroport CDG 1 (Terminal 3) - RER</td>\n      <td>1</td>\n      <td>1587.755102</td>\n      <td>16</td>\n      <td>87271007.0</td>\n      <td>2</td>\n      <td>87271460.0</td>\n    </tr>\n    <tr>\n      <th>13</th>\n      <td>Parc des Expositions</td>\n      <td>IDFM:73568</td>\n      <td>Aéroport CDG 1 (Terminal 3) - RER</td>\n      <td>1</td>\n      <td>291.016949</td>\n      <td>3</td>\n      <td>87271486.0</td>\n      <td>2</td>\n      <td>87271460.0</td>\n    </tr>\n    <tr>\n      <th>14</th>\n      <td>Drancy</td>\n      <td>IDFM:72652</td>\n      <td>Le Bourget</td>\n      <td>0</td>\n      <td>135.130435</td>\n      <td>12</td>\n      <td>87271403.0</td>\n      <td>13</td>\n      <td>87271395.0</td>\n    </tr>\n    <tr>\n      <th>15</th>\n      <td>La Courneuve - Aubervilliers</td>\n      <td>IDFM:72598</td>\n      <td>Le Bourget</td>\n      <td>1</td>\n      <td>170.000000</td>\n      <td>14</td>\n      <td>87271304.0</td>\n      <td>13</td>\n      <td>87271395.0</td>\n    </tr>\n    <tr>\n      <th>16</th>\n      <td>Gare du Nord</td>\n      <td>IDFM:71410</td>\n      <td>La Plaine Stade de France</td>\n      <td>1</td>\n      <td>262.222222</td>\n      <td>16</td>\n      <td>87271007.0</td>\n      <td>15</td>\n      <td>87164798.0</td>\n    </tr>\n    <tr>\n      <th>17</th>\n      <td>La Courneuve - Aubervilliers</td>\n      <td>IDFM:72598</td>\n      <td>La Plaine Stade de France</td>\n      <td>0</td>\n      <td>120.173913</td>\n      <td>14</td>\n      <td>87271304.0</td>\n      <td>15</td>\n      <td>87164798.0</td>\n    </tr>\n    <tr>\n      <th>18</th>\n      <td>La Plaine Stade de France</td>\n      <td>IDFM:72211</td>\n      <td>La Courneuve - Aubervilliers</td>\n      <td>1</td>\n      <td>110.085470</td>\n      <td>15</td>\n      <td>87164798.0</td>\n      <td>14</td>\n      <td>87271304.0</td>\n    </tr>\n    <tr>\n      <th>19</th>\n      <td>Le Bourget</td>\n      <td>IDFM:72641</td>\n      <td>La Courneuve - Aubervilliers</td>\n      <td>0</td>\n      <td>175.043478</td>\n      <td>13</td>\n      <td>87271395.0</td>\n      <td>14</td>\n      <td>87271304.0</td>\n    </tr>\n    <tr>\n      <th>20</th>\n      <td>Le Blanc-Mesnil</td>\n      <td>IDFM:72648</td>\n      <td>Aulnay-sous-Bois</td>\n      <td>1</td>\n      <td>105.042735</td>\n      <td>11</td>\n      <td>87271478.0</td>\n      <td>10</td>\n      <td>87271411.0</td>\n    </tr>\n    <tr>\n      <th>21</th>\n      <td>Sevran - Livry</td>\n      <td>IDFM:73439</td>\n      <td>Aulnay-sous-Bois</td>\n      <td>0</td>\n      <td>170.000000</td>\n      <td>9</td>\n      <td>87271429.0</td>\n      <td>10</td>\n      <td>87271411.0</td>\n    </tr>\n    <tr>\n      <th>22</th>\n      <td>Sevran Beaudottes</td>\n      <td>IDFM:73491</td>\n      <td>Aulnay-sous-Bois</td>\n      <td>0</td>\n      <td>168.245614</td>\n      <td>5</td>\n      <td>87271445.0</td>\n      <td>10</td>\n      <td>87271411.0</td>\n    </tr>\n    <tr>\n      <th>23</th>\n      <td>Le Blanc-Mesnil</td>\n      <td>IDFM:72648</td>\n      <td>Drancy</td>\n      <td>0</td>\n      <td>100.086957</td>\n      <td>11</td>\n      <td>87271478.0</td>\n      <td>12</td>\n      <td>87271403.0</td>\n    </tr>\n    <tr>\n      <th>24</th>\n      <td>Le Bourget</td>\n      <td>IDFM:72641</td>\n      <td>Drancy</td>\n      <td>1</td>\n      <td>130.085470</td>\n      <td>13</td>\n      <td>87271395.0</td>\n      <td>12</td>\n      <td>87271403.0</td>\n    </tr>\n    <tr>\n      <th>25</th>\n      <td>Mitry - Claye</td>\n      <td>IDFM:69065</td>\n      <td>Villeparisis - Mitry-le-Neuf</td>\n      <td>0</td>\n      <td>210.517241</td>\n      <td>6</td>\n      <td>87271528.0</td>\n      <td>7</td>\n      <td>87271510.0</td>\n    </tr>\n    <tr>\n      <th>26</th>\n      <td>Vert Galant</td>\n      <td>IDFM:73482</td>\n      <td>Villeparisis - Mitry-le-Neuf</td>\n      <td>1</td>\n      <td>150.000000</td>\n      <td>8</td>\n      <td>87271437.0</td>\n      <td>7</td>\n      <td>87271510.0</td>\n    </tr>\n    <tr>\n      <th>27</th>\n      <td>Parc des Expositions</td>\n      <td>IDFM:73568</td>\n      <td>Villepinte</td>\n      <td>0</td>\n      <td>90.175439</td>\n      <td>3</td>\n      <td>87271486.0</td>\n      <td>4</td>\n      <td>87271452.0</td>\n    </tr>\n    <tr>\n      <th>28</th>\n      <td>Sevran Beaudottes</td>\n      <td>IDFM:73491</td>\n      <td>Villepinte</td>\n      <td>1</td>\n      <td>110.847458</td>\n      <td>5</td>\n      <td>87271445.0</td>\n      <td>4</td>\n      <td>87271452.0</td>\n    </tr>\n    <tr>\n      <th>29</th>\n      <td>Sevran - Livry</td>\n      <td>IDFM:73439</td>\n      <td>Vert Galant</td>\n      <td>1</td>\n      <td>210.000000</td>\n      <td>9</td>\n      <td>87271429.0</td>\n      <td>8</td>\n      <td>87271437.0</td>\n    </tr>\n    <tr>\n      <th>30</th>\n      <td>Villeparisis - Mitry-le-Neuf</td>\n      <td>IDFM:68916</td>\n      <td>Vert Galant</td>\n      <td>0</td>\n      <td>150.000000</td>\n      <td>7</td>\n      <td>87271510.0</td>\n      <td>8</td>\n      <td>87271437.0</td>\n    </tr>\n    <tr>\n      <th>31</th>\n      <td>Villeparisis - Mitry-le-Neuf</td>\n      <td>IDFM:68916</td>\n      <td>Mitry - Claye</td>\n      <td>1</td>\n      <td>240.000000</td>\n      <td>7</td>\n      <td>87271510.0</td>\n      <td>6</td>\n      <td>87271528.0</td>\n    </tr>\n  </tbody>\n</table>\n</div>"
     },
     "execution_count": 15,
     "metadata": {},
     "output_type": "execute_result"
    }
   ],
   "source": [
    "df_2.reset_index(drop=True)"
   ],
   "metadata": {
    "collapsed": false,
    "pycharm": {
     "name": "#%%\n"
    }
   }
  },
  {
   "cell_type": "code",
   "execution_count": 24,
   "outputs": [],
   "source": [
    "df_3 = df_2[df_2['direction'] == 1].reset_index(drop=True)\n",
    "df_3['API_x'] = df_3['API_x'].astype(int).astype(str)\n",
    "df_3['API_y'] = df_3['API_y'].astype(int).astype(str)"
   ],
   "metadata": {
    "collapsed": false,
    "pycharm": {
     "name": "#%%\n"
    }
   }
  },
  {
   "cell_type": "code",
   "execution_count": 25,
   "outputs": [
    {
     "data": {
      "text/plain": "                               origin   origin_id  \\\n0                              Drancy  IDFM:72652   \n1                    Aulnay-sous-Bois  IDFM:72646   \n2                    Aulnay-sous-Bois  IDFM:72646   \n3   Aéroport CDG 1 (Terminal 3) - RER  IDFM:73596   \n4                          Villepinte  IDFM:73547   \n5                        Gare du Nord  IDFM:71410   \n6                Parc des Expositions  IDFM:73568   \n7        La Courneuve - Aubervilliers  IDFM:72598   \n8                        Gare du Nord  IDFM:71410   \n9           La Plaine Stade de France  IDFM:72211   \n10                    Le Blanc-Mesnil  IDFM:72648   \n11                         Le Bourget  IDFM:72641   \n12                        Vert Galant  IDFM:73482   \n13                  Sevran Beaudottes  IDFM:73491   \n14                     Sevran - Livry  IDFM:73439   \n15       Villeparisis - Mitry-le-Neuf  IDFM:68916   \n\n                                      arrival  direction  travelled_mean  \\\n0                             Le Blanc-Mesnil          1      100.000000   \n1                              Sevran - Livry          1      160.000000   \n2                           Sevran Beaudottes          1      160.847458   \n3   Aéroport Charles de Gaulle 2 (Terminal 2)          1      145.277778   \n4                        Parc des Expositions          1       90.338983   \n5           Aéroport CDG 1 (Terminal 3) - RER          1     1587.755102   \n6           Aéroport CDG 1 (Terminal 3) - RER          1      291.016949   \n7                                  Le Bourget          1      170.000000   \n8                   La Plaine Stade de France          1      262.222222   \n9                La Courneuve - Aubervilliers          1      110.085470   \n10                           Aulnay-sous-Bois          1      105.042735   \n11                                     Drancy          1      130.085470   \n12               Villeparisis - Mitry-le-Neuf          1      150.000000   \n13                                 Villepinte          1      110.847458   \n14                                Vert Galant          1      210.000000   \n15                              Mitry - Claye          1      240.000000   \n\n    Relation_x     API_x  Relation_y     API_y  \n0           12  87271403          11  87271478  \n1           10  87271411           9  87271429  \n2           10  87271411           5  87271445  \n3            2  87271460           1  87001479  \n4            4  87271452           3  87271486  \n5           16  87271007           2  87271460  \n6            3  87271486           2  87271460  \n7           14  87271304          13  87271395  \n8           16  87271007          15  87164798  \n9           15  87164798          14  87271304  \n10          11  87271478          10  87271411  \n11          13  87271395          12  87271403  \n12           8  87271437           7  87271510  \n13           5  87271445           4  87271452  \n14           9  87271429           8  87271437  \n15           7  87271510           6  87271528  ",
      "text/html": "<div>\n<style scoped>\n    .dataframe tbody tr th:only-of-type {\n        vertical-align: middle;\n    }\n\n    .dataframe tbody tr th {\n        vertical-align: top;\n    }\n\n    .dataframe thead th {\n        text-align: right;\n    }\n</style>\n<table border=\"1\" class=\"dataframe\">\n  <thead>\n    <tr style=\"text-align: right;\">\n      <th></th>\n      <th>origin</th>\n      <th>origin_id</th>\n      <th>arrival</th>\n      <th>direction</th>\n      <th>travelled_mean</th>\n      <th>Relation_x</th>\n      <th>API_x</th>\n      <th>Relation_y</th>\n      <th>API_y</th>\n    </tr>\n  </thead>\n  <tbody>\n    <tr>\n      <th>0</th>\n      <td>Drancy</td>\n      <td>IDFM:72652</td>\n      <td>Le Blanc-Mesnil</td>\n      <td>1</td>\n      <td>100.000000</td>\n      <td>12</td>\n      <td>87271403</td>\n      <td>11</td>\n      <td>87271478</td>\n    </tr>\n    <tr>\n      <th>1</th>\n      <td>Aulnay-sous-Bois</td>\n      <td>IDFM:72646</td>\n      <td>Sevran - Livry</td>\n      <td>1</td>\n      <td>160.000000</td>\n      <td>10</td>\n      <td>87271411</td>\n      <td>9</td>\n      <td>87271429</td>\n    </tr>\n    <tr>\n      <th>2</th>\n      <td>Aulnay-sous-Bois</td>\n      <td>IDFM:72646</td>\n      <td>Sevran Beaudottes</td>\n      <td>1</td>\n      <td>160.847458</td>\n      <td>10</td>\n      <td>87271411</td>\n      <td>5</td>\n      <td>87271445</td>\n    </tr>\n    <tr>\n      <th>3</th>\n      <td>Aéroport CDG 1 (Terminal 3) - RER</td>\n      <td>IDFM:73596</td>\n      <td>Aéroport Charles de Gaulle 2 (Terminal 2)</td>\n      <td>1</td>\n      <td>145.277778</td>\n      <td>2</td>\n      <td>87271460</td>\n      <td>1</td>\n      <td>87001479</td>\n    </tr>\n    <tr>\n      <th>4</th>\n      <td>Villepinte</td>\n      <td>IDFM:73547</td>\n      <td>Parc des Expositions</td>\n      <td>1</td>\n      <td>90.338983</td>\n      <td>4</td>\n      <td>87271452</td>\n      <td>3</td>\n      <td>87271486</td>\n    </tr>\n    <tr>\n      <th>5</th>\n      <td>Gare du Nord</td>\n      <td>IDFM:71410</td>\n      <td>Aéroport CDG 1 (Terminal 3) - RER</td>\n      <td>1</td>\n      <td>1587.755102</td>\n      <td>16</td>\n      <td>87271007</td>\n      <td>2</td>\n      <td>87271460</td>\n    </tr>\n    <tr>\n      <th>6</th>\n      <td>Parc des Expositions</td>\n      <td>IDFM:73568</td>\n      <td>Aéroport CDG 1 (Terminal 3) - RER</td>\n      <td>1</td>\n      <td>291.016949</td>\n      <td>3</td>\n      <td>87271486</td>\n      <td>2</td>\n      <td>87271460</td>\n    </tr>\n    <tr>\n      <th>7</th>\n      <td>La Courneuve - Aubervilliers</td>\n      <td>IDFM:72598</td>\n      <td>Le Bourget</td>\n      <td>1</td>\n      <td>170.000000</td>\n      <td>14</td>\n      <td>87271304</td>\n      <td>13</td>\n      <td>87271395</td>\n    </tr>\n    <tr>\n      <th>8</th>\n      <td>Gare du Nord</td>\n      <td>IDFM:71410</td>\n      <td>La Plaine Stade de France</td>\n      <td>1</td>\n      <td>262.222222</td>\n      <td>16</td>\n      <td>87271007</td>\n      <td>15</td>\n      <td>87164798</td>\n    </tr>\n    <tr>\n      <th>9</th>\n      <td>La Plaine Stade de France</td>\n      <td>IDFM:72211</td>\n      <td>La Courneuve - Aubervilliers</td>\n      <td>1</td>\n      <td>110.085470</td>\n      <td>15</td>\n      <td>87164798</td>\n      <td>14</td>\n      <td>87271304</td>\n    </tr>\n    <tr>\n      <th>10</th>\n      <td>Le Blanc-Mesnil</td>\n      <td>IDFM:72648</td>\n      <td>Aulnay-sous-Bois</td>\n      <td>1</td>\n      <td>105.042735</td>\n      <td>11</td>\n      <td>87271478</td>\n      <td>10</td>\n      <td>87271411</td>\n    </tr>\n    <tr>\n      <th>11</th>\n      <td>Le Bourget</td>\n      <td>IDFM:72641</td>\n      <td>Drancy</td>\n      <td>1</td>\n      <td>130.085470</td>\n      <td>13</td>\n      <td>87271395</td>\n      <td>12</td>\n      <td>87271403</td>\n    </tr>\n    <tr>\n      <th>12</th>\n      <td>Vert Galant</td>\n      <td>IDFM:73482</td>\n      <td>Villeparisis - Mitry-le-Neuf</td>\n      <td>1</td>\n      <td>150.000000</td>\n      <td>8</td>\n      <td>87271437</td>\n      <td>7</td>\n      <td>87271510</td>\n    </tr>\n    <tr>\n      <th>13</th>\n      <td>Sevran Beaudottes</td>\n      <td>IDFM:73491</td>\n      <td>Villepinte</td>\n      <td>1</td>\n      <td>110.847458</td>\n      <td>5</td>\n      <td>87271445</td>\n      <td>4</td>\n      <td>87271452</td>\n    </tr>\n    <tr>\n      <th>14</th>\n      <td>Sevran - Livry</td>\n      <td>IDFM:73439</td>\n      <td>Vert Galant</td>\n      <td>1</td>\n      <td>210.000000</td>\n      <td>9</td>\n      <td>87271429</td>\n      <td>8</td>\n      <td>87271437</td>\n    </tr>\n    <tr>\n      <th>15</th>\n      <td>Villeparisis - Mitry-le-Neuf</td>\n      <td>IDFM:68916</td>\n      <td>Mitry - Claye</td>\n      <td>1</td>\n      <td>240.000000</td>\n      <td>7</td>\n      <td>87271510</td>\n      <td>6</td>\n      <td>87271528</td>\n    </tr>\n  </tbody>\n</table>\n</div>"
     },
     "execution_count": 25,
     "metadata": {},
     "output_type": "execute_result"
    }
   ],
   "source": [
    "df_3"
   ],
   "metadata": {
    "collapsed": false,
    "pycharm": {
     "name": "#%%\n"
    }
   }
  },
  {
   "cell_type": "code",
   "execution_count": 29,
   "outputs": [],
   "source": [
    "df4 = df_3[df_3['API_x'].isin(names)]\n",
    "df4 = df4[df4['API_y'].isin(names)]"
   ],
   "metadata": {
    "collapsed": false,
    "pycharm": {
     "name": "#%%\n"
    }
   }
  },
  {
   "cell_type": "code",
   "execution_count": 31,
   "outputs": [
    {
     "data": {
      "text/plain": "1637.4358974358975"
     },
     "execution_count": 31,
     "metadata": {},
     "output_type": "execute_result"
    }
   ],
   "source": [
    "df4['travelled_mean'].sum()"
   ],
   "metadata": {
    "collapsed": false,
    "pycharm": {
     "name": "#%%\n"
    }
   }
  },
  {
   "cell_type": "code",
   "execution_count": null,
   "outputs": [],
   "source": [],
   "metadata": {
    "collapsed": false,
    "pycharm": {
     "name": "#%%\n"
    }
   }
  }
 ],
 "metadata": {
  "kernelspec": {
   "display_name": "Python 3",
   "language": "python",
   "name": "python3"
  },
  "language_info": {
   "codemirror_mode": {
    "name": "ipython",
    "version": 2
   },
   "file_extension": ".py",
   "mimetype": "text/x-python",
   "name": "python",
   "nbconvert_exporter": "python",
   "pygments_lexer": "ipython2",
   "version": "2.7.6"
  }
 },
 "nbformat": 4,
 "nbformat_minor": 0
}