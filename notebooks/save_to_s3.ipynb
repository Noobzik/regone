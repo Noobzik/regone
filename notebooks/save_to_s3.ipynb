{
 "cells": [
  {
   "cell_type": "code",
   "execution_count": 1,
   "metadata": {
    "collapsed": true,
    "pycharm": {
     "name": "#%%\n"
    }
   },
   "outputs": [],
   "source": [
    "import json\n",
    "import os\n",
    "import pathlib\n",
    "import boto3\n",
    "import pandas as pd\n",
    "import pendulum\n",
    "import requests\n",
    "import xmlschema\n",
    "import re\n",
    "import logging\n",
    "\n",
    "from pathlib import Path\n",
    "from airflow import AirflowException\n",
    "from botocore.exceptions import ClientError\n",
    "from airflow.decorators import dag, task\n",
    "from airflow.models import Variable\n",
    "from kafka import KafkaProducer\n",
    "from requests.exceptions import HTTPError\n"
   ]
  },
  {
   "cell_type": "code",
   "execution_count": 17,
   "outputs": [],
   "source": [
    "class Train:\n",
    "    \"\"\"\n",
    "    Cette classe définit un train conformément au schéma de l'API Transilien.\n",
    "    Elle est générique pour tout les trains de ce réseau.\n",
    "    La ligne A et B étant en double exploitation SNCF/RATP, elle hérite de cette classe\n",
    "    \"\"\"\n",
    "\n",
    "    def __init__(self, num: str, miss: str, date: str, mode: str, term: str, time_recorded: pendulum.DateTime,\n",
    "                 etat: str = \"\"):\n",
    "        self.num = num\n",
    "        self.miss = miss\n",
    "        self.date = date.replace('/', '-')\n",
    "        self.mode = mode\n",
    "        self.direction: str = \"\"\n",
    "        self.term = int(term)\n",
    "        self.time_recorded: pendulum.DateTime = time_recorded\n",
    "        self.etat = etat\n",
    "\n",
    "    def get_num(self):\n",
    "        \"\"\"\n",
    "        Retourne le numéro de la mission du train\n",
    "        \"\"\"\n",
    "        return self.num\n",
    "\n",
    "    def get_date(self):\n",
    "        \"\"\"\n",
    "        Retourne la date et l'heure du train de départ\n",
    "        \"\"\"\n",
    "        return self.date\n",
    "\n",
    "    def get_mode(self):\n",
    "        \"\"\"\n",
    "        Retourne le mode de l'horraire de départ.\n",
    "        R pour Réel\n",
    "        T pour théorique\n",
    "        \"\"\"\n",
    "        return self.mode\n",
    "\n",
    "    def get_term(self):\n",
    "        \"\"\"\n",
    "        Retourne l'identifiant du terminus du train\n",
    "        \"\"\"\n",
    "        return self.term\n",
    "\n",
    "    def get_miss(self):\n",
    "        \"\"\"\n",
    "        Retourne la mission du train\n",
    "        \"\"\"\n",
    "        return self.miss\n",
    "\n",
    "    def get_etat(self):\n",
    "        \"\"\"\n",
    "        Retourne l'état du train, s'il y existe\n",
    "        \"\"\"\n",
    "        return self.etat\n",
    "\n",
    "    def get_time_recorded(self):\n",
    "        return self.time_recorded\n",
    "\n",
    "    def get_train(self):\n",
    "        \"\"\"\n",
    "        Retourne les caractéristiques d'un train\n",
    "        \"\"\"\n",
    "        return self.time_recorded.to_datetime_string(), self.num, self.miss, self.date, self.mode, self.term, self.direction, self.etat\n",
    "\n",
    "    def to_dict(self):\n",
    "        \"\"\"\n",
    "        Convertie la class train en un dictionnaire\n",
    "        \"\"\"\n",
    "        a = [\"time_recorded\", self.time_recorded.to_datetime_string(),\n",
    "             \"num\", self.num,\n",
    "             \"miss\", self.miss,\n",
    "             \"date\", self.date,\n",
    "             \"mode\", self.mode,\n",
    "             \"term\", self.term,\n",
    "             \"direction\", self.direction,\n",
    "             \"etat\", self.etat]\n",
    "        it = iter(a)\n",
    "        return dict(zip(it, it))\n",
    "\n",
    "\n",
    "class RERB(Train):\n",
    "    \"\"\"\n",
    "    Définit un train de la Ligne B et par extension, la ligne A en raison de leur numéro de mission de type ABCD01\n",
    "    \"\"\"\n",
    "\n",
    "    def __init__(self, num: str, miss: str, date: str, mode: str, term: str, time_recorded: pendulum.DateTime,\n",
    "                 etat: str = \"\"):\n",
    "        Train.__init__(self, num, miss, date, mode, term, time_recorded, etat)\n",
    "        self.direction = int(int(self.get_num()[-2]) % 2)\n",
    "\n",
    "\n",
    "class Station:\n",
    "    def __init__(self, xml_df: dict, date: pendulum.DateTime):\n",
    "        assert (\"@gare\" in xml_df and \"train\" in xml_df)\n",
    "        size = len(xml_df['train'])\n",
    "        d: list[RERB] = []\n",
    "        _pattern = r'[A-Z]{4}[0-9]{2}'\n",
    "        if size != 0:\n",
    "            for i in xml_df['train']:\n",
    "                if re.match(_pattern, i[\"num\"]):\n",
    "                    if \"etat\" in i:\n",
    "                        t = RERB(i[\"num\"], i[\"miss\"], i[\"date\"][\"$\"], i[\"date\"][\"@mode\"], i[\"term\"], date,\n",
    "                                 i[\"etat\"])\n",
    "                    else:\n",
    "                        t = RERB(i[\"num\"], i[\"miss\"], i[\"date\"][\"$\"], i[\"date\"][\"@mode\"], i[\"term\"], date)\n",
    "                    d.append(t)\n",
    "\n",
    "        self.gare = int(xml_df[\"@gare\"])\n",
    "        self.train = d\n",
    "\n",
    "    def get_station(self):\n",
    "        \"\"\"\n",
    "        Retourne l'identifiant de la gare\n",
    "        \"\"\"\n",
    "        return self.gare\n",
    "\n",
    "    def get_train(self):\n",
    "        \"\"\"\n",
    "        Retourne la liste des trains de la stations\n",
    "        \"\"\"\n",
    "        return self.train"
   ],
   "metadata": {
    "collapsed": false,
    "pycharm": {
     "name": "#%%\n"
    }
   }
  },
  {
   "cell_type": "code",
   "execution_count": 18,
   "outputs": [],
   "source": [
    "def grab_data(gares: list[str]) -> list[str]:\n",
    "    \"\"\"\n",
    "    Grab the SNCF Transilien Opendata next departures of list 'gares' and stores into a lists of xml responses\n",
    "    \"\"\"\n",
    "    payload = {}\n",
    "    headers = {\n",
    "        'Authorization': 'Basic ' + 'dG5odG4xMjY0Olc1UXpiM2Q4'\n",
    "    }\n",
    "    url = \"https://api.transilien.com/gare/\"\n",
    "    response = []\n",
    "    for u in gares:\n",
    "        try:\n",
    "            feed = requests.request(\"GET\", url + u + '/depart/', headers=headers, data=payload)\n",
    "            feed.raise_for_status()\n",
    "        except HTTPError as http_err:\n",
    "            print(f'HTTP error occurred: {http_err}')  # Python 3.6\n",
    "            exit(0)\n",
    "        except Exception as err:\n",
    "            print(f'Other error occurred: {err}')  # Python 3.6\n",
    "            exit(0)\n",
    "        else:\n",
    "            response.append(feed.content)\n",
    "    return response\n",
    "\n",
    "def xml_to_df(list_xml: list[str], xml_schema: str) -> list[dict]:\n",
    "    \"\"\"\n",
    "    Méthode qui va prendre la liste des XML récuéré auprès de Transilien SNCF, renvoie une liste de dictionnaire.\n",
    "    Les XML sont validés par un schéma, puis converties en dictionnaire.\n",
    "    \"\"\"\n",
    "    df = []\n",
    "    schema = xmlschema.XMLSchema(xml_schema)\n",
    "    for l in list_xml:\n",
    "        df.append(xmlschema.to_dict(l, schema=schema, preserve_root=False))\n",
    "    return df\n",
    "\n",
    "def df_to_station(df_list: list[dict], date: pendulum.DateTime) -> list[Station]:\n",
    "    \"\"\"\n",
    "    Méthode qui va prendre une liste des dictionnaires pour le convertir en une liste Station.\n",
    "    Chaque Station va comporter une liste de train. Cette liste de train représente la liste des\n",
    "    prochains départs\n",
    "    \"\"\"\n",
    "    stations = []\n",
    "    for l in df_list:\n",
    "        stations.append(Station(l, date))\n",
    "    return stations\n",
    "\n",
    "def stations_to_json(stations_list: list[Station]) -> list[list[dict]]:\n",
    "    \"\"\"\n",
    "    Méthode qui va convertir chaque stations en liste de liste dictionnaire JSON\n",
    "    \"\"\"\n",
    "    json_lists = []\n",
    "    for s in stations_list:\n",
    "        train_list = []\n",
    "        for t in s.get_train():\n",
    "            train_list.append(t.to_dict())\n",
    "        json_lists.append(train_list)\n",
    "    return json_lists"
   ],
   "metadata": {
    "collapsed": false,
    "pycharm": {
     "name": "#%%\n"
    }
   }
  },
  {
   "cell_type": "code",
   "execution_count": 26,
   "outputs": [],
   "source": [
    "def save_df_upload_s3(data: list[list[dict]], gares: list[str], date: pendulum.DateTime):\n",
    "    \"\"\"\n",
    "    Méthode qui va sauvegarder les données sur un CSV en local, en préparation de upload vers S3\n",
    "    \"\"\"\n",
    "    s3 = boto3.client(\"s3\")\n",
    "    for i in range(len(data)):\n",
    "        output_dir = Path('data/processed/'\n",
    "                          + str(date.month)\n",
    "                          + '/'\n",
    "                          + str(date.day))\n",
    "        output_file = 'data-reel-' \\\n",
    "                      + gares[i] \\\n",
    "                      + '.csv'\n",
    "        path = Path(output_dir / output_file)\n",
    "        s3_path = 'data/processed/' \\\n",
    "                  + str(date.month) + '/' \\\n",
    "                  + str(date.day)\n",
    "        df = pd.DataFrame.from_records(jsons[i])\n",
    "        if path.is_file():\n",
    "            df.to_csv(path, index=False, mode='a', header=False)\n",
    "        else:\n",
    "            output_dir.mkdir(parents=True, exist_ok=True)\n",
    "            df.to_csv(path, index=False, mode='a', header=True)\n",
    "        try:\n",
    "            s3.upload_file(str(path), 'sncf-rer-b', s3_path + '/' + output_file)\n",
    "        except ClientError as e:\n",
    "            print(logging.error(e))\n",
    "            exit(-1)"
   ],
   "metadata": {
    "collapsed": false,
    "pycharm": {
     "name": "#%%\n"
    }
   }
  },
  {
   "cell_type": "code",
   "execution_count": 5,
   "outputs": [],
   "source": [
    "def save_to_s3(gares: list[str], date: pendulum.DateTime):\n",
    "    \"\"\"\n",
    "    Méthode qui va sauvegarder les données sur un bucket S3\n",
    "    \"\"\"\n",
    "\n",
    "    s3 = boto3.client(\"s3\")\n",
    "\n",
    "    for i in range(len(gares)):\n",
    "        # Bucket S3\n",
    "\n",
    "        output_dir = Path(\n",
    "            'data/processed/' + str(date.month) + '/' + str(date.day))\n",
    "        output_file = 'data-reel-' + gares[i] + '.csv'\n",
    "        path = Path(output_dir / output_file)\n",
    "        s3_path = 'data/processed/' \\\n",
    "                  + str(date.month) + '/' \\\n",
    "                  + str(date.day) + '/'\n",
    "        if path.is_file():\n",
    "            try:\n",
    "                s3.upload_file(str(path), 'sncf-rer-b', s3_path + '/' + output_file)\n",
    "            except ClientError as e:\n",
    "                print(logging.error(e))\n",
    "                exit(-1)\n",
    "\n",
    "    return True"
   ],
   "metadata": {
    "collapsed": false,
    "pycharm": {
     "name": "#%%\n"
    }
   }
  },
  {
   "cell_type": "code",
   "execution_count": 7,
   "outputs": [],
   "source": [
    "xsd = \"\"\"<?xml version=\"1.0\" encoding=\"UTF-8\"?>\n",
    "        <xsd:schema xmlns:xsd=\"http://www.w3.org/2001/XMLSchema\">\n",
    "            <xsd:element name=\"passages\">\n",
    "                <xsd:complexType mixed=\"true\">\n",
    "                    <xsd:sequence>\n",
    "                        <xsd:element name=\"train\" type=\"trainType\" minOccurs=\"0\" maxOccurs=\"unbounded\"/>\n",
    "                    </xsd:sequence>\n",
    "                    <xsd:attribute name=\"gare\" type=\"xsd:string\" use=\"required\"/>\n",
    "                </xsd:complexType>\n",
    "            </xsd:element>\n",
    "            <xsd:complexType name=\"trainType\">\n",
    "                <xsd:all>\n",
    "                    <xsd:element name=\"date\">\n",
    "                        <xsd:complexType>\n",
    "                            <xsd:simpleContent>\n",
    "                                <xsd:extension base=\"xsd:string\">\n",
    "                                    <xsd:attribute name=\"mode\" use=\"required\">\n",
    "                                        <xsd:simpleType>\n",
    "                                            <xsd:restriction base=\"xsd:string\">\n",
    "                                                <xsd:enumeration value=\"R\"/>\n",
    "                                                <xsd:enumeration value=\"T\"/>\n",
    "                                            </xsd:restriction>\n",
    "                                        </xsd:simpleType>\n",
    "                                    </xsd:attribute>\n",
    "                                </xsd:extension>\n",
    "                            </xsd:simpleContent>\n",
    "                        </xsd:complexType>\n",
    "                    </xsd:element>\n",
    "                    <xsd:element name=\"num\" maxOccurs=\"1\" type=\"xsd:string\"/>\n",
    "                    <xsd:element name=\"miss\" maxOccurs=\"1\" type=\"xsd:string\"/>\n",
    "                    <xsd:element name=\"term\" maxOccurs=\"1\" minOccurs=\"0\" type=\"xsd:string\"/>\n",
    "                    <xsd:element name=\"etat\" maxOccurs=\"1\" minOccurs=\"0\">\n",
    "                        <xsd:simpleType>\n",
    "                            <xsd:restriction base=\"xsd:string\">\n",
    "                                <xsd:enumeration value=\"Retardé\"/>\n",
    "                                <xsd:enumeration value=\"Supprimé\"/>\n",
    "                            </xsd:restriction>\n",
    "                        </xsd:simpleType>\n",
    "                    </xsd:element>\n",
    "                </xsd:all>\n",
    "            </xsd:complexType>\n",
    "        </xsd:schema>\n",
    "\"\"\""
   ],
   "metadata": {
    "collapsed": false,
    "pycharm": {
     "name": "#%%\n"
    }
   }
  },
  {
   "cell_type": "code",
   "execution_count": 19,
   "outputs": [],
   "source": [
    "gares = [\n",
    "    \"87001479\",  # Charles de Gaulles 2\n",
    "    \"87271460\",  # Charles de Gaulles 1\n",
    "    \"87271486\",  # Parc des expositions\n",
    "    \"87271452\",  # Villepinte\n",
    "    \"87271445\",  # Sevran Beaudottes\n",
    "\n",
    "    \"87271528\",  # Mitry Clay\n",
    "    \"87271510\",  # Villeparisis Mitry-le-Neuf\n",
    "    \"87271437\",  # Vert Galant\n",
    "    \"87271429\",  # Sevran Livry\n",
    "\n",
    "    \"87271411\",  # Aulnay Sous bois\n",
    "    \"87271478\",  # Le Blanc Mesnil\n",
    "    \"87271403\",  # Drancy\n",
    "    \"87271395\",  # Le Bourget\n",
    "    \"87271304\",  # La Courneuve - Aubervilliers\n",
    "    \"87164798\",  # La Plaine Stade-de-France\n",
    "    \"87271007\"  # Paris Gare-du-Nord\n",
    "]\n",
    "\n",
    "datetime_obj: pendulum.DateTime = pendulum.now(\"Europe/Paris\")\n",
    "\n",
    "data = grab_data(gares)\n",
    "xml = xml_to_df(data, xsd)\n",
    "stations = df_to_station(xml, datetime_obj)\n",
    "jsons = stations_to_json(stations)"
   ],
   "metadata": {
    "collapsed": false,
    "pycharm": {
     "name": "#%%\n"
    }
   }
  },
  {
   "cell_type": "code",
   "execution_count": 27,
   "outputs": [
    {
     "data": {
      "text/plain": "          time_recorded     num  miss              date mode      term  \\\n0   2022-06-24 10:06:43  KONI34  KONI  24-06-2022 10:08    R  87393579   \n1   2022-06-24 10:06:43  PITO32  PITO  24-06-2022 10:08    R  87758789   \n2   2022-06-24 10:06:43  ECHO13  ECHO  24-06-2022 10:14    R  87001479   \n3   2022-06-24 10:06:43  PITO38  PITO  24-06-2022 10:23    R  87758896   \n4   2022-06-24 10:06:43  EPIR15  EPIR  24-06-2022 10:28    R  87001479   \n5   2022-06-24 10:06:43  KONI40  KONI  24-06-2022 10:29    R  87393579   \n6   2022-06-24 10:06:43  ECHO19  ECHO  24-06-2022 10:37    R  87001479   \n7   2022-06-24 10:06:43  EPIR21  EPIR  24-06-2022 10:39    R  87001479   \n8   2022-06-24 10:06:43  PITO44  PITO  24-06-2022 10:44    R  87758896   \n9   2022-06-24 10:06:43  ECHO25  ECHO  24-06-2022 10:49    R  87758623   \n10  2022-06-24 10:06:43  KONI46  KONI  24-06-2022 10:50    R  87393579   \n11  2022-06-24 10:06:43  EPIR27  EPIR  24-06-2022 10:55    R  87001479   \n12  2022-06-24 10:06:43  PITO50  PITO  24-06-2022 11:05    R  87758789   \n13  2022-06-24 10:06:43  ECHO31  ECHO  24-06-2022 11:10    R  87001479   \n14  2022-06-24 10:06:43  KONI52  KONI  24-06-2022 11:11    R  87393579   \n15  2022-06-24 10:06:43  EPIR33  EPIR  24-06-2022 11:16    R  87001479   \n16  2022-06-24 10:06:43  PITO56  PITO  24-06-2022 11:26    R  87758896   \n17  2022-06-24 10:06:43  ECHO37  ECHO  24-06-2022 11:31    R  87001479   \n18  2022-06-24 10:06:43  KONI58  KONI  24-06-2022 11:32    R  87393579   \n19  2022-06-24 10:06:43  EPIR39  EPIR  24-06-2022 11:37    R  87758623   \n20  2022-06-24 10:06:43  PITO62  PITO  24-06-2022 11:47    R  87758896   \n21  2022-06-24 10:06:43  ECHO43  ECHO  24-06-2022 11:52    R  87001479   \n22  2022-06-24 10:06:43  KONI64  KONI  24-06-2022 11:53    R  87758623   \n23  2022-06-24 10:06:43  EPIR45  EPIR  24-06-2022 11:58    R  87001479   \n24  2022-06-24 10:06:43  PITO68  PITO  24-06-2022 12:08    R  87758896   \n25  2022-06-24 10:06:43  ECHO49  ECHO  24-06-2022 12:13    R  87001479   \n26  2022-06-24 10:06:43  KONI70  KONI  24-06-2022 12:14    R  87393579   \n27  2022-06-24 10:06:43  EPIR51  EPIR  24-06-2022 12:19    R  87001479   \n28  2022-06-24 10:06:43  PITO74  PITO  24-06-2022 12:29    R  87758896   \n29  2022-06-24 10:06:43  ECHO55  ECHO  24-06-2022 12:34    R  87001479   \n\n    direction      etat  \n0           1  Supprimé  \n1           1            \n2           1            \n3           1            \n4           1            \n5           0            \n6           1            \n7           0            \n8           0            \n9           0  Supprimé  \n10          0            \n11          0            \n12          1  Supprimé  \n13          1            \n14          1            \n15          1            \n16          1            \n17          1            \n18          1            \n19          1  Supprimé  \n20          0            \n21          0            \n22          0  Supprimé  \n23          0            \n24          0            \n25          0            \n26          1            \n27          1            \n28          1            \n29          1            ",
      "text/html": "<div>\n<style scoped>\n    .dataframe tbody tr th:only-of-type {\n        vertical-align: middle;\n    }\n\n    .dataframe tbody tr th {\n        vertical-align: top;\n    }\n\n    .dataframe thead th {\n        text-align: right;\n    }\n</style>\n<table border=\"1\" class=\"dataframe\">\n  <thead>\n    <tr style=\"text-align: right;\">\n      <th></th>\n      <th>time_recorded</th>\n      <th>num</th>\n      <th>miss</th>\n      <th>date</th>\n      <th>mode</th>\n      <th>term</th>\n      <th>direction</th>\n      <th>etat</th>\n    </tr>\n  </thead>\n  <tbody>\n    <tr>\n      <th>0</th>\n      <td>2022-06-24 10:06:43</td>\n      <td>KONI34</td>\n      <td>KONI</td>\n      <td>24-06-2022 10:08</td>\n      <td>R</td>\n      <td>87393579</td>\n      <td>1</td>\n      <td>Supprimé</td>\n    </tr>\n    <tr>\n      <th>1</th>\n      <td>2022-06-24 10:06:43</td>\n      <td>PITO32</td>\n      <td>PITO</td>\n      <td>24-06-2022 10:08</td>\n      <td>R</td>\n      <td>87758789</td>\n      <td>1</td>\n      <td></td>\n    </tr>\n    <tr>\n      <th>2</th>\n      <td>2022-06-24 10:06:43</td>\n      <td>ECHO13</td>\n      <td>ECHO</td>\n      <td>24-06-2022 10:14</td>\n      <td>R</td>\n      <td>87001479</td>\n      <td>1</td>\n      <td></td>\n    </tr>\n    <tr>\n      <th>3</th>\n      <td>2022-06-24 10:06:43</td>\n      <td>PITO38</td>\n      <td>PITO</td>\n      <td>24-06-2022 10:23</td>\n      <td>R</td>\n      <td>87758896</td>\n      <td>1</td>\n      <td></td>\n    </tr>\n    <tr>\n      <th>4</th>\n      <td>2022-06-24 10:06:43</td>\n      <td>EPIR15</td>\n      <td>EPIR</td>\n      <td>24-06-2022 10:28</td>\n      <td>R</td>\n      <td>87001479</td>\n      <td>1</td>\n      <td></td>\n    </tr>\n    <tr>\n      <th>5</th>\n      <td>2022-06-24 10:06:43</td>\n      <td>KONI40</td>\n      <td>KONI</td>\n      <td>24-06-2022 10:29</td>\n      <td>R</td>\n      <td>87393579</td>\n      <td>0</td>\n      <td></td>\n    </tr>\n    <tr>\n      <th>6</th>\n      <td>2022-06-24 10:06:43</td>\n      <td>ECHO19</td>\n      <td>ECHO</td>\n      <td>24-06-2022 10:37</td>\n      <td>R</td>\n      <td>87001479</td>\n      <td>1</td>\n      <td></td>\n    </tr>\n    <tr>\n      <th>7</th>\n      <td>2022-06-24 10:06:43</td>\n      <td>EPIR21</td>\n      <td>EPIR</td>\n      <td>24-06-2022 10:39</td>\n      <td>R</td>\n      <td>87001479</td>\n      <td>0</td>\n      <td></td>\n    </tr>\n    <tr>\n      <th>8</th>\n      <td>2022-06-24 10:06:43</td>\n      <td>PITO44</td>\n      <td>PITO</td>\n      <td>24-06-2022 10:44</td>\n      <td>R</td>\n      <td>87758896</td>\n      <td>0</td>\n      <td></td>\n    </tr>\n    <tr>\n      <th>9</th>\n      <td>2022-06-24 10:06:43</td>\n      <td>ECHO25</td>\n      <td>ECHO</td>\n      <td>24-06-2022 10:49</td>\n      <td>R</td>\n      <td>87758623</td>\n      <td>0</td>\n      <td>Supprimé</td>\n    </tr>\n    <tr>\n      <th>10</th>\n      <td>2022-06-24 10:06:43</td>\n      <td>KONI46</td>\n      <td>KONI</td>\n      <td>24-06-2022 10:50</td>\n      <td>R</td>\n      <td>87393579</td>\n      <td>0</td>\n      <td></td>\n    </tr>\n    <tr>\n      <th>11</th>\n      <td>2022-06-24 10:06:43</td>\n      <td>EPIR27</td>\n      <td>EPIR</td>\n      <td>24-06-2022 10:55</td>\n      <td>R</td>\n      <td>87001479</td>\n      <td>0</td>\n      <td></td>\n    </tr>\n    <tr>\n      <th>12</th>\n      <td>2022-06-24 10:06:43</td>\n      <td>PITO50</td>\n      <td>PITO</td>\n      <td>24-06-2022 11:05</td>\n      <td>R</td>\n      <td>87758789</td>\n      <td>1</td>\n      <td>Supprimé</td>\n    </tr>\n    <tr>\n      <th>13</th>\n      <td>2022-06-24 10:06:43</td>\n      <td>ECHO31</td>\n      <td>ECHO</td>\n      <td>24-06-2022 11:10</td>\n      <td>R</td>\n      <td>87001479</td>\n      <td>1</td>\n      <td></td>\n    </tr>\n    <tr>\n      <th>14</th>\n      <td>2022-06-24 10:06:43</td>\n      <td>KONI52</td>\n      <td>KONI</td>\n      <td>24-06-2022 11:11</td>\n      <td>R</td>\n      <td>87393579</td>\n      <td>1</td>\n      <td></td>\n    </tr>\n    <tr>\n      <th>15</th>\n      <td>2022-06-24 10:06:43</td>\n      <td>EPIR33</td>\n      <td>EPIR</td>\n      <td>24-06-2022 11:16</td>\n      <td>R</td>\n      <td>87001479</td>\n      <td>1</td>\n      <td></td>\n    </tr>\n    <tr>\n      <th>16</th>\n      <td>2022-06-24 10:06:43</td>\n      <td>PITO56</td>\n      <td>PITO</td>\n      <td>24-06-2022 11:26</td>\n      <td>R</td>\n      <td>87758896</td>\n      <td>1</td>\n      <td></td>\n    </tr>\n    <tr>\n      <th>17</th>\n      <td>2022-06-24 10:06:43</td>\n      <td>ECHO37</td>\n      <td>ECHO</td>\n      <td>24-06-2022 11:31</td>\n      <td>R</td>\n      <td>87001479</td>\n      <td>1</td>\n      <td></td>\n    </tr>\n    <tr>\n      <th>18</th>\n      <td>2022-06-24 10:06:43</td>\n      <td>KONI58</td>\n      <td>KONI</td>\n      <td>24-06-2022 11:32</td>\n      <td>R</td>\n      <td>87393579</td>\n      <td>1</td>\n      <td></td>\n    </tr>\n    <tr>\n      <th>19</th>\n      <td>2022-06-24 10:06:43</td>\n      <td>EPIR39</td>\n      <td>EPIR</td>\n      <td>24-06-2022 11:37</td>\n      <td>R</td>\n      <td>87758623</td>\n      <td>1</td>\n      <td>Supprimé</td>\n    </tr>\n    <tr>\n      <th>20</th>\n      <td>2022-06-24 10:06:43</td>\n      <td>PITO62</td>\n      <td>PITO</td>\n      <td>24-06-2022 11:47</td>\n      <td>R</td>\n      <td>87758896</td>\n      <td>0</td>\n      <td></td>\n    </tr>\n    <tr>\n      <th>21</th>\n      <td>2022-06-24 10:06:43</td>\n      <td>ECHO43</td>\n      <td>ECHO</td>\n      <td>24-06-2022 11:52</td>\n      <td>R</td>\n      <td>87001479</td>\n      <td>0</td>\n      <td></td>\n    </tr>\n    <tr>\n      <th>22</th>\n      <td>2022-06-24 10:06:43</td>\n      <td>KONI64</td>\n      <td>KONI</td>\n      <td>24-06-2022 11:53</td>\n      <td>R</td>\n      <td>87758623</td>\n      <td>0</td>\n      <td>Supprimé</td>\n    </tr>\n    <tr>\n      <th>23</th>\n      <td>2022-06-24 10:06:43</td>\n      <td>EPIR45</td>\n      <td>EPIR</td>\n      <td>24-06-2022 11:58</td>\n      <td>R</td>\n      <td>87001479</td>\n      <td>0</td>\n      <td></td>\n    </tr>\n    <tr>\n      <th>24</th>\n      <td>2022-06-24 10:06:43</td>\n      <td>PITO68</td>\n      <td>PITO</td>\n      <td>24-06-2022 12:08</td>\n      <td>R</td>\n      <td>87758896</td>\n      <td>0</td>\n      <td></td>\n    </tr>\n    <tr>\n      <th>25</th>\n      <td>2022-06-24 10:06:43</td>\n      <td>ECHO49</td>\n      <td>ECHO</td>\n      <td>24-06-2022 12:13</td>\n      <td>R</td>\n      <td>87001479</td>\n      <td>0</td>\n      <td></td>\n    </tr>\n    <tr>\n      <th>26</th>\n      <td>2022-06-24 10:06:43</td>\n      <td>KONI70</td>\n      <td>KONI</td>\n      <td>24-06-2022 12:14</td>\n      <td>R</td>\n      <td>87393579</td>\n      <td>1</td>\n      <td></td>\n    </tr>\n    <tr>\n      <th>27</th>\n      <td>2022-06-24 10:06:43</td>\n      <td>EPIR51</td>\n      <td>EPIR</td>\n      <td>24-06-2022 12:19</td>\n      <td>R</td>\n      <td>87001479</td>\n      <td>1</td>\n      <td></td>\n    </tr>\n    <tr>\n      <th>28</th>\n      <td>2022-06-24 10:06:43</td>\n      <td>PITO74</td>\n      <td>PITO</td>\n      <td>24-06-2022 12:29</td>\n      <td>R</td>\n      <td>87758896</td>\n      <td>1</td>\n      <td></td>\n    </tr>\n    <tr>\n      <th>29</th>\n      <td>2022-06-24 10:06:43</td>\n      <td>ECHO55</td>\n      <td>ECHO</td>\n      <td>24-06-2022 12:34</td>\n      <td>R</td>\n      <td>87001479</td>\n      <td>1</td>\n      <td></td>\n    </tr>\n  </tbody>\n</table>\n</div>"
     },
     "execution_count": 27,
     "metadata": {},
     "output_type": "execute_result"
    }
   ],
   "source": [
    "pd.DataFrame.from_records(jsons[1])"
   ],
   "metadata": {
    "collapsed": false,
    "pycharm": {
     "name": "#%%\n"
    }
   }
  },
  {
   "cell_type": "code",
   "execution_count": 28,
   "outputs": [],
   "source": [
    "save_df_upload_s3(jsons, gares, datetime_obj)"
   ],
   "metadata": {
    "collapsed": false,
    "pycharm": {
     "name": "#%%\n"
    }
   }
  },
  {
   "cell_type": "code",
   "execution_count": null,
   "outputs": [],
   "source": [],
   "metadata": {
    "collapsed": false,
    "pycharm": {
     "name": "#%%\n"
    }
   }
  }
 ],
 "metadata": {
  "kernelspec": {
   "display_name": "Python 3",
   "language": "python",
   "name": "python3"
  },
  "language_info": {
   "codemirror_mode": {
    "name": "ipython",
    "version": 2
   },
   "file_extension": ".py",
   "mimetype": "text/x-python",
   "name": "python",
   "nbconvert_exporter": "python",
   "pygments_lexer": "ipython2",
   "version": "2.7.6"
  }
 },
 "nbformat": 4,
 "nbformat_minor": 0
}