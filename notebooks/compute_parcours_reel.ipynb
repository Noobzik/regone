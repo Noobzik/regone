{
 "cells": [
  {
   "cell_type": "markdown",
   "source": [
    "Ce notebook de travail est utilisé pour concevoir le temps de parcours réel en utilisant les données du topic Kafka, faire une anti-jointure, et le rebalancer dans une nouvelle topic kafka."
   ],
   "metadata": {
    "collapsed": false,
    "pycharm": {
     "name": "#%% md\n"
    }
   }
  },
  {
   "cell_type": "code",
   "execution_count": 5,
   "outputs": [],
   "source": [
    "from kafka import KafkaConsumer, TopicPartition\n",
    "from kafka.consumer.fetcher import log\n",
    "import json\n",
    "\n",
    "\n",
    "def get_end_offsets(consumer, topic) -> dict:\n",
    "    partitions_for_topic = consumer.partitions_for_topic(topic)\n",
    "    if partitions_for_topic:\n",
    "        partitions = []\n",
    "        for partition in consumer.partitions_for_topic(topic):\n",
    "            partitions.append(TopicPartition(topic, partition))\n",
    "        # https://kafka-python.readthedocs.io/en/master/apidoc/KafkaConsumer.html#kafka.KafkaConsumer.end_offsets\n",
    "        # Get the last offset for the given partitions. The last offset of a partition is the offset of the upcoming message, i.e. the offset of the last available message + 1.\n",
    "        end_offsets = consumer.end_offsets(partitions)\n",
    "        return end_offsets"
   ],
   "metadata": {
    "collapsed": false,
    "pycharm": {
     "name": "#%%\n"
    }
   }
  },
  {
   "cell_type": "code",
   "execution_count": 13,
   "metadata": {
    "collapsed": true,
    "pycharm": {
     "name": "#%%\n"
    }
   },
   "outputs": [],
   "source": [
    "def grab_topic_gare(gare: str = \"87271460\", num : int = 2):\n",
    "    last_n_msg = num\n",
    "    # kafka_server = \"35.180.29.24:9092\"\n",
    "    kafka_server = \"13.37.146.224:9092\"\n",
    "    # consumer\n",
    "    consumer = KafkaConsumer(\n",
    "        bootstrap_servers=kafka_server,\n",
    "        consumer_timeout_ms=10000)\n",
    "    end_offsets = get_end_offsets(consumer, 'rer-b-'+gare)\n",
    "    consumer.assign([*end_offsets])\n",
    "    for key_partition, value_end_offset in end_offsets.items():\n",
    "        new_calculated_offset = value_end_offset - last_n_msg\n",
    "        new_offset = new_calculated_offset if new_calculated_offset >= 0 else 0\n",
    "        consumer.seek(key_partition, new_offset)\n",
    "\n",
    "    for msg in consumer:\n",
    "        return msg"
   ]
  },
  {
   "cell_type": "code",
   "execution_count": 14,
   "outputs": [],
   "source": [
    "def forgiving_json_deserializer(v):\n",
    "    if v is None:\n",
    "        try:\n",
    "            return json.loads(v.encode('utf-8'))\n",
    "        except json.decoder.JSONDecodeError:\n",
    "            log.exception('Unable to decode: %s', v)\n",
    "        return None"
   ],
   "metadata": {
    "collapsed": false,
    "pycharm": {
     "name": "#%%\n"
    }
   }
  },
  {
   "cell_type": "code",
   "execution_count": 80,
   "outputs": [],
   "source": [
    "content_1 = grab_topic_gare(\"87271411\", 1)\n",
    "content_2 = grab_topic_gare(\"87271411\", 2)"
   ],
   "metadata": {
    "collapsed": false,
    "pycharm": {
     "name": "#%%\n"
    }
   }
  },
  {
   "cell_type": "code",
   "execution_count": 81,
   "outputs": [],
   "source": [
    "import pyspark\n",
    "from pyspark.sql import *"
   ],
   "metadata": {
    "collapsed": false,
    "pycharm": {
     "name": "#%%\n"
    }
   }
  },
  {
   "cell_type": "code",
   "execution_count": 82,
   "outputs": [
    {
     "name": "stdout",
     "output_type": "stream",
     "text": [
      "22/06/25 18:24:10 WARN SparkSession: Using an existing Spark session; only runtime SQL configurations will take effect.\n"
     ]
    }
   ],
   "source": [
    "from pyspark.shell import sc\n",
    "\n",
    "spark = SparkSession.builder\\\n",
    "    .appName(\"StructuredNetworkWordCount\")\\\n",
    "    .getOrCreate()\n",
    "df_previous = spark.read.json(sc.parallelize([json.loads(content_1[6])]))\n",
    "df_latest = spark.read.json(sc.parallelize([json.loads(content_2[6])]))"
   ],
   "metadata": {
    "collapsed": false,
    "pycharm": {
     "name": "#%%\n"
    }
   }
  },
  {
   "cell_type": "code",
   "execution_count": 83,
   "outputs": [
    {
     "name": "stdout",
     "output_type": "stream",
     "text": [
      "+----------------+---------+----+----+----+------+--------+-------------------+\n",
      "|            date|direction|etat|miss|mode|   num|    term|      time_recorded|\n",
      "+----------------+---------+----+----+----+------+--------+-------------------+\n",
      "|25/06/2022 18:25|        0|    |SOTE|   R|SOTE28|87758722|2022-06-25 18:23:01|\n",
      "|25/06/2022 18:31|        1|    |PITA|   R|PITA30|87758896|2022-06-25 18:23:01|\n",
      "|25/06/2022 18:35|        0|    |ILAR|   R|ILAR07|87271528|2022-06-25 18:23:01|\n",
      "|25/06/2022 18:38|        1|    |EPOU|   R|EPOU11|87001479|2022-06-25 18:23:01|\n",
      "|25/06/2022 18:40|        1|    |SOTE|   R|SOTE34|87758722|2022-06-25 18:23:01|\n",
      "|25/06/2022 18:42|        1|    |ILAR|   R|ILAR13|87271528|2022-06-25 18:23:01|\n",
      "|25/06/2022 18:46|        1|    |PITA|   R|PITA36|87758896|2022-06-25 18:23:01|\n",
      "|25/06/2022 18:51|        1|    |EPOU|   R|EPOU17|87001479|2022-06-25 18:23:01|\n",
      "|25/06/2022 18:55|        0|    |SOTE|   R|SOTE40|87758722|2022-06-25 18:23:01|\n",
      "|25/06/2022 18:56|        1|    |ILAR|   R|ILAR19|87271528|2022-06-25 18:23:01|\n",
      "|25/06/2022 19:01|        0|    |PITA|   R|PITA42|87758896|2022-06-25 18:23:01|\n",
      "|25/06/2022 19:03|        0|    |EPOU|   R|EPOU23|87001479|2022-06-25 18:23:01|\n",
      "|25/06/2022 19:09|        0|    |ILAR|   R|ILAR25|87271528|2022-06-25 18:23:01|\n",
      "|25/06/2022 19:10|        0|    |SOTE|   R|SOTE46|87758722|2022-06-25 18:23:01|\n",
      "|25/06/2022 19:16|        0|    |PITA|   R|PITA48|87758896|2022-06-25 18:23:01|\n",
      "|25/06/2022 19:18|        0|    |EPOU|   R|EPOU29|87001479|2022-06-25 18:23:01|\n",
      "|25/06/2022 19:24|        1|    |ILAR|   R|ILAR31|87271528|2022-06-25 18:23:01|\n",
      "|25/06/2022 19:25|        1|    |SOTE|   R|SOTE52|87758722|2022-06-25 18:23:01|\n",
      "|25/06/2022 19:31|        1|    |PITA|   R|PITA54|87758896|2022-06-25 18:23:01|\n",
      "|25/06/2022 19:33|        1|    |EPOU|   R|EPOU35|87001479|2022-06-25 18:23:01|\n",
      "+----------------+---------+----+----+----+------+--------+-------------------+\n",
      "\n"
     ]
    }
   ],
   "source": [
    "df_latest.show()"
   ],
   "metadata": {
    "collapsed": false,
    "pycharm": {
     "name": "#%%\n"
    }
   }
  },
  {
   "cell_type": "code",
   "execution_count": 84,
   "outputs": [
    {
     "name": "stdout",
     "output_type": "stream",
     "text": [
      "+----------------+---------+----+----+----+------+--------+-------------------+\n",
      "|            date|direction|etat|miss|mode|   num|    term|      time_recorded|\n",
      "+----------------+---------+----+----+----+------+--------+-------------------+\n",
      "|25/06/2022 18:31|        1|    |PITA|   R|PITA30|87758896|2022-06-25 18:24:01|\n",
      "|25/06/2022 18:35|        0|    |ILAR|   R|ILAR07|87271528|2022-06-25 18:24:01|\n",
      "|25/06/2022 18:38|        1|    |EPOU|   R|EPOU11|87001479|2022-06-25 18:24:01|\n",
      "|25/06/2022 18:40|        1|    |SOTE|   R|SOTE34|87758722|2022-06-25 18:24:01|\n",
      "|25/06/2022 18:42|        1|    |ILAR|   R|ILAR13|87271528|2022-06-25 18:24:01|\n",
      "|25/06/2022 18:46|        1|    |PITA|   R|PITA36|87758896|2022-06-25 18:24:01|\n",
      "|25/06/2022 18:51|        1|    |EPOU|   R|EPOU17|87001479|2022-06-25 18:24:01|\n",
      "|25/06/2022 18:55|        0|    |SOTE|   R|SOTE40|87758722|2022-06-25 18:24:01|\n",
      "|25/06/2022 18:56|        1|    |ILAR|   R|ILAR19|87271528|2022-06-25 18:24:01|\n",
      "|25/06/2022 19:01|        0|    |PITA|   R|PITA42|87758896|2022-06-25 18:24:01|\n",
      "|25/06/2022 19:03|        0|    |EPOU|   R|EPOU23|87001479|2022-06-25 18:24:01|\n",
      "|25/06/2022 19:09|        0|    |ILAR|   R|ILAR25|87271528|2022-06-25 18:24:01|\n",
      "|25/06/2022 19:10|        0|    |SOTE|   R|SOTE46|87758722|2022-06-25 18:24:01|\n",
      "|25/06/2022 19:16|        0|    |PITA|   R|PITA48|87758896|2022-06-25 18:24:01|\n",
      "|25/06/2022 19:18|        0|    |EPOU|   R|EPOU29|87001479|2022-06-25 18:24:01|\n",
      "|25/06/2022 19:24|        1|    |ILAR|   R|ILAR31|87271528|2022-06-25 18:24:01|\n",
      "|25/06/2022 19:25|        1|    |SOTE|   R|SOTE52|87758722|2022-06-25 18:24:01|\n",
      "|25/06/2022 19:31|        1|    |PITA|   R|PITA54|87758896|2022-06-25 18:24:01|\n",
      "|25/06/2022 19:33|        1|    |EPOU|   R|EPOU35|87001479|2022-06-25 18:24:01|\n",
      "|25/06/2022 19:39|        1|    |ILAR|   R|ILAR37|87271528|2022-06-25 18:24:01|\n",
      "+----------------+---------+----+----+----+------+--------+-------------------+\n",
      "\n"
     ]
    }
   ],
   "source": [
    "df_previous.show()"
   ],
   "metadata": {
    "collapsed": false,
    "pycharm": {
     "name": "#%%\n"
    }
   }
  },
  {
   "cell_type": "code",
   "execution_count": 86,
   "outputs": [],
   "source": [
    "df_final = df_latest.join(df_previous, df_latest.num == df_previous.num, 'left_anti')"
   ],
   "metadata": {
    "collapsed": false,
    "pycharm": {
     "name": "#%%\n"
    }
   }
  },
  {
   "cell_type": "code",
   "execution_count": 87,
   "outputs": [
    {
     "name": "stdout",
     "output_type": "stream",
     "text": [
      "+----------------+---------+----+----+----+------+--------+-------------------+\n",
      "|            date|direction|etat|miss|mode|   num|    term|      time_recorded|\n",
      "+----------------+---------+----+----+----+------+--------+-------------------+\n",
      "|25/06/2022 18:25|        0|    |SOTE|   R|SOTE28|87758722|2022-06-25 18:23:01|\n",
      "+----------------+---------+----+----+----+------+--------+-------------------+\n",
      "\n"
     ]
    }
   ],
   "source": [
    "df_final.show()"
   ],
   "metadata": {
    "collapsed": false,
    "pycharm": {
     "name": "#%%\n"
    }
   }
  },
  {
   "cell_type": "code",
   "execution_count": 98,
   "outputs": [
    {
     "name": "stdout",
     "output_type": "stream",
     "text": [
      "+----------------+---------+----+----+----+------+--------+-------------------+-------------------+\n",
      "|            date|direction|etat|miss|mode|   num|    term|      time_recorded|       time_arrived|\n",
      "+----------------+---------+----+----+----+------+--------+-------------------+-------------------+\n",
      "|25/06/2022 18:25|        0|    |SOTE|   R|SOTE28|87758722|2022-06-25 18:23:01|2022-06-25 18:24:01|\n",
      "+----------------+---------+----+----+----+------+--------+-------------------+-------------------+\n",
      "\n"
     ]
    }
   ],
   "source": [
    "from pyspark.sql.functions import lit\n",
    "\n",
    "df_final.withColumn(\"time_arrived\", lit(df_previous.collect()[0][-1])).show()"
   ],
   "metadata": {
    "collapsed": false,
    "pycharm": {
     "name": "#%%\n"
    }
   }
  },
  {
   "cell_type": "code",
   "execution_count": null,
   "outputs": [],
   "source": [],
   "metadata": {
    "collapsed": false,
    "pycharm": {
     "name": "#%%\n"
    }
   }
  }
 ],
 "metadata": {
  "kernelspec": {
   "display_name": "Python 3",
   "language": "python",
   "name": "python3"
  },
  "language_info": {
   "codemirror_mode": {
    "name": "ipython",
    "version": 2
   },
   "file_extension": ".py",
   "mimetype": "text/x-python",
   "name": "python",
   "nbconvert_exporter": "python",
   "pygments_lexer": "ipython2",
   "version": "2.7.6"
  }
 },
 "nbformat": 4,
 "nbformat_minor": 0
}