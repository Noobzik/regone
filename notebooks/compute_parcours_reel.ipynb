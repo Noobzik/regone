{
 "cells": [
  {
   "cell_type": "markdown",
   "source": [
    "Ce notebook de travail est utilisé pour concevoir le temps de parcours réel en utilisant les données du topic Kafka, faire une anti-jointure, et le rebalancer dans une nouvelle topic kafka."
   ],
   "metadata": {
    "collapsed": false,
    "pycharm": {
     "name": "#%% md\n"
    }
   }
  },
  {
   "cell_type": "code",
   "execution_count": 1,
   "outputs": [],
   "source": [
    "from kafka import KafkaConsumer, TopicPartition\n",
    "from kafka.consumer.fetcher import log\n",
    "import json\n",
    "import os\n",
    "# os.environ['PYSPARK_SUBMIT_ARGS'] = '--packages org.apache.spark:spark-sql-kafka-0-10_2.12:3.2.1,org.apache.kafka:kafka-clients:3.2.0'\n",
    "\n",
    "def get_end_offsets(consumer, topic) -> dict:\n",
    "    partitions_for_topic = consumer.partitions_for_topic(topic)\n",
    "    if partitions_for_topic:\n",
    "        partitions = []\n",
    "        for partition in consumer.partitions_for_topic(topic):\n",
    "            partitions.append(TopicPartition(topic, partition))\n",
    "        # https://kafka-python.readthedocs.io/en/master/apidoc/KafkaConsumer.html#kafka.KafkaConsumer.end_offsets\n",
    "        # Get the last offset for the given partitions. The last offset of a partition is the offset of the upcoming message, i.e. the offset of the last available message + 1.\n",
    "        end_offsets = consumer.end_offsets(partitions)\n",
    "        return end_offsets"
   ],
   "metadata": {
    "collapsed": false,
    "pycharm": {
     "name": "#%%\n"
    }
   }
  },
  {
   "cell_type": "code",
   "execution_count": 2,
   "metadata": {
    "collapsed": true,
    "pycharm": {
     "name": "#%%\n"
    }
   },
   "outputs": [],
   "source": [
    "def grab_topic_gare(gare: str = \"87271460\", num : int = 2):\n",
    "    last_n_msg = num\n",
    "    # kafka_server = \"35.180.29.24:9092\"\n",
    "    kafka_server = \"13.37.146.224:9092\"\n",
    "    # consumer\n",
    "    consumer = KafkaConsumer(\n",
    "        bootstrap_servers=kafka_server,\n",
    "        consumer_timeout_ms=10000)\n",
    "    end_offsets = get_end_offsets(consumer, 'rer-b-'+gare)\n",
    "    consumer.assign([*end_offsets])\n",
    "    for key_partition, value_end_offset in end_offsets.items():\n",
    "        new_calculated_offset = value_end_offset - last_n_msg\n",
    "        new_offset = new_calculated_offset if new_calculated_offset >= 0 else 0\n",
    "        consumer.seek(key_partition, new_offset)\n",
    "\n",
    "    for msg in consumer:\n",
    "        return msg"
   ]
  },
  {
   "cell_type": "code",
   "execution_count": 3,
   "outputs": [],
   "source": [
    "def forgiving_json_deserializer(v):\n",
    "    if v is None:\n",
    "        try:\n",
    "            return json.loads(v.encode('utf-8'))\n",
    "        except json.decoder.JSONDecodeError:\n",
    "            log.exception('Unable to decode: %s', v)\n",
    "        return None"
   ],
   "metadata": {
    "collapsed": false,
    "pycharm": {
     "name": "#%%\n"
    }
   }
  },
  {
   "cell_type": "code",
   "execution_count": 4,
   "outputs": [],
   "source": [
    "content_1 = grab_topic_gare(\"87271411\", 1)\n",
    "content_2 = grab_topic_gare(\"87271411\", 2)"
   ],
   "metadata": {
    "collapsed": false,
    "pycharm": {
     "name": "#%%\n"
    }
   }
  },
  {
   "cell_type": "code",
   "execution_count": 5,
   "outputs": [],
   "source": [
    "import pyspark\n",
    "from pyspark.sql import *"
   ],
   "metadata": {
    "collapsed": false,
    "pycharm": {
     "name": "#%%\n"
    }
   }
  },
  {
   "cell_type": "code",
   "execution_count": 6,
   "outputs": [
    {
     "name": "stdout",
     "output_type": "stream",
     "text": [
      "22/06/27 19:29:17 WARN Utils: Your hostname, Rakibs-MacBook-Pro.local resolves to a loopback address: 127.0.0.1; using 10.0.0.9 instead (on interface en0)\n",
      "22/06/27 19:29:17 WARN Utils: Set SPARK_LOCAL_IP if you need to bind to another address\n"
     ]
    },
    {
     "name": "stderr",
     "output_type": "stream",
     "text": [
      "Setting default log level to \"WARN\".\n",
      "To adjust logging level use sc.setLogLevel(newLevel). For SparkR, use setLogLevel(newLevel).\n"
     ]
    },
    {
     "name": "stdout",
     "output_type": "stream",
     "text": [
      "22/06/27 19:29:18 WARN NativeCodeLoader: Unable to load native-hadoop library for your platform... using builtin-java classes where applicable\n",
      "Welcome to\n",
      "      ____              __\n",
      "     / __/__  ___ _____/ /__\n",
      "    _\\ \\/ _ \\/ _ `/ __/  '_/\n",
      "   /__ / .__/\\_,_/_/ /_/\\_\\   version 3.3.0\n",
      "      /_/\n",
      "\n",
      "Using Python version 3.10.4 (main, Mar 24 2022 17:42:03)\n",
      "Spark context Web UI available at http://10.0.0.9:4040\n",
      "Spark context available as 'sc' (master = local[*], app id = local-1656350958802).\n",
      "SparkSession available as 'spark'.\n",
      "22/06/27 19:29:19 WARN SparkSession: Using an existing Spark session; only runtime SQL configurations will take effect.\n"
     ]
    }
   ],
   "source": [
    "from pyspark.shell import sc\n",
    "\n",
    "spark = SparkSession.builder\\\n",
    "    .appName(\"StructuredNetworkWordCount\") \\\n",
    "    .getOrCreate()\n"
   ],
   "metadata": {
    "collapsed": false,
    "pycharm": {
     "name": "#%%\n"
    }
   }
  },
  {
   "cell_type": "code",
   "execution_count": 7,
   "outputs": [
    {
     "name": "stderr",
     "output_type": "stream",
     "text": [
      "                                                                                \r"
     ]
    }
   ],
   "source": [
    "df_previous = spark.read.json(sc.parallelize([json.loads(content_1[6])]))\n",
    "df_latest = spark.read.json(sc.parallelize([json.loads(content_2[6])]))"
   ],
   "metadata": {
    "collapsed": false,
    "pycharm": {
     "name": "#%%\n"
    }
   }
  },
  {
   "cell_type": "code",
   "execution_count": 8,
   "outputs": [
    {
     "name": "stdout",
     "output_type": "stream",
     "text": [
      "+----------------+---------+--------+----+----+------+--------+-------------------+\n",
      "|            date|direction|    etat|miss|mode|   num|    term|      time_recorded|\n",
      "+----------------+---------+--------+----+----+------+--------+-------------------+\n",
      "|27/06/2022 19:28|        0|        |LOVE|   R|LOVE44|87758847|2022-06-27 19:28:01|\n",
      "|27/06/2022 19:29|        0|        |IRMA|   R|IRMA09|87271528|2022-06-27 19:28:01|\n",
      "|27/06/2022 19:31|        1|        |EMUE|   R|EMUE11|87001479|2022-06-27 19:28:01|\n",
      "|27/06/2022 19:34|        1|        |IJEL|   R|IJEL13|87271528|2022-06-27 19:28:01|\n",
      "|27/06/2022 19:34|        0|        |STOP|   R|STOP48|87758722|2022-06-27 19:28:01|\n",
      "|27/06/2022 19:37|        1|        |PPIT|   R|PPIT50|87758896|2022-06-27 19:28:01|\n",
      "|27/06/2022 19:41|        1|        |PUMA|   R|PUMA52|87758896|2022-06-27 19:28:01|\n",
      "|27/06/2022 19:43|        1|        |IRMA|   R|IRMA17|87271528|2022-06-27 19:28:01|\n",
      "|27/06/2022 19:46|        1|        |STOP|   R|STOP54|87758722|2022-06-27 19:28:01|\n",
      "|27/06/2022 19:49|        1|        |KFON|   R|KFON56|87393579|2022-06-27 19:28:01|\n",
      "|27/06/2022 19:53|        1|        |EMUE|   R|EMUE19|87001479|2022-06-27 19:28:01|\n",
      "|27/06/2022 19:53|        0|        |IJEL|   R|IJEL21|87271528|2022-06-27 19:28:01|\n",
      "|27/06/2022 19:55|        1|        |STOP|   R|STOP58|87758722|2022-06-27 19:28:01|\n",
      "|27/06/2022 19:56|        0|        |ELEC|   R|ELEC23|87001479|2022-06-27 19:28:01|\n",
      "|27/06/2022 19:56|        0|        |IRMA|   R|IRMA25|87271528|2022-06-27 19:28:01|\n",
      "|27/06/2022 19:59|        0|        |EMUE|   R|EMUE27|87001479|2022-06-27 19:28:01|\n",
      "|27/06/2022 19:59|        0|        |IJEL|   R|IJEL29|87271528|2022-06-27 19:28:01|\n",
      "|27/06/2022 20:01|        1|        |ELEC|   R|ELEC31|87001479|2022-06-27 19:28:01|\n",
      "|27/06/2022 20:01|        0|        |PLAC|   R|PLAC60|87758896|2022-06-27 19:28:01|\n",
      "|27/06/2022 20:03|        1|Supprimé|IRMA|   R|IRMA33|87758623|2022-06-27 19:28:01|\n",
      "+----------------+---------+--------+----+----+------+--------+-------------------+\n",
      "only showing top 20 rows\n",
      "\n"
     ]
    }
   ],
   "source": [
    "df_latest.show()"
   ],
   "metadata": {
    "collapsed": false,
    "pycharm": {
     "name": "#%%\n"
    }
   }
  },
  {
   "cell_type": "code",
   "execution_count": 9,
   "outputs": [
    {
     "name": "stdout",
     "output_type": "stream",
     "text": [
      "+----------------+---------+--------+----+----+------+--------+-------------------+\n",
      "|            date|direction|    etat|miss|mode|   num|    term|      time_recorded|\n",
      "+----------------+---------+--------+----+----+------+--------+-------------------+\n",
      "|27/06/2022 19:31|        1|        |EMUE|   R|EMUE11|87001479|2022-06-27 19:29:02|\n",
      "|27/06/2022 19:34|        0|        |STOP|   R|STOP48|87758722|2022-06-27 19:29:02|\n",
      "|27/06/2022 19:35|        1|        |IJEL|   R|IJEL13|87271528|2022-06-27 19:29:02|\n",
      "|27/06/2022 19:37|        1|        |PPIT|   R|PPIT50|87758896|2022-06-27 19:29:02|\n",
      "|27/06/2022 19:40|        1|        |PUMA|   R|PUMA52|87758896|2022-06-27 19:29:02|\n",
      "|27/06/2022 19:43|        1|        |IRMA|   R|IRMA17|87271528|2022-06-27 19:29:02|\n",
      "|27/06/2022 19:46|        1|        |STOP|   R|STOP54|87758722|2022-06-27 19:29:02|\n",
      "|27/06/2022 19:49|        1|        |KFON|   R|KFON56|87393579|2022-06-27 19:29:02|\n",
      "|27/06/2022 19:53|        1|        |EMUE|   R|EMUE19|87001479|2022-06-27 19:29:02|\n",
      "|27/06/2022 19:53|        0|        |IJEL|   R|IJEL21|87271528|2022-06-27 19:29:02|\n",
      "|27/06/2022 19:54|        0|        |ELEC|   R|ELEC23|87001479|2022-06-27 19:29:02|\n",
      "|27/06/2022 19:55|        1|        |STOP|   R|STOP58|87758722|2022-06-27 19:29:02|\n",
      "|27/06/2022 19:56|        0|        |IRMA|   R|IRMA25|87271528|2022-06-27 19:29:02|\n",
      "|27/06/2022 19:59|        0|        |EMUE|   R|EMUE27|87001479|2022-06-27 19:29:02|\n",
      "|27/06/2022 20:01|        1|        |ELEC|   R|ELEC31|87001479|2022-06-27 19:29:02|\n",
      "|27/06/2022 20:01|        0|        |PLAC|   R|PLAC60|87758896|2022-06-27 19:29:02|\n",
      "|27/06/2022 20:02|        0|        |IJEL|   R|IJEL29|87271528|2022-06-27 19:29:02|\n",
      "|27/06/2022 20:03|        1|Supprimé|IRMA|   R|IRMA33|87758623|2022-06-27 19:29:02|\n",
      "|27/06/2022 20:04|        0|        |KOCQ|   R|KOCQ62|87393579|2022-06-27 19:29:02|\n",
      "|27/06/2022 20:06|        1|        |EMUE|   R|EMUE35|87001479|2022-06-27 19:29:02|\n",
      "+----------------+---------+--------+----+----+------+--------+-------------------+\n",
      "only showing top 20 rows\n",
      "\n"
     ]
    }
   ],
   "source": [
    "df_previous.show()"
   ],
   "metadata": {
    "collapsed": false,
    "pycharm": {
     "name": "#%%\n"
    }
   }
  },
  {
   "cell_type": "code",
   "execution_count": 10,
   "outputs": [],
   "source": [
    "df_final = df_latest.join(df_previous, df_latest.num == df_previous.num, 'left_anti')"
   ],
   "metadata": {
    "collapsed": false,
    "pycharm": {
     "name": "#%%\n"
    }
   }
  },
  {
   "cell_type": "code",
   "execution_count": 11,
   "outputs": [
    {
     "name": "stdout",
     "output_type": "stream",
     "text": [
      "+----------------+---------+----+----+----+------+--------+-------------------+\n",
      "|            date|direction|etat|miss|mode|   num|    term|      time_recorded|\n",
      "+----------------+---------+----+----+----+------+--------+-------------------+\n",
      "|27/06/2022 19:29|        0|    |IRMA|   R|IRMA09|87271528|2022-06-27 19:28:01|\n",
      "|27/06/2022 19:28|        0|    |LOVE|   R|LOVE44|87758847|2022-06-27 19:28:01|\n",
      "+----------------+---------+----+----+----+------+--------+-------------------+\n",
      "\n"
     ]
    }
   ],
   "source": [
    "df_final.show()"
   ],
   "metadata": {
    "collapsed": false,
    "pycharm": {
     "name": "#%%\n"
    }
   }
  },
  {
   "cell_type": "code",
   "execution_count": 12,
   "outputs": [
    {
     "name": "stdout",
     "output_type": "stream",
     "text": [
      "+----------------+---------+----+----+----+------+--------+-------------------+\n",
      "|            date|direction|etat|miss|mode|   num|    term|      time_recorded|\n",
      "+----------------+---------+----+----+----+------+--------+-------------------+\n",
      "|27/06/2022 19:29|        0|    |IRMA|   R|IRMA09|87271528|2022-06-27 19:28:01|\n",
      "|27/06/2022 19:28|        0|    |LOVE|   R|LOVE44|87758847|2022-06-27 19:28:01|\n",
      "+----------------+---------+----+----+----+------+--------+-------------------+\n",
      "\n"
     ]
    }
   ],
   "source": [
    "from pyspark.sql.functions import lit\n",
    "\n",
    "df_final.show()"
   ],
   "metadata": {
    "collapsed": false,
    "pycharm": {
     "name": "#%%\n"
    }
   }
  },
  {
   "cell_type": "code",
   "execution_count": 13,
   "outputs": [],
   "source": [
    "df_final = df_final\\\n",
    "    .withColumn(\"gare\", lit(87271411)) \\\n",
    "    .withColumn(\"time_arrived\", lit(df_previous.collect()[0][-1]))"
   ],
   "metadata": {
    "collapsed": false,
    "pycharm": {
     "name": "#%%\n"
    }
   }
  },
  {
   "cell_type": "code",
   "execution_count": 19,
   "outputs": [
    {
     "name": "stderr",
     "output_type": "stream",
     "text": [
      "                                                                                \r"
     ]
    }
   ],
   "source": [
    "pandas_df = df_final.select(\"gare\", \"date\", \"mode\", \"num\", \"miss\", \"direction\", \"term\", \"time_recorded\", \"time_arrived\", \"etat\").toPandas()"
   ],
   "metadata": {
    "collapsed": false,
    "pycharm": {
     "name": "#%%\n"
    }
   }
  },
  {
   "cell_type": "code",
   "execution_count": null,
   "outputs": [],
   "source": [],
   "metadata": {
    "collapsed": false,
    "pycharm": {
     "name": "#%%\n"
    }
   }
  },
  {
   "cell_type": "code",
   "execution_count": 20,
   "outputs": [
    {
     "data": {
      "text/plain": "       gare              date mode     num  miss  direction      term  \\\n0  87271411  27/06/2022 19:29    R  IRMA09  IRMA          0  87271528   \n1  87271411  27/06/2022 19:28    R  LOVE44  LOVE          0  87758847   \n\n         time_recorded         time_arrived etat  \n0  2022-06-27 19:28:01  2022-06-27 19:29:02       \n1  2022-06-27 19:28:01  2022-06-27 19:29:02       ",
      "text/html": "<div>\n<style scoped>\n    .dataframe tbody tr th:only-of-type {\n        vertical-align: middle;\n    }\n\n    .dataframe tbody tr th {\n        vertical-align: top;\n    }\n\n    .dataframe thead th {\n        text-align: right;\n    }\n</style>\n<table border=\"1\" class=\"dataframe\">\n  <thead>\n    <tr style=\"text-align: right;\">\n      <th></th>\n      <th>gare</th>\n      <th>date</th>\n      <th>mode</th>\n      <th>num</th>\n      <th>miss</th>\n      <th>direction</th>\n      <th>term</th>\n      <th>time_recorded</th>\n      <th>time_arrived</th>\n      <th>etat</th>\n    </tr>\n  </thead>\n  <tbody>\n    <tr>\n      <th>0</th>\n      <td>87271411</td>\n      <td>27/06/2022 19:29</td>\n      <td>R</td>\n      <td>IRMA09</td>\n      <td>IRMA</td>\n      <td>0</td>\n      <td>87271528</td>\n      <td>2022-06-27 19:28:01</td>\n      <td>2022-06-27 19:29:02</td>\n      <td></td>\n    </tr>\n    <tr>\n      <th>1</th>\n      <td>87271411</td>\n      <td>27/06/2022 19:28</td>\n      <td>R</td>\n      <td>LOVE44</td>\n      <td>LOVE</td>\n      <td>0</td>\n      <td>87758847</td>\n      <td>2022-06-27 19:28:01</td>\n      <td>2022-06-27 19:29:02</td>\n      <td></td>\n    </tr>\n  </tbody>\n</table>\n</div>"
     },
     "execution_count": 20,
     "metadata": {},
     "output_type": "execute_result"
    }
   ],
   "source": [
    "pandas_df"
   ],
   "metadata": {
    "collapsed": false,
    "pycharm": {
     "name": "#%%\n"
    }
   }
  },
  {
   "cell_type": "code",
   "execution_count": null,
   "outputs": [],
   "source": [],
   "metadata": {
    "collapsed": false,
    "pycharm": {
     "name": "#%%\n"
    }
   }
  },
  {
   "cell_type": "code",
   "execution_count": 21,
   "outputs": [],
   "source": [
    "pandas_df.to_csv(\"test.csv\", index=False)"
   ],
   "metadata": {
    "collapsed": false,
    "pycharm": {
     "name": "#%%\n"
    }
   }
  },
  {
   "cell_type": "code",
   "execution_count": 27,
   "outputs": [],
   "source": [
    "from kafka import KafkaProducer\n",
    "\n",
    "\n",
    "def send_to_kafka(data: dict):\n",
    "    \"\"\"\n",
    "    Méthode qui va envoyer vers un kafka le résultat du prétraitement pour pouvoir\n",
    "    être consommé par les applications\n",
    "    \"\"\"\n",
    "    topic = 'rer-b-computed'\n",
    "    producer = KafkaProducer(bootstrap_servers=\"localhost:9092\")\n",
    "    producer.send(topic, value=(json.dumps(data, ensure_ascii=False).encode('utf-8')))\n",
    "    producer.flush()\n",
    "    print(\"All data sent to kafka\")"
   ],
   "metadata": {
    "collapsed": false,
    "pycharm": {
     "name": "#%%\n"
    }
   }
  },
  {
   "cell_type": "code",
   "execution_count": 23,
   "outputs": [],
   "source": [
    "di = pandas_df.to_dict(orient=\"records\")"
   ],
   "metadata": {
    "collapsed": false,
    "pycharm": {
     "name": "#%%\n"
    }
   }
  },
  {
   "cell_type": "code",
   "execution_count": 14,
   "outputs": [
    {
     "ename": "AnalysisException",
     "evalue": " Failed to find data source: kafka. Please deploy the application as per the deployment section of \"Structured Streaming + Kafka Integration Guide\".        ",
     "output_type": "error",
     "traceback": [
      "\u001B[0;31m---------------------------------------------------------------------------\u001B[0m",
      "\u001B[0;31mAnalysisException\u001B[0m                         Traceback (most recent call last)",
      "Input \u001B[0;32mIn [14]\u001B[0m, in \u001B[0;36m<cell line: 1>\u001B[0;34m()\u001B[0m\n\u001B[1;32m      1\u001B[0m ds \u001B[38;5;241m=\u001B[39m \u001B[43mdf_final\u001B[49m\u001B[38;5;241;43m.\u001B[39;49m\u001B[43mselectExpr\u001B[49m\u001B[43m(\u001B[49m\u001B[38;5;124;43m\"\u001B[39;49m\u001B[38;5;124;43mCAST(gare AS STRING)\u001B[39;49m\u001B[38;5;124;43m\"\u001B[39;49m\u001B[43m,\u001B[49m\u001B[43m \u001B[49m\u001B[38;5;124;43m\"\u001B[39;49m\u001B[38;5;124;43mto_json(struct(*)) AS value\u001B[39;49m\u001B[38;5;124;43m\"\u001B[39;49m\u001B[43m)\u001B[49m\u001B[43m \u001B[49m\u001B[43m\\\u001B[49m\n\u001B[1;32m      2\u001B[0m \u001B[43m    \u001B[49m\u001B[38;5;241;43m.\u001B[39;49m\u001B[43mwrite\u001B[49m\u001B[43m \u001B[49m\u001B[43m\\\u001B[49m\n\u001B[1;32m      3\u001B[0m \u001B[43m    \u001B[49m\u001B[38;5;241;43m.\u001B[39;49m\u001B[43mformat\u001B[49m\u001B[43m(\u001B[49m\u001B[38;5;124;43m\"\u001B[39;49m\u001B[38;5;124;43mkafka\u001B[39;49m\u001B[38;5;124;43m\"\u001B[39;49m\u001B[43m)\u001B[49m\u001B[43m \u001B[49m\u001B[43m\\\u001B[49m\n\u001B[1;32m      4\u001B[0m \u001B[43m    \u001B[49m\u001B[38;5;241;43m.\u001B[39;49m\u001B[43moption\u001B[49m\u001B[43m(\u001B[49m\u001B[38;5;124;43m\"\u001B[39;49m\u001B[38;5;124;43mkafka.bootstrap.servers\u001B[39;49m\u001B[38;5;124;43m\"\u001B[39;49m\u001B[43m,\u001B[49m\u001B[43m \u001B[49m\u001B[38;5;124;43m\"\u001B[39;49m\u001B[38;5;124;43mlocalhost:9092\u001B[39;49m\u001B[38;5;124;43m\"\u001B[39;49m\u001B[43m)\u001B[49m\u001B[43m \u001B[49m\u001B[43m\\\u001B[49m\n\u001B[1;32m      5\u001B[0m \u001B[43m    \u001B[49m\u001B[38;5;241;43m.\u001B[39;49m\u001B[43moption\u001B[49m\u001B[43m(\u001B[49m\u001B[38;5;124;43m\"\u001B[39;49m\u001B[38;5;124;43mkafka.security.protocol\u001B[39;49m\u001B[38;5;124;43m\"\u001B[39;49m\u001B[43m,\u001B[49m\u001B[43m \u001B[49m\u001B[38;5;124;43m\"\u001B[39;49m\u001B[38;5;124;43mPLAINTEXT\u001B[39;49m\u001B[38;5;124;43m\"\u001B[39;49m\u001B[43m)\u001B[49m\u001B[43m \u001B[49m\u001B[43m\\\u001B[49m\n\u001B[1;32m      6\u001B[0m \u001B[43m    \u001B[49m\u001B[38;5;241;43m.\u001B[39;49m\u001B[43moption\u001B[49m\u001B[43m(\u001B[49m\u001B[38;5;124;43m\"\u001B[39;49m\u001B[38;5;124;43mtopic\u001B[39;49m\u001B[38;5;124;43m\"\u001B[39;49m\u001B[43m,\u001B[49m\u001B[43m \u001B[49m\u001B[38;5;124;43m\"\u001B[39;49m\u001B[38;5;124;43mRER-B_Stream\u001B[39;49m\u001B[38;5;124;43m\"\u001B[39;49m\u001B[43m)\u001B[49m\u001B[43m \u001B[49m\u001B[43m\\\u001B[49m\n\u001B[0;32m----> 7\u001B[0m \u001B[43m    \u001B[49m\u001B[38;5;241;43m.\u001B[39;49m\u001B[43msave\u001B[49m\u001B[43m(\u001B[49m\u001B[43m)\u001B[49m\n",
      "File \u001B[0;32m~/miniforge3/envs/geo/lib/python3.10/site-packages/pyspark/sql/readwriter.py:966\u001B[0m, in \u001B[0;36mDataFrameWriter.save\u001B[0;34m(self, path, format, mode, partitionBy, **options)\u001B[0m\n\u001B[1;32m    964\u001B[0m     \u001B[38;5;28mself\u001B[39m\u001B[38;5;241m.\u001B[39mformat(\u001B[38;5;28mformat\u001B[39m)\n\u001B[1;32m    965\u001B[0m \u001B[38;5;28;01mif\u001B[39;00m path \u001B[38;5;129;01mis\u001B[39;00m \u001B[38;5;28;01mNone\u001B[39;00m:\n\u001B[0;32m--> 966\u001B[0m     \u001B[38;5;28;43mself\u001B[39;49m\u001B[38;5;241;43m.\u001B[39;49m\u001B[43m_jwrite\u001B[49m\u001B[38;5;241;43m.\u001B[39;49m\u001B[43msave\u001B[49m\u001B[43m(\u001B[49m\u001B[43m)\u001B[49m\n\u001B[1;32m    967\u001B[0m \u001B[38;5;28;01melse\u001B[39;00m:\n\u001B[1;32m    968\u001B[0m     \u001B[38;5;28mself\u001B[39m\u001B[38;5;241m.\u001B[39m_jwrite\u001B[38;5;241m.\u001B[39msave(path)\n",
      "File \u001B[0;32m~/miniforge3/envs/geo/lib/python3.10/site-packages/py4j/java_gateway.py:1321\u001B[0m, in \u001B[0;36mJavaMember.__call__\u001B[0;34m(self, *args)\u001B[0m\n\u001B[1;32m   1315\u001B[0m command \u001B[38;5;241m=\u001B[39m proto\u001B[38;5;241m.\u001B[39mCALL_COMMAND_NAME \u001B[38;5;241m+\u001B[39m\\\n\u001B[1;32m   1316\u001B[0m     \u001B[38;5;28mself\u001B[39m\u001B[38;5;241m.\u001B[39mcommand_header \u001B[38;5;241m+\u001B[39m\\\n\u001B[1;32m   1317\u001B[0m     args_command \u001B[38;5;241m+\u001B[39m\\\n\u001B[1;32m   1318\u001B[0m     proto\u001B[38;5;241m.\u001B[39mEND_COMMAND_PART\n\u001B[1;32m   1320\u001B[0m answer \u001B[38;5;241m=\u001B[39m \u001B[38;5;28mself\u001B[39m\u001B[38;5;241m.\u001B[39mgateway_client\u001B[38;5;241m.\u001B[39msend_command(command)\n\u001B[0;32m-> 1321\u001B[0m return_value \u001B[38;5;241m=\u001B[39m \u001B[43mget_return_value\u001B[49m\u001B[43m(\u001B[49m\n\u001B[1;32m   1322\u001B[0m \u001B[43m    \u001B[49m\u001B[43manswer\u001B[49m\u001B[43m,\u001B[49m\u001B[43m \u001B[49m\u001B[38;5;28;43mself\u001B[39;49m\u001B[38;5;241;43m.\u001B[39;49m\u001B[43mgateway_client\u001B[49m\u001B[43m,\u001B[49m\u001B[43m \u001B[49m\u001B[38;5;28;43mself\u001B[39;49m\u001B[38;5;241;43m.\u001B[39;49m\u001B[43mtarget_id\u001B[49m\u001B[43m,\u001B[49m\u001B[43m \u001B[49m\u001B[38;5;28;43mself\u001B[39;49m\u001B[38;5;241;43m.\u001B[39;49m\u001B[43mname\u001B[49m\u001B[43m)\u001B[49m\n\u001B[1;32m   1324\u001B[0m \u001B[38;5;28;01mfor\u001B[39;00m temp_arg \u001B[38;5;129;01min\u001B[39;00m temp_args:\n\u001B[1;32m   1325\u001B[0m     temp_arg\u001B[38;5;241m.\u001B[39m_detach()\n",
      "File \u001B[0;32m~/miniforge3/envs/geo/lib/python3.10/site-packages/pyspark/sql/utils.py:196\u001B[0m, in \u001B[0;36mcapture_sql_exception.<locals>.deco\u001B[0;34m(*a, **kw)\u001B[0m\n\u001B[1;32m    192\u001B[0m converted \u001B[38;5;241m=\u001B[39m convert_exception(e\u001B[38;5;241m.\u001B[39mjava_exception)\n\u001B[1;32m    193\u001B[0m \u001B[38;5;28;01mif\u001B[39;00m \u001B[38;5;129;01mnot\u001B[39;00m \u001B[38;5;28misinstance\u001B[39m(converted, UnknownException):\n\u001B[1;32m    194\u001B[0m     \u001B[38;5;66;03m# Hide where the exception came from that shows a non-Pythonic\u001B[39;00m\n\u001B[1;32m    195\u001B[0m     \u001B[38;5;66;03m# JVM exception message.\u001B[39;00m\n\u001B[0;32m--> 196\u001B[0m     \u001B[38;5;28;01mraise\u001B[39;00m converted \u001B[38;5;28;01mfrom\u001B[39;00m \u001B[38;5;28mNone\u001B[39m\n\u001B[1;32m    197\u001B[0m \u001B[38;5;28;01melse\u001B[39;00m:\n\u001B[1;32m    198\u001B[0m     \u001B[38;5;28;01mraise\u001B[39;00m\n",
      "\u001B[0;31mAnalysisException\u001B[0m:  Failed to find data source: kafka. Please deploy the application as per the deployment section of \"Structured Streaming + Kafka Integration Guide\".        "
     ]
    }
   ],
   "source": [
    "#ds = df_final.selectExpr(\"CAST(gare AS STRING)\", \"to_json(struct(*)) AS value\") \\\n",
    "#    .write \\\n",
    "#    .format(\"kafka\") \\\n",
    "#    .option(\"kafka.bootstrap.servers\", \"localhost:9092\") \\\n",
    "#    .option(\"kafka.security.protocol\", \"PLAINTEXT\") \\\n",
    "#    .option(\"topic\", \"RER-B_Stream\") \\\n",
    "#    .save()"
   ],
   "metadata": {
    "collapsed": false,
    "pycharm": {
     "name": "#%%\n"
    }
   }
  },
  {
   "cell_type": "code",
   "execution_count": 25,
   "outputs": [
    {
     "data": {
      "text/plain": "b'[{\"gare\": 87271411, \"date\": \"27/06/2022 19:29\", \"mode\": \"R\", \"num\": \"IRMA09\", \"miss\": \"IRMA\", \"direction\": 0, \"term\": 87271528, \"time_recorded\": \"2022-06-27 19:28:01\", \"time_arrived\": \"2022-06-27 19:29:02\", \"etat\": \"\"}, {\"gare\": 87271411, \"date\": \"27/06/2022 19:28\", \"mode\": \"R\", \"num\": \"LOVE44\", \"miss\": \"LOVE\", \"direction\": 0, \"term\": 87758847, \"time_recorded\": \"2022-06-27 19:28:01\", \"time_arrived\": \"2022-06-27 19:29:02\", \"etat\": \"\"}]'"
     },
     "execution_count": 25,
     "metadata": {},
     "output_type": "execute_result"
    }
   ],
   "source": [
    "json.dumps(di).encode(encoding=\"UTF-8\")"
   ],
   "metadata": {
    "collapsed": false,
    "pycharm": {
     "name": "#%%\n"
    }
   }
  },
  {
   "cell_type": "code",
   "execution_count": 28,
   "outputs": [
    {
     "name": "stdout",
     "output_type": "stream",
     "text": [
      "All data sent to kafka\n"
     ]
    }
   ],
   "source": [
    "send_to_kafka(di)"
   ],
   "metadata": {
    "collapsed": false,
    "pycharm": {
     "name": "#%%\n"
    }
   }
  },
  {
   "cell_type": "code",
   "execution_count": null,
   "outputs": [],
   "source": [],
   "metadata": {
    "collapsed": false,
    "pycharm": {
     "name": "#%%\n"
    }
   }
  }
 ],
 "metadata": {
  "kernelspec": {
   "display_name": "Python 3",
   "language": "python",
   "name": "python3"
  },
  "language_info": {
   "codemirror_mode": {
    "name": "ipython",
    "version": 2
   },
   "file_extension": ".py",
   "mimetype": "text/x-python",
   "name": "python",
   "nbconvert_exporter": "python",
   "pygments_lexer": "ipython2",
   "version": "2.7.6"
  }
 },
 "nbformat": 4,
 "nbformat_minor": 0
}